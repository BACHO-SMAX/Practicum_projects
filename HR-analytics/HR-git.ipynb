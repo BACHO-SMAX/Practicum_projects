{
 "cells": [
  {
   "cell_type": "markdown",
   "id": "d201a0ea",
   "metadata": {},
   "source": [
    "# Разработка решения, которое позволит уменьшить отток сотрудников из компании.\n",
    "Компания предоставила данные с характеристиками сотрудников компании. Среди них — уровень удовлетворённости сотрудника работой в компании. Эту информацию получили из форм обратной связи: сотрудники заполняют тест-опросник, и по его результатам рассчитывается доля их удовлетворённости от 0 до 1, где 0 — совершенно неудовлетворён, 1 — полностью удовлетворён. \n",
    "Нам предстоит решить две задачи:\n",
    "1. Разработать модель, которая сможет предсказать уровень удовлетворённости сотрудника на основе данных заказчика. \n",
    "2. Разработать модель, которая сможет на основе данных заказчика предсказать то, что сотрудник уволится из компании.\n",
    "\n"
   ]
  },
  {
   "cell_type": "markdown",
   "id": "67e90c4d",
   "metadata": {},
   "source": [
    "## Задача 1: предсказание уровня удовлетворённости сотрудника\n",
    "Необходимо изучить данные и обучить две модели МО и выбрать лучшую для предсказания целевого признака уровня удовлетворённости сотрудником работой в компании, по скольку это числовое значение то это будет задача регрессии."
   ]
  },
  {
   "cell_type": "code",
   "execution_count": 1,
   "id": "97e7fb97",
   "metadata": {},
   "outputs": [],
   "source": [
    "!pip install phik -q\n",
    "!pip install shap -q"
   ]
  },
  {
   "cell_type": "code",
   "execution_count": 2,
   "id": "b7ff7a9e",
   "metadata": {},
   "outputs": [],
   "source": [
    "!pip install scikit-learn -q"
   ]
  },
  {
   "cell_type": "code",
   "execution_count": 3,
   "id": "14b09056",
   "metadata": {},
   "outputs": [],
   "source": [
    "!pip install -U scikit-learn -q"
   ]
  },
  {
   "cell_type": "code",
   "execution_count": 4,
   "id": "dc5b59a3",
   "metadata": {},
   "outputs": [],
   "source": [
    "import shap\n",
    "import seaborn as sns\n",
    "from scipy import stats as st\n",
    "from sklearn.compose import ColumnTransformer\n",
    "from sklearn.impute import SimpleImputer\n",
    "import numpy as np\n",
    "import pandas as pd \n",
    "from pandas import DataFrame\n",
    "import random\n",
    "import numpy\n",
    "from matplotlib import pyplot \n",
    "import seaborn as sns\n",
    "from sklearn.model_selection import train_test_split\n",
    "from sklearn.metrics import (\n",
    "    accuracy_score,\n",
    "    mean_absolute_error,\n",
    "    confusion_matrix, \n",
    "    r2_score,\n",
    "    precision_score,\n",
    "    recall_score\n",
    ")\n",
    "\n",
    "import seaborn as sns\n",
    "import math\n",
    "import matplotlib.colors as colors\n",
    "import matplotlib.cm as cmx\n",
    "import matplotlib.pyplot as plt\n",
    "from scipy import stats as st\n",
    "import phik\n",
    "from sklearn.model_selection import RandomizedSearchCV\n",
    "from sklearn.svm import SVC\n",
    "from sklearn.neighbors import KNeighborsClassifier\n",
    "from sklearn.linear_model import LinearRegression\n",
    "from sklearn.tree import DecisionTreeClassifier\n",
    "from sklearn.linear_model import LogisticRegression\n",
    "from sklearn.preprocessing import OneHotEncoder, OrdinalEncoder, StandardScaler, MinMaxScaler, RobustScaler,LabelEncoder \n",
    "from sklearn.pipeline import Pipeline\n",
    "from matplotlib.pyplot import figure\n",
    "from sklearn.metrics import roc_auc_score\n",
    "from sklearn.metrics import make_scorer\n",
    "from sklearn.tree import DecisionTreeRegressor"
   ]
  },
  {
   "cell_type": "markdown",
   "id": "bef8bf4a",
   "metadata": {},
   "source": [
    "### Шаг 1. Загрузка данных\n",
    "Загрузим таблицы с данными и проверим данные на пропуски дубликаты и прочие ошибки."
   ]
  },
  {
   "cell_type": "markdown",
   "id": "372b0a39",
   "metadata": {},
   "source": [
    "#### Данные тренировочной выборки:"
   ]
  },
  {
   "cell_type": "code",
   "execution_count": 5,
   "id": "6030d55a",
   "metadata": {},
   "outputs": [
    {
     "name": "stdout",
     "output_type": "stream",
     "text": [
      "колличество пропусков в столбце - id\n",
      "0\n",
      "---------------\n",
      "колличество пропусков в столбце - dept\n",
      "6\n",
      "---------------\n",
      "колличество пропусков в столбце - level\n",
      "4\n",
      "---------------\n",
      "колличество пропусков в столбце - workload\n",
      "0\n",
      "---------------\n",
      "колличество пропусков в столбце - employment_years\n",
      "0\n",
      "---------------\n",
      "колличество пропусков в столбце - last_year_promo\n",
      "0\n",
      "---------------\n",
      "колличество пропусков в столбце - last_year_violations\n",
      "0\n",
      "---------------\n",
      "колличество пропусков в столбце - supervisor_evaluation\n",
      "0\n",
      "---------------\n",
      "колличество пропусков в столбце - salary\n",
      "0\n",
      "---------------\n",
      "колличество пропусков в столбце - job_satisfaction_rate\n",
      "0\n",
      "---------------\n",
      "<class 'pandas.core.frame.DataFrame'>\n",
      "RangeIndex: 4000 entries, 0 to 3999\n",
      "Data columns (total 10 columns):\n",
      " #   Column                 Non-Null Count  Dtype  \n",
      "---  ------                 --------------  -----  \n",
      " 0   id                     4000 non-null   int64  \n",
      " 1   dept                   3994 non-null   object \n",
      " 2   level                  3996 non-null   object \n",
      " 3   workload               4000 non-null   object \n",
      " 4   employment_years       4000 non-null   int64  \n",
      " 5   last_year_promo        4000 non-null   object \n",
      " 6   last_year_violations   4000 non-null   object \n",
      " 7   supervisor_evaluation  4000 non-null   int64  \n",
      " 8   salary                 4000 non-null   int64  \n",
      " 9   job_satisfaction_rate  4000 non-null   float64\n",
      "dtypes: float64(1), int64(4), object(5)\n",
      "memory usage: 312.6+ KB\n",
      "None\n"
     ]
    },
    {
     "data": {
      "text/html": [
       "<div>\n",
       "<style scoped>\n",
       "    .dataframe tbody tr th:only-of-type {\n",
       "        vertical-align: middle;\n",
       "    }\n",
       "\n",
       "    .dataframe tbody tr th {\n",
       "        vertical-align: top;\n",
       "    }\n",
       "\n",
       "    .dataframe thead th {\n",
       "        text-align: right;\n",
       "    }\n",
       "</style>\n",
       "<table border=\"1\" class=\"dataframe\">\n",
       "  <thead>\n",
       "    <tr style=\"text-align: right;\">\n",
       "      <th></th>\n",
       "      <th>id</th>\n",
       "      <th>dept</th>\n",
       "      <th>level</th>\n",
       "      <th>workload</th>\n",
       "      <th>employment_years</th>\n",
       "      <th>last_year_promo</th>\n",
       "      <th>last_year_violations</th>\n",
       "      <th>supervisor_evaluation</th>\n",
       "      <th>salary</th>\n",
       "      <th>job_satisfaction_rate</th>\n",
       "    </tr>\n",
       "  </thead>\n",
       "  <tbody>\n",
       "    <tr>\n",
       "      <th>0</th>\n",
       "      <td>155278</td>\n",
       "      <td>sales</td>\n",
       "      <td>junior</td>\n",
       "      <td>medium</td>\n",
       "      <td>2</td>\n",
       "      <td>no</td>\n",
       "      <td>no</td>\n",
       "      <td>1</td>\n",
       "      <td>24000</td>\n",
       "      <td>0.58</td>\n",
       "    </tr>\n",
       "    <tr>\n",
       "      <th>1</th>\n",
       "      <td>653870</td>\n",
       "      <td>hr</td>\n",
       "      <td>junior</td>\n",
       "      <td>high</td>\n",
       "      <td>2</td>\n",
       "      <td>no</td>\n",
       "      <td>no</td>\n",
       "      <td>5</td>\n",
       "      <td>38400</td>\n",
       "      <td>0.76</td>\n",
       "    </tr>\n",
       "    <tr>\n",
       "      <th>2</th>\n",
       "      <td>184592</td>\n",
       "      <td>sales</td>\n",
       "      <td>junior</td>\n",
       "      <td>low</td>\n",
       "      <td>1</td>\n",
       "      <td>no</td>\n",
       "      <td>no</td>\n",
       "      <td>2</td>\n",
       "      <td>12000</td>\n",
       "      <td>0.11</td>\n",
       "    </tr>\n",
       "    <tr>\n",
       "      <th>3</th>\n",
       "      <td>171431</td>\n",
       "      <td>technology</td>\n",
       "      <td>junior</td>\n",
       "      <td>low</td>\n",
       "      <td>4</td>\n",
       "      <td>no</td>\n",
       "      <td>no</td>\n",
       "      <td>2</td>\n",
       "      <td>18000</td>\n",
       "      <td>0.37</td>\n",
       "    </tr>\n",
       "    <tr>\n",
       "      <th>4</th>\n",
       "      <td>693419</td>\n",
       "      <td>hr</td>\n",
       "      <td>junior</td>\n",
       "      <td>medium</td>\n",
       "      <td>1</td>\n",
       "      <td>no</td>\n",
       "      <td>no</td>\n",
       "      <td>3</td>\n",
       "      <td>22800</td>\n",
       "      <td>0.20</td>\n",
       "    </tr>\n",
       "    <tr>\n",
       "      <th>...</th>\n",
       "      <td>...</td>\n",
       "      <td>...</td>\n",
       "      <td>...</td>\n",
       "      <td>...</td>\n",
       "      <td>...</td>\n",
       "      <td>...</td>\n",
       "      <td>...</td>\n",
       "      <td>...</td>\n",
       "      <td>...</td>\n",
       "      <td>...</td>\n",
       "    </tr>\n",
       "    <tr>\n",
       "      <th>3995</th>\n",
       "      <td>457950</td>\n",
       "      <td>technology</td>\n",
       "      <td>junior</td>\n",
       "      <td>high</td>\n",
       "      <td>2</td>\n",
       "      <td>no</td>\n",
       "      <td>no</td>\n",
       "      <td>3</td>\n",
       "      <td>46800</td>\n",
       "      <td>0.45</td>\n",
       "    </tr>\n",
       "    <tr>\n",
       "      <th>3996</th>\n",
       "      <td>957499</td>\n",
       "      <td>sales</td>\n",
       "      <td>junior</td>\n",
       "      <td>medium</td>\n",
       "      <td>2</td>\n",
       "      <td>no</td>\n",
       "      <td>no</td>\n",
       "      <td>4</td>\n",
       "      <td>21600</td>\n",
       "      <td>0.68</td>\n",
       "    </tr>\n",
       "    <tr>\n",
       "      <th>3997</th>\n",
       "      <td>533318</td>\n",
       "      <td>sales</td>\n",
       "      <td>middle</td>\n",
       "      <td>low</td>\n",
       "      <td>7</td>\n",
       "      <td>no</td>\n",
       "      <td>no</td>\n",
       "      <td>5</td>\n",
       "      <td>24000</td>\n",
       "      <td>0.76</td>\n",
       "    </tr>\n",
       "    <tr>\n",
       "      <th>3998</th>\n",
       "      <td>706868</td>\n",
       "      <td>sales</td>\n",
       "      <td>junior</td>\n",
       "      <td>medium</td>\n",
       "      <td>2</td>\n",
       "      <td>no</td>\n",
       "      <td>no</td>\n",
       "      <td>3</td>\n",
       "      <td>24000</td>\n",
       "      <td>0.48</td>\n",
       "    </tr>\n",
       "    <tr>\n",
       "      <th>3999</th>\n",
       "      <td>338347</td>\n",
       "      <td>technology</td>\n",
       "      <td>middle</td>\n",
       "      <td>medium</td>\n",
       "      <td>5</td>\n",
       "      <td>no</td>\n",
       "      <td>yes</td>\n",
       "      <td>1</td>\n",
       "      <td>44400</td>\n",
       "      <td>0.18</td>\n",
       "    </tr>\n",
       "  </tbody>\n",
       "</table>\n",
       "<p>4000 rows × 10 columns</p>\n",
       "</div>"
      ],
      "text/plain": [
       "          id        dept   level workload  employment_years last_year_promo  \\\n",
       "0     155278       sales  junior   medium                 2              no   \n",
       "1     653870          hr  junior     high                 2              no   \n",
       "2     184592       sales  junior      low                 1              no   \n",
       "3     171431  technology  junior      low                 4              no   \n",
       "4     693419          hr  junior   medium                 1              no   \n",
       "...      ...         ...     ...      ...               ...             ...   \n",
       "3995  457950  technology  junior     high                 2              no   \n",
       "3996  957499       sales  junior   medium                 2              no   \n",
       "3997  533318       sales  middle      low                 7              no   \n",
       "3998  706868       sales  junior   medium                 2              no   \n",
       "3999  338347  technology  middle   medium                 5              no   \n",
       "\n",
       "     last_year_violations  supervisor_evaluation  salary  \\\n",
       "0                      no                      1   24000   \n",
       "1                      no                      5   38400   \n",
       "2                      no                      2   12000   \n",
       "3                      no                      2   18000   \n",
       "4                      no                      3   22800   \n",
       "...                   ...                    ...     ...   \n",
       "3995                   no                      3   46800   \n",
       "3996                   no                      4   21600   \n",
       "3997                   no                      5   24000   \n",
       "3998                   no                      3   24000   \n",
       "3999                  yes                      1   44400   \n",
       "\n",
       "      job_satisfaction_rate  \n",
       "0                      0.58  \n",
       "1                      0.76  \n",
       "2                      0.11  \n",
       "3                      0.37  \n",
       "4                      0.20  \n",
       "...                     ...  \n",
       "3995                   0.45  \n",
       "3996                   0.68  \n",
       "3997                   0.76  \n",
       "3998                   0.48  \n",
       "3999                   0.18  \n",
       "\n",
       "[4000 rows x 10 columns]"
      ]
     },
     "execution_count": 5,
     "metadata": {},
     "output_type": "execute_result"
    }
   ],
   "source": [
    "train_job = pd.read_csv('/datasets/train_job_satisfaction_rate.csv')\n",
    "train_job_column_names = train_job.columns.tolist()\n",
    "for a in train_job_column_names:\n",
    "    print('колличество пропусков в столбце -',a)\n",
    "    print(train_job[a].isna().sum())\n",
    "    print('---------------')\n",
    "print(train_job.info())\n",
    "train_job"
   ]
  },
  {
   "cell_type": "markdown",
   "id": "e6cb4e5a",
   "metadata": {},
   "source": [
    "Проверим столбец id на дубликаты, ведь только в нём их наличие недопустимо."
   ]
  },
  {
   "cell_type": "code",
   "execution_count": 6,
   "id": "ba129ab4",
   "metadata": {},
   "outputs": [
    {
     "data": {
      "text/plain": [
       "0"
      ]
     },
     "execution_count": 6,
     "metadata": {},
     "output_type": "execute_result"
    }
   ],
   "source": [
    "train_job['id'].duplicated().sum()"
   ]
  },
  {
   "cell_type": "markdown",
   "id": "5033fb9c",
   "metadata": {},
   "source": [
    "Всего в датасете 4000 строк, 10 столбцов, все столбцы обладают правильным типом данных. \n",
    "\n",
    "Есть 4 пропуска в столбце level, не буду их заполнять, ведь не ясно чем их заполнить, и всего 4 пропуска не повлияют на качество данных с 4000 записей.\n",
    "\n",
    "Дубликатов в столбце с id не обнаружено."
   ]
  },
  {
   "cell_type": "markdown",
   "id": "c53693fc",
   "metadata": {},
   "source": [
    "#### Входные признаки тестовой выборки:"
   ]
  },
  {
   "cell_type": "code",
   "execution_count": 7,
   "id": "c4ae6006",
   "metadata": {},
   "outputs": [
    {
     "name": "stdout",
     "output_type": "stream",
     "text": [
      "колличество пропусков в столбце - id\n",
      "0\n",
      "---------------\n",
      "колличество пропусков в столбце - dept\n",
      "2\n",
      "---------------\n",
      "колличество пропусков в столбце - level\n",
      "1\n",
      "---------------\n",
      "колличество пропусков в столбце - workload\n",
      "0\n",
      "---------------\n",
      "колличество пропусков в столбце - employment_years\n",
      "0\n",
      "---------------\n",
      "колличество пропусков в столбце - last_year_promo\n",
      "0\n",
      "---------------\n",
      "колличество пропусков в столбце - last_year_violations\n",
      "0\n",
      "---------------\n",
      "колличество пропусков в столбце - supervisor_evaluation\n",
      "0\n",
      "---------------\n",
      "колличество пропусков в столбце - salary\n",
      "0\n",
      "---------------\n",
      "<class 'pandas.core.frame.DataFrame'>\n",
      "RangeIndex: 2000 entries, 0 to 1999\n",
      "Data columns (total 9 columns):\n",
      " #   Column                 Non-Null Count  Dtype \n",
      "---  ------                 --------------  ----- \n",
      " 0   id                     2000 non-null   int64 \n",
      " 1   dept                   1998 non-null   object\n",
      " 2   level                  1999 non-null   object\n",
      " 3   workload               2000 non-null   object\n",
      " 4   employment_years       2000 non-null   int64 \n",
      " 5   last_year_promo        2000 non-null   object\n",
      " 6   last_year_violations   2000 non-null   object\n",
      " 7   supervisor_evaluation  2000 non-null   int64 \n",
      " 8   salary                 2000 non-null   int64 \n",
      "dtypes: int64(4), object(5)\n",
      "memory usage: 140.8+ KB\n",
      "None\n"
     ]
    },
    {
     "data": {
      "text/html": [
       "<div>\n",
       "<style scoped>\n",
       "    .dataframe tbody tr th:only-of-type {\n",
       "        vertical-align: middle;\n",
       "    }\n",
       "\n",
       "    .dataframe tbody tr th {\n",
       "        vertical-align: top;\n",
       "    }\n",
       "\n",
       "    .dataframe thead th {\n",
       "        text-align: right;\n",
       "    }\n",
       "</style>\n",
       "<table border=\"1\" class=\"dataframe\">\n",
       "  <thead>\n",
       "    <tr style=\"text-align: right;\">\n",
       "      <th></th>\n",
       "      <th>id</th>\n",
       "      <th>dept</th>\n",
       "      <th>level</th>\n",
       "      <th>workload</th>\n",
       "      <th>employment_years</th>\n",
       "      <th>last_year_promo</th>\n",
       "      <th>last_year_violations</th>\n",
       "      <th>supervisor_evaluation</th>\n",
       "      <th>salary</th>\n",
       "    </tr>\n",
       "  </thead>\n",
       "  <tbody>\n",
       "    <tr>\n",
       "      <th>0</th>\n",
       "      <td>485046</td>\n",
       "      <td>marketing</td>\n",
       "      <td>junior</td>\n",
       "      <td>medium</td>\n",
       "      <td>2</td>\n",
       "      <td>no</td>\n",
       "      <td>no</td>\n",
       "      <td>5</td>\n",
       "      <td>28800</td>\n",
       "    </tr>\n",
       "    <tr>\n",
       "      <th>1</th>\n",
       "      <td>686555</td>\n",
       "      <td>hr</td>\n",
       "      <td>junior</td>\n",
       "      <td>medium</td>\n",
       "      <td>1</td>\n",
       "      <td>no</td>\n",
       "      <td>no</td>\n",
       "      <td>4</td>\n",
       "      <td>30000</td>\n",
       "    </tr>\n",
       "    <tr>\n",
       "      <th>2</th>\n",
       "      <td>467458</td>\n",
       "      <td>sales</td>\n",
       "      <td>middle</td>\n",
       "      <td>low</td>\n",
       "      <td>5</td>\n",
       "      <td>no</td>\n",
       "      <td>no</td>\n",
       "      <td>4</td>\n",
       "      <td>19200</td>\n",
       "    </tr>\n",
       "    <tr>\n",
       "      <th>3</th>\n",
       "      <td>418655</td>\n",
       "      <td>sales</td>\n",
       "      <td>middle</td>\n",
       "      <td>low</td>\n",
       "      <td>6</td>\n",
       "      <td>no</td>\n",
       "      <td>no</td>\n",
       "      <td>4</td>\n",
       "      <td>19200</td>\n",
       "    </tr>\n",
       "    <tr>\n",
       "      <th>4</th>\n",
       "      <td>789145</td>\n",
       "      <td>hr</td>\n",
       "      <td>middle</td>\n",
       "      <td>medium</td>\n",
       "      <td>5</td>\n",
       "      <td>no</td>\n",
       "      <td>no</td>\n",
       "      <td>5</td>\n",
       "      <td>40800</td>\n",
       "    </tr>\n",
       "    <tr>\n",
       "      <th>...</th>\n",
       "      <td>...</td>\n",
       "      <td>...</td>\n",
       "      <td>...</td>\n",
       "      <td>...</td>\n",
       "      <td>...</td>\n",
       "      <td>...</td>\n",
       "      <td>...</td>\n",
       "      <td>...</td>\n",
       "      <td>...</td>\n",
       "    </tr>\n",
       "    <tr>\n",
       "      <th>1995</th>\n",
       "      <td>393147</td>\n",
       "      <td>marketing</td>\n",
       "      <td>junior</td>\n",
       "      <td>low</td>\n",
       "      <td>3</td>\n",
       "      <td>no</td>\n",
       "      <td>no</td>\n",
       "      <td>3</td>\n",
       "      <td>20400</td>\n",
       "    </tr>\n",
       "    <tr>\n",
       "      <th>1996</th>\n",
       "      <td>109582</td>\n",
       "      <td>technology</td>\n",
       "      <td>middle</td>\n",
       "      <td>low</td>\n",
       "      <td>3</td>\n",
       "      <td>no</td>\n",
       "      <td>no</td>\n",
       "      <td>2</td>\n",
       "      <td>21600</td>\n",
       "    </tr>\n",
       "    <tr>\n",
       "      <th>1997</th>\n",
       "      <td>305653</td>\n",
       "      <td>technology</td>\n",
       "      <td>junior</td>\n",
       "      <td>low</td>\n",
       "      <td>1</td>\n",
       "      <td>no</td>\n",
       "      <td>no</td>\n",
       "      <td>3</td>\n",
       "      <td>14400</td>\n",
       "    </tr>\n",
       "    <tr>\n",
       "      <th>1998</th>\n",
       "      <td>160233</td>\n",
       "      <td>technology</td>\n",
       "      <td>middle</td>\n",
       "      <td>low</td>\n",
       "      <td>8</td>\n",
       "      <td>no</td>\n",
       "      <td>no</td>\n",
       "      <td>1</td>\n",
       "      <td>32400</td>\n",
       "    </tr>\n",
       "    <tr>\n",
       "      <th>1999</th>\n",
       "      <td>771859</td>\n",
       "      <td>purchasing</td>\n",
       "      <td>middle</td>\n",
       "      <td>medium</td>\n",
       "      <td>1</td>\n",
       "      <td>no</td>\n",
       "      <td>no</td>\n",
       "      <td>4</td>\n",
       "      <td>38400</td>\n",
       "    </tr>\n",
       "  </tbody>\n",
       "</table>\n",
       "<p>2000 rows × 9 columns</p>\n",
       "</div>"
      ],
      "text/plain": [
       "          id        dept   level workload  employment_years last_year_promo  \\\n",
       "0     485046   marketing  junior   medium                 2              no   \n",
       "1     686555          hr  junior   medium                 1              no   \n",
       "2     467458       sales  middle      low                 5              no   \n",
       "3     418655       sales  middle      low                 6              no   \n",
       "4     789145          hr  middle   medium                 5              no   \n",
       "...      ...         ...     ...      ...               ...             ...   \n",
       "1995  393147   marketing  junior      low                 3              no   \n",
       "1996  109582  technology  middle      low                 3              no   \n",
       "1997  305653  technology  junior      low                 1              no   \n",
       "1998  160233  technology  middle      low                 8              no   \n",
       "1999  771859  purchasing  middle   medium                 1              no   \n",
       "\n",
       "     last_year_violations  supervisor_evaluation  salary  \n",
       "0                      no                      5   28800  \n",
       "1                      no                      4   30000  \n",
       "2                      no                      4   19200  \n",
       "3                      no                      4   19200  \n",
       "4                      no                      5   40800  \n",
       "...                   ...                    ...     ...  \n",
       "1995                   no                      3   20400  \n",
       "1996                   no                      2   21600  \n",
       "1997                   no                      3   14400  \n",
       "1998                   no                      1   32400  \n",
       "1999                   no                      4   38400  \n",
       "\n",
       "[2000 rows x 9 columns]"
      ]
     },
     "execution_count": 7,
     "metadata": {},
     "output_type": "execute_result"
    }
   ],
   "source": [
    "test_features = pd.read_csv('/datasets/test_features.csv')\n",
    "test_features_column_names = test_features.columns.tolist()\n",
    "for a in test_features_column_names:\n",
    "    print('колличество пропусков в столбце -',a)\n",
    "    print(test_features[a].isna().sum())\n",
    "    print('---------------')\n",
    "print(test_features.info())\n",
    "test_features"
   ]
  },
  {
   "cell_type": "code",
   "execution_count": 8,
   "id": "0d6c7091",
   "metadata": {},
   "outputs": [
    {
     "data": {
      "text/plain": [
       "0"
      ]
     },
     "execution_count": 8,
     "metadata": {},
     "output_type": "execute_result"
    }
   ],
   "source": [
    "test_features['id'].duplicated().sum()"
   ]
  },
  {
   "cell_type": "markdown",
   "id": "07807741",
   "metadata": {},
   "source": [
    "Всего в датасете 2000 строк, 9 столбцов, все столбцы обладают правильным типом данных. \n",
    "\n",
    "Есть 2 пропуска в столбце debt, и 1 в столбцу level.\n",
    "\n",
    "Дубликатов в столбце с id не обнаружено."
   ]
  },
  {
   "cell_type": "markdown",
   "id": "1122a004",
   "metadata": {},
   "source": [
    "#### Целевой признак тестовой выборки:"
   ]
  },
  {
   "cell_type": "code",
   "execution_count": 9,
   "id": "1ea1f42d",
   "metadata": {},
   "outputs": [
    {
     "name": "stdout",
     "output_type": "stream",
     "text": [
      "id                       0\n",
      "job_satisfaction_rate    0\n",
      "dtype: int64\n",
      "0\n"
     ]
    },
    {
     "data": {
      "text/html": [
       "<div>\n",
       "<style scoped>\n",
       "    .dataframe tbody tr th:only-of-type {\n",
       "        vertical-align: middle;\n",
       "    }\n",
       "\n",
       "    .dataframe tbody tr th {\n",
       "        vertical-align: top;\n",
       "    }\n",
       "\n",
       "    .dataframe thead th {\n",
       "        text-align: right;\n",
       "    }\n",
       "</style>\n",
       "<table border=\"1\" class=\"dataframe\">\n",
       "  <thead>\n",
       "    <tr style=\"text-align: right;\">\n",
       "      <th></th>\n",
       "      <th>id</th>\n",
       "      <th>job_satisfaction_rate</th>\n",
       "    </tr>\n",
       "  </thead>\n",
       "  <tbody>\n",
       "    <tr>\n",
       "      <th>0</th>\n",
       "      <td>130604</td>\n",
       "      <td>0.74</td>\n",
       "    </tr>\n",
       "    <tr>\n",
       "      <th>1</th>\n",
       "      <td>825977</td>\n",
       "      <td>0.75</td>\n",
       "    </tr>\n",
       "    <tr>\n",
       "      <th>2</th>\n",
       "      <td>418490</td>\n",
       "      <td>0.60</td>\n",
       "    </tr>\n",
       "    <tr>\n",
       "      <th>3</th>\n",
       "      <td>555320</td>\n",
       "      <td>0.72</td>\n",
       "    </tr>\n",
       "    <tr>\n",
       "      <th>4</th>\n",
       "      <td>826430</td>\n",
       "      <td>0.08</td>\n",
       "    </tr>\n",
       "    <tr>\n",
       "      <th>...</th>\n",
       "      <td>...</td>\n",
       "      <td>...</td>\n",
       "    </tr>\n",
       "    <tr>\n",
       "      <th>1995</th>\n",
       "      <td>405257</td>\n",
       "      <td>0.28</td>\n",
       "    </tr>\n",
       "    <tr>\n",
       "      <th>1996</th>\n",
       "      <td>370925</td>\n",
       "      <td>0.21</td>\n",
       "    </tr>\n",
       "    <tr>\n",
       "      <th>1997</th>\n",
       "      <td>857722</td>\n",
       "      <td>0.39</td>\n",
       "    </tr>\n",
       "    <tr>\n",
       "      <th>1998</th>\n",
       "      <td>303402</td>\n",
       "      <td>0.26</td>\n",
       "    </tr>\n",
       "    <tr>\n",
       "      <th>1999</th>\n",
       "      <td>648995</td>\n",
       "      <td>0.62</td>\n",
       "    </tr>\n",
       "  </tbody>\n",
       "</table>\n",
       "<p>2000 rows × 2 columns</p>\n",
       "</div>"
      ],
      "text/plain": [
       "          id  job_satisfaction_rate\n",
       "0     130604                   0.74\n",
       "1     825977                   0.75\n",
       "2     418490                   0.60\n",
       "3     555320                   0.72\n",
       "4     826430                   0.08\n",
       "...      ...                    ...\n",
       "1995  405257                   0.28\n",
       "1996  370925                   0.21\n",
       "1997  857722                   0.39\n",
       "1998  303402                   0.26\n",
       "1999  648995                   0.62\n",
       "\n",
       "[2000 rows x 2 columns]"
      ]
     },
     "execution_count": 9,
     "metadata": {},
     "output_type": "execute_result"
    }
   ],
   "source": [
    "test_target_job = pd.read_csv('/datasets/test_target_job_satisfaction_rate.csv')\n",
    "print(test_target_job.isna().sum())\n",
    "print(test_target_job.duplicated().sum())\n",
    "test_target_job"
   ]
  },
  {
   "cell_type": "markdown",
   "id": "fc09623c",
   "metadata": {},
   "source": [
    "Дубликатов и пропусков не обнаружено."
   ]
  },
  {
   "cell_type": "markdown",
   "id": "3f701d59",
   "metadata": {},
   "source": [
    "Я просмотрел все датасеты, пропусков практически нет в каждом датасете, дубликатов нет, все столбцы совпадают своиму типу данных."
   ]
  },
  {
   "cell_type": "markdown",
   "id": "7018abc2",
   "metadata": {},
   "source": [
    "### Шаг 2. Предоработка данных\n",
    "Удалим пропуски при помощи пайплайна"
   ]
  },
  {
   "cell_type": "code",
   "execution_count": 10,
   "id": "ad0e4666",
   "metadata": {
    "scrolled": true
   },
   "outputs": [],
   "source": [
    "_1st_pipeline = Pipeline(\n",
    "    [('simpleImputer_1', SimpleImputer(missing_values=np.nan, strategy='most_frequent')),\n",
    "     ('simpleImputer_2', SimpleImputer(missing_values=' ', strategy='most_frequent'))\n",
    "    ]\n",
    "    )\n",
    "\n",
    "_1st_pipeline1 = Pipeline(\n",
    "    [('simpleImputer_1', SimpleImputer(missing_values='sales', strategy='most_frequent')),\n",
    "    ]\n",
    "    )\n",
    "\n",
    "train_job['dept'] = _1st_pipeline.fit_transform(pd.DataFrame(train_job['dept']))\n",
    "test_features['dept'] = _1st_pipeline.transform(pd.DataFrame(test_features['dept']))\n",
    "train_job['level'] = _1st_pipeline.fit_transform(pd.DataFrame(train_job['level']))\n",
    "test_features['level'] = _1st_pipeline.transform(pd.DataFrame(test_features['level']))\n",
    "test_features['level'] = _1st_pipeline1.fit_transform(pd.DataFrame(test_features['level']))\n",
    "train_job['workload'] = _1st_pipeline.fit_transform(pd.DataFrame(train_job['workload']))\n",
    "test_features['workload'] = _1st_pipeline.transform(pd.DataFrame(test_features['workload']))"
   ]
  },
  {
   "cell_type": "markdown",
   "id": "ae23e6b1",
   "metadata": {},
   "source": [
    "Пропуски устранены"
   ]
  },
  {
   "cell_type": "markdown",
   "id": "5d07d766",
   "metadata": {},
   "source": [
    "### Шаг 3. Исследовательский анализ данных"
   ]
  },
  {
   "cell_type": "markdown",
   "id": "ed97d016",
   "metadata": {},
   "source": [
    "Проведём анализ данных при помощи визуализации графиками и учитывая данные анализа выясним как данные необходимо подготовить для дальнейшей работы с ними"
   ]
  },
  {
   "cell_type": "markdown",
   "id": "490d1d42",
   "metadata": {},
   "source": [
    "#### Данные тренировочной выборки:"
   ]
  },
  {
   "cell_type": "code",
   "execution_count": 11,
   "id": "702f57c4",
   "metadata": {},
   "outputs": [
    {
     "data": {
      "image/png": "[encoded data removed]",
      "text/plain": [
       "<Figure size 504x360 with 1 Axes>"
      ]
     },
     "metadata": {
      "needs_background": "light"
     },
     "output_type": "display_data"
    },
    {
     "data": {
      "image/png": "[encoded data removed]",
      "text/plain": [
       "<Figure size 504x360 with 1 Axes>"
      ]
     },
     "metadata": {
      "needs_background": "light"
     },
     "output_type": "display_data"
    },
    {
     "data": {
      "image/png": "[encoded data removed]",
      "text/plain": [
       "<Figure size 504x360 with 1 Axes>"
      ]
     },
     "metadata": {
      "needs_background": "light"
     },
     "output_type": "display_data"
    },
    {
     "data": {
      "image/png": "[encoded data removed]",
      "text/plain": [
       "<Figure size 504x360 with 1 Axes>"
      ]
     },
     "metadata": {
      "needs_background": "light"
     },
     "output_type": "display_data"
    },
    {
     "data": {
      "image/png": "[encoded data removed]",
      "text/plain": [
       "<Figure size 504x360 with 1 Axes>"
      ]
     },
     "metadata": {
      "needs_background": "light"
     },
     "output_type": "display_data"
    },
    {
     "data": {
      "image/png": "[encoded data removed]",
      "text/plain": [
       "<Figure size 504x360 with 1 Axes>"
      ]
     },
     "metadata": {
      "needs_background": "light"
     },
     "output_type": "display_data"
    },
    {
     "data": {
      "image/png": "[encoded data removed]",
      "text/plain": [
       "<Figure size 504x360 with 1 Axes>"
      ]
     },
     "metadata": {
      "needs_background": "light"
     },
     "output_type": "display_data"
    },
    {
     "data": {
      "image/png": "[encoded data removed]",
      "text/plain": [
       "<Figure size 432x288 with 1 Axes>"
      ]
     },
     "metadata": {
      "needs_background": "light"
     },
     "output_type": "display_data"
    },
    {
     "data": {
      "image/png": "[encoded data removed]",
      "text/plain": [
       "<Figure size 432x288 with 1 Axes>"
      ]
     },
     "metadata": {
      "needs_background": "light"
     },
     "output_type": "display_data"
    }
   ],
   "source": [
    "train_job_column_names_1 = ['dept','level','workload','last_year_promo','last_year_violations','supervisor_evaluation','employment_years',]\n",
    "train_job_column_names_2 = ['salary','job_satisfaction_rate']\n",
    "for j in train_job_column_names_1:\n",
    "    plt.figure(figsize=(7, 5))\n",
    "    fig = sns.countplot(x =j, data = train_job)\n",
    "    fig.set_title(j)\n",
    "    fig.set_xlabel(j)\n",
    "    fig.set_ylabel('кол-во сотрудников')\n",
    "    plt.show()\n",
    "for i in train_job_column_names_2:\n",
    "    train_job.hist(column=i, bins=20)\n",
    "    plt.title(i)\n",
    "    plt.xlabel(i)\n",
    "    plt.ylabel('кол-во сотрудников')\n",
    "    plt.show()    "
   ]
  },
  {
   "cell_type": "code",
   "execution_count": 12,
   "id": "4b4f75d2",
   "metadata": {},
   "outputs": [
    {
     "data": {
      "text/plain": [
       "Text(0, 0.5, 'зарплата')"
      ]
     },
     "execution_count": 12,
     "metadata": {},
     "output_type": "execute_result"
    },
    {
     "data": {
      "image/png": "[encoded data removed]",
      "text/plain": [
       "<Figure size 576x432 with 1 Axes>"
      ]
     },
     "metadata": {
      "needs_background": "light"
     },
     "output_type": "display_data"
    }
   ],
   "source": [
    "fig = plt.figure(figsize=(8,6))\n",
    "ax = fig.gca()\n",
    "train_job.boxplot(column='salary', ax=ax)\n",
    "ax.set_title('Выбросы по параметру зарплата')\n",
    "ax.set_ylabel('зарплата')"
   ]
  },
  {
   "cell_type": "markdown",
   "id": "af7bfad6",
   "metadata": {},
   "source": [
    "#### Корреляция признаков\n",
    "Построим матрицу корреляции."
   ]
  },
  {
   "cell_type": "code",
   "execution_count": 13,
   "id": "309d9eff",
   "metadata": {},
   "outputs": [
    {
     "data": {
      "text/html": [
       "<div>\n",
       "<style scoped>\n",
       "    .dataframe tbody tr th:only-of-type {\n",
       "        vertical-align: middle;\n",
       "    }\n",
       "\n",
       "    .dataframe tbody tr th {\n",
       "        vertical-align: top;\n",
       "    }\n",
       "\n",
       "    .dataframe thead th {\n",
       "        text-align: right;\n",
       "    }\n",
       "</style>\n",
       "<table border=\"1\" class=\"dataframe\">\n",
       "  <thead>\n",
       "    <tr style=\"text-align: right;\">\n",
       "      <th></th>\n",
       "      <th>dept</th>\n",
       "      <th>level</th>\n",
       "      <th>workload</th>\n",
       "      <th>employment_years</th>\n",
       "      <th>last_year_promo</th>\n",
       "      <th>last_year_violations</th>\n",
       "      <th>supervisor_evaluation</th>\n",
       "      <th>salary</th>\n",
       "      <th>job_satisfaction_rate</th>\n",
       "    </tr>\n",
       "  </thead>\n",
       "  <tbody>\n",
       "    <tr>\n",
       "      <th>dept</th>\n",
       "      <td>1.000000</td>\n",
       "      <td>0.000000</td>\n",
       "      <td>0.016542</td>\n",
       "      <td>0.036815</td>\n",
       "      <td>0.000000</td>\n",
       "      <td>0.000000</td>\n",
       "      <td>0.105706</td>\n",
       "      <td>0.282657</td>\n",
       "      <td>0.082659</td>\n",
       "    </tr>\n",
       "    <tr>\n",
       "      <th>level</th>\n",
       "      <td>0.000000</td>\n",
       "      <td>1.000000</td>\n",
       "      <td>0.419591</td>\n",
       "      <td>0.682962</td>\n",
       "      <td>0.101668</td>\n",
       "      <td>0.000000</td>\n",
       "      <td>0.000000</td>\n",
       "      <td>0.717761</td>\n",
       "      <td>0.080753</td>\n",
       "    </tr>\n",
       "    <tr>\n",
       "      <th>workload</th>\n",
       "      <td>0.016542</td>\n",
       "      <td>0.419591</td>\n",
       "      <td>1.000000</td>\n",
       "      <td>0.181941</td>\n",
       "      <td>0.058663</td>\n",
       "      <td>0.000000</td>\n",
       "      <td>0.037023</td>\n",
       "      <td>0.788820</td>\n",
       "      <td>0.056128</td>\n",
       "    </tr>\n",
       "    <tr>\n",
       "      <th>employment_years</th>\n",
       "      <td>0.036815</td>\n",
       "      <td>0.682962</td>\n",
       "      <td>0.181941</td>\n",
       "      <td>1.000000</td>\n",
       "      <td>0.183579</td>\n",
       "      <td>0.056808</td>\n",
       "      <td>0.000000</td>\n",
       "      <td>0.483419</td>\n",
       "      <td>0.325603</td>\n",
       "    </tr>\n",
       "    <tr>\n",
       "      <th>last_year_promo</th>\n",
       "      <td>0.000000</td>\n",
       "      <td>0.101668</td>\n",
       "      <td>0.058663</td>\n",
       "      <td>0.183579</td>\n",
       "      <td>1.000000</td>\n",
       "      <td>0.000000</td>\n",
       "      <td>0.013681</td>\n",
       "      <td>0.215025</td>\n",
       "      <td>0.190803</td>\n",
       "    </tr>\n",
       "    <tr>\n",
       "      <th>last_year_violations</th>\n",
       "      <td>0.000000</td>\n",
       "      <td>0.000000</td>\n",
       "      <td>0.000000</td>\n",
       "      <td>0.056808</td>\n",
       "      <td>0.000000</td>\n",
       "      <td>1.000000</td>\n",
       "      <td>0.182042</td>\n",
       "      <td>0.010078</td>\n",
       "      <td>0.560348</td>\n",
       "    </tr>\n",
       "    <tr>\n",
       "      <th>supervisor_evaluation</th>\n",
       "      <td>0.105706</td>\n",
       "      <td>0.000000</td>\n",
       "      <td>0.037023</td>\n",
       "      <td>0.000000</td>\n",
       "      <td>0.013681</td>\n",
       "      <td>0.182042</td>\n",
       "      <td>1.000000</td>\n",
       "      <td>0.000000</td>\n",
       "      <td>0.764364</td>\n",
       "    </tr>\n",
       "    <tr>\n",
       "      <th>salary</th>\n",
       "      <td>0.282657</td>\n",
       "      <td>0.717761</td>\n",
       "      <td>0.788820</td>\n",
       "      <td>0.483419</td>\n",
       "      <td>0.215025</td>\n",
       "      <td>0.010078</td>\n",
       "      <td>0.000000</td>\n",
       "      <td>1.000000</td>\n",
       "      <td>0.165830</td>\n",
       "    </tr>\n",
       "    <tr>\n",
       "      <th>job_satisfaction_rate</th>\n",
       "      <td>0.082659</td>\n",
       "      <td>0.080753</td>\n",
       "      <td>0.056128</td>\n",
       "      <td>0.325603</td>\n",
       "      <td>0.190803</td>\n",
       "      <td>0.560348</td>\n",
       "      <td>0.764364</td>\n",
       "      <td>0.165830</td>\n",
       "      <td>1.000000</td>\n",
       "    </tr>\n",
       "  </tbody>\n",
       "</table>\n",
       "</div>"
      ],
      "text/plain": [
       "                           dept     level  workload  employment_years  \\\n",
       "dept                   1.000000  0.000000  0.016542          0.036815   \n",
       "level                  0.000000  1.000000  0.419591          0.682962   \n",
       "workload               0.016542  0.419591  1.000000          0.181941   \n",
       "employment_years       0.036815  0.682962  0.181941          1.000000   \n",
       "last_year_promo        0.000000  0.101668  0.058663          0.183579   \n",
       "last_year_violations   0.000000  0.000000  0.000000          0.056808   \n",
       "supervisor_evaluation  0.105706  0.000000  0.037023          0.000000   \n",
       "salary                 0.282657  0.717761  0.788820          0.483419   \n",
       "job_satisfaction_rate  0.082659  0.080753  0.056128          0.325603   \n",
       "\n",
       "                       last_year_promo  last_year_violations  \\\n",
       "dept                          0.000000              0.000000   \n",
       "level                         0.101668              0.000000   \n",
       "workload                      0.058663              0.000000   \n",
       "employment_years              0.183579              0.056808   \n",
       "last_year_promo               1.000000              0.000000   \n",
       "last_year_violations          0.000000              1.000000   \n",
       "supervisor_evaluation         0.013681              0.182042   \n",
       "salary                        0.215025              0.010078   \n",
       "job_satisfaction_rate         0.190803              0.560348   \n",
       "\n",
       "                       supervisor_evaluation    salary  job_satisfaction_rate  \n",
       "dept                                0.105706  0.282657               0.082659  \n",
       "level                               0.000000  0.717761               0.080753  \n",
       "workload                            0.037023  0.788820               0.056128  \n",
       "employment_years                    0.000000  0.483419               0.325603  \n",
       "last_year_promo                     0.013681  0.215025               0.190803  \n",
       "last_year_violations                0.182042  0.010078               0.560348  \n",
       "supervisor_evaluation               1.000000  0.000000               0.764364  \n",
       "salary                              0.000000  1.000000               0.165830  \n",
       "job_satisfaction_rate               0.764364  0.165830               1.000000  "
      ]
     },
     "execution_count": 13,
     "metadata": {},
     "output_type": "execute_result"
    }
   ],
   "source": [
    "train_job_for_matrix = train_job.drop(['id'],axis = 1)\n",
    "train_job_for_matrix.phik_matrix(interval_cols = ['salary','job_satisfaction_rate'])"
   ]
  },
  {
   "cell_type": "markdown",
   "id": "6c187636",
   "metadata": {},
   "source": [
    "Параметр level имеет сильную корреляцию с параметрами employment_years и salary, параметр salary сильно коррелирует не только с level но и с workload(что логично), employment_years средне коррелирует с salary, job_satisfaction_rate сильно коррелирует с supervisor_evaluation."
   ]
  },
  {
   "cell_type": "markdown",
   "id": "bc7be457",
   "metadata": {},
   "source": [
    "#### Выявленные закономернности"
   ]
  },
  {
   "cell_type": "markdown",
   "id": "92c22770",
   "metadata": {},
   "source": [
    "Больше всего сотрудников работает в отжеде по продажам, на втором месте по кол-ву сотрудников отдел технологии, меньше всего сотрудников в hr отделе.\n",
    "\n",
    "В компании больше всего джунов и миддлов, меньше всего сеньёров.\n",
    "\n",
    "БОльшая часть сотрудников загружена средне, меньше сотрудников загружены слабо и меньше всего в компании сотрудников с высокой нагрузкой.\n",
    "\n",
    "За последний год повышей в компании почти не было.\n",
    "\n",
    "За последний год очень небольшая часть сотрудников совершала нарушения трудового договора.\n",
    "\n",
    "БОльшая часть сотрудников оценена их руководителями на 4 и 3, меньше всего сотрудников с оценкой 1.\n",
    "\n",
    "БОльшая часть сотрудников работает в компании год либо 2.\n",
    "\n",
    "БОльшая часть сотрудников получает зарплату в районе 30 тыс. в месяц, очень небольшая часть зарплат больше 60 тысяч.\n",
    "\n",
    "В основном сотрудники оценивают качесвто труда в 0.7\n"
   ]
  },
  {
   "cell_type": "markdown",
   "id": "15c7d836",
   "metadata": {},
   "source": [
    "#### Входные признаки тестовой выборки:"
   ]
  },
  {
   "cell_type": "code",
   "execution_count": 14,
   "id": "ec4dec08",
   "metadata": {},
   "outputs": [
    {
     "data": {
      "image/png": "[encoded data removed]",
      "text/plain": [
       "<Figure size 504x360 with 1 Axes>"
      ]
     },
     "metadata": {
      "needs_background": "light"
     },
     "output_type": "display_data"
    },
    {
     "data": {
      "image/png": "[encoded data removed]",
      "text/plain": [
       "<Figure size 504x360 with 1 Axes>"
      ]
     },
     "metadata": {
      "needs_background": "light"
     },
     "output_type": "display_data"
    },
    {
     "data": {
      "image/png": "[encoded data removed]",
      "text/plain": [
       "<Figure size 504x360 with 1 Axes>"
      ]
     },
     "metadata": {
      "needs_background": "light"
     },
     "output_type": "display_data"
    },
    {
     "data": {
      "image/png": "[encoded data removed]",
      "text/plain": [
       "<Figure size 504x360 with 1 Axes>"
      ]
     },
     "metadata": {
      "needs_background": "light"
     },
     "output_type": "display_data"
    },
    {
     "data": {
      "image/png": "[encoded data removed]",
      "text/plain": [
       "<Figure size 504x360 with 1 Axes>"
      ]
     },
     "metadata": {
      "needs_background": "light"
     },
     "output_type": "display_data"
    },
    {
     "data": {
      "image/png": "[encoded data removed]",
      "text/plain": [
       "<Figure size 504x360 with 1 Axes>"
      ]
     },
     "metadata": {
      "needs_background": "light"
     },
     "output_type": "display_data"
    },
    {
     "data": {
      "image/png": "[encoded data removed]",
      "text/plain": [
       "<Figure size 504x360 with 1 Axes>"
      ]
     },
     "metadata": {
      "needs_background": "light"
     },
     "output_type": "display_data"
    },
    {
     "data": {
      "image/png": "[encoded data removed]",
      "text/plain": [
       "<Figure size 432x288 with 1 Axes>"
      ]
     },
     "metadata": {
      "needs_background": "light"
     },
     "output_type": "display_data"
    }
   ],
   "source": [
    "train_job_column_names_2.pop(-1)\n",
    "for j in train_job_column_names_1:\n",
    "    plt.figure(figsize=(7, 5))\n",
    "    fig = sns.countplot(x =j, data = test_features)\n",
    "    fig.set_title(j)\n",
    "    fig.set_xlabel(j)\n",
    "    fig.set_ylabel('кол-во сотрудников')\n",
    "    plt.show()  \n",
    "for i in train_job_column_names_2:\n",
    "    test_features.hist(column=i, bins=20)\n",
    "    plt.title(i)\n",
    "    plt.xlabel(i)\n",
    "    plt.ylabel('кол-во сотрудников')\n",
    "    plt.show()    "
   ]
  },
  {
   "cell_type": "markdown",
   "id": "6a28633f",
   "metadata": {},
   "source": [
    "Данные по всем параметрам распределены примерно также как у тренеровочной выборки."
   ]
  },
  {
   "cell_type": "code",
   "execution_count": 15,
   "id": "72c15822",
   "metadata": {},
   "outputs": [
    {
     "data": {
      "text/html": [
       "<div>\n",
       "<style scoped>\n",
       "    .dataframe tbody tr th:only-of-type {\n",
       "        vertical-align: middle;\n",
       "    }\n",
       "\n",
       "    .dataframe tbody tr th {\n",
       "        vertical-align: top;\n",
       "    }\n",
       "\n",
       "    .dataframe thead th {\n",
       "        text-align: right;\n",
       "    }\n",
       "</style>\n",
       "<table border=\"1\" class=\"dataframe\">\n",
       "  <thead>\n",
       "    <tr style=\"text-align: right;\">\n",
       "      <th></th>\n",
       "      <th>dept</th>\n",
       "      <th>level</th>\n",
       "      <th>workload</th>\n",
       "      <th>employment_years</th>\n",
       "      <th>last_year_promo</th>\n",
       "      <th>last_year_violations</th>\n",
       "      <th>supervisor_evaluation</th>\n",
       "      <th>salary</th>\n",
       "    </tr>\n",
       "  </thead>\n",
       "  <tbody>\n",
       "    <tr>\n",
       "      <th>dept</th>\n",
       "      <td>1.000000</td>\n",
       "      <td>0.000000</td>\n",
       "      <td>0.030720</td>\n",
       "      <td>0.000000</td>\n",
       "      <td>0.000000</td>\n",
       "      <td>0.000000</td>\n",
       "      <td>0.058630</td>\n",
       "      <td>0.330057</td>\n",
       "    </tr>\n",
       "    <tr>\n",
       "      <th>level</th>\n",
       "      <td>0.000000</td>\n",
       "      <td>1.000000</td>\n",
       "      <td>0.474453</td>\n",
       "      <td>0.689747</td>\n",
       "      <td>0.118283</td>\n",
       "      <td>0.017551</td>\n",
       "      <td>0.000000</td>\n",
       "      <td>0.749068</td>\n",
       "    </tr>\n",
       "    <tr>\n",
       "      <th>workload</th>\n",
       "      <td>0.030720</td>\n",
       "      <td>0.474453</td>\n",
       "      <td>1.000000</td>\n",
       "      <td>0.202096</td>\n",
       "      <td>0.035565</td>\n",
       "      <td>0.000000</td>\n",
       "      <td>0.035920</td>\n",
       "      <td>0.785872</td>\n",
       "    </tr>\n",
       "    <tr>\n",
       "      <th>employment_years</th>\n",
       "      <td>0.000000</td>\n",
       "      <td>0.689747</td>\n",
       "      <td>0.202096</td>\n",
       "      <td>1.000000</td>\n",
       "      <td>0.173637</td>\n",
       "      <td>0.066371</td>\n",
       "      <td>0.000000</td>\n",
       "      <td>0.494701</td>\n",
       "    </tr>\n",
       "    <tr>\n",
       "      <th>last_year_promo</th>\n",
       "      <td>0.000000</td>\n",
       "      <td>0.118283</td>\n",
       "      <td>0.035565</td>\n",
       "      <td>0.173637</td>\n",
       "      <td>1.000000</td>\n",
       "      <td>0.000000</td>\n",
       "      <td>0.011704</td>\n",
       "      <td>0.193727</td>\n",
       "    </tr>\n",
       "    <tr>\n",
       "      <th>last_year_violations</th>\n",
       "      <td>0.000000</td>\n",
       "      <td>0.017551</td>\n",
       "      <td>0.000000</td>\n",
       "      <td>0.066371</td>\n",
       "      <td>0.000000</td>\n",
       "      <td>1.000000</td>\n",
       "      <td>0.189719</td>\n",
       "      <td>0.000000</td>\n",
       "    </tr>\n",
       "    <tr>\n",
       "      <th>supervisor_evaluation</th>\n",
       "      <td>0.058630</td>\n",
       "      <td>0.000000</td>\n",
       "      <td>0.035920</td>\n",
       "      <td>0.000000</td>\n",
       "      <td>0.011704</td>\n",
       "      <td>0.189719</td>\n",
       "      <td>1.000000</td>\n",
       "      <td>0.114588</td>\n",
       "    </tr>\n",
       "    <tr>\n",
       "      <th>salary</th>\n",
       "      <td>0.330057</td>\n",
       "      <td>0.749068</td>\n",
       "      <td>0.785872</td>\n",
       "      <td>0.494701</td>\n",
       "      <td>0.193727</td>\n",
       "      <td>0.000000</td>\n",
       "      <td>0.114588</td>\n",
       "      <td>1.000000</td>\n",
       "    </tr>\n",
       "  </tbody>\n",
       "</table>\n",
       "</div>"
      ],
      "text/plain": [
       "                           dept     level  workload  employment_years  \\\n",
       "dept                   1.000000  0.000000  0.030720          0.000000   \n",
       "level                  0.000000  1.000000  0.474453          0.689747   \n",
       "workload               0.030720  0.474453  1.000000          0.202096   \n",
       "employment_years       0.000000  0.689747  0.202096          1.000000   \n",
       "last_year_promo        0.000000  0.118283  0.035565          0.173637   \n",
       "last_year_violations   0.000000  0.017551  0.000000          0.066371   \n",
       "supervisor_evaluation  0.058630  0.000000  0.035920          0.000000   \n",
       "salary                 0.330057  0.749068  0.785872          0.494701   \n",
       "\n",
       "                       last_year_promo  last_year_violations  \\\n",
       "dept                          0.000000              0.000000   \n",
       "level                         0.118283              0.017551   \n",
       "workload                      0.035565              0.000000   \n",
       "employment_years              0.173637              0.066371   \n",
       "last_year_promo               1.000000              0.000000   \n",
       "last_year_violations          0.000000              1.000000   \n",
       "supervisor_evaluation         0.011704              0.189719   \n",
       "salary                        0.193727              0.000000   \n",
       "\n",
       "                       supervisor_evaluation    salary  \n",
       "dept                                0.058630  0.330057  \n",
       "level                               0.000000  0.749068  \n",
       "workload                            0.035920  0.785872  \n",
       "employment_years                    0.000000  0.494701  \n",
       "last_year_promo                     0.011704  0.193727  \n",
       "last_year_violations                0.189719  0.000000  \n",
       "supervisor_evaluation               1.000000  0.114588  \n",
       "salary                              0.114588  1.000000  "
      ]
     },
     "execution_count": 15,
     "metadata": {},
     "output_type": "execute_result"
    }
   ],
   "source": [
    "test_features_for_matrix = test_features.drop(['id'],axis = 1)\n",
    "test_features_for_matrix.phik_matrix(interval_cols = ['salary'])"
   ]
  },
  {
   "cell_type": "markdown",
   "id": "ecc44d87",
   "metadata": {},
   "source": [
    "Корреляции те же что и у тренировочной выборки."
   ]
  },
  {
   "cell_type": "markdown",
   "id": "d4ab528d",
   "metadata": {},
   "source": [
    "#### Целевой признак тестовой выборки:"
   ]
  },
  {
   "cell_type": "code",
   "execution_count": 16,
   "id": "36684fbb",
   "metadata": {},
   "outputs": [
    {
     "data": {
      "image/png": "[encoded data removed]",
      "text/plain": [
       "<Figure size 432x288 with 1 Axes>"
      ]
     },
     "metadata": {
      "needs_background": "light"
     },
     "output_type": "display_data"
    }
   ],
   "source": [
    "test_target_job.hist(column='job_satisfaction_rate', bins=20)\n",
    "plt.title('job_satisfaction_rate')\n",
    "plt.xlabel('job_satisfaction_rate')\n",
    "plt.ylabel('кол-во сотрудников')\n",
    "plt.show()    "
   ]
  },
  {
   "cell_type": "markdown",
   "id": "5a59363c",
   "metadata": {},
   "source": [
    "Целевой признак распределён похожим образом на признак тренировочного датафрейма, но в райне 0.8 пик меньше."
   ]
  },
  {
   "cell_type": "markdown",
   "id": "31e9b665",
   "metadata": {},
   "source": [
    "### Шаг 4. Подготовка данных\n",
    "Дополним первый пайплайн новыми шагами для преобразования данных чтобы с ними могла работать модель МО."
   ]
  },
  {
   "cell_type": "code",
   "execution_count": 17,
   "id": "8c4cf30f",
   "metadata": {},
   "outputs": [
    {
     "data": {
      "text/plain": [
       "'job_satisfaction_rate'"
      ]
     },
     "execution_count": 17,
     "metadata": {},
     "output_type": "execute_result"
    }
   ],
   "source": [
    "train_job_column_names.pop(0)\n",
    "train_job_column_names.pop(-1)"
   ]
  },
  {
   "cell_type": "code",
   "execution_count": 18,
   "id": "d4e6a2ee",
   "metadata": {},
   "outputs": [
    {
     "data": {
      "text/html": [
       "<div>\n",
       "<style scoped>\n",
       "    .dataframe tbody tr th:only-of-type {\n",
       "        vertical-align: middle;\n",
       "    }\n",
       "\n",
       "    .dataframe tbody tr th {\n",
       "        vertical-align: top;\n",
       "    }\n",
       "\n",
       "    .dataframe thead th {\n",
       "        text-align: right;\n",
       "    }\n",
       "</style>\n",
       "<table border=\"1\" class=\"dataframe\">\n",
       "  <thead>\n",
       "    <tr style=\"text-align: right;\">\n",
       "      <th></th>\n",
       "      <th>id</th>\n",
       "      <th>dept</th>\n",
       "      <th>level</th>\n",
       "      <th>workload</th>\n",
       "      <th>employment_years</th>\n",
       "      <th>last_year_promo</th>\n",
       "      <th>last_year_violations</th>\n",
       "      <th>supervisor_evaluation</th>\n",
       "      <th>salary</th>\n",
       "      <th>job_satisfaction_rate</th>\n",
       "    </tr>\n",
       "  </thead>\n",
       "  <tbody>\n",
       "    <tr>\n",
       "      <th>0</th>\n",
       "      <td>155278</td>\n",
       "      <td>sales</td>\n",
       "      <td>junior</td>\n",
       "      <td>medium</td>\n",
       "      <td>2</td>\n",
       "      <td>no</td>\n",
       "      <td>no</td>\n",
       "      <td>1</td>\n",
       "      <td>24000</td>\n",
       "      <td>0.58</td>\n",
       "    </tr>\n",
       "    <tr>\n",
       "      <th>1</th>\n",
       "      <td>653870</td>\n",
       "      <td>hr</td>\n",
       "      <td>junior</td>\n",
       "      <td>high</td>\n",
       "      <td>2</td>\n",
       "      <td>no</td>\n",
       "      <td>no</td>\n",
       "      <td>5</td>\n",
       "      <td>38400</td>\n",
       "      <td>0.76</td>\n",
       "    </tr>\n",
       "    <tr>\n",
       "      <th>2</th>\n",
       "      <td>184592</td>\n",
       "      <td>sales</td>\n",
       "      <td>junior</td>\n",
       "      <td>low</td>\n",
       "      <td>1</td>\n",
       "      <td>no</td>\n",
       "      <td>no</td>\n",
       "      <td>2</td>\n",
       "      <td>12000</td>\n",
       "      <td>0.11</td>\n",
       "    </tr>\n",
       "    <tr>\n",
       "      <th>3</th>\n",
       "      <td>171431</td>\n",
       "      <td>technology</td>\n",
       "      <td>junior</td>\n",
       "      <td>low</td>\n",
       "      <td>4</td>\n",
       "      <td>no</td>\n",
       "      <td>no</td>\n",
       "      <td>2</td>\n",
       "      <td>18000</td>\n",
       "      <td>0.37</td>\n",
       "    </tr>\n",
       "    <tr>\n",
       "      <th>4</th>\n",
       "      <td>693419</td>\n",
       "      <td>hr</td>\n",
       "      <td>junior</td>\n",
       "      <td>medium</td>\n",
       "      <td>1</td>\n",
       "      <td>no</td>\n",
       "      <td>no</td>\n",
       "      <td>3</td>\n",
       "      <td>22800</td>\n",
       "      <td>0.20</td>\n",
       "    </tr>\n",
       "    <tr>\n",
       "      <th>...</th>\n",
       "      <td>...</td>\n",
       "      <td>...</td>\n",
       "      <td>...</td>\n",
       "      <td>...</td>\n",
       "      <td>...</td>\n",
       "      <td>...</td>\n",
       "      <td>...</td>\n",
       "      <td>...</td>\n",
       "      <td>...</td>\n",
       "      <td>...</td>\n",
       "    </tr>\n",
       "    <tr>\n",
       "      <th>3995</th>\n",
       "      <td>457950</td>\n",
       "      <td>technology</td>\n",
       "      <td>junior</td>\n",
       "      <td>high</td>\n",
       "      <td>2</td>\n",
       "      <td>no</td>\n",
       "      <td>no</td>\n",
       "      <td>3</td>\n",
       "      <td>46800</td>\n",
       "      <td>0.45</td>\n",
       "    </tr>\n",
       "    <tr>\n",
       "      <th>3996</th>\n",
       "      <td>957499</td>\n",
       "      <td>sales</td>\n",
       "      <td>junior</td>\n",
       "      <td>medium</td>\n",
       "      <td>2</td>\n",
       "      <td>no</td>\n",
       "      <td>no</td>\n",
       "      <td>4</td>\n",
       "      <td>21600</td>\n",
       "      <td>0.68</td>\n",
       "    </tr>\n",
       "    <tr>\n",
       "      <th>3997</th>\n",
       "      <td>533318</td>\n",
       "      <td>sales</td>\n",
       "      <td>middle</td>\n",
       "      <td>low</td>\n",
       "      <td>7</td>\n",
       "      <td>no</td>\n",
       "      <td>no</td>\n",
       "      <td>5</td>\n",
       "      <td>24000</td>\n",
       "      <td>0.76</td>\n",
       "    </tr>\n",
       "    <tr>\n",
       "      <th>3998</th>\n",
       "      <td>706868</td>\n",
       "      <td>sales</td>\n",
       "      <td>junior</td>\n",
       "      <td>medium</td>\n",
       "      <td>2</td>\n",
       "      <td>no</td>\n",
       "      <td>no</td>\n",
       "      <td>3</td>\n",
       "      <td>24000</td>\n",
       "      <td>0.48</td>\n",
       "    </tr>\n",
       "    <tr>\n",
       "      <th>3999</th>\n",
       "      <td>338347</td>\n",
       "      <td>technology</td>\n",
       "      <td>middle</td>\n",
       "      <td>medium</td>\n",
       "      <td>5</td>\n",
       "      <td>no</td>\n",
       "      <td>yes</td>\n",
       "      <td>1</td>\n",
       "      <td>44400</td>\n",
       "      <td>0.18</td>\n",
       "    </tr>\n",
       "  </tbody>\n",
       "</table>\n",
       "<p>4000 rows × 10 columns</p>\n",
       "</div>"
      ],
      "text/plain": [
       "          id        dept   level workload  employment_years last_year_promo  \\\n",
       "0     155278       sales  junior   medium                 2              no   \n",
       "1     653870          hr  junior     high                 2              no   \n",
       "2     184592       sales  junior      low                 1              no   \n",
       "3     171431  technology  junior      low                 4              no   \n",
       "4     693419          hr  junior   medium                 1              no   \n",
       "...      ...         ...     ...      ...               ...             ...   \n",
       "3995  457950  technology  junior     high                 2              no   \n",
       "3996  957499       sales  junior   medium                 2              no   \n",
       "3997  533318       sales  middle      low                 7              no   \n",
       "3998  706868       sales  junior   medium                 2              no   \n",
       "3999  338347  technology  middle   medium                 5              no   \n",
       "\n",
       "     last_year_violations  supervisor_evaluation  salary  \\\n",
       "0                      no                      1   24000   \n",
       "1                      no                      5   38400   \n",
       "2                      no                      2   12000   \n",
       "3                      no                      2   18000   \n",
       "4                      no                      3   22800   \n",
       "...                   ...                    ...     ...   \n",
       "3995                   no                      3   46800   \n",
       "3996                   no                      4   21600   \n",
       "3997                   no                      5   24000   \n",
       "3998                   no                      3   24000   \n",
       "3999                  yes                      1   44400   \n",
       "\n",
       "      job_satisfaction_rate  \n",
       "0                      0.58  \n",
       "1                      0.76  \n",
       "2                      0.11  \n",
       "3                      0.37  \n",
       "4                      0.20  \n",
       "...                     ...  \n",
       "3995                   0.45  \n",
       "3996                   0.68  \n",
       "3997                   0.76  \n",
       "3998                   0.48  \n",
       "3999                   0.18  \n",
       "\n",
       "[4000 rows x 10 columns]"
      ]
     },
     "execution_count": 18,
     "metadata": {},
     "output_type": "execute_result"
    }
   ],
   "source": [
    "train_job"
   ]
  },
  {
   "cell_type": "code",
   "execution_count": 19,
   "id": "3696dea8",
   "metadata": {},
   "outputs": [
    {
     "data": {
      "text/html": [
       "<div>\n",
       "<style scoped>\n",
       "    .dataframe tbody tr th:only-of-type {\n",
       "        vertical-align: middle;\n",
       "    }\n",
       "\n",
       "    .dataframe tbody tr th {\n",
       "        vertical-align: top;\n",
       "    }\n",
       "\n",
       "    .dataframe thead th {\n",
       "        text-align: right;\n",
       "    }\n",
       "</style>\n",
       "<table border=\"1\" class=\"dataframe\">\n",
       "  <thead>\n",
       "    <tr style=\"text-align: right;\">\n",
       "      <th></th>\n",
       "      <th>0</th>\n",
       "      <th>1</th>\n",
       "      <th>2</th>\n",
       "      <th>3</th>\n",
       "      <th>4</th>\n",
       "      <th>5</th>\n",
       "      <th>6</th>\n",
       "      <th>7</th>\n",
       "      <th>8</th>\n",
       "      <th>9</th>\n",
       "      <th>10</th>\n",
       "      <th>11</th>\n",
       "      <th>12</th>\n",
       "    </tr>\n",
       "  </thead>\n",
       "  <tbody>\n",
       "    <tr>\n",
       "      <th>0</th>\n",
       "      <td>0.0</td>\n",
       "      <td>0.0</td>\n",
       "      <td>1.0</td>\n",
       "      <td>0.0</td>\n",
       "      <td>0.0</td>\n",
       "      <td>0.0</td>\n",
       "      <td>0.138889</td>\n",
       "      <td>0.0</td>\n",
       "      <td>2.0</td>\n",
       "      <td>155278.0</td>\n",
       "      <td>2.0</td>\n",
       "      <td>1.0</td>\n",
       "      <td>0.58</td>\n",
       "    </tr>\n",
       "    <tr>\n",
       "      <th>1</th>\n",
       "      <td>0.0</td>\n",
       "      <td>0.0</td>\n",
       "      <td>0.0</td>\n",
       "      <td>0.0</td>\n",
       "      <td>0.0</td>\n",
       "      <td>0.0</td>\n",
       "      <td>0.305556</td>\n",
       "      <td>0.0</td>\n",
       "      <td>0.0</td>\n",
       "      <td>653870.0</td>\n",
       "      <td>2.0</td>\n",
       "      <td>5.0</td>\n",
       "      <td>0.76</td>\n",
       "    </tr>\n",
       "    <tr>\n",
       "      <th>2</th>\n",
       "      <td>0.0</td>\n",
       "      <td>0.0</td>\n",
       "      <td>1.0</td>\n",
       "      <td>0.0</td>\n",
       "      <td>0.0</td>\n",
       "      <td>0.0</td>\n",
       "      <td>0.000000</td>\n",
       "      <td>0.0</td>\n",
       "      <td>1.0</td>\n",
       "      <td>184592.0</td>\n",
       "      <td>1.0</td>\n",
       "      <td>2.0</td>\n",
       "      <td>0.11</td>\n",
       "    </tr>\n",
       "    <tr>\n",
       "      <th>3</th>\n",
       "      <td>0.0</td>\n",
       "      <td>0.0</td>\n",
       "      <td>0.0</td>\n",
       "      <td>1.0</td>\n",
       "      <td>0.0</td>\n",
       "      <td>0.0</td>\n",
       "      <td>0.069444</td>\n",
       "      <td>0.0</td>\n",
       "      <td>1.0</td>\n",
       "      <td>171431.0</td>\n",
       "      <td>4.0</td>\n",
       "      <td>2.0</td>\n",
       "      <td>0.37</td>\n",
       "    </tr>\n",
       "    <tr>\n",
       "      <th>4</th>\n",
       "      <td>0.0</td>\n",
       "      <td>0.0</td>\n",
       "      <td>0.0</td>\n",
       "      <td>0.0</td>\n",
       "      <td>0.0</td>\n",
       "      <td>0.0</td>\n",
       "      <td>0.125000</td>\n",
       "      <td>0.0</td>\n",
       "      <td>2.0</td>\n",
       "      <td>693419.0</td>\n",
       "      <td>1.0</td>\n",
       "      <td>3.0</td>\n",
       "      <td>0.20</td>\n",
       "    </tr>\n",
       "    <tr>\n",
       "      <th>...</th>\n",
       "      <td>...</td>\n",
       "      <td>...</td>\n",
       "      <td>...</td>\n",
       "      <td>...</td>\n",
       "      <td>...</td>\n",
       "      <td>...</td>\n",
       "      <td>...</td>\n",
       "      <td>...</td>\n",
       "      <td>...</td>\n",
       "      <td>...</td>\n",
       "      <td>...</td>\n",
       "      <td>...</td>\n",
       "      <td>...</td>\n",
       "    </tr>\n",
       "    <tr>\n",
       "      <th>3995</th>\n",
       "      <td>0.0</td>\n",
       "      <td>0.0</td>\n",
       "      <td>0.0</td>\n",
       "      <td>1.0</td>\n",
       "      <td>0.0</td>\n",
       "      <td>0.0</td>\n",
       "      <td>0.402778</td>\n",
       "      <td>0.0</td>\n",
       "      <td>0.0</td>\n",
       "      <td>457950.0</td>\n",
       "      <td>2.0</td>\n",
       "      <td>3.0</td>\n",
       "      <td>0.45</td>\n",
       "    </tr>\n",
       "    <tr>\n",
       "      <th>3996</th>\n",
       "      <td>0.0</td>\n",
       "      <td>0.0</td>\n",
       "      <td>1.0</td>\n",
       "      <td>0.0</td>\n",
       "      <td>0.0</td>\n",
       "      <td>0.0</td>\n",
       "      <td>0.111111</td>\n",
       "      <td>0.0</td>\n",
       "      <td>2.0</td>\n",
       "      <td>957499.0</td>\n",
       "      <td>2.0</td>\n",
       "      <td>4.0</td>\n",
       "      <td>0.68</td>\n",
       "    </tr>\n",
       "    <tr>\n",
       "      <th>3997</th>\n",
       "      <td>0.0</td>\n",
       "      <td>0.0</td>\n",
       "      <td>1.0</td>\n",
       "      <td>0.0</td>\n",
       "      <td>0.0</td>\n",
       "      <td>0.0</td>\n",
       "      <td>0.138889</td>\n",
       "      <td>1.0</td>\n",
       "      <td>1.0</td>\n",
       "      <td>533318.0</td>\n",
       "      <td>7.0</td>\n",
       "      <td>5.0</td>\n",
       "      <td>0.76</td>\n",
       "    </tr>\n",
       "    <tr>\n",
       "      <th>3998</th>\n",
       "      <td>0.0</td>\n",
       "      <td>0.0</td>\n",
       "      <td>1.0</td>\n",
       "      <td>0.0</td>\n",
       "      <td>0.0</td>\n",
       "      <td>0.0</td>\n",
       "      <td>0.138889</td>\n",
       "      <td>0.0</td>\n",
       "      <td>2.0</td>\n",
       "      <td>706868.0</td>\n",
       "      <td>2.0</td>\n",
       "      <td>3.0</td>\n",
       "      <td>0.48</td>\n",
       "    </tr>\n",
       "    <tr>\n",
       "      <th>3999</th>\n",
       "      <td>0.0</td>\n",
       "      <td>0.0</td>\n",
       "      <td>0.0</td>\n",
       "      <td>1.0</td>\n",
       "      <td>0.0</td>\n",
       "      <td>1.0</td>\n",
       "      <td>0.375000</td>\n",
       "      <td>1.0</td>\n",
       "      <td>2.0</td>\n",
       "      <td>338347.0</td>\n",
       "      <td>5.0</td>\n",
       "      <td>1.0</td>\n",
       "      <td>0.18</td>\n",
       "    </tr>\n",
       "  </tbody>\n",
       "</table>\n",
       "<p>4000 rows × 13 columns</p>\n",
       "</div>"
      ],
      "text/plain": [
       "       0    1    2    3    4    5         6    7    8         9    10   11  \\\n",
       "0     0.0  0.0  1.0  0.0  0.0  0.0  0.138889  0.0  2.0  155278.0  2.0  1.0   \n",
       "1     0.0  0.0  0.0  0.0  0.0  0.0  0.305556  0.0  0.0  653870.0  2.0  5.0   \n",
       "2     0.0  0.0  1.0  0.0  0.0  0.0  0.000000  0.0  1.0  184592.0  1.0  2.0   \n",
       "3     0.0  0.0  0.0  1.0  0.0  0.0  0.069444  0.0  1.0  171431.0  4.0  2.0   \n",
       "4     0.0  0.0  0.0  0.0  0.0  0.0  0.125000  0.0  2.0  693419.0  1.0  3.0   \n",
       "...   ...  ...  ...  ...  ...  ...       ...  ...  ...       ...  ...  ...   \n",
       "3995  0.0  0.0  0.0  1.0  0.0  0.0  0.402778  0.0  0.0  457950.0  2.0  3.0   \n",
       "3996  0.0  0.0  1.0  0.0  0.0  0.0  0.111111  0.0  2.0  957499.0  2.0  4.0   \n",
       "3997  0.0  0.0  1.0  0.0  0.0  0.0  0.138889  1.0  1.0  533318.0  7.0  5.0   \n",
       "3998  0.0  0.0  1.0  0.0  0.0  0.0  0.138889  0.0  2.0  706868.0  2.0  3.0   \n",
       "3999  0.0  0.0  0.0  1.0  0.0  1.0  0.375000  1.0  2.0  338347.0  5.0  1.0   \n",
       "\n",
       "        12  \n",
       "0     0.58  \n",
       "1     0.76  \n",
       "2     0.11  \n",
       "3     0.37  \n",
       "4     0.20  \n",
       "...    ...  \n",
       "3995  0.45  \n",
       "3996  0.68  \n",
       "3997  0.76  \n",
       "3998  0.48  \n",
       "3999  0.18  \n",
       "\n",
       "[4000 rows x 13 columns]"
      ]
     },
     "execution_count": 19,
     "metadata": {},
     "output_type": "execute_result"
    }
   ],
   "source": [
    "class DataframeFunctionTransformer():\n",
    "    def __init__(self, func):\n",
    "        self.func = func\n",
    "\n",
    "    def transform(self, input_df, **transform_params):\n",
    "        return self.func(input_df)\n",
    "\n",
    "    def fit(self, X, y=None, **fit_params):\n",
    "        return self\n",
    "    \n",
    "def framer1(a):\n",
    "    a = pd.DataFrame(a)\n",
    "    return a    \n",
    "\n",
    "\n",
    "num_columns = ['salary']\n",
    "ohe_columns = ['dept','last_year_promo','last_year_violations']\n",
    "ord_columns = [ 'level', 'workload']\n",
    "ohe_pipe = Pipeline(\n",
    "    [('simpleImputer_ohe', SimpleImputer(missing_values=np.nan,strategy='most_frequent')),\n",
    "     ('ohe', OneHotEncoder(drop='first',handle_unknown = 'ignore',sparse_output=False)),\n",
    "\n",
    "    ]\n",
    "    )\n",
    "num_pipe = Pipeline(\n",
    "    [('stanart', StandardScaler()),\n",
    "     ('minmax',MinMaxScaler())\n",
    "    ]\n",
    "    )\n",
    "\n",
    "ord_pipe = Pipeline([('ord',OrdinalEncoder(handle_unknown='use_encoded_value',unknown_value = 1337))])\n",
    "_2nd_pipeline = ColumnTransformer(\n",
    "    [\n",
    "     ('ohe', ohe_pipe, ohe_columns),\n",
    "     ('num', num_pipe, num_columns),\n",
    "     ('ord',ord_pipe,ord_columns)\n",
    "    ], \n",
    "    remainder='passthrough'\n",
    ")\n",
    "_3rd_pipeline = Pipeline(\n",
    "    [('1',_2nd_pipeline),\n",
    "     ('frame', DataframeFunctionTransformer(framer1))\n",
    "    ])\n",
    "\n",
    "zz = _3rd_pipeline.fit_transform(train_job)\n",
    "zz"
   ]
  },
  {
   "cell_type": "markdown",
   "id": "e2a5fef2",
   "metadata": {},
   "source": [
    "Данные преобразованы."
   ]
  },
  {
   "cell_type": "markdown",
   "id": "ebce9002",
   "metadata": {},
   "source": [
    "### Шаг 5. Обучение моделей\n",
    "Обучим две модели МО для предсказания целевого признака и определим лучшую по метрике SMAPE.\n",
    "Для этого инициализируем модели в поиске по сетке и напишем собственную метрику SMAPE."
   ]
  },
  {
   "cell_type": "code",
   "execution_count": 20,
   "id": "3c3fdbfd",
   "metadata": {},
   "outputs": [],
   "source": [
    "test_features = test_features.sort_values('id')\n",
    "test_target_job = test_target_job.sort_values('id')"
   ]
  },
  {
   "cell_type": "code",
   "execution_count": 21,
   "id": "1605bf91",
   "metadata": {},
   "outputs": [],
   "source": [
    "RANDOM_STATE = 42\n",
    "X_train = train_job.drop(['id','job_satisfaction_rate'],axis = 1)\n",
    "y_train = train_job['job_satisfaction_rate']"
   ]
  },
  {
   "cell_type": "code",
   "execution_count": 22,
   "id": "bfc85715",
   "metadata": {},
   "outputs": [],
   "source": [
    "X_test = test_features.drop(['id'],axis = 1)\n",
    "y_test = test_target_job['job_satisfaction_rate']"
   ]
  },
  {
   "cell_type": "code",
   "execution_count": 23,
   "id": "589f97f3",
   "metadata": {},
   "outputs": [],
   "source": [
    "pipe_special= Pipeline([\n",
    "    ('preprocessor', _2nd_pipeline),\n",
    "    ('models', LinearRegression())\n",
    "    \n",
    "])"
   ]
  },
  {
   "cell_type": "code",
   "execution_count": 24,
   "id": "2dcfb403",
   "metadata": {},
   "outputs": [],
   "source": [
    "param_grid = [\n",
    "    {\n",
    "        'models': [DecisionTreeRegressor(random_state=RANDOM_STATE)],\n",
    "        'models__max_depth': range(90,120),\n",
    "        'models__max_features': range(50,100),\n",
    "        'preprocessor__ohe': [OneHotEncoder(), OrdinalEncoder()],\n",
    "        'preprocessor__num': [StandardScaler(), MinMaxScaler(), 'passthrough']\n",
    "           \n",
    "    },\n",
    "    {\n",
    "        'models': [LinearRegression()],\n",
    "        'preprocessor__ohe': [OrdinalEncoder(),OneHotEncoder()],\n",
    "        'preprocessor__num': [StandardScaler(), MinMaxScaler(), 'passthrough'],  \n",
    "    }\n",
    "]"
   ]
  },
  {
   "cell_type": "code",
   "execution_count": 25,
   "id": "89e2371f",
   "metadata": {},
   "outputs": [],
   "source": [
    "def smape(y_true,y_pred):\n",
    "    n = len(y_pred)\n",
    "    smape1 = (100/n)*sum(abs(y_true-y_pred)/((abs(y_true)+abs(y_pred))/2))\n",
    "    return smape1\n",
    "smape2 = make_scorer(smape,greater_is_better=False)  "
   ]
  },
  {
   "cell_type": "code",
   "execution_count": 26,
   "id": "11be475f",
   "metadata": {},
   "outputs": [
    {
     "name": "stdout",
     "output_type": "stream",
     "text": [
      "Лучшая модель и её параметры:\n",
      "\n",
      " Pipeline(steps=[('preprocessor',\n",
      "                 ColumnTransformer(remainder='passthrough',\n",
      "                                   transformers=[('ohe', OneHotEncoder(),\n",
      "                                                  ['dept', 'last_year_promo',\n",
      "                                                   'last_year_violations']),\n",
      "                                                 ('num', MinMaxScaler(),\n",
      "                                                  ['salary']),\n",
      "                                                 ('ord',\n",
      "                                                  Pipeline(steps=[('ord',\n",
      "                                                                   OrdinalEncoder(handle_unknown='use_encoded_value',\n",
      "                                                                                  unknown_value=1337))]),\n",
      "                                                  ['level', 'workload'])])),\n",
      "                ('models',\n",
      "                 DecisionTreeRegressor(max_depth=92, max_features=93,\n",
      "                                       random_state=42))])\n",
      "Метрика SMAPE для лучшей модели: -15.255325995056626\n"
     ]
    }
   ],
   "source": [
    "randomized_search = RandomizedSearchCV(\n",
    "    pipe_special, \n",
    "    param_grid, \n",
    "    cv=5,\n",
    "    scoring=smape2,\n",
    "    random_state=42,\n",
    "    n_jobs=-1\n",
    ")\n",
    "randomized_search.fit(X_train, y_train)\n",
    "grid_result = randomized_search.fit(X_train, y_train)\n",
    "\n",
    "print('Лучшая модель и её параметры:\\n\\n', randomized_search.best_estimator_)\n",
    "print ('Метрика SMAPE для лучшей модели:', randomized_search.best_score_)"
   ]
  },
  {
   "cell_type": "markdown",
   "id": "758db9f4",
   "metadata": {},
   "source": [
    "Для сравнения я выбрал две модели это дерево классификатор и модель линейной регрессии, лучшей из них оказалась модель 'дерева' \n",
    "с метрикой SMAPE равной -15.25"
   ]
  },
  {
   "cell_type": "markdown",
   "id": "afd7ff6f",
   "metadata": {},
   "source": [
    "Протестируем модель"
   ]
  },
  {
   "cell_type": "code",
   "execution_count": 27,
   "id": "831027d9",
   "metadata": {},
   "outputs": [
    {
     "name": "stdout",
     "output_type": "stream",
     "text": [
      "Метрика SMAPE для тестовой выборки равна:\n"
     ]
    },
    {
     "data": {
      "text/plain": [
       "14.6047318137211"
      ]
     },
     "execution_count": 27,
     "metadata": {},
     "output_type": "execute_result"
    }
   ],
   "source": [
    "y_pred = randomized_search.best_estimator_.predict(X_test)\n",
    "y_true = y_test\n",
    "print('Метрика SMAPE для тестовой выборки равна:')\n",
    "(smape(y_pred,y_true))"
   ]
  },
  {
   "cell_type": "markdown",
   "id": "fb40eb4e",
   "metadata": {},
   "source": [
    "### Шаг 6. Выводы"
   ]
  },
  {
   "cell_type": "markdown",
   "id": "28491cab",
   "metadata": {},
   "source": [
    "В нашем эксперементе лучшей моделью оказалась DecisionTreeClassifier c метрикой равной -15.25, она лучше справилась с задачей регрессии, ведь видимо в данных есть не прямые корреляции между признаками и из-за этого линейная регрессия справилась хуже."
   ]
  },
  {
   "cell_type": "markdown",
   "id": "d66a4a2a",
   "metadata": {},
   "source": [
    "## Задача 2: предсказание увольнения сотрудника из компании\n",
    "Для решения этой задачи необходимо проделать все те же шаги как и для предыдущей, только теперь модель должна будет предсказать не число а принадлежность обьекта к одному из двух классов целевого признака \"уйдёт сотрудник или нет\", то есть это будет задача бинарной классификкации. "
   ]
  },
  {
   "cell_type": "markdown",
   "id": "66d41acd",
   "metadata": {},
   "source": [
    "### Шаг 1. Загрузка данных\n",
    "загрузим таблицу с новым целевым признаком"
   ]
  },
  {
   "cell_type": "code",
   "execution_count": 28,
   "id": "6ddb7e59",
   "metadata": {},
   "outputs": [
    {
     "name": "stdout",
     "output_type": "stream",
     "text": [
      "колличество пропусков в столбце - id\n",
      "0\n",
      "---------------\n",
      "колличество пропусков в столбце - dept\n",
      "0\n",
      "---------------\n",
      "колличество пропусков в столбце - level\n",
      "0\n",
      "---------------\n",
      "колличество пропусков в столбце - workload\n",
      "0\n",
      "---------------\n",
      "колличество пропусков в столбце - employment_years\n",
      "0\n",
      "---------------\n",
      "колличество пропусков в столбце - last_year_promo\n",
      "0\n",
      "---------------\n",
      "колличество пропусков в столбце - last_year_violations\n",
      "0\n",
      "---------------\n",
      "колличество пропусков в столбце - supervisor_evaluation\n",
      "0\n",
      "---------------\n",
      "колличество пропусков в столбце - salary\n",
      "0\n",
      "---------------\n",
      "колличество пропусков в столбце - quit\n",
      "0\n",
      "---------------\n",
      "<class 'pandas.core.frame.DataFrame'>\n",
      "RangeIndex: 4000 entries, 0 to 3999\n",
      "Data columns (total 10 columns):\n",
      " #   Column                 Non-Null Count  Dtype \n",
      "---  ------                 --------------  ----- \n",
      " 0   id                     4000 non-null   int64 \n",
      " 1   dept                   4000 non-null   object\n",
      " 2   level                  4000 non-null   object\n",
      " 3   workload               4000 non-null   object\n",
      " 4   employment_years       4000 non-null   int64 \n",
      " 5   last_year_promo        4000 non-null   object\n",
      " 6   last_year_violations   4000 non-null   object\n",
      " 7   supervisor_evaluation  4000 non-null   int64 \n",
      " 8   salary                 4000 non-null   int64 \n",
      " 9   quit                   4000 non-null   object\n",
      "dtypes: int64(4), object(6)\n",
      "memory usage: 312.6+ KB\n",
      "None\n"
     ]
    },
    {
     "data": {
      "text/html": [
       "<div>\n",
       "<style scoped>\n",
       "    .dataframe tbody tr th:only-of-type {\n",
       "        vertical-align: middle;\n",
       "    }\n",
       "\n",
       "    .dataframe tbody tr th {\n",
       "        vertical-align: top;\n",
       "    }\n",
       "\n",
       "    .dataframe thead th {\n",
       "        text-align: right;\n",
       "    }\n",
       "</style>\n",
       "<table border=\"1\" class=\"dataframe\">\n",
       "  <thead>\n",
       "    <tr style=\"text-align: right;\">\n",
       "      <th></th>\n",
       "      <th>id</th>\n",
       "      <th>dept</th>\n",
       "      <th>level</th>\n",
       "      <th>workload</th>\n",
       "      <th>employment_years</th>\n",
       "      <th>last_year_promo</th>\n",
       "      <th>last_year_violations</th>\n",
       "      <th>supervisor_evaluation</th>\n",
       "      <th>salary</th>\n",
       "      <th>quit</th>\n",
       "    </tr>\n",
       "  </thead>\n",
       "  <tbody>\n",
       "    <tr>\n",
       "      <th>0</th>\n",
       "      <td>723290</td>\n",
       "      <td>sales</td>\n",
       "      <td>middle</td>\n",
       "      <td>high</td>\n",
       "      <td>2</td>\n",
       "      <td>no</td>\n",
       "      <td>no</td>\n",
       "      <td>4</td>\n",
       "      <td>54000</td>\n",
       "      <td>no</td>\n",
       "    </tr>\n",
       "    <tr>\n",
       "      <th>1</th>\n",
       "      <td>814010</td>\n",
       "      <td>sales</td>\n",
       "      <td>junior</td>\n",
       "      <td>medium</td>\n",
       "      <td>2</td>\n",
       "      <td>no</td>\n",
       "      <td>no</td>\n",
       "      <td>4</td>\n",
       "      <td>27600</td>\n",
       "      <td>no</td>\n",
       "    </tr>\n",
       "    <tr>\n",
       "      <th>2</th>\n",
       "      <td>155091</td>\n",
       "      <td>purchasing</td>\n",
       "      <td>middle</td>\n",
       "      <td>medium</td>\n",
       "      <td>5</td>\n",
       "      <td>no</td>\n",
       "      <td>no</td>\n",
       "      <td>1</td>\n",
       "      <td>37200</td>\n",
       "      <td>no</td>\n",
       "    </tr>\n",
       "    <tr>\n",
       "      <th>3</th>\n",
       "      <td>257132</td>\n",
       "      <td>sales</td>\n",
       "      <td>junior</td>\n",
       "      <td>medium</td>\n",
       "      <td>2</td>\n",
       "      <td>no</td>\n",
       "      <td>yes</td>\n",
       "      <td>3</td>\n",
       "      <td>24000</td>\n",
       "      <td>yes</td>\n",
       "    </tr>\n",
       "    <tr>\n",
       "      <th>4</th>\n",
       "      <td>910140</td>\n",
       "      <td>marketing</td>\n",
       "      <td>junior</td>\n",
       "      <td>medium</td>\n",
       "      <td>2</td>\n",
       "      <td>no</td>\n",
       "      <td>no</td>\n",
       "      <td>5</td>\n",
       "      <td>25200</td>\n",
       "      <td>no</td>\n",
       "    </tr>\n",
       "    <tr>\n",
       "      <th>...</th>\n",
       "      <td>...</td>\n",
       "      <td>...</td>\n",
       "      <td>...</td>\n",
       "      <td>...</td>\n",
       "      <td>...</td>\n",
       "      <td>...</td>\n",
       "      <td>...</td>\n",
       "      <td>...</td>\n",
       "      <td>...</td>\n",
       "      <td>...</td>\n",
       "    </tr>\n",
       "    <tr>\n",
       "      <th>3995</th>\n",
       "      <td>588809</td>\n",
       "      <td>sales</td>\n",
       "      <td>junior</td>\n",
       "      <td>medium</td>\n",
       "      <td>4</td>\n",
       "      <td>no</td>\n",
       "      <td>no</td>\n",
       "      <td>3</td>\n",
       "      <td>26400</td>\n",
       "      <td>no</td>\n",
       "    </tr>\n",
       "    <tr>\n",
       "      <th>3996</th>\n",
       "      <td>672059</td>\n",
       "      <td>sales</td>\n",
       "      <td>middle</td>\n",
       "      <td>high</td>\n",
       "      <td>9</td>\n",
       "      <td>no</td>\n",
       "      <td>no</td>\n",
       "      <td>4</td>\n",
       "      <td>52800</td>\n",
       "      <td>no</td>\n",
       "    </tr>\n",
       "    <tr>\n",
       "      <th>3997</th>\n",
       "      <td>536432</td>\n",
       "      <td>purchasing</td>\n",
       "      <td>junior</td>\n",
       "      <td>low</td>\n",
       "      <td>2</td>\n",
       "      <td>no</td>\n",
       "      <td>yes</td>\n",
       "      <td>4</td>\n",
       "      <td>12000</td>\n",
       "      <td>yes</td>\n",
       "    </tr>\n",
       "    <tr>\n",
       "      <th>3998</th>\n",
       "      <td>692133</td>\n",
       "      <td>purchasing</td>\n",
       "      <td>middle</td>\n",
       "      <td>medium</td>\n",
       "      <td>2</td>\n",
       "      <td>no</td>\n",
       "      <td>no</td>\n",
       "      <td>4</td>\n",
       "      <td>33600</td>\n",
       "      <td>no</td>\n",
       "    </tr>\n",
       "    <tr>\n",
       "      <th>3999</th>\n",
       "      <td>853842</td>\n",
       "      <td>sales</td>\n",
       "      <td>junior</td>\n",
       "      <td>medium</td>\n",
       "      <td>2</td>\n",
       "      <td>no</td>\n",
       "      <td>no</td>\n",
       "      <td>3</td>\n",
       "      <td>27600</td>\n",
       "      <td>yes</td>\n",
       "    </tr>\n",
       "  </tbody>\n",
       "</table>\n",
       "<p>4000 rows × 10 columns</p>\n",
       "</div>"
      ],
      "text/plain": [
       "          id        dept   level workload  employment_years last_year_promo  \\\n",
       "0     723290       sales  middle     high                 2              no   \n",
       "1     814010       sales  junior   medium                 2              no   \n",
       "2     155091  purchasing  middle   medium                 5              no   \n",
       "3     257132       sales  junior   medium                 2              no   \n",
       "4     910140   marketing  junior   medium                 2              no   \n",
       "...      ...         ...     ...      ...               ...             ...   \n",
       "3995  588809       sales  junior   medium                 4              no   \n",
       "3996  672059       sales  middle     high                 9              no   \n",
       "3997  536432  purchasing  junior      low                 2              no   \n",
       "3998  692133  purchasing  middle   medium                 2              no   \n",
       "3999  853842       sales  junior   medium                 2              no   \n",
       "\n",
       "     last_year_violations  supervisor_evaluation  salary quit  \n",
       "0                      no                      4   54000   no  \n",
       "1                      no                      4   27600   no  \n",
       "2                      no                      1   37200   no  \n",
       "3                     yes                      3   24000  yes  \n",
       "4                      no                      5   25200   no  \n",
       "...                   ...                    ...     ...  ...  \n",
       "3995                   no                      3   26400   no  \n",
       "3996                   no                      4   52800   no  \n",
       "3997                  yes                      4   12000  yes  \n",
       "3998                   no                      4   33600   no  \n",
       "3999                   no                      3   27600  yes  \n",
       "\n",
       "[4000 rows x 10 columns]"
      ]
     },
     "execution_count": 28,
     "metadata": {},
     "output_type": "execute_result"
    }
   ],
   "source": [
    "train_quit = pd.read_csv('/datasets/train_quit.csv')\n",
    "train_quit_column_names = train_quit.columns.tolist()\n",
    "for g in train_quit_column_names:\n",
    "    print('колличество пропусков в столбце -',g)\n",
    "    print(train_quit[g].isna().sum())\n",
    "    print('---------------')\n",
    "print(train_quit.info())\n",
    "train_quit"
   ]
  },
  {
   "cell_type": "code",
   "execution_count": 29,
   "id": "b41860c0",
   "metadata": {},
   "outputs": [
    {
     "name": "stdout",
     "output_type": "stream",
     "text": [
      "<class 'pandas.core.frame.DataFrame'>\n",
      "RangeIndex: 2000 entries, 0 to 1999\n",
      "Data columns (total 2 columns):\n",
      " #   Column  Non-Null Count  Dtype \n",
      "---  ------  --------------  ----- \n",
      " 0   id      2000 non-null   int64 \n",
      " 1   quit    2000 non-null   object\n",
      "dtypes: int64(1), object(1)\n",
      "memory usage: 31.4+ KB\n",
      "None\n"
     ]
    },
    {
     "data": {
      "text/html": [
       "<div>\n",
       "<style scoped>\n",
       "    .dataframe tbody tr th:only-of-type {\n",
       "        vertical-align: middle;\n",
       "    }\n",
       "\n",
       "    .dataframe tbody tr th {\n",
       "        vertical-align: top;\n",
       "    }\n",
       "\n",
       "    .dataframe thead th {\n",
       "        text-align: right;\n",
       "    }\n",
       "</style>\n",
       "<table border=\"1\" class=\"dataframe\">\n",
       "  <thead>\n",
       "    <tr style=\"text-align: right;\">\n",
       "      <th></th>\n",
       "      <th>id</th>\n",
       "      <th>quit</th>\n",
       "    </tr>\n",
       "  </thead>\n",
       "  <tbody>\n",
       "    <tr>\n",
       "      <th>0</th>\n",
       "      <td>999029</td>\n",
       "      <td>yes</td>\n",
       "    </tr>\n",
       "    <tr>\n",
       "      <th>1</th>\n",
       "      <td>372846</td>\n",
       "      <td>no</td>\n",
       "    </tr>\n",
       "    <tr>\n",
       "      <th>2</th>\n",
       "      <td>726767</td>\n",
       "      <td>no</td>\n",
       "    </tr>\n",
       "    <tr>\n",
       "      <th>3</th>\n",
       "      <td>490105</td>\n",
       "      <td>no</td>\n",
       "    </tr>\n",
       "    <tr>\n",
       "      <th>4</th>\n",
       "      <td>416898</td>\n",
       "      <td>yes</td>\n",
       "    </tr>\n",
       "    <tr>\n",
       "      <th>...</th>\n",
       "      <td>...</td>\n",
       "      <td>...</td>\n",
       "    </tr>\n",
       "    <tr>\n",
       "      <th>1995</th>\n",
       "      <td>836109</td>\n",
       "      <td>yes</td>\n",
       "    </tr>\n",
       "    <tr>\n",
       "      <th>1996</th>\n",
       "      <td>180999</td>\n",
       "      <td>yes</td>\n",
       "    </tr>\n",
       "    <tr>\n",
       "      <th>1997</th>\n",
       "      <td>746018</td>\n",
       "      <td>no</td>\n",
       "    </tr>\n",
       "    <tr>\n",
       "      <th>1998</th>\n",
       "      <td>247658</td>\n",
       "      <td>no</td>\n",
       "    </tr>\n",
       "    <tr>\n",
       "      <th>1999</th>\n",
       "      <td>460332</td>\n",
       "      <td>yes</td>\n",
       "    </tr>\n",
       "  </tbody>\n",
       "</table>\n",
       "<p>2000 rows × 2 columns</p>\n",
       "</div>"
      ],
      "text/plain": [
       "          id quit\n",
       "0     999029  yes\n",
       "1     372846   no\n",
       "2     726767   no\n",
       "3     490105   no\n",
       "4     416898  yes\n",
       "...      ...  ...\n",
       "1995  836109  yes\n",
       "1996  180999  yes\n",
       "1997  746018   no\n",
       "1998  247658   no\n",
       "1999  460332  yes\n",
       "\n",
       "[2000 rows x 2 columns]"
      ]
     },
     "execution_count": 29,
     "metadata": {},
     "output_type": "execute_result"
    }
   ],
   "source": [
    "test_target_quit = pd.read_csv('/datasets/test_target_quit.csv')\n",
    "print(test_target_quit.info())\n",
    "test_target_quit"
   ]
  },
  {
   "cell_type": "code",
   "execution_count": 30,
   "id": "6d9a7e93",
   "metadata": {},
   "outputs": [
    {
     "name": "stdout",
     "output_type": "stream",
     "text": [
      "id      0\n",
      "quit    0\n",
      "dtype: int64\n",
      "0\n"
     ]
    }
   ],
   "source": [
    "print(test_target_quit.isna().sum())\n",
    "print(test_target_quit.duplicated().sum())"
   ]
  },
  {
   "cell_type": "markdown",
   "id": "765dddf7",
   "metadata": {},
   "source": [
    "Данные загружены"
   ]
  },
  {
   "cell_type": "markdown",
   "id": "1f59f7fa",
   "metadata": {},
   "source": [
    "Пропуски и дубликаты не обнаружены."
   ]
  },
  {
   "cell_type": "markdown",
   "id": "468b170c",
   "metadata": {},
   "source": [
    "### Шаг 2. Исследовательский анализ данных\n",
    "Составим портрет \"уволившегося\" сотрудника, сравнив уровни зарплат и загруженности, и то в каком отделе больше увольнений.\n",
    "\n",
    "Также аналитики утверждают, что уровень удовлетворённости сотрудника работой в компании влияет на то, уволится ли сотрудник.\n",
    "Для проверки этого утверждения визуализируем и сравним распределения признака job_satisfaction_rate для ушедших и оставшихся сотрудников в тестовой выборке с обоими целевыми признаками."
   ]
  },
  {
   "cell_type": "markdown",
   "id": "609bed26",
   "metadata": {},
   "source": [
    "### Данные тренировочной выборки"
   ]
  },
  {
   "cell_type": "markdown",
   "id": "a20e03aa",
   "metadata": {},
   "source": [
    "Взглянем на новый признак"
   ]
  },
  {
   "cell_type": "code",
   "execution_count": 31,
   "id": "f0d11aec",
   "metadata": {},
   "outputs": [
    {
     "data": {
      "image/png": "[encoded data removed]",
      "text/plain": [
       "<Figure size 504x360 with 1 Axes>"
      ]
     },
     "metadata": {
      "needs_background": "light"
     },
     "output_type": "display_data"
    }
   ],
   "source": [
    "plt.figure(figsize=(7, 5))\n",
    "fig = sns.countplot(x ='quit', data = train_quit)\n",
    "fig.set_title('Увольнения')\n",
    "fig.set_xlabel('Уволены')\n",
    "fig.set_ylabel('кол-во сотрудников')\n",
    "plt.show()"
   ]
  },
  {
   "cell_type": "markdown",
   "id": "0daa5801",
   "metadata": {},
   "source": [
    "Суммарно Увольнений произошло почти как половина текущего штата."
   ]
  },
  {
   "cell_type": "markdown",
   "id": "569cf603",
   "metadata": {},
   "source": [
    "### Целевой признак тестовой выборки"
   ]
  },
  {
   "cell_type": "code",
   "execution_count": 32,
   "id": "6e2c2842",
   "metadata": {},
   "outputs": [
    {
     "data": {
      "image/png": "[encoded data removed]",
      "text/plain": [
       "<Figure size 504x360 with 1 Axes>"
      ]
     },
     "metadata": {
      "needs_background": "light"
     },
     "output_type": "display_data"
    }
   ],
   "source": [
    "plt.figure(figsize=(7, 5))\n",
    "fig = sns.countplot(x ='quit', data = test_target_quit)\n",
    "fig.set_title('Увольнения')\n",
    "fig.set_xlabel('Уволены')\n",
    "fig.set_ylabel('кол-во сотрудников')\n",
    "plt.show()"
   ]
  },
  {
   "cell_type": "markdown",
   "id": "b6722eac",
   "metadata": {},
   "source": [
    "В тестовых данных картина похожая."
   ]
  },
  {
   "cell_type": "markdown",
   "id": "9fd97a7b",
   "metadata": {},
   "source": [
    "### Портрет уволенного сотрудника \n",
    "Построим столбчатые диаграммы и сравним уровень увольнений."
   ]
  },
  {
   "cell_type": "code",
   "execution_count": 33,
   "id": "6b67fbf2",
   "metadata": {},
   "outputs": [
    {
     "data": {
      "text/html": [
       "<div>\n",
       "<style scoped>\n",
       "    .dataframe tbody tr th:only-of-type {\n",
       "        vertical-align: middle;\n",
       "    }\n",
       "\n",
       "    .dataframe tbody tr th {\n",
       "        vertical-align: top;\n",
       "    }\n",
       "\n",
       "    .dataframe thead th {\n",
       "        text-align: right;\n",
       "    }\n",
       "</style>\n",
       "<table border=\"1\" class=\"dataframe\">\n",
       "  <thead>\n",
       "    <tr style=\"text-align: right;\">\n",
       "      <th></th>\n",
       "      <th>dept</th>\n",
       "      <th>quit</th>\n",
       "      <th>id</th>\n",
       "    </tr>\n",
       "  </thead>\n",
       "  <tbody>\n",
       "    <tr>\n",
       "      <th>0</th>\n",
       "      <td>hr</td>\n",
       "      <td>no</td>\n",
       "      <td>348</td>\n",
       "    </tr>\n",
       "    <tr>\n",
       "      <th>1</th>\n",
       "      <td>hr</td>\n",
       "      <td>yes</td>\n",
       "      <td>116</td>\n",
       "    </tr>\n",
       "    <tr>\n",
       "      <th>2</th>\n",
       "      <td>marketing</td>\n",
       "      <td>no</td>\n",
       "      <td>419</td>\n",
       "    </tr>\n",
       "    <tr>\n",
       "      <th>3</th>\n",
       "      <td>marketing</td>\n",
       "      <td>yes</td>\n",
       "      <td>163</td>\n",
       "    </tr>\n",
       "    <tr>\n",
       "      <th>4</th>\n",
       "      <td>purchasing</td>\n",
       "      <td>no</td>\n",
       "      <td>422</td>\n",
       "    </tr>\n",
       "    <tr>\n",
       "      <th>5</th>\n",
       "      <td>purchasing</td>\n",
       "      <td>yes</td>\n",
       "      <td>166</td>\n",
       "    </tr>\n",
       "    <tr>\n",
       "      <th>6</th>\n",
       "      <td>sales</td>\n",
       "      <td>no</td>\n",
       "      <td>1031</td>\n",
       "    </tr>\n",
       "    <tr>\n",
       "      <th>7</th>\n",
       "      <td>sales</td>\n",
       "      <td>yes</td>\n",
       "      <td>407</td>\n",
       "    </tr>\n",
       "    <tr>\n",
       "      <th>8</th>\n",
       "      <td>technology</td>\n",
       "      <td>no</td>\n",
       "      <td>652</td>\n",
       "    </tr>\n",
       "    <tr>\n",
       "      <th>9</th>\n",
       "      <td>technology</td>\n",
       "      <td>yes</td>\n",
       "      <td>276</td>\n",
       "    </tr>\n",
       "  </tbody>\n",
       "</table>\n",
       "</div>"
      ],
      "text/plain": [
       "         dept quit    id\n",
       "0          hr   no   348\n",
       "1          hr  yes   116\n",
       "2   marketing   no   419\n",
       "3   marketing  yes   163\n",
       "4  purchasing   no   422\n",
       "5  purchasing  yes   166\n",
       "6       sales   no  1031\n",
       "7       sales  yes   407\n",
       "8  technology   no   652\n",
       "9  technology  yes   276"
      ]
     },
     "execution_count": 33,
     "metadata": {},
     "output_type": "execute_result"
    }
   ],
   "source": [
    "type9 = train_quit.groupby(['dept','quit']).count()\n",
    "type9 = type9['id'].reset_index()\n",
    "type9"
   ]
  },
  {
   "cell_type": "code",
   "execution_count": 34,
   "id": "ecb8c05f",
   "metadata": {},
   "outputs": [
    {
     "data": {
      "image/png": "[encoded data removed]",
      "text/plain": [
       "<Figure size 432x288 with 1 Axes>"
      ]
     },
     "metadata": {
      "needs_background": "light"
     },
     "output_type": "display_data"
    },
    {
     "data": {
      "image/png": "[encoded data removed]",
      "text/plain": [
       "<Figure size 432x288 with 1 Axes>"
      ]
     },
     "metadata": {
      "needs_background": "light"
     },
     "output_type": "display_data"
    },
    {
     "data": {
      "image/png": "[encoded data removed]",
      "text/plain": [
       "<Figure size 432x288 with 1 Axes>"
      ]
     },
     "metadata": {
      "needs_background": "light"
     },
     "output_type": "display_data"
    },
    {
     "data": {
      "image/png": "[encoded data removed]",
      "text/plain": [
       "<Figure size 432x288 with 1 Axes>"
      ]
     },
     "metadata": {
      "needs_background": "light"
     },
     "output_type": "display_data"
    },
    {
     "data": {
      "image/png": "[encoded data removed]",
      "text/plain": [
       "<Figure size 432x288 with 1 Axes>"
      ]
     },
     "metadata": {
      "needs_background": "light"
     },
     "output_type": "display_data"
    },
    {
     "data": {
      "image/png": "[encoded data removed]",
      "text/plain": [
       "<Figure size 432x288 with 1 Axes>"
      ]
     },
     "metadata": {
      "needs_background": "light"
     },
     "output_type": "display_data"
    },
    {
     "data": {
      "image/png": "[encoded data removed]",
      "text/plain": [
       "<Figure size 432x288 with 1 Axes>"
      ]
     },
     "metadata": {
      "needs_background": "light"
     },
     "output_type": "display_data"
    }
   ],
   "source": [
    "train_quit_columns = ['dept','level','workload','employment_years','last_year_promo','last_year_violations','supervisor_evaluation']\n",
    "\n",
    "for h in train_quit_columns:\n",
    "    type9 = train_quit.groupby([h,'quit']).count()\n",
    "    type9 = type9['id'].reset_index()\n",
    "    sns.barplot(x = h, y = 'id',hue = 'quit' ,data = type9)\n",
    "    plt.title(h)\n",
    "    plt.ylabel('Кол-во сотрудников')\n",
    "    plt.show()"
   ]
  },
  {
   "cell_type": "code",
   "execution_count": 35,
   "id": "dde0ad74",
   "metadata": {},
   "outputs": [
    {
     "data": {
      "image/png": "[encoded data removed]",
      "text/plain": [
       "<Figure size 432x288 with 1 Axes>"
      ]
     },
     "metadata": {
      "needs_background": "light"
     },
     "output_type": "display_data"
    },
    {
     "data": {
      "image/png": "[encoded data removed]",
      "text/plain": [
       "<Figure size 432x288 with 1 Axes>"
      ]
     },
     "metadata": {
      "needs_background": "light"
     },
     "output_type": "display_data"
    }
   ],
   "source": [
    "xx = train_quit.query('quit == \"yes\"')\n",
    "yy = train_quit.query('quit == \"no\"')\n",
    "fig = sns.kdeplot(xx.salary)\n",
    "fig.set_title('Зарплаты уволенных')\n",
    "fig.set_xlabel('Зарплата')\n",
    "fig.set_ylabel('кол-во сотрудников')\n",
    "plt.show()\n",
    "fig = sns.kdeplot(yy.salary)\n",
    "fig.set_title('Зарплаты не уволенных')\n",
    "fig.set_xlabel('Зарплата')\n",
    "fig.set_ylabel('кол-во сотрудников')\n",
    "plt.show()"
   ]
  },
  {
   "cell_type": "markdown",
   "id": "2bc90e2e",
   "metadata": {},
   "source": [
    "Самый высокий уровень увольнений в отделе технологий - это 0.42 и в отделе продаж это 0.39,  , очень много увольняется джунов, чаще увольняются сотрудники с низким уровнем нагрузки и проработавшие всего год, чаще увольняются сотрудники с оценкой от руководителя 3 и ниже и с зарплатой ниже 50 тысяч."
   ]
  },
  {
   "cell_type": "markdown",
   "id": "030265d0",
   "metadata": {},
   "source": [
    "### Проверка утверждения аналитиков"
   ]
  },
  {
   "cell_type": "code",
   "execution_count": 36,
   "id": "c1aa82b4",
   "metadata": {},
   "outputs": [],
   "source": [
    "test_target_quit_1 = test_target_quit\n",
    "test_target_quit_1['job_satisfaction_rate'] =  randomized_search.predict(X_test)\n",
    "train_quit['job_satisfaction_rate'] = randomized_search.predict(X_train)"
   ]
  },
  {
   "cell_type": "code",
   "execution_count": 37,
   "id": "983550cb",
   "metadata": {},
   "outputs": [],
   "source": [
    "test_target_quit_1['job_satisfaction_rate'] = test_target_quit_1['job_satisfaction_rate'].astype('float')"
   ]
  },
  {
   "cell_type": "code",
   "execution_count": 38,
   "id": "b70694d7",
   "metadata": {},
   "outputs": [
    {
     "data": {
      "image/png": "[encoded data removed]",
      "text/plain": [
       "<Figure size 432x288 with 1 Axes>"
      ]
     },
     "metadata": {
      "needs_background": "light"
     },
     "output_type": "display_data"
    },
    {
     "data": {
      "image/png": "[encoded data removed]",
      "text/plain": [
       "<Figure size 432x288 with 1 Axes>"
      ]
     },
     "metadata": {
      "needs_background": "light"
     },
     "output_type": "display_data"
    }
   ],
   "source": [
    "xx1 = test_target_quit_1.query('quit == \"yes\"')\n",
    "yy1 = test_target_quit_1.query('quit == \"no\"')\n",
    "fig = sns.kdeplot(xx1.job_satisfaction_rate)\n",
    "fig.set_title('Оценки уволенных')\n",
    "fig.set_xlabel('Оценка')\n",
    "fig.set_ylabel('кол-во сотрудников')\n",
    "plt.show()\n",
    "fig = sns.kdeplot(yy1.job_satisfaction_rate)\n",
    "fig.set_title('Оценки не уволенных')\n",
    "fig.set_xlabel('Оценка')\n",
    "fig.set_ylabel('кол-во сотрудников')\n",
    "plt.show()"
   ]
  },
  {
   "cell_type": "markdown",
   "id": "78d8a8a5",
   "metadata": {},
   "source": [
    "Если посмотреть на граффики плотности, то станет видно оценки уволенных и не уволенных сотрудников распределены одинаково, значит утверждение аналитиков возможно не верно."
   ]
  },
  {
   "cell_type": "markdown",
   "id": "a96bfbe1",
   "metadata": {},
   "source": [
    "### Шаг 4. Добавление нового входного признака\n",
    "Допустим, job_satisfaction_rate и quit действительно связаны и мы получили необходимое значение метрики в первой задаче. Тогда добавьте job_satisfaction_rate, предсказанный лучшей моделью первой задачи, к входным признакам второй задачи."
   ]
  },
  {
   "cell_type": "code",
   "execution_count": 39,
   "id": "f0f6a07f",
   "metadata": {},
   "outputs": [
    {
     "data": {
      "text/html": [
       "<div>\n",
       "<style scoped>\n",
       "    .dataframe tbody tr th:only-of-type {\n",
       "        vertical-align: middle;\n",
       "    }\n",
       "\n",
       "    .dataframe tbody tr th {\n",
       "        vertical-align: top;\n",
       "    }\n",
       "\n",
       "    .dataframe thead th {\n",
       "        text-align: right;\n",
       "    }\n",
       "</style>\n",
       "<table border=\"1\" class=\"dataframe\">\n",
       "  <thead>\n",
       "    <tr style=\"text-align: right;\">\n",
       "      <th></th>\n",
       "      <th>id</th>\n",
       "      <th>dept</th>\n",
       "      <th>level</th>\n",
       "      <th>workload</th>\n",
       "      <th>employment_years</th>\n",
       "      <th>last_year_promo</th>\n",
       "      <th>last_year_violations</th>\n",
       "      <th>supervisor_evaluation</th>\n",
       "      <th>salary</th>\n",
       "      <th>job_satisfaction_rate</th>\n",
       "    </tr>\n",
       "  </thead>\n",
       "  <tbody>\n",
       "    <tr>\n",
       "      <th>1172</th>\n",
       "      <td>100298</td>\n",
       "      <td>hr</td>\n",
       "      <td>junior</td>\n",
       "      <td>low</td>\n",
       "      <td>2</td>\n",
       "      <td>no</td>\n",
       "      <td>no</td>\n",
       "      <td>4</td>\n",
       "      <td>19200</td>\n",
       "      <td>0.820000</td>\n",
       "    </tr>\n",
       "    <tr>\n",
       "      <th>852</th>\n",
       "      <td>100480</td>\n",
       "      <td>marketing</td>\n",
       "      <td>junior</td>\n",
       "      <td>low</td>\n",
       "      <td>4</td>\n",
       "      <td>no</td>\n",
       "      <td>no</td>\n",
       "      <td>4</td>\n",
       "      <td>16800</td>\n",
       "      <td>0.850000</td>\n",
       "    </tr>\n",
       "    <tr>\n",
       "      <th>848</th>\n",
       "      <td>100503</td>\n",
       "      <td>purchasing</td>\n",
       "      <td>middle</td>\n",
       "      <td>high</td>\n",
       "      <td>5</td>\n",
       "      <td>no</td>\n",
       "      <td>no</td>\n",
       "      <td>4</td>\n",
       "      <td>55200</td>\n",
       "      <td>0.770000</td>\n",
       "    </tr>\n",
       "    <tr>\n",
       "      <th>524</th>\n",
       "      <td>100610</td>\n",
       "      <td>sales</td>\n",
       "      <td>middle</td>\n",
       "      <td>medium</td>\n",
       "      <td>5</td>\n",
       "      <td>no</td>\n",
       "      <td>no</td>\n",
       "      <td>4</td>\n",
       "      <td>43200</td>\n",
       "      <td>0.813333</td>\n",
       "    </tr>\n",
       "    <tr>\n",
       "      <th>476</th>\n",
       "      <td>100692</td>\n",
       "      <td>sales</td>\n",
       "      <td>middle</td>\n",
       "      <td>high</td>\n",
       "      <td>6</td>\n",
       "      <td>no</td>\n",
       "      <td>no</td>\n",
       "      <td>4</td>\n",
       "      <td>48000</td>\n",
       "      <td>0.697500</td>\n",
       "    </tr>\n",
       "    <tr>\n",
       "      <th>...</th>\n",
       "      <td>...</td>\n",
       "      <td>...</td>\n",
       "      <td>...</td>\n",
       "      <td>...</td>\n",
       "      <td>...</td>\n",
       "      <td>...</td>\n",
       "      <td>...</td>\n",
       "      <td>...</td>\n",
       "      <td>...</td>\n",
       "      <td>...</td>\n",
       "    </tr>\n",
       "    <tr>\n",
       "      <th>1925</th>\n",
       "      <td>997290</td>\n",
       "      <td>sales</td>\n",
       "      <td>sinior</td>\n",
       "      <td>medium</td>\n",
       "      <td>7</td>\n",
       "      <td>no</td>\n",
       "      <td>no</td>\n",
       "      <td>4</td>\n",
       "      <td>58800</td>\n",
       "      <td>0.790000</td>\n",
       "    </tr>\n",
       "    <tr>\n",
       "      <th>1886</th>\n",
       "      <td>998548</td>\n",
       "      <td>marketing</td>\n",
       "      <td>junior</td>\n",
       "      <td>medium</td>\n",
       "      <td>2</td>\n",
       "      <td>no</td>\n",
       "      <td>no</td>\n",
       "      <td>4</td>\n",
       "      <td>32400</td>\n",
       "      <td>0.790000</td>\n",
       "    </tr>\n",
       "    <tr>\n",
       "      <th>506</th>\n",
       "      <td>998762</td>\n",
       "      <td>technology</td>\n",
       "      <td>junior</td>\n",
       "      <td>low</td>\n",
       "      <td>3</td>\n",
       "      <td>no</td>\n",
       "      <td>no</td>\n",
       "      <td>3</td>\n",
       "      <td>22800</td>\n",
       "      <td>0.505000</td>\n",
       "    </tr>\n",
       "    <tr>\n",
       "      <th>1579</th>\n",
       "      <td>998900</td>\n",
       "      <td>marketing</td>\n",
       "      <td>middle</td>\n",
       "      <td>medium</td>\n",
       "      <td>7</td>\n",
       "      <td>no</td>\n",
       "      <td>no</td>\n",
       "      <td>3</td>\n",
       "      <td>45600</td>\n",
       "      <td>0.430000</td>\n",
       "    </tr>\n",
       "    <tr>\n",
       "      <th>1844</th>\n",
       "      <td>999029</td>\n",
       "      <td>technology</td>\n",
       "      <td>junior</td>\n",
       "      <td>medium</td>\n",
       "      <td>1</td>\n",
       "      <td>no</td>\n",
       "      <td>no</td>\n",
       "      <td>3</td>\n",
       "      <td>31200</td>\n",
       "      <td>0.335000</td>\n",
       "    </tr>\n",
       "  </tbody>\n",
       "</table>\n",
       "<p>2000 rows × 10 columns</p>\n",
       "</div>"
      ],
      "text/plain": [
       "          id        dept   level workload  employment_years last_year_promo  \\\n",
       "1172  100298          hr  junior      low                 2              no   \n",
       "852   100480   marketing  junior      low                 4              no   \n",
       "848   100503  purchasing  middle     high                 5              no   \n",
       "524   100610       sales  middle   medium                 5              no   \n",
       "476   100692       sales  middle     high                 6              no   \n",
       "...      ...         ...     ...      ...               ...             ...   \n",
       "1925  997290       sales  sinior   medium                 7              no   \n",
       "1886  998548   marketing  junior   medium                 2              no   \n",
       "506   998762  technology  junior      low                 3              no   \n",
       "1579  998900   marketing  middle   medium                 7              no   \n",
       "1844  999029  technology  junior   medium                 1              no   \n",
       "\n",
       "     last_year_violations  supervisor_evaluation  salary  \\\n",
       "1172                   no                      4   19200   \n",
       "852                    no                      4   16800   \n",
       "848                    no                      4   55200   \n",
       "524                    no                      4   43200   \n",
       "476                    no                      4   48000   \n",
       "...                   ...                    ...     ...   \n",
       "1925                   no                      4   58800   \n",
       "1886                   no                      4   32400   \n",
       "506                    no                      3   22800   \n",
       "1579                   no                      3   45600   \n",
       "1844                   no                      3   31200   \n",
       "\n",
       "      job_satisfaction_rate  \n",
       "1172               0.820000  \n",
       "852                0.850000  \n",
       "848                0.770000  \n",
       "524                0.813333  \n",
       "476                0.697500  \n",
       "...                     ...  \n",
       "1925               0.790000  \n",
       "1886               0.790000  \n",
       "506                0.505000  \n",
       "1579               0.430000  \n",
       "1844               0.335000  \n",
       "\n",
       "[2000 rows x 10 columns]"
      ]
     },
     "execution_count": 39,
     "metadata": {},
     "output_type": "execute_result"
    }
   ],
   "source": [
    "\n",
    "job_satisfaction_rate2 = randomized_search.predict(X_test)\n",
    "test_features['job_satisfaction_rate'] = job_satisfaction_rate2\n",
    "test_features"
   ]
  },
  {
   "cell_type": "code",
   "execution_count": 40,
   "id": "9a17d8ee",
   "metadata": {},
   "outputs": [
    {
     "data": {
      "text/html": [
       "<div>\n",
       "<style scoped>\n",
       "    .dataframe tbody tr th:only-of-type {\n",
       "        vertical-align: middle;\n",
       "    }\n",
       "\n",
       "    .dataframe tbody tr th {\n",
       "        vertical-align: top;\n",
       "    }\n",
       "\n",
       "    .dataframe thead th {\n",
       "        text-align: right;\n",
       "    }\n",
       "</style>\n",
       "<table border=\"1\" class=\"dataframe\">\n",
       "  <thead>\n",
       "    <tr style=\"text-align: right;\">\n",
       "      <th></th>\n",
       "      <th>id</th>\n",
       "      <th>dept</th>\n",
       "      <th>level</th>\n",
       "      <th>workload</th>\n",
       "      <th>employment_years</th>\n",
       "      <th>last_year_promo</th>\n",
       "      <th>last_year_violations</th>\n",
       "      <th>supervisor_evaluation</th>\n",
       "      <th>salary</th>\n",
       "      <th>quit</th>\n",
       "      <th>job_satisfaction_rate</th>\n",
       "    </tr>\n",
       "  </thead>\n",
       "  <tbody>\n",
       "    <tr>\n",
       "      <th>0</th>\n",
       "      <td>723290</td>\n",
       "      <td>sales</td>\n",
       "      <td>middle</td>\n",
       "      <td>high</td>\n",
       "      <td>2</td>\n",
       "      <td>no</td>\n",
       "      <td>no</td>\n",
       "      <td>4</td>\n",
       "      <td>54000</td>\n",
       "      <td>no</td>\n",
       "      <td>0.500000</td>\n",
       "    </tr>\n",
       "    <tr>\n",
       "      <th>1</th>\n",
       "      <td>814010</td>\n",
       "      <td>sales</td>\n",
       "      <td>junior</td>\n",
       "      <td>medium</td>\n",
       "      <td>2</td>\n",
       "      <td>no</td>\n",
       "      <td>no</td>\n",
       "      <td>4</td>\n",
       "      <td>27600</td>\n",
       "      <td>no</td>\n",
       "      <td>0.760000</td>\n",
       "    </tr>\n",
       "    <tr>\n",
       "      <th>2</th>\n",
       "      <td>155091</td>\n",
       "      <td>purchasing</td>\n",
       "      <td>middle</td>\n",
       "      <td>medium</td>\n",
       "      <td>5</td>\n",
       "      <td>no</td>\n",
       "      <td>no</td>\n",
       "      <td>1</td>\n",
       "      <td>37200</td>\n",
       "      <td>no</td>\n",
       "      <td>0.140000</td>\n",
       "    </tr>\n",
       "    <tr>\n",
       "      <th>3</th>\n",
       "      <td>257132</td>\n",
       "      <td>sales</td>\n",
       "      <td>junior</td>\n",
       "      <td>medium</td>\n",
       "      <td>2</td>\n",
       "      <td>no</td>\n",
       "      <td>yes</td>\n",
       "      <td>3</td>\n",
       "      <td>24000</td>\n",
       "      <td>yes</td>\n",
       "      <td>0.370000</td>\n",
       "    </tr>\n",
       "    <tr>\n",
       "      <th>4</th>\n",
       "      <td>910140</td>\n",
       "      <td>marketing</td>\n",
       "      <td>junior</td>\n",
       "      <td>medium</td>\n",
       "      <td>2</td>\n",
       "      <td>no</td>\n",
       "      <td>no</td>\n",
       "      <td>5</td>\n",
       "      <td>25200</td>\n",
       "      <td>no</td>\n",
       "      <td>0.176250</td>\n",
       "    </tr>\n",
       "    <tr>\n",
       "      <th>...</th>\n",
       "      <td>...</td>\n",
       "      <td>...</td>\n",
       "      <td>...</td>\n",
       "      <td>...</td>\n",
       "      <td>...</td>\n",
       "      <td>...</td>\n",
       "      <td>...</td>\n",
       "      <td>...</td>\n",
       "      <td>...</td>\n",
       "      <td>...</td>\n",
       "      <td>...</td>\n",
       "    </tr>\n",
       "    <tr>\n",
       "      <th>3995</th>\n",
       "      <td>588809</td>\n",
       "      <td>sales</td>\n",
       "      <td>junior</td>\n",
       "      <td>medium</td>\n",
       "      <td>4</td>\n",
       "      <td>no</td>\n",
       "      <td>no</td>\n",
       "      <td>3</td>\n",
       "      <td>26400</td>\n",
       "      <td>no</td>\n",
       "      <td>0.492500</td>\n",
       "    </tr>\n",
       "    <tr>\n",
       "      <th>3996</th>\n",
       "      <td>672059</td>\n",
       "      <td>sales</td>\n",
       "      <td>middle</td>\n",
       "      <td>high</td>\n",
       "      <td>9</td>\n",
       "      <td>no</td>\n",
       "      <td>no</td>\n",
       "      <td>4</td>\n",
       "      <td>52800</td>\n",
       "      <td>no</td>\n",
       "      <td>0.678571</td>\n",
       "    </tr>\n",
       "    <tr>\n",
       "      <th>3997</th>\n",
       "      <td>536432</td>\n",
       "      <td>purchasing</td>\n",
       "      <td>junior</td>\n",
       "      <td>low</td>\n",
       "      <td>2</td>\n",
       "      <td>no</td>\n",
       "      <td>yes</td>\n",
       "      <td>4</td>\n",
       "      <td>12000</td>\n",
       "      <td>yes</td>\n",
       "      <td>0.760000</td>\n",
       "    </tr>\n",
       "    <tr>\n",
       "      <th>3998</th>\n",
       "      <td>692133</td>\n",
       "      <td>purchasing</td>\n",
       "      <td>middle</td>\n",
       "      <td>medium</td>\n",
       "      <td>2</td>\n",
       "      <td>no</td>\n",
       "      <td>no</td>\n",
       "      <td>4</td>\n",
       "      <td>33600</td>\n",
       "      <td>no</td>\n",
       "      <td>0.516667</td>\n",
       "    </tr>\n",
       "    <tr>\n",
       "      <th>3999</th>\n",
       "      <td>853842</td>\n",
       "      <td>sales</td>\n",
       "      <td>junior</td>\n",
       "      <td>medium</td>\n",
       "      <td>2</td>\n",
       "      <td>no</td>\n",
       "      <td>no</td>\n",
       "      <td>3</td>\n",
       "      <td>27600</td>\n",
       "      <td>yes</td>\n",
       "      <td>0.175000</td>\n",
       "    </tr>\n",
       "  </tbody>\n",
       "</table>\n",
       "<p>4000 rows × 11 columns</p>\n",
       "</div>"
      ],
      "text/plain": [
       "          id        dept   level workload  employment_years last_year_promo  \\\n",
       "0     723290       sales  middle     high                 2              no   \n",
       "1     814010       sales  junior   medium                 2              no   \n",
       "2     155091  purchasing  middle   medium                 5              no   \n",
       "3     257132       sales  junior   medium                 2              no   \n",
       "4     910140   marketing  junior   medium                 2              no   \n",
       "...      ...         ...     ...      ...               ...             ...   \n",
       "3995  588809       sales  junior   medium                 4              no   \n",
       "3996  672059       sales  middle     high                 9              no   \n",
       "3997  536432  purchasing  junior      low                 2              no   \n",
       "3998  692133  purchasing  middle   medium                 2              no   \n",
       "3999  853842       sales  junior   medium                 2              no   \n",
       "\n",
       "     last_year_violations  supervisor_evaluation  salary quit  \\\n",
       "0                      no                      4   54000   no   \n",
       "1                      no                      4   27600   no   \n",
       "2                      no                      1   37200   no   \n",
       "3                     yes                      3   24000  yes   \n",
       "4                      no                      5   25200   no   \n",
       "...                   ...                    ...     ...  ...   \n",
       "3995                   no                      3   26400   no   \n",
       "3996                   no                      4   52800   no   \n",
       "3997                  yes                      4   12000  yes   \n",
       "3998                   no                      4   33600   no   \n",
       "3999                   no                      3   27600  yes   \n",
       "\n",
       "      job_satisfaction_rate  \n",
       "0                  0.500000  \n",
       "1                  0.760000  \n",
       "2                  0.140000  \n",
       "3                  0.370000  \n",
       "4                  0.176250  \n",
       "...                     ...  \n",
       "3995               0.492500  \n",
       "3996               0.678571  \n",
       "3997               0.760000  \n",
       "3998               0.516667  \n",
       "3999               0.175000  \n",
       "\n",
       "[4000 rows x 11 columns]"
      ]
     },
     "execution_count": 40,
     "metadata": {},
     "output_type": "execute_result"
    }
   ],
   "source": [
    "train_quit['job_satisfaction_rate'] = randomized_search.predict(X_train)\n",
    "train_quit"
   ]
  },
  {
   "cell_type": "markdown",
   "id": "0556afea",
   "metadata": {},
   "source": [
    "Новый входной признак добавлен."
   ]
  },
  {
   "cell_type": "markdown",
   "id": "36d5db20",
   "metadata": {},
   "source": [
    "### Шаг 5. Подготовка данных\n",
    "Подготовим данные, чтобы с ними могли работать модели мо.Для этого дополним уже существующзий пайплайн."
   ]
  },
  {
   "cell_type": "code",
   "execution_count": 41,
   "id": "9f658512",
   "metadata": {},
   "outputs": [],
   "source": [
    "num_columns1  = ['salary','job_satisfaction_rate']"
   ]
  },
  {
   "cell_type": "code",
   "execution_count": 42,
   "id": "6703ef40",
   "metadata": {
    "scrolled": true
   },
   "outputs": [
    {
     "data": {
      "text/html": [
       "<div>\n",
       "<style scoped>\n",
       "    .dataframe tbody tr th:only-of-type {\n",
       "        vertical-align: middle;\n",
       "    }\n",
       "\n",
       "    .dataframe tbody tr th {\n",
       "        vertical-align: top;\n",
       "    }\n",
       "\n",
       "    .dataframe thead th {\n",
       "        text-align: right;\n",
       "    }\n",
       "</style>\n",
       "<table border=\"1\" class=\"dataframe\">\n",
       "  <thead>\n",
       "    <tr style=\"text-align: right;\">\n",
       "      <th></th>\n",
       "      <th>0</th>\n",
       "      <th>1</th>\n",
       "      <th>2</th>\n",
       "      <th>3</th>\n",
       "      <th>4</th>\n",
       "      <th>5</th>\n",
       "      <th>6</th>\n",
       "      <th>7</th>\n",
       "      <th>8</th>\n",
       "      <th>9</th>\n",
       "      <th>10</th>\n",
       "      <th>11</th>\n",
       "      <th>12</th>\n",
       "      <th>13</th>\n",
       "    </tr>\n",
       "  </thead>\n",
       "  <tbody>\n",
       "    <tr>\n",
       "      <th>0</th>\n",
       "      <td>0.0</td>\n",
       "      <td>0.0</td>\n",
       "      <td>1.0</td>\n",
       "      <td>0.0</td>\n",
       "      <td>0.0</td>\n",
       "      <td>0.0</td>\n",
       "      <td>0.5</td>\n",
       "      <td>0.484536</td>\n",
       "      <td>1.0</td>\n",
       "      <td>0.0</td>\n",
       "      <td>723290</td>\n",
       "      <td>2</td>\n",
       "      <td>4</td>\n",
       "      <td>no</td>\n",
       "    </tr>\n",
       "    <tr>\n",
       "      <th>1</th>\n",
       "      <td>0.0</td>\n",
       "      <td>0.0</td>\n",
       "      <td>1.0</td>\n",
       "      <td>0.0</td>\n",
       "      <td>0.0</td>\n",
       "      <td>0.0</td>\n",
       "      <td>0.185714</td>\n",
       "      <td>0.752577</td>\n",
       "      <td>0.0</td>\n",
       "      <td>2.0</td>\n",
       "      <td>814010</td>\n",
       "      <td>2</td>\n",
       "      <td>4</td>\n",
       "      <td>no</td>\n",
       "    </tr>\n",
       "    <tr>\n",
       "      <th>2</th>\n",
       "      <td>0.0</td>\n",
       "      <td>1.0</td>\n",
       "      <td>0.0</td>\n",
       "      <td>0.0</td>\n",
       "      <td>0.0</td>\n",
       "      <td>0.0</td>\n",
       "      <td>0.3</td>\n",
       "      <td>0.113402</td>\n",
       "      <td>1.0</td>\n",
       "      <td>2.0</td>\n",
       "      <td>155091</td>\n",
       "      <td>5</td>\n",
       "      <td>1</td>\n",
       "      <td>no</td>\n",
       "    </tr>\n",
       "    <tr>\n",
       "      <th>3</th>\n",
       "      <td>0.0</td>\n",
       "      <td>0.0</td>\n",
       "      <td>1.0</td>\n",
       "      <td>0.0</td>\n",
       "      <td>0.0</td>\n",
       "      <td>1.0</td>\n",
       "      <td>0.142857</td>\n",
       "      <td>0.350515</td>\n",
       "      <td>0.0</td>\n",
       "      <td>2.0</td>\n",
       "      <td>257132</td>\n",
       "      <td>2</td>\n",
       "      <td>3</td>\n",
       "      <td>yes</td>\n",
       "    </tr>\n",
       "    <tr>\n",
       "      <th>4</th>\n",
       "      <td>1.0</td>\n",
       "      <td>0.0</td>\n",
       "      <td>0.0</td>\n",
       "      <td>0.0</td>\n",
       "      <td>0.0</td>\n",
       "      <td>0.0</td>\n",
       "      <td>0.157143</td>\n",
       "      <td>0.150773</td>\n",
       "      <td>0.0</td>\n",
       "      <td>2.0</td>\n",
       "      <td>910140</td>\n",
       "      <td>2</td>\n",
       "      <td>5</td>\n",
       "      <td>no</td>\n",
       "    </tr>\n",
       "    <tr>\n",
       "      <th>...</th>\n",
       "      <td>...</td>\n",
       "      <td>...</td>\n",
       "      <td>...</td>\n",
       "      <td>...</td>\n",
       "      <td>...</td>\n",
       "      <td>...</td>\n",
       "      <td>...</td>\n",
       "      <td>...</td>\n",
       "      <td>...</td>\n",
       "      <td>...</td>\n",
       "      <td>...</td>\n",
       "      <td>...</td>\n",
       "      <td>...</td>\n",
       "      <td>...</td>\n",
       "    </tr>\n",
       "    <tr>\n",
       "      <th>3995</th>\n",
       "      <td>0.0</td>\n",
       "      <td>0.0</td>\n",
       "      <td>1.0</td>\n",
       "      <td>0.0</td>\n",
       "      <td>0.0</td>\n",
       "      <td>0.0</td>\n",
       "      <td>0.171429</td>\n",
       "      <td>0.476804</td>\n",
       "      <td>0.0</td>\n",
       "      <td>2.0</td>\n",
       "      <td>588809</td>\n",
       "      <td>4</td>\n",
       "      <td>3</td>\n",
       "      <td>no</td>\n",
       "    </tr>\n",
       "    <tr>\n",
       "      <th>3996</th>\n",
       "      <td>0.0</td>\n",
       "      <td>0.0</td>\n",
       "      <td>1.0</td>\n",
       "      <td>0.0</td>\n",
       "      <td>0.0</td>\n",
       "      <td>0.0</td>\n",
       "      <td>0.485714</td>\n",
       "      <td>0.66863</td>\n",
       "      <td>1.0</td>\n",
       "      <td>0.0</td>\n",
       "      <td>672059</td>\n",
       "      <td>9</td>\n",
       "      <td>4</td>\n",
       "      <td>no</td>\n",
       "    </tr>\n",
       "    <tr>\n",
       "      <th>3997</th>\n",
       "      <td>0.0</td>\n",
       "      <td>1.0</td>\n",
       "      <td>0.0</td>\n",
       "      <td>0.0</td>\n",
       "      <td>0.0</td>\n",
       "      <td>1.0</td>\n",
       "      <td>0.0</td>\n",
       "      <td>0.752577</td>\n",
       "      <td>0.0</td>\n",
       "      <td>1.0</td>\n",
       "      <td>536432</td>\n",
       "      <td>2</td>\n",
       "      <td>4</td>\n",
       "      <td>yes</td>\n",
       "    </tr>\n",
       "    <tr>\n",
       "      <th>3998</th>\n",
       "      <td>0.0</td>\n",
       "      <td>1.0</td>\n",
       "      <td>0.0</td>\n",
       "      <td>0.0</td>\n",
       "      <td>0.0</td>\n",
       "      <td>0.0</td>\n",
       "      <td>0.257143</td>\n",
       "      <td>0.501718</td>\n",
       "      <td>1.0</td>\n",
       "      <td>2.0</td>\n",
       "      <td>692133</td>\n",
       "      <td>2</td>\n",
       "      <td>4</td>\n",
       "      <td>no</td>\n",
       "    </tr>\n",
       "    <tr>\n",
       "      <th>3999</th>\n",
       "      <td>0.0</td>\n",
       "      <td>0.0</td>\n",
       "      <td>1.0</td>\n",
       "      <td>0.0</td>\n",
       "      <td>0.0</td>\n",
       "      <td>0.0</td>\n",
       "      <td>0.185714</td>\n",
       "      <td>0.149485</td>\n",
       "      <td>0.0</td>\n",
       "      <td>2.0</td>\n",
       "      <td>853842</td>\n",
       "      <td>2</td>\n",
       "      <td>3</td>\n",
       "      <td>yes</td>\n",
       "    </tr>\n",
       "  </tbody>\n",
       "</table>\n",
       "<p>4000 rows × 14 columns</p>\n",
       "</div>"
      ],
      "text/plain": [
       "       0    1    2    3    4    5         6         7    8    9       10 11  \\\n",
       "0     0.0  0.0  1.0  0.0  0.0  0.0       0.5  0.484536  1.0  0.0  723290  2   \n",
       "1     0.0  0.0  1.0  0.0  0.0  0.0  0.185714  0.752577  0.0  2.0  814010  2   \n",
       "2     0.0  1.0  0.0  0.0  0.0  0.0       0.3  0.113402  1.0  2.0  155091  5   \n",
       "3     0.0  0.0  1.0  0.0  0.0  1.0  0.142857  0.350515  0.0  2.0  257132  2   \n",
       "4     1.0  0.0  0.0  0.0  0.0  0.0  0.157143  0.150773  0.0  2.0  910140  2   \n",
       "...   ...  ...  ...  ...  ...  ...       ...       ...  ...  ...     ... ..   \n",
       "3995  0.0  0.0  1.0  0.0  0.0  0.0  0.171429  0.476804  0.0  2.0  588809  4   \n",
       "3996  0.0  0.0  1.0  0.0  0.0  0.0  0.485714   0.66863  1.0  0.0  672059  9   \n",
       "3997  0.0  1.0  0.0  0.0  0.0  1.0       0.0  0.752577  0.0  1.0  536432  2   \n",
       "3998  0.0  1.0  0.0  0.0  0.0  0.0  0.257143  0.501718  1.0  2.0  692133  2   \n",
       "3999  0.0  0.0  1.0  0.0  0.0  0.0  0.185714  0.149485  0.0  2.0  853842  2   \n",
       "\n",
       "     12   13  \n",
       "0     4   no  \n",
       "1     4   no  \n",
       "2     1   no  \n",
       "3     3  yes  \n",
       "4     5   no  \n",
       "...  ..  ...  \n",
       "3995  3   no  \n",
       "3996  4   no  \n",
       "3997  4  yes  \n",
       "3998  4   no  \n",
       "3999  3  yes  \n",
       "\n",
       "[4000 rows x 14 columns]"
      ]
     },
     "execution_count": 42,
     "metadata": {},
     "output_type": "execute_result"
    }
   ],
   "source": [
    "ohe_columns\n",
    "_4th_pipeline = ColumnTransformer(\n",
    "    [('ohe', ohe_pipe, ohe_columns),\n",
    "     ('num', num_pipe, num_columns1),\n",
    "     ('ord',ord_pipe,ord_columns)\n",
    "     \n",
    "    ], \n",
    "    remainder='passthrough'\n",
    ")\n",
    "_5th_pipeline = Pipeline(\n",
    "    [('1',_4th_pipeline),\n",
    "     ('frame', DataframeFunctionTransformer(framer1))\n",
    "    ])\n",
    "\n",
    "vv = _5th_pipeline.fit_transform(train_quit)\n",
    "vv"
   ]
  },
  {
   "cell_type": "markdown",
   "id": "040fef30",
   "metadata": {},
   "source": [
    "Данные преобразованы"
   ]
  },
  {
   "cell_type": "markdown",
   "id": "8325a95f",
   "metadata": {},
   "source": [
    "### Шаг 6. Обучение моделей\n",
    "Обучим модели в пайплайне и найдём лучшую при помощи gridsearch "
   ]
  },
  {
   "cell_type": "code",
   "execution_count": 43,
   "id": "8ad7cba8",
   "metadata": {},
   "outputs": [],
   "source": [
    "pipe_special1= Pipeline([\n",
    "    ('preprocessor', _4th_pipeline),\n",
    "    ('models', DecisionTreeClassifier(random_state=RANDOM_STATE))\n",
    "    \n",
    "])"
   ]
  },
  {
   "cell_type": "code",
   "execution_count": 44,
   "id": "cde6f2fc",
   "metadata": {},
   "outputs": [],
   "source": [
    "X_train1 = train_quit.drop(['id','quit'],axis = 1)\n",
    "X_test1 = test_features\n",
    "y_train1 =  train_quit['quit']\n",
    "y_test1 = test_target_quit['quit']\n",
    "\n",
    "label_encoder = LabelEncoder()\n",
    "label_encoder.fit(y_train1)\n",
    "\n",
    "y_train1 = label_encoder.transform(y_train1)\n",
    "y_test1 = label_encoder.transform(y_test1) "
   ]
  },
  {
   "cell_type": "code",
   "execution_count": 45,
   "id": "a6654668",
   "metadata": {},
   "outputs": [],
   "source": [
    "param_grid1 = [\n",
    "    {\n",
    "        'models': [DecisionTreeClassifier(random_state=RANDOM_STATE)],\n",
    "        'models__max_depth': range(6,20),\n",
    "        'models__max_features': range(1,20),\n",
    "        'preprocessor__ohe': [OneHotEncoder(), OrdinalEncoder()],\n",
    "        'preprocessor__num': [StandardScaler(), MinMaxScaler(), 'passthrough']\n",
    "           \n",
    "    },\n",
    "    \n",
    "    {\n",
    "        'models': [KNeighborsClassifier()],\n",
    "        'models__n_neighbors': range(1,20),\n",
    "        'preprocessor__ohe': [OneHotEncoder(), OrdinalEncoder()],\n",
    "        'preprocessor__num': [StandardScaler(), MinMaxScaler(), 'passthrough'],  \n",
    "    },\n",
    "\n",
    "    {\n",
    "        'models': [LogisticRegression(\n",
    "            random_state=RANDOM_STATE, \n",
    "            solver='liblinear', \n",
    "            penalty='l1'\n",
    "        )],\n",
    "        'models__C': range(1,20),\n",
    "        'preprocessor__ohe': [OrdinalEncoder(),OneHotEncoder()],\n",
    "        'preprocessor__num': [StandardScaler(), MinMaxScaler(), 'passthrough'],  \n",
    "    },\n",
    "     {\n",
    "        'models': [SVC(probability=True,random_state = RANDOM_STATE)],\n",
    "        'models__C': range(1,20),\n",
    "        'preprocessor__ohe': [OneHotEncoder(), OrdinalEncoder()],\n",
    "        'preprocessor__num': [StandardScaler(), MinMaxScaler(), 'passthrough'],  \n",
    "    }\n",
    "    \n",
    "]"
   ]
  },
  {
   "cell_type": "code",
   "execution_count": 47,
   "id": "243e2882",
   "metadata": {},
   "outputs": [
    {
     "name": "stdout",
     "output_type": "stream",
     "text": [
      "Лучшая модель и её параметры:\n",
      "\n",
      " Pipeline(steps=[('preprocessor',\n",
      "                 ColumnTransformer(remainder='passthrough',\n",
      "                                   transformers=[('ohe', OrdinalEncoder(),\n",
      "                                                  ['dept', 'last_year_promo',\n",
      "                                                   'last_year_violations']),\n",
      "                                                 ('num', MinMaxScaler(),\n",
      "                                                  ['salary',\n",
      "                                                   'job_satisfaction_rate']),\n",
      "                                                 ('ord',\n",
      "                                                  Pipeline(steps=[('ord',\n",
      "                                                                   OrdinalEncoder(handle_unknown='use_encoded_value',\n",
      "                                                                                  unknown_value=1337))]),\n",
      "                                                  ['level', 'workload'])])),\n",
      "                ('models',\n",
      "                 LogisticRegression(C=3, penalty='l1', random_state=42,\n",
      "                                    solver='liblinear'))])\n",
      "Метрика лучшей модели на кросс валидации: 0.9179689197474176\n"
     ]
    }
   ],
   "source": [
    "randomized_search1 = RandomizedSearchCV(\n",
    "    pipe_special1, \n",
    "    param_grid1, \n",
    "    cv=5,\n",
    "    scoring='roc_auc',\n",
    "    random_state=42,\n",
    "    n_jobs=-1\n",
    ")\n",
    "randomized_search1.fit(X_train1, y_train1)\n",
    "grid_result = randomized_search1.fit(X_train1, y_train1)\n",
    "\n",
    "print('Лучшая модель и её параметры:\\n\\n', randomized_search1.best_estimator_)\n",
    "print ('Метрика лучшей модели на кросс валидации:', randomized_search1.best_score_)\n"
   ]
  },
  {
   "cell_type": "markdown",
   "id": "76997c36",
   "metadata": {},
   "source": [
    "Лучшей моделью оказалась логистическая регрессия с метрикой roc auc = 0.918"
   ]
  },
  {
   "cell_type": "markdown",
   "id": "749bed9f",
   "metadata": {},
   "source": [
    "### Шаг 7. Выводы"
   ]
  },
  {
   "cell_type": "markdown",
   "id": "b5577ca2",
   "metadata": {},
   "source": [
    "С нашей задачей лучше всего справилась модель логистической регрессии, ведь задача заключалась в бинарной классификации и эта модель хорошо подходит для данных без выбросов, собственно такие данные у нас и были."
   ]
  },
  {
   "cell_type": "markdown",
   "id": "f2329781",
   "metadata": {},
   "source": [
    "## Общий вывод"
   ]
  },
  {
   "cell_type": "markdown",
   "id": "15775922",
   "metadata": {},
   "source": [
    "Передо мной стояла задача разработать решение которое уменьшит отток сотрудников из компании, а именно обучить две модели машинного обучения для предсказания оценки сотрудником условий труда и того уйдёт ли сотрудник, и выявить портрет уволенного сотрудника, чтобы дать компании советы по удержанию кадров.\n",
    "\n",
    "Решение подзадачи №1:\n",
    "\n",
    "Для начала я загрузил данные и проверил их на пропуски с дубликатами, в датасетах оказалось 1-2 пропуска в столбцах level и dept,чтобы заполнить их я составил пайплайнв котором в дальнейшем и прописал всю преподготовку для данных.\n",
    "\n",
    "На этапе первичного исследовательского анализа датасетов, я выявил следующие особенности коллектива в компании:\n",
    "\n",
    "Больше всего сотрудников работает в отжеде по продажам, на втором месте по кол-ву сотрудников отдел технологии, меньше всего сотрудников в hr отделе.\n",
    "\n",
    "В компании больше всего джунов и миддлов, меньше всего сеньёров.\n",
    "\n",
    "БОльшая часть сотрудников загружена средне, меньше сотрудников загружены слабо и меньше всего в компании сотрудников с высокой нагрузкой.\n",
    "\n",
    "За последний год повышей в компании почти не было.\n",
    "\n",
    "За последний год очень небольшая часть сотрудников совершала нарушения трудового договора.\n",
    "\n",
    "БОльшая часть сотрудников оценена их руководителями на 4 и 3, меньше всего сотрудников с оценкой 1.\n",
    "\n",
    "БОльшая часть сотрудников работает в компании год либо 2.\n",
    "\n",
    "БОльшая часть сотрудников получает зарплату в районе 30 тыс. в месяц, очень небольшая часть зарплат больше 60 тысяч.\n",
    "\n",
    "В основном сотрудники оценивают качесвто труда в 0.7\n",
    "\n",
    "\n",
    "После этого я дополнил ранее написанный пайплайн, добавив в него шаги по преобразованию категориальных признаков и шаг по масштабированию колличественных признаков.\n",
    "\n",
    "Далее я обучил две модели МО - Дерево и Линейную регрессию, и выбрал из них лучшую при помощи метрики SMAPE то есть «симметричное среднее абсолютное процентное отклонение», для этого я имплиминтировал в поиск по сетке собственную метрику инициализированную через make scorer, и после этого лучшей моделью оказалось Дерево с метрикой равной -15.25, она лучше справилась с задачей регрессии, ведь видимо в данных есть не прямые корреляции между признаками и из-за этого линейная регрессия справилась хуже.\n",
    "\n",
    "Решение подзадачи №2:\n",
    "\n",
    "Я также загрузил данные с новым целевым признаком quit, в новы датасетах ни оказалось пропусков и дубликатов по этому этапа предоработки не было.\n",
    "\n",
    "Дальше я занялся исследовательским анализом для того чтобы выявить портрет уволенного сотрудника, для этого я сравнил кол-во увольнений в разных отделах и увольнения сотрудников разным размером зарплаты и с разной загрузкой и т.д.\n",
    "\n",
    "Портрет получился такой:\n",
    "\n",
    "Это сотрудник из отдела технологий, с уровнем знаний джуниор, с низким уровнем загрузки, который проработал год и меньше, с оценкой от руководителя 3 и ниже и зарплатой ниже 50 тысяч.\n",
    "\n",
    "Также аналитики утверждали что оценка сотрудником уролвня труда на прямую зависит на то уйдёт ли он из компании или нет, я првоерил эту гипотезу сравнив кол-во увольнений с разными оценками труда и оказалось что аналитики по большей части правы, ведь если взглянуть на увольнения сотрудников, которые ставили оценку труда выше 0.6, в таком случае зависиммость действительно прямая, но если посмотреть на уровнения сотрудников с оценкой 0.6 и ниже, то уровень увольнений будет примерно одинаковый. \n",
    "\n",
    "Следующим шагом я добавил в тестовые данные параметр оценки труда сотрудником из результатов предссказания модели которую ранее обучил.\n",
    "\n",
    "После этого при помощи уже написанного пайплайна закодировал данные для того чтобы модели могли с ними работать. и обучил 4 модели МО: Дерево, Логистическую регрессию, Knn и SVC. Дальше я при помощи поиска по сетке подобрал лучшую модель с лучшими параметрами руководствуясь метрикой roc-auc, ведь она комплексно оценивает полноту и точность предсказанных значений.\n",
    "\n",
    "Лучшей моделью оказалась Логистическая регрессия с метрикрой равной 0.918, лучше всего справилась именна она потому что задача заключалась в бинарной классификации и эта модель хорошо подходит для данных без выбросов, такие данные у нас и были.\n",
    "\n",
    "Компании я бы дал следующие реккомендации, сконцентрироваться на удержание сотрудника в течении первых 2х лет его работы, грамотнее распределить нагрузку между сотрудниками, и повысить качетво труда особеннол в отделе технологии, и паралелльно с распределением нагрузки конечно иначе распледелять бюджет на зарплату сотрудников.\n",
    "\n"
   ]
  }
 ],
 "metadata": {
  "ExecuteTimeLog": [
   {
    "duration": 7776,
    "start_time": "2025-01-01T23:08:26.171Z"
   },
   {
    "duration": 2376,
    "start_time": "2025-01-01T23:08:39.007Z"
   },
   {
    "duration": 119,
    "start_time": "2025-01-01T23:10:55.985Z"
   },
   {
    "duration": 62,
    "start_time": "2025-01-01T23:15:19.449Z"
   },
   {
    "duration": 4,
    "start_time": "2025-01-01T23:19:03.618Z"
   },
   {
    "duration": 1636,
    "start_time": "2025-01-01T23:26:06.778Z"
   },
   {
    "duration": 56,
    "start_time": "2025-01-01T23:27:08.855Z"
   },
   {
    "duration": 5,
    "start_time": "2025-01-01T23:32:37.150Z"
   },
   {
    "duration": 95,
    "start_time": "2025-01-01T23:34:11.216Z"
   },
   {
    "duration": 10,
    "start_time": "2025-01-01T23:34:16.262Z"
   },
   {
    "duration": 47,
    "start_time": "2025-01-01T23:35:21.336Z"
   },
   {
    "duration": 3,
    "start_time": "2025-01-01T23:51:45.108Z"
   },
   {
    "duration": 532,
    "start_time": "2025-01-01T23:59:14.413Z"
   },
   {
    "duration": 5490,
    "start_time": "2025-01-02T00:01:27.318Z"
   },
   {
    "duration": 5545,
    "start_time": "2025-01-02T00:01:54.387Z"
   },
   {
    "duration": 1148,
    "start_time": "2025-01-02T00:02:17.379Z"
   },
   {
    "duration": 1191,
    "start_time": "2025-01-02T00:12:32.227Z"
   },
   {
    "duration": 1250,
    "start_time": "2025-01-02T00:12:40.630Z"
   },
   {
    "duration": 1082,
    "start_time": "2025-01-02T00:13:15.050Z"
   },
   {
    "duration": 115,
    "start_time": "2025-01-02T00:18:15.838Z"
   },
   {
    "duration": 77,
    "start_time": "2025-01-02T00:18:43.629Z"
   },
   {
    "duration": 107,
    "start_time": "2025-01-02T00:18:49.050Z"
   },
   {
    "duration": 4,
    "start_time": "2025-01-02T00:37:44.870Z"
   },
   {
    "duration": 1205,
    "start_time": "2025-01-02T00:40:50.359Z"
   },
   {
    "duration": 16,
    "start_time": "2025-01-02T00:45:04.342Z"
   },
   {
    "duration": 6,
    "start_time": "2025-01-02T00:45:12.556Z"
   },
   {
    "duration": 1077,
    "start_time": "2025-01-02T00:46:21.492Z"
   },
   {
    "duration": 4814,
    "start_time": "2025-01-02T00:46:28.826Z"
   },
   {
    "duration": 1888,
    "start_time": "2025-01-02T00:46:33.643Z"
   },
   {
    "duration": 70,
    "start_time": "2025-01-02T00:46:35.533Z"
   },
   {
    "duration": 5,
    "start_time": "2025-01-02T00:46:35.605Z"
   },
   {
    "duration": 96,
    "start_time": "2025-01-02T00:46:35.612Z"
   },
   {
    "duration": 5,
    "start_time": "2025-01-02T00:46:35.709Z"
   },
   {
    "duration": 66,
    "start_time": "2025-01-02T00:46:35.715Z"
   },
   {
    "duration": 8,
    "start_time": "2025-01-02T00:46:35.783Z"
   },
   {
    "duration": 1133,
    "start_time": "2025-01-02T00:46:35.793Z"
   },
   {
    "duration": 230,
    "start_time": "2025-01-02T00:46:36.928Z"
   },
   {
    "duration": 1056,
    "start_time": "2025-01-02T00:46:37.160Z"
   },
   {
    "duration": 54,
    "start_time": "2025-01-02T00:47:07.711Z"
   },
   {
    "duration": 6,
    "start_time": "2025-01-02T00:47:15.317Z"
   },
   {
    "duration": 141,
    "start_time": "2025-01-02T00:48:22.061Z"
   },
   {
    "duration": 4816,
    "start_time": "2025-01-02T00:51:03.937Z"
   },
   {
    "duration": 2071,
    "start_time": "2025-01-02T00:51:08.755Z"
   },
   {
    "duration": 69,
    "start_time": "2025-01-02T00:51:10.827Z"
   },
   {
    "duration": 4,
    "start_time": "2025-01-02T00:51:10.898Z"
   },
   {
    "duration": 55,
    "start_time": "2025-01-02T00:51:10.904Z"
   },
   {
    "duration": 5,
    "start_time": "2025-01-02T00:51:10.960Z"
   },
   {
    "duration": 61,
    "start_time": "2025-01-02T00:51:10.967Z"
   },
   {
    "duration": 138,
    "start_time": "2025-01-02T00:51:11.030Z"
   },
   {
    "duration": 0,
    "start_time": "2025-01-02T00:51:11.170Z"
   },
   {
    "duration": 0,
    "start_time": "2025-01-02T00:51:11.171Z"
   },
   {
    "duration": 0,
    "start_time": "2025-01-02T00:51:11.172Z"
   },
   {
    "duration": 14,
    "start_time": "2025-01-02T00:51:42.594Z"
   },
   {
    "duration": 4801,
    "start_time": "2025-01-02T00:51:50.405Z"
   },
   {
    "duration": 1944,
    "start_time": "2025-01-02T00:51:55.209Z"
   },
   {
    "duration": 69,
    "start_time": "2025-01-02T00:51:57.154Z"
   },
   {
    "duration": 4,
    "start_time": "2025-01-02T00:51:57.225Z"
   },
   {
    "duration": 60,
    "start_time": "2025-01-02T00:51:57.231Z"
   },
   {
    "duration": 6,
    "start_time": "2025-01-02T00:51:57.293Z"
   },
   {
    "duration": 58,
    "start_time": "2025-01-02T00:51:57.300Z"
   },
   {
    "duration": 134,
    "start_time": "2025-01-02T00:51:57.360Z"
   },
   {
    "duration": 0,
    "start_time": "2025-01-02T00:51:57.496Z"
   },
   {
    "duration": 0,
    "start_time": "2025-01-02T00:51:57.497Z"
   },
   {
    "duration": 0,
    "start_time": "2025-01-02T00:51:57.498Z"
   },
   {
    "duration": 7,
    "start_time": "2025-01-02T00:52:27.984Z"
   },
   {
    "duration": 1089,
    "start_time": "2025-01-02T00:52:31.879Z"
   },
   {
    "duration": 1147,
    "start_time": "2025-01-02T00:52:49.026Z"
   },
   {
    "duration": 14,
    "start_time": "2025-01-02T00:53:27.506Z"
   },
   {
    "duration": 99,
    "start_time": "2025-01-02T00:53:39.337Z"
   },
   {
    "duration": 1567,
    "start_time": "2025-01-02T00:53:43.367Z"
   },
   {
    "duration": 15,
    "start_time": "2025-01-02T00:53:54.511Z"
   },
   {
    "duration": 6,
    "start_time": "2025-01-02T00:53:59.951Z"
   },
   {
    "duration": 6,
    "start_time": "2025-01-02T00:54:09.108Z"
   },
   {
    "duration": 110,
    "start_time": "2025-01-02T00:54:17.677Z"
   },
   {
    "duration": 1187,
    "start_time": "2025-01-02T00:54:20.594Z"
   },
   {
    "duration": 5,
    "start_time": "2025-01-02T00:54:26.745Z"
   },
   {
    "duration": 5,
    "start_time": "2025-01-02T00:54:41.150Z"
   },
   {
    "duration": 13,
    "start_time": "2025-01-02T00:55:58.920Z"
   },
   {
    "duration": 8,
    "start_time": "2025-01-02T00:58:42.054Z"
   },
   {
    "duration": 5,
    "start_time": "2025-01-02T00:58:56.242Z"
   },
   {
    "duration": 1008,
    "start_time": "2025-01-02T00:58:58.792Z"
   },
   {
    "duration": 8,
    "start_time": "2025-01-02T01:01:41.611Z"
   },
   {
    "duration": 1150,
    "start_time": "2025-01-02T01:01:48.041Z"
   },
   {
    "duration": 7383,
    "start_time": "2025-01-02T20:39:06.767Z"
   },
   {
    "duration": 2092,
    "start_time": "2025-01-02T20:39:14.153Z"
   },
   {
    "duration": 124,
    "start_time": "2025-01-02T20:39:16.247Z"
   },
   {
    "duration": 4,
    "start_time": "2025-01-02T20:39:16.373Z"
   },
   {
    "duration": 107,
    "start_time": "2025-01-02T20:39:16.379Z"
   },
   {
    "duration": 4,
    "start_time": "2025-01-02T20:39:16.488Z"
   },
   {
    "duration": 102,
    "start_time": "2025-01-02T20:39:16.493Z"
   },
   {
    "duration": 9,
    "start_time": "2025-01-02T20:39:16.596Z"
   },
   {
    "duration": 1101,
    "start_time": "2025-01-02T20:39:16.606Z"
   },
   {
    "duration": 229,
    "start_time": "2025-01-02T20:39:17.709Z"
   },
   {
    "duration": 1032,
    "start_time": "2025-01-02T20:39:17.940Z"
   },
   {
    "duration": 4739,
    "start_time": "2025-01-02T20:39:23.604Z"
   },
   {
    "duration": 1858,
    "start_time": "2025-01-02T20:39:28.346Z"
   },
   {
    "duration": 76,
    "start_time": "2025-01-02T20:39:30.205Z"
   },
   {
    "duration": 4,
    "start_time": "2025-01-02T20:39:30.283Z"
   },
   {
    "duration": 59,
    "start_time": "2025-01-02T20:39:30.290Z"
   },
   {
    "duration": 4,
    "start_time": "2025-01-02T20:39:30.351Z"
   },
   {
    "duration": 57,
    "start_time": "2025-01-02T20:39:30.357Z"
   },
   {
    "duration": 146,
    "start_time": "2025-01-02T20:39:30.416Z"
   },
   {
    "duration": 0,
    "start_time": "2025-01-02T20:39:30.563Z"
   },
   {
    "duration": 0,
    "start_time": "2025-01-02T20:39:30.565Z"
   },
   {
    "duration": 0,
    "start_time": "2025-01-02T20:39:30.566Z"
   },
   {
    "duration": 22,
    "start_time": "2025-01-02T20:39:54.106Z"
   },
   {
    "duration": 108,
    "start_time": "2025-01-02T20:40:36.843Z"
   },
   {
    "duration": 3,
    "start_time": "2025-01-02T21:03:38.759Z"
   },
   {
    "duration": 17,
    "start_time": "2025-01-02T21:04:06.166Z"
   },
   {
    "duration": 5,
    "start_time": "2025-01-02T21:04:39.534Z"
   },
   {
    "duration": 21,
    "start_time": "2025-01-02T21:05:59.130Z"
   },
   {
    "duration": 17,
    "start_time": "2025-01-02T21:06:09.275Z"
   },
   {
    "duration": 11,
    "start_time": "2025-01-02T21:10:32.213Z"
   },
   {
    "duration": 22,
    "start_time": "2025-01-02T21:22:19.388Z"
   },
   {
    "duration": 12,
    "start_time": "2025-01-02T21:22:44.410Z"
   },
   {
    "duration": 14,
    "start_time": "2025-01-02T21:23:22.685Z"
   },
   {
    "duration": 13,
    "start_time": "2025-01-02T21:23:29.690Z"
   },
   {
    "duration": 16,
    "start_time": "2025-01-02T21:23:33.945Z"
   },
   {
    "duration": 15,
    "start_time": "2025-01-02T21:24:29.900Z"
   },
   {
    "duration": 25,
    "start_time": "2025-01-02T21:24:35.942Z"
   },
   {
    "duration": 24,
    "start_time": "2025-01-02T21:24:52.665Z"
   },
   {
    "duration": 23,
    "start_time": "2025-01-02T21:27:08.106Z"
   },
   {
    "duration": 14,
    "start_time": "2025-01-02T21:30:41.794Z"
   },
   {
    "duration": 25,
    "start_time": "2025-01-02T21:30:53.882Z"
   },
   {
    "duration": 24,
    "start_time": "2025-01-02T21:33:26.290Z"
   },
   {
    "duration": 21,
    "start_time": "2025-01-02T21:33:31.647Z"
   },
   {
    "duration": 31,
    "start_time": "2025-01-02T21:33:59.325Z"
   },
   {
    "duration": 4899,
    "start_time": "2025-01-02T21:34:23.129Z"
   },
   {
    "duration": 1931,
    "start_time": "2025-01-02T21:34:28.030Z"
   },
   {
    "duration": 70,
    "start_time": "2025-01-02T21:34:29.964Z"
   },
   {
    "duration": 18,
    "start_time": "2025-01-02T21:34:30.036Z"
   },
   {
    "duration": 109,
    "start_time": "2025-01-02T21:34:30.056Z"
   },
   {
    "duration": 4,
    "start_time": "2025-01-02T21:34:30.167Z"
   },
   {
    "duration": 80,
    "start_time": "2025-01-02T21:34:30.173Z"
   },
   {
    "duration": 37,
    "start_time": "2025-01-02T21:34:30.254Z"
   },
   {
    "duration": 1120,
    "start_time": "2025-01-02T21:34:30.293Z"
   },
   {
    "duration": 244,
    "start_time": "2025-01-02T21:34:31.414Z"
   },
   {
    "duration": 1101,
    "start_time": "2025-01-02T21:34:31.659Z"
   },
   {
    "duration": 65,
    "start_time": "2025-01-02T21:35:21.031Z"
   },
   {
    "duration": 61,
    "start_time": "2025-01-02T21:35:35.769Z"
   },
   {
    "duration": 145,
    "start_time": "2025-01-02T21:37:15.312Z"
   },
   {
    "duration": 21,
    "start_time": "2025-01-02T21:38:13.610Z"
   },
   {
    "duration": 20,
    "start_time": "2025-01-02T21:38:44.970Z"
   },
   {
    "duration": 14,
    "start_time": "2025-01-02T21:39:59.098Z"
   },
   {
    "duration": 20,
    "start_time": "2025-01-02T21:42:20.023Z"
   },
   {
    "duration": 5,
    "start_time": "2025-01-02T21:42:54.928Z"
   },
   {
    "duration": 10,
    "start_time": "2025-01-02T21:44:39.781Z"
   },
   {
    "duration": 6,
    "start_time": "2025-01-02T21:44:47.791Z"
   },
   {
    "duration": 25,
    "start_time": "2025-01-02T21:50:59.965Z"
   },
   {
    "duration": 25,
    "start_time": "2025-01-02T21:51:40.482Z"
   },
   {
    "duration": 24,
    "start_time": "2025-01-02T21:53:14.457Z"
   },
   {
    "duration": 9,
    "start_time": "2025-01-02T21:53:43.494Z"
   },
   {
    "duration": 17,
    "start_time": "2025-01-02T21:54:33.168Z"
   },
   {
    "duration": 32,
    "start_time": "2025-01-02T21:55:01.007Z"
   },
   {
    "duration": 5,
    "start_time": "2025-01-02T21:55:02.327Z"
   },
   {
    "duration": 1222,
    "start_time": "2025-01-02T21:55:09.664Z"
   },
   {
    "duration": 117,
    "start_time": "2025-01-02T21:55:10.943Z"
   },
   {
    "duration": 1050,
    "start_time": "2025-01-02T21:55:12.840Z"
   },
   {
    "duration": 4,
    "start_time": "2025-01-02T22:09:06.447Z"
   },
   {
    "duration": 4,
    "start_time": "2025-01-02T22:10:15.035Z"
   },
   {
    "duration": 93,
    "start_time": "2025-01-02T22:10:56.931Z"
   },
   {
    "duration": 4,
    "start_time": "2025-01-02T22:16:09.355Z"
   },
   {
    "duration": 4,
    "start_time": "2025-01-02T22:17:30.210Z"
   },
   {
    "duration": 29,
    "start_time": "2025-01-02T22:18:21.923Z"
   },
   {
    "duration": 45,
    "start_time": "2025-01-02T22:19:08.384Z"
   },
   {
    "duration": 4,
    "start_time": "2025-01-02T22:19:18.008Z"
   },
   {
    "duration": 48,
    "start_time": "2025-01-02T22:19:42.143Z"
   },
   {
    "duration": 4,
    "start_time": "2025-01-02T22:19:43.893Z"
   },
   {
    "duration": 58,
    "start_time": "2025-01-02T22:21:42.255Z"
   },
   {
    "duration": 12,
    "start_time": "2025-01-02T22:33:03.418Z"
   },
   {
    "duration": 19,
    "start_time": "2025-01-02T22:33:22.995Z"
   },
   {
    "duration": 17,
    "start_time": "2025-01-02T22:33:33.067Z"
   },
   {
    "duration": 8,
    "start_time": "2025-01-02T22:33:44.667Z"
   },
   {
    "duration": 15,
    "start_time": "2025-01-02T22:33:47.195Z"
   },
   {
    "duration": 4,
    "start_time": "2025-01-02T22:36:31.305Z"
   },
   {
    "duration": 14,
    "start_time": "2025-01-02T22:36:32.585Z"
   },
   {
    "duration": 9,
    "start_time": "2025-01-02T22:36:51.994Z"
   },
   {
    "duration": 5,
    "start_time": "2025-01-02T22:36:53.523Z"
   },
   {
    "duration": 10124,
    "start_time": "2025-01-02T22:36:56.921Z"
   },
   {
    "duration": 14,
    "start_time": "2025-01-02T22:37:57.076Z"
   },
   {
    "duration": 9,
    "start_time": "2025-01-02T22:38:15.520Z"
   },
   {
    "duration": 5,
    "start_time": "2025-01-02T22:38:16.768Z"
   },
   {
    "duration": 48,
    "start_time": "2025-01-02T22:39:20.083Z"
   },
   {
    "duration": 4,
    "start_time": "2025-01-02T22:39:28.558Z"
   },
   {
    "duration": 25,
    "start_time": "2025-01-02T22:40:32.832Z"
   },
   {
    "duration": 28,
    "start_time": "2025-01-02T22:40:41.496Z"
   },
   {
    "duration": 49,
    "start_time": "2025-01-02T22:40:47.858Z"
   },
   {
    "duration": 71,
    "start_time": "2025-01-02T22:41:09.455Z"
   },
   {
    "duration": 15,
    "start_time": "2025-01-02T22:42:42.460Z"
   },
   {
    "duration": 22,
    "start_time": "2025-01-02T22:47:59.695Z"
   },
   {
    "duration": 16,
    "start_time": "2025-01-02T22:51:51.887Z"
   },
   {
    "duration": 6,
    "start_time": "2025-01-02T22:52:21.938Z"
   },
   {
    "duration": 9972,
    "start_time": "2025-01-02T22:52:27.112Z"
   },
   {
    "duration": 1373,
    "start_time": "2025-01-02T22:53:02.218Z"
   },
   {
    "duration": 7,
    "start_time": "2025-01-02T22:53:30.932Z"
   },
   {
    "duration": 68,
    "start_time": "2025-01-02T22:54:29.163Z"
   },
   {
    "duration": 4,
    "start_time": "2025-01-02T22:54:31.147Z"
   },
   {
    "duration": 14,
    "start_time": "2025-01-02T22:54:31.794Z"
   },
   {
    "duration": 10,
    "start_time": "2025-01-02T22:54:32.324Z"
   },
   {
    "duration": 9799,
    "start_time": "2025-01-02T22:54:33.618Z"
   },
   {
    "duration": 7,
    "start_time": "2025-01-02T22:54:51.335Z"
   },
   {
    "duration": 9710,
    "start_time": "2025-01-02T22:54:52.665Z"
   },
   {
    "duration": 16,
    "start_time": "2025-01-02T22:55:23.988Z"
   },
   {
    "duration": 7,
    "start_time": "2025-01-02T22:55:54.380Z"
   },
   {
    "duration": 4,
    "start_time": "2025-01-02T22:55:57.609Z"
   },
   {
    "duration": 8,
    "start_time": "2025-01-02T22:55:58.136Z"
   },
   {
    "duration": 6,
    "start_time": "2025-01-02T22:56:00.312Z"
   },
   {
    "duration": 9511,
    "start_time": "2025-01-02T22:56:01.489Z"
   },
   {
    "duration": 4,
    "start_time": "2025-01-02T22:56:11.167Z"
   },
   {
    "duration": 15,
    "start_time": "2025-01-02T22:56:19.214Z"
   },
   {
    "duration": 6,
    "start_time": "2025-01-02T22:56:46.230Z"
   },
   {
    "duration": 10195,
    "start_time": "2025-01-02T22:56:48.093Z"
   },
   {
    "duration": 9278,
    "start_time": "2025-01-02T22:57:17.641Z"
   },
   {
    "duration": 47,
    "start_time": "2025-01-02T22:58:47.337Z"
   },
   {
    "duration": 69,
    "start_time": "2025-01-02T22:59:49.391Z"
   },
   {
    "duration": 4,
    "start_time": "2025-01-02T23:00:51.489Z"
   },
   {
    "duration": 6,
    "start_time": "2025-01-02T23:00:53.895Z"
   },
   {
    "duration": 66,
    "start_time": "2025-01-02T23:01:07.421Z"
   },
   {
    "duration": 4,
    "start_time": "2025-01-02T23:01:11.617Z"
   },
   {
    "duration": 8,
    "start_time": "2025-01-02T23:01:12.062Z"
   },
   {
    "duration": 10453,
    "start_time": "2025-01-02T23:01:12.865Z"
   },
   {
    "duration": 11537,
    "start_time": "2025-01-02T23:02:44.269Z"
   },
   {
    "duration": 15,
    "start_time": "2025-01-02T23:03:00.299Z"
   },
   {
    "duration": 66,
    "start_time": "2025-01-02T23:03:09.739Z"
   },
   {
    "duration": 3,
    "start_time": "2025-01-02T23:03:39.185Z"
   },
   {
    "duration": 2066,
    "start_time": "2025-01-02T23:03:58.175Z"
   },
   {
    "duration": 7,
    "start_time": "2025-01-02T23:05:13.126Z"
   },
   {
    "duration": 1442,
    "start_time": "2025-01-02T23:05:53.107Z"
   },
   {
    "duration": 78,
    "start_time": "2025-01-02T23:08:16.407Z"
   },
   {
    "duration": 5,
    "start_time": "2025-01-02T23:08:20.762Z"
   },
   {
    "duration": 6,
    "start_time": "2025-01-02T23:09:07.182Z"
   },
   {
    "duration": 1353,
    "start_time": "2025-01-02T23:09:07.810Z"
   },
   {
    "duration": 10682,
    "start_time": "2025-01-02T23:09:10.118Z"
   },
   {
    "duration": 55,
    "start_time": "2025-01-02T23:10:20.927Z"
   },
   {
    "duration": 6,
    "start_time": "2025-01-02T23:12:57.193Z"
   },
   {
    "duration": 13,
    "start_time": "2025-01-02T23:13:03.900Z"
   },
   {
    "duration": 71,
    "start_time": "2025-01-02T23:13:09.070Z"
   },
   {
    "duration": 6,
    "start_time": "2025-01-02T23:13:37.851Z"
   },
   {
    "duration": 69,
    "start_time": "2025-01-02T23:14:08.187Z"
   },
   {
    "duration": 1409,
    "start_time": "2025-01-02T23:14:24.111Z"
   },
   {
    "duration": 10294,
    "start_time": "2025-01-02T23:15:09.093Z"
   },
   {
    "duration": 4842,
    "start_time": "2025-01-02T23:18:12.541Z"
   },
   {
    "duration": 1884,
    "start_time": "2025-01-02T23:18:17.385Z"
   },
   {
    "duration": 67,
    "start_time": "2025-01-02T23:18:19.270Z"
   },
   {
    "duration": 5,
    "start_time": "2025-01-02T23:18:19.339Z"
   },
   {
    "duration": 51,
    "start_time": "2025-01-02T23:18:19.345Z"
   },
   {
    "duration": 4,
    "start_time": "2025-01-02T23:18:19.397Z"
   },
   {
    "duration": 39,
    "start_time": "2025-01-02T23:18:19.403Z"
   },
   {
    "duration": 150,
    "start_time": "2025-01-02T23:18:19.444Z"
   },
   {
    "duration": 0,
    "start_time": "2025-01-02T23:18:19.596Z"
   },
   {
    "duration": 0,
    "start_time": "2025-01-02T23:18:19.597Z"
   },
   {
    "duration": 0,
    "start_time": "2025-01-02T23:18:19.598Z"
   },
   {
    "duration": 0,
    "start_time": "2025-01-02T23:18:19.599Z"
   },
   {
    "duration": 0,
    "start_time": "2025-01-02T23:18:19.601Z"
   },
   {
    "duration": 0,
    "start_time": "2025-01-02T23:18:19.602Z"
   },
   {
    "duration": 0,
    "start_time": "2025-01-02T23:18:19.603Z"
   },
   {
    "duration": 0,
    "start_time": "2025-01-02T23:18:19.604Z"
   },
   {
    "duration": 31,
    "start_time": "2025-01-02T23:18:45.150Z"
   },
   {
    "duration": 1067,
    "start_time": "2025-01-02T23:18:47.916Z"
   },
   {
    "duration": 125,
    "start_time": "2025-01-02T23:18:48.985Z"
   },
   {
    "duration": 1169,
    "start_time": "2025-01-02T23:18:50.827Z"
   },
   {
    "duration": 67,
    "start_time": "2025-01-02T23:18:53.465Z"
   },
   {
    "duration": 4,
    "start_time": "2025-01-02T23:18:55.563Z"
   },
   {
    "duration": 6,
    "start_time": "2025-01-02T23:18:56.210Z"
   },
   {
    "duration": 1476,
    "start_time": "2025-01-02T23:18:57.757Z"
   },
   {
    "duration": 60,
    "start_time": "2025-01-02T23:18:59.277Z"
   },
   {
    "duration": 14,
    "start_time": "2025-01-02T23:29:45.100Z"
   },
   {
    "duration": 62,
    "start_time": "2025-01-02T23:30:08.372Z"
   },
   {
    "duration": 1504,
    "start_time": "2025-01-02T23:30:14.764Z"
   },
   {
    "duration": 62,
    "start_time": "2025-01-02T23:30:35.257Z"
   },
   {
    "duration": 4,
    "start_time": "2025-01-02T23:30:42.240Z"
   },
   {
    "duration": 6,
    "start_time": "2025-01-02T23:30:42.836Z"
   },
   {
    "duration": 1414,
    "start_time": "2025-01-02T23:30:43.824Z"
   },
   {
    "duration": 4802,
    "start_time": "2025-01-02T23:30:50.577Z"
   },
   {
    "duration": 1841,
    "start_time": "2025-01-02T23:30:55.381Z"
   },
   {
    "duration": 66,
    "start_time": "2025-01-02T23:30:57.226Z"
   },
   {
    "duration": 4,
    "start_time": "2025-01-02T23:30:57.294Z"
   },
   {
    "duration": 46,
    "start_time": "2025-01-02T23:30:57.300Z"
   },
   {
    "duration": 5,
    "start_time": "2025-01-02T23:30:57.348Z"
   },
   {
    "duration": 36,
    "start_time": "2025-01-02T23:30:57.355Z"
   },
   {
    "duration": 37,
    "start_time": "2025-01-02T23:30:57.393Z"
   },
   {
    "duration": 1068,
    "start_time": "2025-01-02T23:30:57.432Z"
   },
   {
    "duration": 235,
    "start_time": "2025-01-02T23:30:58.502Z"
   },
   {
    "duration": 1028,
    "start_time": "2025-01-02T23:30:58.739Z"
   },
   {
    "duration": 81,
    "start_time": "2025-01-02T23:30:59.768Z"
   },
   {
    "duration": 4,
    "start_time": "2025-01-02T23:30:59.851Z"
   },
   {
    "duration": 8,
    "start_time": "2025-01-02T23:30:59.856Z"
   },
   {
    "duration": 1533,
    "start_time": "2025-01-02T23:30:59.865Z"
   },
   {
    "duration": 1,
    "start_time": "2025-01-02T23:31:01.400Z"
   },
   {
    "duration": 1375,
    "start_time": "2025-01-02T23:33:12.654Z"
   },
   {
    "duration": 64,
    "start_time": "2025-01-02T23:33:31.264Z"
   },
   {
    "duration": 4,
    "start_time": "2025-01-02T23:33:38.906Z"
   },
   {
    "duration": 7,
    "start_time": "2025-01-02T23:33:39.956Z"
   },
   {
    "duration": 4,
    "start_time": "2025-01-02T23:33:50.063Z"
   },
   {
    "duration": 1511,
    "start_time": "2025-01-02T23:33:54.998Z"
   },
   {
    "duration": 7552,
    "start_time": "2025-01-03T09:58:38.860Z"
   },
   {
    "duration": 2074,
    "start_time": "2025-01-03T09:58:46.415Z"
   },
   {
    "duration": 122,
    "start_time": "2025-01-03T09:58:48.491Z"
   },
   {
    "duration": 6,
    "start_time": "2025-01-03T09:58:48.615Z"
   },
   {
    "duration": 89,
    "start_time": "2025-01-03T09:58:48.623Z"
   },
   {
    "duration": 5,
    "start_time": "2025-01-03T09:58:48.714Z"
   },
   {
    "duration": 103,
    "start_time": "2025-01-03T09:58:48.720Z"
   },
   {
    "duration": 32,
    "start_time": "2025-01-03T09:58:48.824Z"
   },
   {
    "duration": 1158,
    "start_time": "2025-01-03T09:58:48.858Z"
   },
   {
    "duration": 235,
    "start_time": "2025-01-03T09:58:50.018Z"
   },
   {
    "duration": 1110,
    "start_time": "2025-01-03T09:58:50.255Z"
   },
   {
    "duration": 67,
    "start_time": "2025-01-03T09:58:51.366Z"
   },
   {
    "duration": 4,
    "start_time": "2025-01-03T09:58:51.434Z"
   },
   {
    "duration": 7,
    "start_time": "2025-01-03T09:58:51.440Z"
   },
   {
    "duration": 1587,
    "start_time": "2025-01-03T09:58:51.470Z"
   },
   {
    "duration": 0,
    "start_time": "2025-01-03T09:58:53.058Z"
   },
   {
    "duration": 1328,
    "start_time": "2025-01-03T09:59:23.376Z"
   },
   {
    "duration": 9,
    "start_time": "2025-01-03T10:01:34.180Z"
   },
   {
    "duration": 1510,
    "start_time": "2025-01-03T10:01:35.938Z"
   },
   {
    "duration": 4,
    "start_time": "2025-01-03T10:02:24.239Z"
   },
   {
    "duration": 5058,
    "start_time": "2025-01-03T10:02:50.313Z"
   },
   {
    "duration": 1971,
    "start_time": "2025-01-03T10:02:55.374Z"
   },
   {
    "duration": 67,
    "start_time": "2025-01-03T10:02:57.347Z"
   },
   {
    "duration": 98,
    "start_time": "2025-01-03T10:02:57.416Z"
   },
   {
    "duration": 43,
    "start_time": "2025-01-03T10:02:57.515Z"
   },
   {
    "duration": 4,
    "start_time": "2025-01-03T10:02:57.560Z"
   },
   {
    "duration": 40,
    "start_time": "2025-01-03T10:02:57.565Z"
   },
   {
    "duration": 30,
    "start_time": "2025-01-03T10:02:57.607Z"
   },
   {
    "duration": 1119,
    "start_time": "2025-01-03T10:02:57.639Z"
   },
   {
    "duration": 228,
    "start_time": "2025-01-03T10:02:58.761Z"
   },
   {
    "duration": 1099,
    "start_time": "2025-01-03T10:02:58.991Z"
   },
   {
    "duration": 78,
    "start_time": "2025-01-03T10:03:00.092Z"
   },
   {
    "duration": 122,
    "start_time": "2025-01-03T10:03:00.172Z"
   },
   {
    "duration": 82,
    "start_time": "2025-01-03T10:03:00.296Z"
   },
   {
    "duration": 129,
    "start_time": "2025-01-03T10:03:00.380Z"
   },
   {
    "duration": 230,
    "start_time": "2025-01-03T10:03:00.511Z"
   },
   {
    "duration": 61,
    "start_time": "2025-01-03T10:03:15.677Z"
   },
   {
    "duration": 46,
    "start_time": "2025-01-03T10:05:43.133Z"
   },
   {
    "duration": 4,
    "start_time": "2025-01-03T10:05:48.411Z"
   },
   {
    "duration": 10,
    "start_time": "2025-01-03T10:05:48.850Z"
   },
   {
    "duration": 47,
    "start_time": "2025-01-03T10:05:49.708Z"
   },
   {
    "duration": 47,
    "start_time": "2025-01-03T10:06:00.724Z"
   },
   {
    "duration": 67,
    "start_time": "2025-01-03T10:06:04.163Z"
   },
   {
    "duration": 28,
    "start_time": "2025-01-03T10:06:38.860Z"
   },
   {
    "duration": 4,
    "start_time": "2025-01-03T10:06:45.940Z"
   },
   {
    "duration": 10,
    "start_time": "2025-01-03T10:06:46.340Z"
   },
   {
    "duration": 70,
    "start_time": "2025-01-03T10:06:46.967Z"
   },
   {
    "duration": 47,
    "start_time": "2025-01-03T10:06:56.586Z"
   },
   {
    "duration": 62,
    "start_time": "2025-01-03T10:07:03.851Z"
   },
   {
    "duration": 51,
    "start_time": "2025-01-03T10:08:30.836Z"
   },
   {
    "duration": 4,
    "start_time": "2025-01-03T10:08:34.657Z"
   },
   {
    "duration": 10,
    "start_time": "2025-01-03T10:08:35.292Z"
   },
   {
    "duration": 83,
    "start_time": "2025-01-03T10:08:35.898Z"
   },
   {
    "duration": 52,
    "start_time": "2025-01-03T10:08:44.185Z"
   },
   {
    "duration": 54,
    "start_time": "2025-01-03T10:09:48.613Z"
   },
   {
    "duration": 5071,
    "start_time": "2025-01-03T10:10:53.728Z"
   },
   {
    "duration": 1914,
    "start_time": "2025-01-03T10:10:58.802Z"
   },
   {
    "duration": 69,
    "start_time": "2025-01-03T10:11:00.718Z"
   },
   {
    "duration": 4,
    "start_time": "2025-01-03T10:11:00.789Z"
   },
   {
    "duration": 71,
    "start_time": "2025-01-03T10:11:00.795Z"
   },
   {
    "duration": 4,
    "start_time": "2025-01-03T10:11:00.868Z"
   },
   {
    "duration": 59,
    "start_time": "2025-01-03T10:11:00.874Z"
   },
   {
    "duration": 32,
    "start_time": "2025-01-03T10:11:00.935Z"
   },
   {
    "duration": 1134,
    "start_time": "2025-01-03T10:11:00.969Z"
   },
   {
    "duration": 238,
    "start_time": "2025-01-03T10:11:02.105Z"
   },
   {
    "duration": 1095,
    "start_time": "2025-01-03T10:11:02.344Z"
   },
   {
    "duration": 60,
    "start_time": "2025-01-03T10:11:03.441Z"
   },
   {
    "duration": 70,
    "start_time": "2025-01-03T10:11:03.502Z"
   },
   {
    "duration": 15,
    "start_time": "2025-01-03T10:11:03.574Z"
   },
   {
    "duration": 9,
    "start_time": "2025-01-03T10:11:03.591Z"
   },
   {
    "duration": 208,
    "start_time": "2025-01-03T10:11:03.601Z"
   },
   {
    "duration": 7,
    "start_time": "2025-01-03T10:11:58.561Z"
   },
   {
    "duration": 3,
    "start_time": "2025-01-03T10:12:01.165Z"
   },
   {
    "duration": 54,
    "start_time": "2025-01-03T10:12:01.730Z"
   },
   {
    "duration": 52,
    "start_time": "2025-01-03T10:12:43.242Z"
   },
   {
    "duration": 52,
    "start_time": "2025-01-03T10:12:59.154Z"
   },
   {
    "duration": 54,
    "start_time": "2025-01-03T10:13:07.089Z"
   },
   {
    "duration": 5093,
    "start_time": "2025-01-03T10:13:21.546Z"
   },
   {
    "duration": 1956,
    "start_time": "2025-01-03T10:13:26.641Z"
   },
   {
    "duration": 67,
    "start_time": "2025-01-03T10:13:28.599Z"
   },
   {
    "duration": 4,
    "start_time": "2025-01-03T10:13:28.668Z"
   },
   {
    "duration": 48,
    "start_time": "2025-01-03T10:13:28.673Z"
   },
   {
    "duration": 4,
    "start_time": "2025-01-03T10:13:28.723Z"
   },
   {
    "duration": 46,
    "start_time": "2025-01-03T10:13:28.728Z"
   },
   {
    "duration": 32,
    "start_time": "2025-01-03T10:13:28.775Z"
   },
   {
    "duration": 1181,
    "start_time": "2025-01-03T10:13:28.809Z"
   },
   {
    "duration": 235,
    "start_time": "2025-01-03T10:13:29.993Z"
   },
   {
    "duration": 1101,
    "start_time": "2025-01-03T10:13:30.230Z"
   },
   {
    "duration": 42,
    "start_time": "2025-01-03T10:13:31.333Z"
   },
   {
    "duration": 205,
    "start_time": "2025-01-03T10:13:31.376Z"
   },
   {
    "duration": 19,
    "start_time": "2025-01-03T10:13:31.583Z"
   },
   {
    "duration": 13,
    "start_time": "2025-01-03T10:13:31.604Z"
   },
   {
    "duration": 229,
    "start_time": "2025-01-03T10:13:31.618Z"
   },
   {
    "duration": 54,
    "start_time": "2025-01-03T10:14:06.014Z"
   },
   {
    "duration": 10,
    "start_time": "2025-01-03T10:14:37.631Z"
   },
   {
    "duration": 3,
    "start_time": "2025-01-03T10:14:40.362Z"
   },
   {
    "duration": 4,
    "start_time": "2025-01-03T10:14:52.687Z"
   },
   {
    "duration": 50,
    "start_time": "2025-01-03T10:18:28.857Z"
   },
   {
    "duration": 53,
    "start_time": "2025-01-03T10:18:51.259Z"
   },
   {
    "duration": 11,
    "start_time": "2025-01-03T10:20:00.785Z"
   },
   {
    "duration": 10,
    "start_time": "2025-01-03T10:20:15.343Z"
   },
   {
    "duration": 6,
    "start_time": "2025-01-03T10:21:41.656Z"
   },
   {
    "duration": 8,
    "start_time": "2025-01-03T10:22:50.486Z"
   },
   {
    "duration": 11,
    "start_time": "2025-01-03T10:23:41.542Z"
   },
   {
    "duration": 3,
    "start_time": "2025-01-03T10:25:41.037Z"
   },
   {
    "duration": 18,
    "start_time": "2025-01-03T10:25:59.656Z"
   },
   {
    "duration": 5085,
    "start_time": "2025-01-03T10:26:05.496Z"
   },
   {
    "duration": 1937,
    "start_time": "2025-01-03T10:26:10.583Z"
   },
   {
    "duration": 69,
    "start_time": "2025-01-03T10:26:12.522Z"
   },
   {
    "duration": 5,
    "start_time": "2025-01-03T10:26:12.593Z"
   },
   {
    "duration": 57,
    "start_time": "2025-01-03T10:26:12.600Z"
   },
   {
    "duration": 4,
    "start_time": "2025-01-03T10:26:12.659Z"
   },
   {
    "duration": 39,
    "start_time": "2025-01-03T10:26:12.665Z"
   },
   {
    "duration": 32,
    "start_time": "2025-01-03T10:26:12.706Z"
   },
   {
    "duration": 1145,
    "start_time": "2025-01-03T10:26:12.739Z"
   },
   {
    "duration": 249,
    "start_time": "2025-01-03T10:26:13.886Z"
   },
   {
    "duration": 1141,
    "start_time": "2025-01-03T10:26:14.137Z"
   },
   {
    "duration": 5,
    "start_time": "2025-01-03T10:26:15.280Z"
   },
   {
    "duration": 57,
    "start_time": "2025-01-03T10:26:15.287Z"
   },
   {
    "duration": 24,
    "start_time": "2025-01-03T10:26:15.347Z"
   },
   {
    "duration": 17,
    "start_time": "2025-01-03T10:26:15.373Z"
   },
   {
    "duration": 16,
    "start_time": "2025-01-03T10:26:15.392Z"
   },
   {
    "duration": 9,
    "start_time": "2025-01-03T10:26:15.409Z"
   },
   {
    "duration": 184,
    "start_time": "2025-01-03T10:26:15.419Z"
   },
   {
    "duration": 14,
    "start_time": "2025-01-03T10:27:30.746Z"
   },
   {
    "duration": 14,
    "start_time": "2025-01-03T10:28:19.390Z"
   },
   {
    "duration": 11,
    "start_time": "2025-01-03T10:28:24.407Z"
   },
   {
    "duration": 14,
    "start_time": "2025-01-03T10:28:49.971Z"
   },
   {
    "duration": 8,
    "start_time": "2025-01-03T10:30:33.244Z"
   },
   {
    "duration": 8,
    "start_time": "2025-01-03T10:30:46.456Z"
   },
   {
    "duration": 8,
    "start_time": "2025-01-03T10:31:37.941Z"
   },
   {
    "duration": 8,
    "start_time": "2025-01-03T10:31:39.803Z"
   },
   {
    "duration": 9,
    "start_time": "2025-01-03T10:31:57.599Z"
   },
   {
    "duration": 10,
    "start_time": "2025-01-03T10:32:08.528Z"
   },
   {
    "duration": 8,
    "start_time": "2025-01-03T10:32:10.151Z"
   },
   {
    "duration": 17,
    "start_time": "2025-01-03T10:32:21.519Z"
   },
   {
    "duration": 9,
    "start_time": "2025-01-03T10:32:44.979Z"
   },
   {
    "duration": 13,
    "start_time": "2025-01-03T10:32:52.889Z"
   },
   {
    "duration": 9,
    "start_time": "2025-01-03T10:33:29.723Z"
   },
   {
    "duration": 9,
    "start_time": "2025-01-03T10:33:37.190Z"
   },
   {
    "duration": 3,
    "start_time": "2025-01-03T10:34:24.516Z"
   },
   {
    "duration": 6,
    "start_time": "2025-01-03T10:34:33.493Z"
   },
   {
    "duration": 16,
    "start_time": "2025-01-03T10:34:48.387Z"
   },
   {
    "duration": 9,
    "start_time": "2025-01-03T10:36:07.362Z"
   },
   {
    "duration": 10,
    "start_time": "2025-01-03T10:36:12.969Z"
   },
   {
    "duration": 13,
    "start_time": "2025-01-03T10:36:29.830Z"
   },
   {
    "duration": 10,
    "start_time": "2025-01-03T10:36:40.380Z"
   },
   {
    "duration": 6,
    "start_time": "2025-01-03T10:36:58.877Z"
   },
   {
    "duration": 8,
    "start_time": "2025-01-03T10:37:34.276Z"
   },
   {
    "duration": 15,
    "start_time": "2025-01-03T10:37:50.165Z"
   },
   {
    "duration": 11,
    "start_time": "2025-01-03T10:39:37.369Z"
   },
   {
    "duration": 1342,
    "start_time": "2025-01-03T10:39:44.943Z"
   },
   {
    "duration": 1363,
    "start_time": "2025-01-03T10:40:00.150Z"
   },
   {
    "duration": 4,
    "start_time": "2025-01-03T10:40:17.868Z"
   },
   {
    "duration": 10,
    "start_time": "2025-01-03T10:40:20.299Z"
   },
   {
    "duration": 3,
    "start_time": "2025-01-03T10:40:20.868Z"
   },
   {
    "duration": 14,
    "start_time": "2025-01-03T10:41:04.024Z"
   },
   {
    "duration": 5,
    "start_time": "2025-01-03T10:41:16.523Z"
   },
   {
    "duration": 4,
    "start_time": "2025-01-03T10:41:21.998Z"
   },
   {
    "duration": 11,
    "start_time": "2025-01-03T10:41:35.595Z"
   },
   {
    "duration": 4,
    "start_time": "2025-01-03T10:42:04.760Z"
   },
   {
    "duration": 9,
    "start_time": "2025-01-03T10:42:06.764Z"
   },
   {
    "duration": 5,
    "start_time": "2025-01-03T10:42:54.481Z"
   },
   {
    "duration": 6,
    "start_time": "2025-01-03T10:43:11.463Z"
   },
   {
    "duration": 17,
    "start_time": "2025-01-03T10:43:35.855Z"
   },
   {
    "duration": 13,
    "start_time": "2025-01-03T10:43:41.629Z"
   },
   {
    "duration": 5,
    "start_time": "2025-01-03T10:47:22.875Z"
   },
   {
    "duration": 18,
    "start_time": "2025-01-03T10:47:37.151Z"
   },
   {
    "duration": 16,
    "start_time": "2025-01-03T10:47:47.446Z"
   },
   {
    "duration": 14,
    "start_time": "2025-01-03T10:48:42.766Z"
   },
   {
    "duration": 15,
    "start_time": "2025-01-03T10:48:58.012Z"
   },
   {
    "duration": 16,
    "start_time": "2025-01-03T10:49:35.378Z"
   },
   {
    "duration": 6,
    "start_time": "2025-01-03T10:50:22.125Z"
   },
   {
    "duration": 3,
    "start_time": "2025-01-03T10:50:24.885Z"
   },
   {
    "duration": 57,
    "start_time": "2025-01-03T10:50:37.083Z"
   },
   {
    "duration": 6,
    "start_time": "2025-01-03T10:51:51.671Z"
   },
   {
    "duration": 6,
    "start_time": "2025-01-03T10:51:55.289Z"
   },
   {
    "duration": 4,
    "start_time": "2025-01-03T10:52:32.843Z"
   },
   {
    "duration": 5,
    "start_time": "2025-01-03T10:52:35.843Z"
   },
   {
    "duration": 3,
    "start_time": "2025-01-03T10:53:15.691Z"
   },
   {
    "duration": 566,
    "start_time": "2025-01-03T10:53:29.734Z"
   },
   {
    "duration": 8,
    "start_time": "2025-01-03T10:53:37.737Z"
   },
   {
    "duration": 3,
    "start_time": "2025-01-03T10:54:11.339Z"
   },
   {
    "duration": 10,
    "start_time": "2025-01-03T10:54:42.001Z"
   },
   {
    "duration": 10,
    "start_time": "2025-01-03T10:54:52.441Z"
   },
   {
    "duration": 10,
    "start_time": "2025-01-03T10:55:06.293Z"
   },
   {
    "duration": 10,
    "start_time": "2025-01-03T10:58:30.080Z"
   },
   {
    "duration": 9,
    "start_time": "2025-01-03T10:58:36.521Z"
   },
   {
    "duration": 76,
    "start_time": "2025-01-03T10:59:10.541Z"
   },
   {
    "duration": 8,
    "start_time": "2025-01-03T10:59:21.070Z"
   },
   {
    "duration": 5,
    "start_time": "2025-01-03T11:01:09.426Z"
   },
   {
    "duration": 6,
    "start_time": "2025-01-03T11:01:49.183Z"
   },
   {
    "duration": 3,
    "start_time": "2025-01-03T11:01:51.120Z"
   },
   {
    "duration": 8,
    "start_time": "2025-01-03T11:01:51.534Z"
   },
   {
    "duration": 6,
    "start_time": "2025-01-03T11:02:09.583Z"
   },
   {
    "duration": 4,
    "start_time": "2025-01-03T11:02:12.448Z"
   },
   {
    "duration": 6,
    "start_time": "2025-01-03T11:04:21.508Z"
   },
   {
    "duration": 14,
    "start_time": "2025-01-03T11:04:52.615Z"
   },
   {
    "duration": 7,
    "start_time": "2025-01-03T11:05:07.423Z"
   },
   {
    "duration": 50,
    "start_time": "2025-01-03T11:05:22.391Z"
   },
   {
    "duration": 51,
    "start_time": "2025-01-03T11:06:12.197Z"
   },
   {
    "duration": 52,
    "start_time": "2025-01-03T11:06:42.342Z"
   },
   {
    "duration": 5,
    "start_time": "2025-01-03T11:06:58.971Z"
   },
   {
    "duration": 4,
    "start_time": "2025-01-03T11:07:04.512Z"
   },
   {
    "duration": 7,
    "start_time": "2025-01-03T11:09:14.887Z"
   },
   {
    "duration": 6,
    "start_time": "2025-01-03T11:09:15.788Z"
   },
   {
    "duration": 52,
    "start_time": "2025-01-03T11:09:23.935Z"
   },
   {
    "duration": 4,
    "start_time": "2025-01-03T11:09:36.050Z"
   },
   {
    "duration": 4,
    "start_time": "2025-01-03T11:09:39.190Z"
   },
   {
    "duration": 51,
    "start_time": "2025-01-03T11:10:32.704Z"
   },
   {
    "duration": 38,
    "start_time": "2025-01-03T11:11:00.079Z"
   },
   {
    "duration": 3,
    "start_time": "2025-01-03T11:11:07.514Z"
   },
   {
    "duration": 52,
    "start_time": "2025-01-03T11:11:08.294Z"
   },
   {
    "duration": 54,
    "start_time": "2025-01-03T11:11:12.224Z"
   },
   {
    "duration": 55,
    "start_time": "2025-01-03T11:11:50.331Z"
   },
   {
    "duration": 3,
    "start_time": "2025-01-03T11:12:00.045Z"
   },
   {
    "duration": 17222,
    "start_time": "2025-01-03T11:12:00.755Z"
   },
   {
    "duration": 6,
    "start_time": "2025-01-03T11:15:00.803Z"
   },
   {
    "duration": 32,
    "start_time": "2025-01-03T11:18:29.263Z"
   },
   {
    "duration": 551,
    "start_time": "2025-01-03T11:18:41.149Z"
   },
   {
    "duration": 1320,
    "start_time": "2025-01-03T11:19:08.685Z"
   },
   {
    "duration": 1309,
    "start_time": "2025-01-03T11:19:37.892Z"
   },
   {
    "duration": 1269,
    "start_time": "2025-01-03T11:20:30.617Z"
   },
   {
    "duration": 73,
    "start_time": "2025-01-03T11:20:52.874Z"
   },
   {
    "duration": 54,
    "start_time": "2025-01-03T11:20:58.147Z"
   },
   {
    "duration": 62,
    "start_time": "2025-01-03T11:21:19.331Z"
   },
   {
    "duration": 15,
    "start_time": "2025-01-03T11:25:02.485Z"
   },
   {
    "duration": 1601,
    "start_time": "2025-01-03T11:26:35.950Z"
   },
   {
    "duration": 1657,
    "start_time": "2025-01-03T11:26:52.215Z"
   },
   {
    "duration": 49516,
    "start_time": "2025-01-03T11:28:16.915Z"
   },
   {
    "duration": 1661,
    "start_time": "2025-01-03T11:29:11.932Z"
   },
   {
    "duration": 2112,
    "start_time": "2025-01-03T11:29:25.021Z"
   },
   {
    "duration": 1681,
    "start_time": "2025-01-03T11:29:32.298Z"
   },
   {
    "duration": 3,
    "start_time": "2025-01-03T12:57:18.921Z"
   },
   {
    "duration": 54,
    "start_time": "2025-01-03T12:57:41.648Z"
   },
   {
    "duration": 6,
    "start_time": "2025-01-03T16:58:58.182Z"
   },
   {
    "duration": 5563,
    "start_time": "2025-01-03T16:59:04.523Z"
   },
   {
    "duration": 1927,
    "start_time": "2025-01-03T16:59:10.088Z"
   },
   {
    "duration": 68,
    "start_time": "2025-01-03T16:59:12.016Z"
   },
   {
    "duration": 559,
    "start_time": "2025-01-03T16:59:12.086Z"
   },
   {
    "duration": 1066,
    "start_time": "2025-01-03T16:59:12.648Z"
   },
   {
    "duration": 510,
    "start_time": "2025-01-03T16:59:13.715Z"
   },
   {
    "duration": 88,
    "start_time": "2025-01-03T16:59:14.227Z"
   },
   {
    "duration": 33,
    "start_time": "2025-01-03T16:59:14.316Z"
   },
   {
    "duration": 1172,
    "start_time": "2025-01-03T16:59:14.350Z"
   },
   {
    "duration": 253,
    "start_time": "2025-01-03T16:59:15.523Z"
   },
   {
    "duration": 1168,
    "start_time": "2025-01-03T16:59:15.778Z"
   },
   {
    "duration": 4,
    "start_time": "2025-01-03T16:59:16.948Z"
   },
   {
    "duration": 122,
    "start_time": "2025-01-03T16:59:16.953Z"
   },
   {
    "duration": 3,
    "start_time": "2025-01-03T16:59:17.078Z"
   },
   {
    "duration": 23,
    "start_time": "2025-01-03T16:59:17.083Z"
   },
   {
    "duration": 2,
    "start_time": "2025-01-03T16:59:17.108Z"
   },
   {
    "duration": 955,
    "start_time": "2025-01-03T16:59:17.112Z"
   },
   {
    "duration": 1649,
    "start_time": "2025-01-03T16:59:40.174Z"
   },
   {
    "duration": 4,
    "start_time": "2025-01-03T17:00:24.120Z"
   },
   {
    "duration": 3,
    "start_time": "2025-01-03T17:10:00.339Z"
   },
   {
    "duration": 3,
    "start_time": "2025-01-03T17:10:32.086Z"
   },
   {
    "duration": 5,
    "start_time": "2025-01-03T17:10:36.321Z"
   },
   {
    "duration": 1706,
    "start_time": "2025-01-03T17:10:44.567Z"
   },
   {
    "duration": 3,
    "start_time": "2025-01-03T17:15:32.241Z"
   },
   {
    "duration": 1594,
    "start_time": "2025-01-03T17:15:33.176Z"
   },
   {
    "duration": 3,
    "start_time": "2025-01-03T17:21:37.524Z"
   },
   {
    "duration": 3,
    "start_time": "2025-01-03T17:21:38.048Z"
   },
   {
    "duration": 7163,
    "start_time": "2025-01-03T17:21:38.926Z"
   },
   {
    "duration": 78,
    "start_time": "2025-01-03T17:21:46.093Z"
   },
   {
    "duration": 4,
    "start_time": "2025-01-03T17:21:46.521Z"
   },
   {
    "duration": 1598,
    "start_time": "2025-01-03T17:21:47.044Z"
   },
   {
    "duration": 1588,
    "start_time": "2025-01-03T17:22:12.551Z"
   },
   {
    "duration": 16,
    "start_time": "2025-01-03T17:48:28.608Z"
   },
   {
    "duration": 5,
    "start_time": "2025-01-03T17:48:52.477Z"
   },
   {
    "duration": 16,
    "start_time": "2025-01-03T17:49:10.180Z"
   },
   {
    "duration": 15,
    "start_time": "2025-01-03T17:49:32.893Z"
   },
   {
    "duration": 4,
    "start_time": "2025-01-03T17:50:24.840Z"
   },
   {
    "duration": 5,
    "start_time": "2025-01-03T17:50:26.580Z"
   },
   {
    "duration": 4,
    "start_time": "2025-01-03T17:50:26.971Z"
   },
   {
    "duration": 3,
    "start_time": "2025-01-03T17:50:27.338Z"
   },
   {
    "duration": 5,
    "start_time": "2025-01-03T17:50:27.795Z"
   },
   {
    "duration": 4,
    "start_time": "2025-01-03T17:50:31.309Z"
   },
   {
    "duration": 646,
    "start_time": "2025-01-03T17:50:31.988Z"
   },
   {
    "duration": 16,
    "start_time": "2025-01-03T17:51:37.811Z"
   },
   {
    "duration": 6,
    "start_time": "2025-01-03T17:51:47.381Z"
   },
   {
    "duration": 3,
    "start_time": "2025-01-03T17:51:48.459Z"
   },
   {
    "duration": 4,
    "start_time": "2025-01-03T17:51:50.598Z"
   },
   {
    "duration": 3,
    "start_time": "2025-01-03T17:51:51.782Z"
   },
   {
    "duration": 1568,
    "start_time": "2025-01-03T17:51:52.680Z"
   },
   {
    "duration": 85,
    "start_time": "2025-01-03T17:53:02.239Z"
   },
   {
    "duration": 48,
    "start_time": "2025-01-03T17:53:16.110Z"
   },
   {
    "duration": 7,
    "start_time": "2025-01-03T17:54:20.159Z"
   },
   {
    "duration": 1373,
    "start_time": "2025-01-03T17:58:42.676Z"
   },
   {
    "duration": 1372,
    "start_time": "2025-01-03T17:59:19.462Z"
   },
   {
    "duration": 68,
    "start_time": "2025-01-03T17:59:47.533Z"
   },
   {
    "duration": 1342,
    "start_time": "2025-01-03T18:08:50.919Z"
   },
   {
    "duration": 1278,
    "start_time": "2025-01-03T18:09:21.102Z"
   },
   {
    "duration": 1107,
    "start_time": "2025-01-03T18:10:40.390Z"
   },
   {
    "duration": 960,
    "start_time": "2025-01-03T18:10:59.172Z"
   },
   {
    "duration": 163,
    "start_time": "2025-01-03T18:12:49.523Z"
   },
   {
    "duration": 171,
    "start_time": "2025-01-03T18:12:57.931Z"
   },
   {
    "duration": 266,
    "start_time": "2025-01-03T18:17:04.621Z"
   },
   {
    "duration": 128,
    "start_time": "2025-01-03T18:20:22.795Z"
   },
   {
    "duration": 6,
    "start_time": "2025-01-03T18:25:26.077Z"
   },
   {
    "duration": 17,
    "start_time": "2025-01-03T18:26:47.160Z"
   },
   {
    "duration": 18,
    "start_time": "2025-01-03T18:26:57.908Z"
   },
   {
    "duration": 14,
    "start_time": "2025-01-03T18:27:25.934Z"
   },
   {
    "duration": 16,
    "start_time": "2025-01-03T18:27:32.407Z"
   },
   {
    "duration": 9,
    "start_time": "2025-01-03T18:30:42.674Z"
   },
   {
    "duration": 14,
    "start_time": "2025-01-03T18:30:47.162Z"
   },
   {
    "duration": 1234,
    "start_time": "2025-01-03T18:33:22.798Z"
   },
   {
    "duration": 1501,
    "start_time": "2025-01-03T18:33:37.213Z"
   },
   {
    "duration": 6,
    "start_time": "2025-01-03T18:34:28.092Z"
   },
   {
    "duration": 11,
    "start_time": "2025-01-03T18:34:48.022Z"
   },
   {
    "duration": 4,
    "start_time": "2025-01-03T18:34:58.324Z"
   },
   {
    "duration": 6,
    "start_time": "2025-01-03T18:35:04.602Z"
   },
   {
    "duration": 6,
    "start_time": "2025-01-03T18:35:21.809Z"
   },
   {
    "duration": 10,
    "start_time": "2025-01-03T18:35:36.767Z"
   },
   {
    "duration": 14,
    "start_time": "2025-01-03T18:35:59.429Z"
   },
   {
    "duration": 14,
    "start_time": "2025-01-03T18:36:07.592Z"
   },
   {
    "duration": 1432,
    "start_time": "2025-01-03T18:37:09.271Z"
   },
   {
    "duration": 10,
    "start_time": "2025-01-03T18:37:28.151Z"
   },
   {
    "duration": 361,
    "start_time": "2025-01-03T18:38:45.247Z"
   },
   {
    "duration": 10,
    "start_time": "2025-01-03T18:39:21.171Z"
   },
   {
    "duration": 7,
    "start_time": "2025-01-03T18:39:32.477Z"
   },
   {
    "duration": 10,
    "start_time": "2025-01-03T18:39:35.996Z"
   },
   {
    "duration": 13,
    "start_time": "2025-01-03T18:41:24.062Z"
   },
   {
    "duration": 13,
    "start_time": "2025-01-03T18:41:36.817Z"
   },
   {
    "duration": 16,
    "start_time": "2025-01-03T18:42:00.425Z"
   },
   {
    "duration": 218,
    "start_time": "2025-01-03T18:42:15.355Z"
   },
   {
    "duration": 180,
    "start_time": "2025-01-03T18:42:34.141Z"
   },
   {
    "duration": 82,
    "start_time": "2025-01-03T18:44:32.573Z"
   },
   {
    "duration": 1353,
    "start_time": "2025-01-03T18:44:39.663Z"
   },
   {
    "duration": 12,
    "start_time": "2025-01-03T18:45:02.592Z"
   },
   {
    "duration": 6,
    "start_time": "2025-01-03T18:45:12.820Z"
   },
   {
    "duration": 11,
    "start_time": "2025-01-03T18:45:22.608Z"
   },
   {
    "duration": 4,
    "start_time": "2025-01-03T18:45:32.450Z"
   },
   {
    "duration": 3088,
    "start_time": "2025-01-03T18:46:31.824Z"
   },
   {
    "duration": 1201,
    "start_time": "2025-01-03T18:51:53.318Z"
   },
   {
    "duration": 16,
    "start_time": "2025-01-03T18:52:46.327Z"
   },
   {
    "duration": 107,
    "start_time": "2025-01-03T18:55:52.648Z"
   },
   {
    "duration": 1400,
    "start_time": "2025-01-03T18:56:11.768Z"
   },
   {
    "duration": 4,
    "start_time": "2025-01-03T18:56:39.528Z"
   },
   {
    "duration": 17,
    "start_time": "2025-01-03T18:56:46.599Z"
   },
   {
    "duration": 5,
    "start_time": "2025-01-03T18:56:49.485Z"
   },
   {
    "duration": 31,
    "start_time": "2025-01-03T18:57:11.713Z"
   },
   {
    "duration": 147,
    "start_time": "2025-01-03T18:57:20.114Z"
   },
   {
    "duration": 6,
    "start_time": "2025-01-03T18:58:11.941Z"
   },
   {
    "duration": 9,
    "start_time": "2025-01-03T18:58:17.188Z"
   },
   {
    "duration": 132,
    "start_time": "2025-01-03T18:58:53.541Z"
   },
   {
    "duration": 142,
    "start_time": "2025-01-03T18:59:28.166Z"
   },
   {
    "duration": 133,
    "start_time": "2025-01-03T18:59:41.492Z"
   },
   {
    "duration": 9,
    "start_time": "2025-01-03T19:02:43.233Z"
   },
   {
    "duration": 8,
    "start_time": "2025-01-03T19:04:07.499Z"
   },
   {
    "duration": 7,
    "start_time": "2025-01-03T19:04:13.361Z"
   },
   {
    "duration": 19,
    "start_time": "2025-01-03T19:04:18.436Z"
   },
   {
    "duration": 27,
    "start_time": "2025-01-03T19:04:53.668Z"
   },
   {
    "duration": 148,
    "start_time": "2025-01-03T19:12:24.992Z"
   },
   {
    "duration": 10,
    "start_time": "2025-01-03T19:12:44.805Z"
   },
   {
    "duration": 19,
    "start_time": "2025-01-03T19:13:13.066Z"
   },
   {
    "duration": 11,
    "start_time": "2025-01-03T19:13:29.395Z"
   },
   {
    "duration": 1374,
    "start_time": "2025-01-03T19:13:29.875Z"
   },
   {
    "duration": 1366,
    "start_time": "2025-01-03T19:13:48.949Z"
   },
   {
    "duration": 12,
    "start_time": "2025-01-03T19:13:58.856Z"
   },
   {
    "duration": 142,
    "start_time": "2025-01-03T19:14:17.435Z"
   },
   {
    "duration": 141,
    "start_time": "2025-01-03T19:14:49.159Z"
   },
   {
    "duration": 149,
    "start_time": "2025-01-03T19:15:25.237Z"
   },
   {
    "duration": 15,
    "start_time": "2025-01-03T19:23:10.057Z"
   },
   {
    "duration": 10,
    "start_time": "2025-01-03T19:23:55.291Z"
   },
   {
    "duration": 14,
    "start_time": "2025-01-03T19:24:02.272Z"
   },
   {
    "duration": 15,
    "start_time": "2025-01-03T19:24:04.525Z"
   },
   {
    "duration": 12,
    "start_time": "2025-01-03T19:24:15.379Z"
   },
   {
    "duration": 4,
    "start_time": "2025-01-03T19:24:17.338Z"
   },
   {
    "duration": 17,
    "start_time": "2025-01-03T19:24:25.768Z"
   },
   {
    "duration": 3,
    "start_time": "2025-01-03T19:24:27.583Z"
   },
   {
    "duration": 17,
    "start_time": "2025-01-03T19:24:31.839Z"
   },
   {
    "duration": 23,
    "start_time": "2025-01-03T19:24:53.008Z"
   },
   {
    "duration": 4,
    "start_time": "2025-01-03T19:27:22.581Z"
   },
   {
    "duration": 4,
    "start_time": "2025-01-03T19:27:36.080Z"
   },
   {
    "duration": 4,
    "start_time": "2025-01-03T19:28:01.672Z"
   },
   {
    "duration": 2,
    "start_time": "2025-01-03T19:28:48.893Z"
   },
   {
    "duration": 53,
    "start_time": "2025-01-03T19:28:52.707Z"
   },
   {
    "duration": 49,
    "start_time": "2025-01-03T19:29:15.426Z"
   },
   {
    "duration": 13,
    "start_time": "2025-01-03T19:29:25.242Z"
   },
   {
    "duration": 2,
    "start_time": "2025-01-03T19:29:27.050Z"
   },
   {
    "duration": 49,
    "start_time": "2025-01-03T19:29:28.044Z"
   },
   {
    "duration": 47,
    "start_time": "2025-01-03T19:31:02.690Z"
   },
   {
    "duration": 3,
    "start_time": "2025-01-03T19:31:05.015Z"
   },
   {
    "duration": 44,
    "start_time": "2025-01-03T19:33:35.158Z"
   },
   {
    "duration": 16,
    "start_time": "2025-01-03T19:33:56.156Z"
   },
   {
    "duration": 16,
    "start_time": "2025-01-03T19:38:31.643Z"
   },
   {
    "duration": 16,
    "start_time": "2025-01-03T19:38:43.165Z"
   },
   {
    "duration": 15,
    "start_time": "2025-01-03T19:39:08.836Z"
   },
   {
    "duration": 13,
    "start_time": "2025-01-03T19:39:18.347Z"
   },
   {
    "duration": 11,
    "start_time": "2025-01-03T19:39:31.190Z"
   },
   {
    "duration": 4,
    "start_time": "2025-01-03T19:39:34.386Z"
   },
   {
    "duration": 6,
    "start_time": "2025-01-03T19:39:52.297Z"
   },
   {
    "duration": 8881,
    "start_time": "2025-01-03T19:43:07.516Z"
   },
   {
    "duration": 5220,
    "start_time": "2025-01-03T19:43:32.150Z"
   },
   {
    "duration": 1925,
    "start_time": "2025-01-03T19:43:37.373Z"
   },
   {
    "duration": 69,
    "start_time": "2025-01-03T19:43:39.300Z"
   },
   {
    "duration": 5,
    "start_time": "2025-01-03T19:43:39.370Z"
   },
   {
    "duration": 45,
    "start_time": "2025-01-03T19:43:39.377Z"
   },
   {
    "duration": 4,
    "start_time": "2025-01-03T19:43:39.423Z"
   },
   {
    "duration": 37,
    "start_time": "2025-01-03T19:43:39.429Z"
   },
   {
    "duration": 32,
    "start_time": "2025-01-03T19:43:39.468Z"
   },
   {
    "duration": 1447,
    "start_time": "2025-01-03T19:43:39.502Z"
   },
   {
    "duration": 125,
    "start_time": "2025-01-03T19:43:40.951Z"
   },
   {
    "duration": 1107,
    "start_time": "2025-01-03T19:43:41.078Z"
   },
   {
    "duration": 178,
    "start_time": "2025-01-03T19:43:42.187Z"
   },
   {
    "duration": 4,
    "start_time": "2025-01-03T19:43:42.367Z"
   },
   {
    "duration": 57,
    "start_time": "2025-01-03T19:43:42.374Z"
   },
   {
    "duration": 4,
    "start_time": "2025-01-03T19:43:42.432Z"
   },
   {
    "duration": 13,
    "start_time": "2025-01-03T19:43:42.438Z"
   },
   {
    "duration": 5,
    "start_time": "2025-01-03T19:43:42.452Z"
   },
   {
    "duration": 3,
    "start_time": "2025-01-03T19:43:42.471Z"
   },
   {
    "duration": 18,
    "start_time": "2025-01-03T19:43:42.476Z"
   },
   {
    "duration": 1031,
    "start_time": "2025-01-03T19:43:42.496Z"
   },
   {
    "duration": 0,
    "start_time": "2025-01-03T19:43:43.529Z"
   },
   {
    "duration": 0,
    "start_time": "2025-01-03T19:43:43.530Z"
   },
   {
    "duration": 0,
    "start_time": "2025-01-03T19:43:43.531Z"
   },
   {
    "duration": 0,
    "start_time": "2025-01-03T19:43:43.532Z"
   },
   {
    "duration": 0,
    "start_time": "2025-01-03T19:43:43.533Z"
   },
   {
    "duration": 0,
    "start_time": "2025-01-03T19:43:43.534Z"
   },
   {
    "duration": 0,
    "start_time": "2025-01-03T19:43:43.535Z"
   },
   {
    "duration": 0,
    "start_time": "2025-01-03T19:43:43.536Z"
   },
   {
    "duration": 0,
    "start_time": "2025-01-03T19:43:43.538Z"
   },
   {
    "duration": 0,
    "start_time": "2025-01-03T19:43:43.539Z"
   },
   {
    "duration": 0,
    "start_time": "2025-01-03T19:43:43.540Z"
   },
   {
    "duration": 0,
    "start_time": "2025-01-03T19:43:43.541Z"
   },
   {
    "duration": 0,
    "start_time": "2025-01-03T19:43:43.571Z"
   },
   {
    "duration": 0,
    "start_time": "2025-01-03T19:43:43.573Z"
   },
   {
    "duration": 0,
    "start_time": "2025-01-03T19:43:43.574Z"
   },
   {
    "duration": 0,
    "start_time": "2025-01-03T19:43:43.575Z"
   },
   {
    "duration": 0,
    "start_time": "2025-01-03T19:43:43.576Z"
   },
   {
    "duration": 1761,
    "start_time": "2025-01-03T19:44:06.534Z"
   },
   {
    "duration": 5132,
    "start_time": "2025-01-03T19:44:36.949Z"
   },
   {
    "duration": 1889,
    "start_time": "2025-01-03T19:44:42.083Z"
   },
   {
    "duration": 68,
    "start_time": "2025-01-03T19:44:43.974Z"
   },
   {
    "duration": 4,
    "start_time": "2025-01-03T19:44:44.044Z"
   },
   {
    "duration": 49,
    "start_time": "2025-01-03T19:44:44.050Z"
   },
   {
    "duration": 5,
    "start_time": "2025-01-03T19:44:44.101Z"
   },
   {
    "duration": 80,
    "start_time": "2025-01-03T19:44:44.108Z"
   },
   {
    "duration": 32,
    "start_time": "2025-01-03T19:44:44.190Z"
   },
   {
    "duration": 1406,
    "start_time": "2025-01-03T19:44:44.224Z"
   },
   {
    "duration": 149,
    "start_time": "2025-01-03T19:44:45.631Z"
   },
   {
    "duration": 1100,
    "start_time": "2025-01-03T19:44:45.783Z"
   },
   {
    "duration": 175,
    "start_time": "2025-01-03T19:44:46.885Z"
   },
   {
    "duration": 10,
    "start_time": "2025-01-03T19:44:47.062Z"
   },
   {
    "duration": 57,
    "start_time": "2025-01-03T19:44:47.075Z"
   },
   {
    "duration": 3,
    "start_time": "2025-01-03T19:44:47.134Z"
   },
   {
    "duration": 8,
    "start_time": "2025-01-03T19:44:47.139Z"
   },
   {
    "duration": 2,
    "start_time": "2025-01-03T19:44:47.149Z"
   },
   {
    "duration": 20,
    "start_time": "2025-01-03T19:44:47.153Z"
   },
   {
    "duration": 14,
    "start_time": "2025-01-03T19:44:47.174Z"
   },
   {
    "duration": 1732,
    "start_time": "2025-01-03T19:44:47.189Z"
   },
   {
    "duration": 57,
    "start_time": "2025-01-03T19:44:48.922Z"
   },
   {
    "duration": 98,
    "start_time": "2025-01-03T19:44:48.981Z"
   },
   {
    "duration": 10,
    "start_time": "2025-01-03T19:44:49.081Z"
   },
   {
    "duration": 133,
    "start_time": "2025-01-03T19:44:49.092Z"
   },
   {
    "duration": 136,
    "start_time": "2025-01-03T19:44:49.227Z"
   },
   {
    "duration": 1275,
    "start_time": "2025-01-03T19:44:49.364Z"
   },
   {
    "duration": 156,
    "start_time": "2025-01-03T19:44:50.641Z"
   },
   {
    "duration": 10,
    "start_time": "2025-01-03T19:44:50.799Z"
   },
   {
    "duration": 161,
    "start_time": "2025-01-03T19:44:50.811Z"
   },
   {
    "duration": 23,
    "start_time": "2025-01-03T19:44:50.974Z"
   },
   {
    "duration": 102,
    "start_time": "2025-01-03T19:44:50.999Z"
   },
   {
    "duration": 46,
    "start_time": "2025-01-03T19:44:51.103Z"
   },
   {
    "duration": 15,
    "start_time": "2025-01-03T19:44:51.151Z"
   },
   {
    "duration": 4,
    "start_time": "2025-01-03T19:44:51.167Z"
   },
   {
    "duration": 9,
    "start_time": "2025-01-03T19:44:51.172Z"
   },
   {
    "duration": 151,
    "start_time": "2025-01-03T19:44:51.182Z"
   },
   {
    "duration": 0,
    "start_time": "2025-01-03T19:44:51.335Z"
   },
   {
    "duration": 6,
    "start_time": "2025-01-03T19:45:14.224Z"
   },
   {
    "duration": 6,
    "start_time": "2025-01-03T19:45:19.263Z"
   },
   {
    "duration": 11,
    "start_time": "2025-01-03T19:45:20.662Z"
   },
   {
    "duration": 12,
    "start_time": "2025-01-03T19:53:07.562Z"
   },
   {
    "duration": 3,
    "start_time": "2025-01-03T19:53:13.367Z"
   },
   {
    "duration": 7,
    "start_time": "2025-01-03T19:53:13.963Z"
   },
   {
    "duration": 6,
    "start_time": "2025-01-03T19:53:15.212Z"
   },
   {
    "duration": 9563,
    "start_time": "2025-01-03T19:53:16.037Z"
   },
   {
    "duration": 1298,
    "start_time": "2025-01-03T19:54:22.294Z"
   },
   {
    "duration": 16,
    "start_time": "2025-01-03T19:55:01.356Z"
   },
   {
    "duration": 4,
    "start_time": "2025-01-03T19:56:38.383Z"
   },
   {
    "duration": 18,
    "start_time": "2025-01-03T19:56:43.570Z"
   },
   {
    "duration": 3,
    "start_time": "2025-01-03T19:56:50.787Z"
   },
   {
    "duration": 47,
    "start_time": "2025-01-03T19:56:52.043Z"
   },
   {
    "duration": 3,
    "start_time": "2025-01-03T19:57:07.261Z"
   },
   {
    "duration": 6,
    "start_time": "2025-01-03T19:57:08.097Z"
   },
   {
    "duration": 6,
    "start_time": "2025-01-03T19:57:09.213Z"
   },
   {
    "duration": 1958,
    "start_time": "2025-01-03T19:57:10.184Z"
   },
   {
    "duration": 53,
    "start_time": "2025-01-03T19:58:36.079Z"
   },
   {
    "duration": 3,
    "start_time": "2025-01-03T19:58:49.661Z"
   },
   {
    "duration": 7,
    "start_time": "2025-01-03T19:59:06.214Z"
   },
   {
    "duration": 6,
    "start_time": "2025-01-03T19:59:10.498Z"
   },
   {
    "duration": 1913,
    "start_time": "2025-01-03T19:59:11.885Z"
   },
   {
    "duration": 5151,
    "start_time": "2025-01-03T20:00:59.472Z"
   },
   {
    "duration": 2161,
    "start_time": "2025-01-03T20:01:04.625Z"
   },
   {
    "duration": 68,
    "start_time": "2025-01-03T20:01:06.788Z"
   },
   {
    "duration": 5,
    "start_time": "2025-01-03T20:01:06.858Z"
   },
   {
    "duration": 46,
    "start_time": "2025-01-03T20:01:06.864Z"
   },
   {
    "duration": 5,
    "start_time": "2025-01-03T20:01:06.912Z"
   },
   {
    "duration": 41,
    "start_time": "2025-01-03T20:01:06.918Z"
   },
   {
    "duration": 31,
    "start_time": "2025-01-03T20:01:06.961Z"
   },
   {
    "duration": 1418,
    "start_time": "2025-01-03T20:01:06.994Z"
   },
   {
    "duration": 130,
    "start_time": "2025-01-03T20:01:08.414Z"
   },
   {
    "duration": 1108,
    "start_time": "2025-01-03T20:01:08.545Z"
   },
   {
    "duration": 180,
    "start_time": "2025-01-03T20:01:09.655Z"
   },
   {
    "duration": 4,
    "start_time": "2025-01-03T20:01:09.837Z"
   },
   {
    "duration": 64,
    "start_time": "2025-01-03T20:01:09.842Z"
   },
   {
    "duration": 4,
    "start_time": "2025-01-03T20:01:09.908Z"
   },
   {
    "duration": 9,
    "start_time": "2025-01-03T20:01:09.913Z"
   },
   {
    "duration": 11,
    "start_time": "2025-01-03T20:01:09.924Z"
   },
   {
    "duration": 4,
    "start_time": "2025-01-03T20:01:09.937Z"
   },
   {
    "duration": 10,
    "start_time": "2025-01-03T20:01:09.942Z"
   },
   {
    "duration": 1763,
    "start_time": "2025-01-03T20:01:09.954Z"
   },
   {
    "duration": 58,
    "start_time": "2025-01-03T20:01:11.719Z"
   },
   {
    "duration": 39,
    "start_time": "2025-01-03T20:01:11.779Z"
   },
   {
    "duration": 7,
    "start_time": "2025-01-03T20:01:11.820Z"
   },
   {
    "duration": 136,
    "start_time": "2025-01-03T20:01:11.829Z"
   },
   {
    "duration": 135,
    "start_time": "2025-01-03T20:01:11.970Z"
   },
   {
    "duration": 1262,
    "start_time": "2025-01-03T20:01:12.108Z"
   },
   {
    "duration": 158,
    "start_time": "2025-01-03T20:01:13.372Z"
   },
   {
    "duration": 11,
    "start_time": "2025-01-03T20:01:13.534Z"
   },
   {
    "duration": 160,
    "start_time": "2025-01-03T20:01:13.546Z"
   },
   {
    "duration": 24,
    "start_time": "2025-01-03T20:01:13.708Z"
   },
   {
    "duration": 38,
    "start_time": "2025-01-03T20:01:13.734Z"
   },
   {
    "duration": 5,
    "start_time": "2025-01-03T20:01:13.774Z"
   },
   {
    "duration": 47,
    "start_time": "2025-01-03T20:01:13.780Z"
   },
   {
    "duration": 3,
    "start_time": "2025-01-03T20:01:13.828Z"
   },
   {
    "duration": 9,
    "start_time": "2025-01-03T20:01:13.832Z"
   },
   {
    "duration": 28,
    "start_time": "2025-01-03T20:01:13.842Z"
   },
   {
    "duration": 1992,
    "start_time": "2025-01-03T20:01:13.872Z"
   },
   {
    "duration": 1901,
    "start_time": "2025-01-03T20:01:32.756Z"
   },
   {
    "duration": 5,
    "start_time": "2025-01-03T20:02:20.310Z"
   },
   {
    "duration": 1887,
    "start_time": "2025-01-03T20:02:21.671Z"
   },
   {
    "duration": 6,
    "start_time": "2025-01-03T20:02:33.848Z"
   },
   {
    "duration": 1946,
    "start_time": "2025-01-03T20:02:35.039Z"
   },
   {
    "duration": 6,
    "start_time": "2025-01-03T20:02:48.627Z"
   },
   {
    "duration": 1868,
    "start_time": "2025-01-03T20:02:51.757Z"
   },
   {
    "duration": 5152,
    "start_time": "2025-01-03T20:03:04.107Z"
   },
   {
    "duration": 1996,
    "start_time": "2025-01-03T20:03:09.262Z"
   },
   {
    "duration": 68,
    "start_time": "2025-01-03T20:03:11.259Z"
   },
   {
    "duration": 5,
    "start_time": "2025-01-03T20:03:11.329Z"
   },
   {
    "duration": 43,
    "start_time": "2025-01-03T20:03:11.337Z"
   },
   {
    "duration": 4,
    "start_time": "2025-01-03T20:03:11.382Z"
   },
   {
    "duration": 36,
    "start_time": "2025-01-03T20:03:11.387Z"
   },
   {
    "duration": 32,
    "start_time": "2025-01-03T20:03:11.424Z"
   },
   {
    "duration": 1417,
    "start_time": "2025-01-03T20:03:11.457Z"
   },
   {
    "duration": 126,
    "start_time": "2025-01-03T20:03:12.876Z"
   },
   {
    "duration": 1113,
    "start_time": "2025-01-03T20:03:13.004Z"
   },
   {
    "duration": 193,
    "start_time": "2025-01-03T20:03:14.118Z"
   },
   {
    "duration": 4,
    "start_time": "2025-01-03T20:03:14.313Z"
   },
   {
    "duration": 66,
    "start_time": "2025-01-03T20:03:14.320Z"
   },
   {
    "duration": 4,
    "start_time": "2025-01-03T20:03:14.387Z"
   },
   {
    "duration": 8,
    "start_time": "2025-01-03T20:03:14.393Z"
   },
   {
    "duration": 4,
    "start_time": "2025-01-03T20:03:14.402Z"
   },
   {
    "duration": 15,
    "start_time": "2025-01-03T20:03:14.408Z"
   },
   {
    "duration": 8,
    "start_time": "2025-01-03T20:03:14.424Z"
   },
   {
    "duration": 1784,
    "start_time": "2025-01-03T20:03:14.434Z"
   },
   {
    "duration": 62,
    "start_time": "2025-01-03T20:03:16.220Z"
   },
   {
    "duration": 38,
    "start_time": "2025-01-03T20:03:16.284Z"
   },
   {
    "duration": 6,
    "start_time": "2025-01-03T20:03:16.323Z"
   },
   {
    "duration": 129,
    "start_time": "2025-01-03T20:03:16.331Z"
   },
   {
    "duration": 137,
    "start_time": "2025-01-03T20:03:16.462Z"
   },
   {
    "duration": 1288,
    "start_time": "2025-01-03T20:03:16.601Z"
   },
   {
    "duration": 153,
    "start_time": "2025-01-03T20:03:17.890Z"
   },
   {
    "duration": 10,
    "start_time": "2025-01-03T20:03:18.045Z"
   },
   {
    "duration": 164,
    "start_time": "2025-01-03T20:03:18.057Z"
   },
   {
    "duration": 26,
    "start_time": "2025-01-03T20:03:18.222Z"
   },
   {
    "duration": 34,
    "start_time": "2025-01-03T20:03:18.250Z"
   },
   {
    "duration": 4,
    "start_time": "2025-01-03T20:03:18.285Z"
   },
   {
    "duration": 45,
    "start_time": "2025-01-03T20:03:18.290Z"
   },
   {
    "duration": 3,
    "start_time": "2025-01-03T20:03:18.337Z"
   },
   {
    "duration": 7,
    "start_time": "2025-01-03T20:03:18.341Z"
   },
   {
    "duration": 6,
    "start_time": "2025-01-03T20:03:18.370Z"
   },
   {
    "duration": 1883,
    "start_time": "2025-01-03T20:03:18.378Z"
   },
   {
    "duration": 6,
    "start_time": "2025-01-03T20:03:39.309Z"
   },
   {
    "duration": 1911,
    "start_time": "2025-01-03T20:03:40.559Z"
   },
   {
    "duration": 5,
    "start_time": "2025-01-03T20:04:04.287Z"
   },
   {
    "duration": 1901,
    "start_time": "2025-01-03T20:04:05.886Z"
   },
   {
    "duration": 5140,
    "start_time": "2025-01-03T20:04:19.375Z"
   },
   {
    "duration": 1952,
    "start_time": "2025-01-03T20:04:24.518Z"
   },
   {
    "duration": 69,
    "start_time": "2025-01-03T20:04:26.475Z"
   },
   {
    "duration": 5,
    "start_time": "2025-01-03T20:04:26.546Z"
   },
   {
    "duration": 61,
    "start_time": "2025-01-03T20:04:26.552Z"
   },
   {
    "duration": 4,
    "start_time": "2025-01-03T20:04:26.615Z"
   },
   {
    "duration": 60,
    "start_time": "2025-01-03T20:04:26.620Z"
   },
   {
    "duration": 34,
    "start_time": "2025-01-03T20:04:26.682Z"
   },
   {
    "duration": 1441,
    "start_time": "2025-01-03T20:04:26.720Z"
   },
   {
    "duration": 133,
    "start_time": "2025-01-03T20:04:28.163Z"
   },
   {
    "duration": 1097,
    "start_time": "2025-01-03T20:04:28.298Z"
   },
   {
    "duration": 177,
    "start_time": "2025-01-03T20:04:29.397Z"
   },
   {
    "duration": 4,
    "start_time": "2025-01-03T20:04:29.576Z"
   },
   {
    "duration": 54,
    "start_time": "2025-01-03T20:04:29.582Z"
   },
   {
    "duration": 4,
    "start_time": "2025-01-03T20:04:29.638Z"
   },
   {
    "duration": 72,
    "start_time": "2025-01-03T20:04:29.643Z"
   },
   {
    "duration": 14,
    "start_time": "2025-01-03T20:04:29.717Z"
   },
   {
    "duration": 49,
    "start_time": "2025-01-03T20:04:29.733Z"
   },
   {
    "duration": 14,
    "start_time": "2025-01-03T20:04:29.784Z"
   },
   {
    "duration": 1738,
    "start_time": "2025-01-03T20:04:29.800Z"
   },
   {
    "duration": 59,
    "start_time": "2025-01-03T20:04:31.540Z"
   },
   {
    "duration": 39,
    "start_time": "2025-01-03T20:04:31.601Z"
   },
   {
    "duration": 6,
    "start_time": "2025-01-03T20:04:31.641Z"
   },
   {
    "duration": 139,
    "start_time": "2025-01-03T20:04:31.649Z"
   },
   {
    "duration": 139,
    "start_time": "2025-01-03T20:04:31.790Z"
   },
   {
    "duration": 1282,
    "start_time": "2025-01-03T20:04:31.931Z"
   },
   {
    "duration": 153,
    "start_time": "2025-01-03T20:04:33.217Z"
   },
   {
    "duration": 10,
    "start_time": "2025-01-03T20:04:33.372Z"
   },
   {
    "duration": 158,
    "start_time": "2025-01-03T20:04:33.383Z"
   },
   {
    "duration": 31,
    "start_time": "2025-01-03T20:04:33.543Z"
   },
   {
    "duration": 17,
    "start_time": "2025-01-03T20:04:33.576Z"
   },
   {
    "duration": 3,
    "start_time": "2025-01-03T20:04:33.594Z"
   },
   {
    "duration": 70,
    "start_time": "2025-01-03T20:04:33.598Z"
   },
   {
    "duration": 3,
    "start_time": "2025-01-03T20:04:33.670Z"
   },
   {
    "duration": 12,
    "start_time": "2025-01-03T20:04:33.674Z"
   },
   {
    "duration": 7,
    "start_time": "2025-01-03T20:04:33.688Z"
   },
   {
    "duration": 1943,
    "start_time": "2025-01-03T20:04:33.696Z"
   },
   {
    "duration": 6,
    "start_time": "2025-01-03T20:04:40.193Z"
   },
   {
    "duration": 2203,
    "start_time": "2025-01-03T20:04:41.479Z"
   },
   {
    "duration": 6,
    "start_time": "2025-01-03T20:05:21.347Z"
   },
   {
    "duration": 2112,
    "start_time": "2025-01-03T20:05:22.595Z"
   },
   {
    "duration": 6,
    "start_time": "2025-01-03T20:05:52.316Z"
   },
   {
    "duration": 17488,
    "start_time": "2025-01-03T20:05:54.809Z"
   },
   {
    "duration": 6,
    "start_time": "2025-01-03T20:06:12.299Z"
   },
   {
    "duration": 4967,
    "start_time": "2025-01-03T20:06:12.592Z"
   },
   {
    "duration": 8356,
    "start_time": "2025-01-05T17:55:58.380Z"
   },
   {
    "duration": 2230,
    "start_time": "2025-01-05T17:56:06.739Z"
   },
   {
    "duration": 120,
    "start_time": "2025-01-05T17:56:08.975Z"
   },
   {
    "duration": 4,
    "start_time": "2025-01-05T17:56:09.097Z"
   },
   {
    "duration": 142,
    "start_time": "2025-01-05T17:56:09.103Z"
   },
   {
    "duration": 4,
    "start_time": "2025-01-05T17:56:09.246Z"
   },
   {
    "duration": 117,
    "start_time": "2025-01-05T17:56:09.252Z"
   },
   {
    "duration": 162,
    "start_time": "2025-01-05T17:56:09.370Z"
   },
   {
    "duration": 0,
    "start_time": "2025-01-05T17:56:09.536Z"
   },
   {
    "duration": 0,
    "start_time": "2025-01-05T17:56:09.538Z"
   },
   {
    "duration": 0,
    "start_time": "2025-01-05T17:56:09.539Z"
   },
   {
    "duration": 0,
    "start_time": "2025-01-05T17:56:09.541Z"
   },
   {
    "duration": 0,
    "start_time": "2025-01-05T17:56:09.543Z"
   },
   {
    "duration": 0,
    "start_time": "2025-01-05T17:56:09.544Z"
   },
   {
    "duration": 0,
    "start_time": "2025-01-05T17:56:09.545Z"
   },
   {
    "duration": 0,
    "start_time": "2025-01-05T17:56:09.547Z"
   },
   {
    "duration": 0,
    "start_time": "2025-01-05T17:56:09.549Z"
   },
   {
    "duration": 0,
    "start_time": "2025-01-05T17:56:09.570Z"
   },
   {
    "duration": 0,
    "start_time": "2025-01-05T17:56:09.571Z"
   },
   {
    "duration": 0,
    "start_time": "2025-01-05T17:56:09.572Z"
   },
   {
    "duration": 0,
    "start_time": "2025-01-05T17:56:09.576Z"
   },
   {
    "duration": 0,
    "start_time": "2025-01-05T17:56:09.577Z"
   },
   {
    "duration": 0,
    "start_time": "2025-01-05T17:56:09.578Z"
   },
   {
    "duration": 0,
    "start_time": "2025-01-05T17:56:09.579Z"
   },
   {
    "duration": 0,
    "start_time": "2025-01-05T17:56:09.580Z"
   },
   {
    "duration": 0,
    "start_time": "2025-01-05T17:56:09.582Z"
   },
   {
    "duration": 0,
    "start_time": "2025-01-05T17:56:09.583Z"
   },
   {
    "duration": 0,
    "start_time": "2025-01-05T17:56:09.584Z"
   },
   {
    "duration": 0,
    "start_time": "2025-01-05T17:56:09.585Z"
   },
   {
    "duration": 0,
    "start_time": "2025-01-05T17:56:09.588Z"
   },
   {
    "duration": 0,
    "start_time": "2025-01-05T17:56:09.589Z"
   },
   {
    "duration": 0,
    "start_time": "2025-01-05T17:56:09.590Z"
   },
   {
    "duration": 0,
    "start_time": "2025-01-05T17:56:09.592Z"
   },
   {
    "duration": 0,
    "start_time": "2025-01-05T17:56:09.593Z"
   },
   {
    "duration": 0,
    "start_time": "2025-01-05T17:56:09.594Z"
   },
   {
    "duration": 0,
    "start_time": "2025-01-05T17:56:09.596Z"
   },
   {
    "duration": 0,
    "start_time": "2025-01-05T17:56:09.597Z"
   },
   {
    "duration": 5151,
    "start_time": "2025-01-05T17:58:18.211Z"
   },
   {
    "duration": 1982,
    "start_time": "2025-01-05T17:58:23.364Z"
   },
   {
    "duration": 69,
    "start_time": "2025-01-05T17:58:25.348Z"
   },
   {
    "duration": 5,
    "start_time": "2025-01-05T17:58:25.419Z"
   },
   {
    "duration": 46,
    "start_time": "2025-01-05T17:58:25.425Z"
   },
   {
    "duration": 5,
    "start_time": "2025-01-05T17:58:25.472Z"
   },
   {
    "duration": 36,
    "start_time": "2025-01-05T17:58:25.478Z"
   },
   {
    "duration": 154,
    "start_time": "2025-01-05T17:58:25.516Z"
   },
   {
    "duration": 0,
    "start_time": "2025-01-05T17:58:25.672Z"
   },
   {
    "duration": 0,
    "start_time": "2025-01-05T17:58:25.673Z"
   },
   {
    "duration": 0,
    "start_time": "2025-01-05T17:58:25.675Z"
   },
   {
    "duration": 0,
    "start_time": "2025-01-05T17:58:25.676Z"
   },
   {
    "duration": 0,
    "start_time": "2025-01-05T17:58:25.677Z"
   },
   {
    "duration": 0,
    "start_time": "2025-01-05T17:58:25.679Z"
   },
   {
    "duration": 0,
    "start_time": "2025-01-05T17:58:25.680Z"
   },
   {
    "duration": 0,
    "start_time": "2025-01-05T17:58:25.681Z"
   },
   {
    "duration": 0,
    "start_time": "2025-01-05T17:58:25.682Z"
   },
   {
    "duration": 0,
    "start_time": "2025-01-05T17:58:25.683Z"
   },
   {
    "duration": 0,
    "start_time": "2025-01-05T17:58:25.685Z"
   },
   {
    "duration": 0,
    "start_time": "2025-01-05T17:58:25.687Z"
   },
   {
    "duration": 0,
    "start_time": "2025-01-05T17:58:25.688Z"
   },
   {
    "duration": 0,
    "start_time": "2025-01-05T17:58:25.690Z"
   },
   {
    "duration": 0,
    "start_time": "2025-01-05T17:58:25.690Z"
   },
   {
    "duration": 0,
    "start_time": "2025-01-05T17:58:25.692Z"
   },
   {
    "duration": 0,
    "start_time": "2025-01-05T17:58:25.693Z"
   },
   {
    "duration": 0,
    "start_time": "2025-01-05T17:58:25.694Z"
   },
   {
    "duration": 0,
    "start_time": "2025-01-05T17:58:25.695Z"
   },
   {
    "duration": 0,
    "start_time": "2025-01-05T17:58:25.696Z"
   },
   {
    "duration": 0,
    "start_time": "2025-01-05T17:58:25.698Z"
   },
   {
    "duration": 0,
    "start_time": "2025-01-05T17:58:25.699Z"
   },
   {
    "duration": 0,
    "start_time": "2025-01-05T17:58:25.700Z"
   },
   {
    "duration": 0,
    "start_time": "2025-01-05T17:58:25.701Z"
   },
   {
    "duration": 0,
    "start_time": "2025-01-05T17:58:25.702Z"
   },
   {
    "duration": 0,
    "start_time": "2025-01-05T17:58:25.703Z"
   },
   {
    "duration": 0,
    "start_time": "2025-01-05T17:58:25.704Z"
   },
   {
    "duration": 0,
    "start_time": "2025-01-05T17:58:25.706Z"
   },
   {
    "duration": 0,
    "start_time": "2025-01-05T17:58:25.707Z"
   },
   {
    "duration": 24,
    "start_time": "2025-01-05T18:00:04.491Z"
   },
   {
    "duration": 23,
    "start_time": "2025-01-05T18:05:18.288Z"
   },
   {
    "duration": 32,
    "start_time": "2025-01-05T18:08:45.526Z"
   },
   {
    "duration": 37,
    "start_time": "2025-01-05T18:08:51.532Z"
   },
   {
    "duration": 22,
    "start_time": "2025-01-05T18:09:51.360Z"
   },
   {
    "duration": 12,
    "start_time": "2025-01-05T18:10:15.860Z"
   },
   {
    "duration": 12,
    "start_time": "2025-01-05T18:10:28.727Z"
   },
   {
    "duration": 20,
    "start_time": "2025-01-05T18:10:39.370Z"
   },
   {
    "duration": 17,
    "start_time": "2025-01-05T18:10:56.229Z"
   },
   {
    "duration": 26,
    "start_time": "2025-01-05T18:11:04.638Z"
   },
   {
    "duration": 26,
    "start_time": "2025-01-05T18:12:16.439Z"
   },
   {
    "duration": 13,
    "start_time": "2025-01-05T18:12:36.217Z"
   },
   {
    "duration": 4,
    "start_time": "2025-01-05T18:13:00.850Z"
   },
   {
    "duration": 15,
    "start_time": "2025-01-05T18:13:17.425Z"
   },
   {
    "duration": 36,
    "start_time": "2025-01-05T18:14:57.883Z"
   },
   {
    "duration": 17,
    "start_time": "2025-01-05T18:15:19.543Z"
   },
   {
    "duration": 35,
    "start_time": "2025-01-05T18:15:37.777Z"
   },
   {
    "duration": 875,
    "start_time": "2025-01-05T18:15:47.554Z"
   },
   {
    "duration": 11,
    "start_time": "2025-01-05T18:16:37.672Z"
   },
   {
    "duration": 29,
    "start_time": "2025-01-05T18:21:28.752Z"
   },
   {
    "duration": 31,
    "start_time": "2025-01-05T18:21:58.060Z"
   },
   {
    "duration": 43,
    "start_time": "2025-01-05T18:22:44.082Z"
   },
   {
    "duration": 1391,
    "start_time": "2025-01-05T18:22:47.226Z"
   },
   {
    "duration": 1099,
    "start_time": "2025-01-05T18:23:02.960Z"
   },
   {
    "duration": 1070,
    "start_time": "2025-01-05T18:23:35.937Z"
   },
   {
    "duration": 12,
    "start_time": "2025-01-05T18:24:58.130Z"
   },
   {
    "duration": 11,
    "start_time": "2025-01-05T18:25:06.821Z"
   },
   {
    "duration": 14,
    "start_time": "2025-01-05T18:25:34.768Z"
   },
   {
    "duration": 5,
    "start_time": "2025-01-05T18:25:52.997Z"
   },
   {
    "duration": 6,
    "start_time": "2025-01-05T18:30:05.675Z"
   },
   {
    "duration": 33,
    "start_time": "2025-01-05T18:30:07.213Z"
   },
   {
    "duration": 1387,
    "start_time": "2025-01-05T18:30:11.319Z"
   },
   {
    "duration": 117,
    "start_time": "2025-01-05T18:30:13.924Z"
   },
   {
    "duration": 1086,
    "start_time": "2025-01-05T18:30:17.423Z"
   },
   {
    "duration": 4,
    "start_time": "2025-01-05T18:31:00.804Z"
   },
   {
    "duration": 5078,
    "start_time": "2025-01-05T18:31:12.408Z"
   },
   {
    "duration": 1928,
    "start_time": "2025-01-05T18:31:17.488Z"
   },
   {
    "duration": 70,
    "start_time": "2025-01-05T18:31:19.418Z"
   },
   {
    "duration": 5,
    "start_time": "2025-01-05T18:31:19.490Z"
   },
   {
    "duration": 67,
    "start_time": "2025-01-05T18:31:19.498Z"
   },
   {
    "duration": 4,
    "start_time": "2025-01-05T18:31:19.567Z"
   },
   {
    "duration": 38,
    "start_time": "2025-01-05T18:31:19.572Z"
   },
   {
    "duration": 6,
    "start_time": "2025-01-05T18:31:19.611Z"
   },
   {
    "duration": 34,
    "start_time": "2025-01-05T18:31:19.618Z"
   },
   {
    "duration": 1429,
    "start_time": "2025-01-05T18:31:19.654Z"
   },
   {
    "duration": 135,
    "start_time": "2025-01-05T18:31:21.084Z"
   },
   {
    "duration": 1101,
    "start_time": "2025-01-05T18:31:21.220Z"
   },
   {
    "duration": 173,
    "start_time": "2025-01-05T18:31:22.322Z"
   },
   {
    "duration": 3,
    "start_time": "2025-01-05T18:31:22.498Z"
   },
   {
    "duration": 68,
    "start_time": "2025-01-05T18:31:22.503Z"
   },
   {
    "duration": 3,
    "start_time": "2025-01-05T18:31:22.573Z"
   },
   {
    "duration": 58,
    "start_time": "2025-01-05T18:31:22.578Z"
   },
   {
    "duration": 5,
    "start_time": "2025-01-05T18:31:22.637Z"
   },
   {
    "duration": 4,
    "start_time": "2025-01-05T18:31:22.644Z"
   },
   {
    "duration": 14,
    "start_time": "2025-01-05T18:31:22.649Z"
   },
   {
    "duration": 1411,
    "start_time": "2025-01-05T18:31:22.665Z"
   },
   {
    "duration": 112,
    "start_time": "2025-01-05T18:31:24.077Z"
   },
   {
    "duration": 79,
    "start_time": "2025-01-05T18:31:24.191Z"
   },
   {
    "duration": 6,
    "start_time": "2025-01-05T18:31:24.272Z"
   },
   {
    "duration": 134,
    "start_time": "2025-01-05T18:31:24.280Z"
   },
   {
    "duration": 135,
    "start_time": "2025-01-05T18:31:24.416Z"
   },
   {
    "duration": 1299,
    "start_time": "2025-01-05T18:31:24.552Z"
   },
   {
    "duration": 154,
    "start_time": "2025-01-05T18:31:25.853Z"
   },
   {
    "duration": 10,
    "start_time": "2025-01-05T18:31:26.009Z"
   },
   {
    "duration": 159,
    "start_time": "2025-01-05T18:31:26.020Z"
   },
   {
    "duration": 166,
    "start_time": "2025-01-05T18:31:26.180Z"
   },
   {
    "duration": 0,
    "start_time": "2025-01-05T18:31:26.348Z"
   },
   {
    "duration": 0,
    "start_time": "2025-01-05T18:31:26.349Z"
   },
   {
    "duration": 0,
    "start_time": "2025-01-05T18:31:26.350Z"
   },
   {
    "duration": 0,
    "start_time": "2025-01-05T18:31:26.352Z"
   },
   {
    "duration": 0,
    "start_time": "2025-01-05T18:31:26.358Z"
   },
   {
    "duration": 0,
    "start_time": "2025-01-05T18:31:26.370Z"
   },
   {
    "duration": 0,
    "start_time": "2025-01-05T18:31:26.371Z"
   },
   {
    "duration": 38,
    "start_time": "2025-01-05T18:33:53.094Z"
   },
   {
    "duration": 1393,
    "start_time": "2025-01-05T18:34:30.346Z"
   },
   {
    "duration": 1110,
    "start_time": "2025-01-05T18:34:34.734Z"
   },
   {
    "duration": 1025,
    "start_time": "2025-01-05T18:34:51.260Z"
   },
   {
    "duration": 792,
    "start_time": "2025-01-05T18:34:56.492Z"
   },
   {
    "duration": 62,
    "start_time": "2025-01-05T18:35:04.691Z"
   },
   {
    "duration": 61,
    "start_time": "2025-01-05T18:35:09.600Z"
   },
   {
    "duration": 25,
    "start_time": "2025-01-05T18:35:42.470Z"
   },
   {
    "duration": 64,
    "start_time": "2025-01-05T18:35:47.331Z"
   },
   {
    "duration": 26,
    "start_time": "2025-01-05T18:37:03.213Z"
   },
   {
    "duration": 61,
    "start_time": "2025-01-05T18:37:07.744Z"
   },
   {
    "duration": 25,
    "start_time": "2025-01-05T18:37:27.349Z"
   },
   {
    "duration": 1469,
    "start_time": "2025-01-05T18:37:35.753Z"
   },
   {
    "duration": 1135,
    "start_time": "2025-01-05T18:37:45.523Z"
   },
   {
    "duration": 165,
    "start_time": "2025-01-05T18:44:17.016Z"
   },
   {
    "duration": 166,
    "start_time": "2025-01-05T18:45:18.687Z"
   },
   {
    "duration": 1459,
    "start_time": "2025-01-05T18:45:32.074Z"
   },
   {
    "duration": 1351,
    "start_time": "2025-01-05T18:45:40.246Z"
   },
   {
    "duration": 1472,
    "start_time": "2025-01-05T18:45:49.374Z"
   },
   {
    "duration": 157,
    "start_time": "2025-01-05T18:46:59.148Z"
   },
   {
    "duration": 1463,
    "start_time": "2025-01-05T18:48:02.222Z"
   },
   {
    "duration": 112,
    "start_time": "2025-01-05T18:49:25.987Z"
   },
   {
    "duration": 1354,
    "start_time": "2025-01-05T18:49:36.429Z"
   },
   {
    "duration": 1473,
    "start_time": "2025-01-05T18:49:43.408Z"
   },
   {
    "duration": 1511,
    "start_time": "2025-01-05T18:50:04.165Z"
   },
   {
    "duration": 1223,
    "start_time": "2025-01-05T18:50:25.265Z"
   },
   {
    "duration": 1476,
    "start_time": "2025-01-05T18:52:07.269Z"
   },
   {
    "duration": 1382,
    "start_time": "2025-01-05T18:52:27.625Z"
   },
   {
    "duration": 1384,
    "start_time": "2025-01-05T18:52:58.162Z"
   },
   {
    "duration": 5054,
    "start_time": "2025-01-05T23:12:06.542Z"
   },
   {
    "duration": 1887,
    "start_time": "2025-01-05T23:12:11.598Z"
   },
   {
    "duration": 65,
    "start_time": "2025-01-05T23:12:13.487Z"
   },
   {
    "duration": 6,
    "start_time": "2025-01-05T23:12:13.555Z"
   },
   {
    "duration": 43,
    "start_time": "2025-01-05T23:12:13.562Z"
   },
   {
    "duration": 6,
    "start_time": "2025-01-05T23:12:13.607Z"
   },
   {
    "duration": 37,
    "start_time": "2025-01-05T23:12:13.614Z"
   },
   {
    "duration": 5,
    "start_time": "2025-01-05T23:12:13.653Z"
   },
   {
    "duration": 27,
    "start_time": "2025-01-05T23:12:13.660Z"
   },
   {
    "duration": 153,
    "start_time": "2025-01-05T23:12:13.690Z"
   },
   {
    "duration": 0,
    "start_time": "2025-01-05T23:12:13.845Z"
   },
   {
    "duration": 0,
    "start_time": "2025-01-05T23:12:13.846Z"
   },
   {
    "duration": 0,
    "start_time": "2025-01-05T23:12:13.847Z"
   },
   {
    "duration": 0,
    "start_time": "2025-01-05T23:12:13.848Z"
   },
   {
    "duration": 0,
    "start_time": "2025-01-05T23:12:13.849Z"
   },
   {
    "duration": 0,
    "start_time": "2025-01-05T23:12:13.850Z"
   },
   {
    "duration": 0,
    "start_time": "2025-01-05T23:12:13.851Z"
   },
   {
    "duration": 0,
    "start_time": "2025-01-05T23:12:13.854Z"
   },
   {
    "duration": 0,
    "start_time": "2025-01-05T23:12:13.870Z"
   },
   {
    "duration": 0,
    "start_time": "2025-01-05T23:12:13.871Z"
   },
   {
    "duration": 0,
    "start_time": "2025-01-05T23:12:13.873Z"
   },
   {
    "duration": 0,
    "start_time": "2025-01-05T23:12:13.873Z"
   },
   {
    "duration": 0,
    "start_time": "2025-01-05T23:12:13.875Z"
   },
   {
    "duration": 0,
    "start_time": "2025-01-05T23:12:13.876Z"
   },
   {
    "duration": 0,
    "start_time": "2025-01-05T23:12:13.877Z"
   },
   {
    "duration": 0,
    "start_time": "2025-01-05T23:12:13.878Z"
   },
   {
    "duration": 0,
    "start_time": "2025-01-05T23:12:13.879Z"
   },
   {
    "duration": 0,
    "start_time": "2025-01-05T23:12:13.880Z"
   },
   {
    "duration": 0,
    "start_time": "2025-01-05T23:12:13.881Z"
   },
   {
    "duration": 0,
    "start_time": "2025-01-05T23:12:13.882Z"
   },
   {
    "duration": 0,
    "start_time": "2025-01-05T23:12:13.883Z"
   },
   {
    "duration": 0,
    "start_time": "2025-01-05T23:12:13.884Z"
   },
   {
    "duration": 0,
    "start_time": "2025-01-05T23:12:13.885Z"
   },
   {
    "duration": 0,
    "start_time": "2025-01-05T23:12:13.886Z"
   },
   {
    "duration": 0,
    "start_time": "2025-01-05T23:12:13.888Z"
   },
   {
    "duration": 0,
    "start_time": "2025-01-05T23:12:13.888Z"
   },
   {
    "duration": 0,
    "start_time": "2025-01-05T23:12:13.889Z"
   },
   {
    "duration": 0,
    "start_time": "2025-01-05T23:12:13.891Z"
   },
   {
    "duration": 1107,
    "start_time": "2025-01-05T23:13:04.614Z"
   },
   {
    "duration": 4965,
    "start_time": "2025-01-05T23:13:11.040Z"
   },
   {
    "duration": 1873,
    "start_time": "2025-01-05T23:13:16.008Z"
   },
   {
    "duration": 68,
    "start_time": "2025-01-05T23:13:17.882Z"
   },
   {
    "duration": 4,
    "start_time": "2025-01-05T23:13:17.951Z"
   },
   {
    "duration": 44,
    "start_time": "2025-01-05T23:13:17.957Z"
   },
   {
    "duration": 73,
    "start_time": "2025-01-05T23:13:18.003Z"
   },
   {
    "duration": 105,
    "start_time": "2025-01-05T23:13:18.078Z"
   },
   {
    "duration": 6,
    "start_time": "2025-01-05T23:13:18.184Z"
   },
   {
    "duration": 33,
    "start_time": "2025-01-05T23:13:18.191Z"
   },
   {
    "duration": 1204,
    "start_time": "2025-01-05T23:13:18.225Z"
   },
   {
    "duration": 0,
    "start_time": "2025-01-05T23:13:19.431Z"
   },
   {
    "duration": 0,
    "start_time": "2025-01-05T23:13:19.433Z"
   },
   {
    "duration": 0,
    "start_time": "2025-01-05T23:13:19.434Z"
   },
   {
    "duration": 0,
    "start_time": "2025-01-05T23:13:19.435Z"
   },
   {
    "duration": 0,
    "start_time": "2025-01-05T23:13:19.436Z"
   },
   {
    "duration": 0,
    "start_time": "2025-01-05T23:13:19.437Z"
   },
   {
    "duration": 0,
    "start_time": "2025-01-05T23:13:19.439Z"
   },
   {
    "duration": 0,
    "start_time": "2025-01-05T23:13:19.440Z"
   },
   {
    "duration": 0,
    "start_time": "2025-01-05T23:13:19.441Z"
   },
   {
    "duration": 0,
    "start_time": "2025-01-05T23:13:19.443Z"
   },
   {
    "duration": 0,
    "start_time": "2025-01-05T23:13:19.444Z"
   },
   {
    "duration": 0,
    "start_time": "2025-01-05T23:13:19.470Z"
   },
   {
    "duration": 0,
    "start_time": "2025-01-05T23:13:19.471Z"
   },
   {
    "duration": 0,
    "start_time": "2025-01-05T23:13:19.472Z"
   },
   {
    "duration": 0,
    "start_time": "2025-01-05T23:13:19.474Z"
   },
   {
    "duration": 0,
    "start_time": "2025-01-05T23:13:19.475Z"
   },
   {
    "duration": 0,
    "start_time": "2025-01-05T23:13:19.477Z"
   },
   {
    "duration": 0,
    "start_time": "2025-01-05T23:13:19.478Z"
   },
   {
    "duration": 0,
    "start_time": "2025-01-05T23:13:19.479Z"
   },
   {
    "duration": 0,
    "start_time": "2025-01-05T23:13:19.481Z"
   },
   {
    "duration": 0,
    "start_time": "2025-01-05T23:13:19.482Z"
   },
   {
    "duration": 0,
    "start_time": "2025-01-05T23:13:19.483Z"
   },
   {
    "duration": 0,
    "start_time": "2025-01-05T23:13:19.485Z"
   },
   {
    "duration": 0,
    "start_time": "2025-01-05T23:13:19.487Z"
   },
   {
    "duration": 0,
    "start_time": "2025-01-05T23:13:19.488Z"
   },
   {
    "duration": 0,
    "start_time": "2025-01-05T23:13:19.489Z"
   },
   {
    "duration": 0,
    "start_time": "2025-01-05T23:13:19.490Z"
   },
   {
    "duration": 0,
    "start_time": "2025-01-05T23:13:19.492Z"
   },
   {
    "duration": 5037,
    "start_time": "2025-01-05T23:18:21.478Z"
   },
   {
    "duration": 1885,
    "start_time": "2025-01-05T23:18:26.518Z"
   },
   {
    "duration": 66,
    "start_time": "2025-01-05T23:18:28.404Z"
   },
   {
    "duration": 5,
    "start_time": "2025-01-05T23:18:28.473Z"
   },
   {
    "duration": 49,
    "start_time": "2025-01-05T23:18:28.480Z"
   },
   {
    "duration": 5,
    "start_time": "2025-01-05T23:18:28.531Z"
   },
   {
    "duration": 40,
    "start_time": "2025-01-05T23:18:28.538Z"
   },
   {
    "duration": 6,
    "start_time": "2025-01-05T23:18:28.579Z"
   },
   {
    "duration": 27,
    "start_time": "2025-01-05T23:18:28.587Z"
   },
   {
    "duration": 1489,
    "start_time": "2025-01-05T23:18:28.616Z"
   },
   {
    "duration": 249,
    "start_time": "2025-01-05T23:18:30.107Z"
   },
   {
    "duration": 0,
    "start_time": "2025-01-05T23:18:30.358Z"
   },
   {
    "duration": 0,
    "start_time": "2025-01-05T23:18:30.370Z"
   },
   {
    "duration": 0,
    "start_time": "2025-01-05T23:18:30.371Z"
   },
   {
    "duration": 0,
    "start_time": "2025-01-05T23:18:30.372Z"
   },
   {
    "duration": 0,
    "start_time": "2025-01-05T23:18:30.373Z"
   },
   {
    "duration": 0,
    "start_time": "2025-01-05T23:18:30.374Z"
   },
   {
    "duration": 0,
    "start_time": "2025-01-05T23:18:30.376Z"
   },
   {
    "duration": 0,
    "start_time": "2025-01-05T23:18:30.376Z"
   },
   {
    "duration": 0,
    "start_time": "2025-01-05T23:18:30.377Z"
   },
   {
    "duration": 0,
    "start_time": "2025-01-05T23:18:30.378Z"
   },
   {
    "duration": 0,
    "start_time": "2025-01-05T23:18:30.379Z"
   },
   {
    "duration": 0,
    "start_time": "2025-01-05T23:18:30.380Z"
   },
   {
    "duration": 0,
    "start_time": "2025-01-05T23:18:30.381Z"
   },
   {
    "duration": 0,
    "start_time": "2025-01-05T23:18:30.382Z"
   },
   {
    "duration": 0,
    "start_time": "2025-01-05T23:18:30.383Z"
   },
   {
    "duration": 0,
    "start_time": "2025-01-05T23:18:30.384Z"
   },
   {
    "duration": 0,
    "start_time": "2025-01-05T23:18:30.385Z"
   },
   {
    "duration": 0,
    "start_time": "2025-01-05T23:18:30.386Z"
   },
   {
    "duration": 0,
    "start_time": "2025-01-05T23:18:30.387Z"
   },
   {
    "duration": 0,
    "start_time": "2025-01-05T23:18:30.388Z"
   },
   {
    "duration": 0,
    "start_time": "2025-01-05T23:18:30.389Z"
   },
   {
    "duration": 0,
    "start_time": "2025-01-05T23:18:30.390Z"
   },
   {
    "duration": 0,
    "start_time": "2025-01-05T23:18:30.391Z"
   },
   {
    "duration": 0,
    "start_time": "2025-01-05T23:18:30.392Z"
   },
   {
    "duration": 0,
    "start_time": "2025-01-05T23:18:30.393Z"
   },
   {
    "duration": 0,
    "start_time": "2025-01-05T23:18:30.394Z"
   },
   {
    "duration": 0,
    "start_time": "2025-01-05T23:18:30.395Z"
   },
   {
    "duration": 117,
    "start_time": "2025-01-05T23:18:49.752Z"
   },
   {
    "duration": 1284,
    "start_time": "2025-01-05T23:18:53.454Z"
   },
   {
    "duration": 162,
    "start_time": "2025-01-05T23:18:58.341Z"
   },
   {
    "duration": 4,
    "start_time": "2025-01-05T23:19:03.981Z"
   },
   {
    "duration": 55,
    "start_time": "2025-01-05T23:19:04.828Z"
   },
   {
    "duration": 1512,
    "start_time": "2025-01-05T23:22:05.296Z"
   },
   {
    "duration": 1214,
    "start_time": "2025-01-05T23:22:18.411Z"
   },
   {
    "duration": 1257,
    "start_time": "2025-01-05T23:23:29.379Z"
   },
   {
    "duration": 852,
    "start_time": "2025-01-05T23:23:43.590Z"
   },
   {
    "duration": 4984,
    "start_time": "2025-01-05T23:23:48.338Z"
   },
   {
    "duration": 1882,
    "start_time": "2025-01-05T23:23:53.324Z"
   },
   {
    "duration": 67,
    "start_time": "2025-01-05T23:23:55.208Z"
   },
   {
    "duration": 5,
    "start_time": "2025-01-05T23:23:55.276Z"
   },
   {
    "duration": 44,
    "start_time": "2025-01-05T23:23:55.283Z"
   },
   {
    "duration": 4,
    "start_time": "2025-01-05T23:23:55.329Z"
   },
   {
    "duration": 47,
    "start_time": "2025-01-05T23:23:55.335Z"
   },
   {
    "duration": 6,
    "start_time": "2025-01-05T23:23:55.384Z"
   },
   {
    "duration": 28,
    "start_time": "2025-01-05T23:23:55.391Z"
   },
   {
    "duration": 1250,
    "start_time": "2025-01-05T23:23:55.420Z"
   },
   {
    "duration": 227,
    "start_time": "2025-01-05T23:23:56.672Z"
   },
   {
    "duration": 993,
    "start_time": "2025-01-05T23:23:56.900Z"
   },
   {
    "duration": 167,
    "start_time": "2025-01-05T23:23:57.895Z"
   },
   {
    "duration": 3,
    "start_time": "2025-01-05T23:23:58.070Z"
   },
   {
    "duration": 93,
    "start_time": "2025-01-05T23:23:58.075Z"
   },
   {
    "duration": 36,
    "start_time": "2025-01-05T23:23:58.169Z"
   },
   {
    "duration": 31,
    "start_time": "2025-01-05T23:23:58.207Z"
   },
   {
    "duration": 5,
    "start_time": "2025-01-05T23:23:58.240Z"
   },
   {
    "duration": 4,
    "start_time": "2025-01-05T23:23:58.247Z"
   },
   {
    "duration": 3,
    "start_time": "2025-01-05T23:23:58.253Z"
   },
   {
    "duration": 1746,
    "start_time": "2025-01-05T23:23:58.258Z"
   },
   {
    "duration": 59,
    "start_time": "2025-01-05T23:24:00.006Z"
   },
   {
    "duration": 106,
    "start_time": "2025-01-05T23:24:00.067Z"
   },
   {
    "duration": 183,
    "start_time": "2025-01-05T23:24:00.175Z"
   },
   {
    "duration": 176,
    "start_time": "2025-01-05T23:24:00.359Z"
   },
   {
    "duration": 131,
    "start_time": "2025-01-05T23:24:00.537Z"
   },
   {
    "duration": 1264,
    "start_time": "2025-01-05T23:24:00.671Z"
   },
   {
    "duration": 149,
    "start_time": "2025-01-05T23:24:01.937Z"
   },
   {
    "duration": 10,
    "start_time": "2025-01-05T23:24:02.088Z"
   },
   {
    "duration": 313,
    "start_time": "2025-01-05T23:24:02.100Z"
   },
   {
    "duration": 23,
    "start_time": "2025-01-05T23:24:02.415Z"
   },
   {
    "duration": 29,
    "start_time": "2025-01-05T23:24:02.440Z"
   },
   {
    "duration": 27,
    "start_time": "2025-01-05T23:24:02.470Z"
   },
   {
    "duration": 80,
    "start_time": "2025-01-05T23:24:02.499Z"
   },
   {
    "duration": 3,
    "start_time": "2025-01-05T23:24:02.580Z"
   },
   {
    "duration": 46,
    "start_time": "2025-01-05T23:24:02.585Z"
   },
   {
    "duration": 36,
    "start_time": "2025-01-05T23:24:02.632Z"
   },
   {
    "duration": 4980,
    "start_time": "2025-01-05T23:24:02.669Z"
   },
   {
    "duration": 313,
    "start_time": "2025-01-05T23:39:55.268Z"
   },
   {
    "duration": 5,
    "start_time": "2025-01-05T23:40:39.138Z"
   },
   {
    "duration": 262,
    "start_time": "2025-01-05T23:40:47.039Z"
   },
   {
    "duration": 229,
    "start_time": "2025-01-05T23:43:43.518Z"
   },
   {
    "duration": 233,
    "start_time": "2025-01-05T23:50:59.948Z"
   },
   {
    "duration": 206,
    "start_time": "2025-01-05T23:51:41.520Z"
   },
   {
    "duration": 206,
    "start_time": "2025-01-05T23:51:50.005Z"
   },
   {
    "duration": 16,
    "start_time": "2025-01-05T23:51:59.913Z"
   },
   {
    "duration": 202,
    "start_time": "2025-01-05T23:52:12.196Z"
   },
   {
    "duration": 4961,
    "start_time": "2025-01-05T23:52:15.656Z"
   },
   {
    "duration": 1930,
    "start_time": "2025-01-05T23:52:20.619Z"
   },
   {
    "duration": 70,
    "start_time": "2025-01-05T23:52:22.550Z"
   },
   {
    "duration": 5,
    "start_time": "2025-01-05T23:52:22.622Z"
   },
   {
    "duration": 79,
    "start_time": "2025-01-05T23:52:22.629Z"
   },
   {
    "duration": 4,
    "start_time": "2025-01-05T23:52:22.710Z"
   },
   {
    "duration": 43,
    "start_time": "2025-01-05T23:52:22.716Z"
   },
   {
    "duration": 6,
    "start_time": "2025-01-05T23:52:22.761Z"
   },
   {
    "duration": 41,
    "start_time": "2025-01-05T23:52:22.768Z"
   },
   {
    "duration": 1172,
    "start_time": "2025-01-05T23:52:22.812Z"
   },
   {
    "duration": 251,
    "start_time": "2025-01-05T23:52:23.986Z"
   },
   {
    "duration": 238,
    "start_time": "2025-01-05T23:52:24.239Z"
   },
   {
    "duration": 1023,
    "start_time": "2025-01-05T23:52:24.479Z"
   },
   {
    "duration": 171,
    "start_time": "2025-01-05T23:52:25.504Z"
   },
   {
    "duration": 198,
    "start_time": "2025-01-05T23:52:25.677Z"
   },
   {
    "duration": 4,
    "start_time": "2025-01-05T23:52:25.877Z"
   },
   {
    "duration": 51,
    "start_time": "2025-01-05T23:52:25.882Z"
   },
   {
    "duration": 4,
    "start_time": "2025-01-05T23:52:25.935Z"
   },
   {
    "duration": 30,
    "start_time": "2025-01-05T23:52:25.940Z"
   },
   {
    "duration": 2,
    "start_time": "2025-01-05T23:52:25.972Z"
   },
   {
    "duration": 5,
    "start_time": "2025-01-05T23:52:25.976Z"
   },
   {
    "duration": 7,
    "start_time": "2025-01-05T23:52:25.982Z"
   },
   {
    "duration": 1687,
    "start_time": "2025-01-05T23:52:25.991Z"
   },
   {
    "duration": 56,
    "start_time": "2025-01-05T23:52:27.679Z"
   },
   {
    "duration": 37,
    "start_time": "2025-01-05T23:52:27.737Z"
   },
   {
    "duration": 5,
    "start_time": "2025-01-05T23:52:27.776Z"
   },
   {
    "duration": 153,
    "start_time": "2025-01-05T23:52:27.783Z"
   },
   {
    "duration": 129,
    "start_time": "2025-01-05T23:52:27.939Z"
   },
   {
    "duration": 1241,
    "start_time": "2025-01-05T23:52:28.071Z"
   },
   {
    "duration": 151,
    "start_time": "2025-01-05T23:52:29.313Z"
   },
   {
    "duration": 11,
    "start_time": "2025-01-05T23:52:29.470Z"
   },
   {
    "duration": 166,
    "start_time": "2025-01-05T23:52:29.482Z"
   },
   {
    "duration": 32,
    "start_time": "2025-01-05T23:52:29.650Z"
   },
   {
    "duration": 19,
    "start_time": "2025-01-05T23:52:29.684Z"
   },
   {
    "duration": 6,
    "start_time": "2025-01-05T23:52:29.704Z"
   },
   {
    "duration": 60,
    "start_time": "2025-01-05T23:52:29.711Z"
   },
   {
    "duration": 3,
    "start_time": "2025-01-05T23:52:29.773Z"
   },
   {
    "duration": 22,
    "start_time": "2025-01-05T23:52:29.777Z"
   },
   {
    "duration": 10,
    "start_time": "2025-01-05T23:52:29.800Z"
   },
   {
    "duration": 4941,
    "start_time": "2025-01-05T23:52:29.811Z"
   },
   {
    "duration": 68,
    "start_time": "2025-01-06T00:04:54.240Z"
   },
   {
    "duration": 2696,
    "start_time": "2025-01-06T00:22:45.981Z"
   },
   {
    "duration": 6156,
    "start_time": "2025-01-06T00:23:35.199Z"
   },
   {
    "duration": 3,
    "start_time": "2025-01-06T00:23:51.351Z"
   },
   {
    "duration": 185,
    "start_time": "2025-01-06T00:29:10.810Z"
   },
   {
    "duration": 80,
    "start_time": "2025-01-06T00:29:24.039Z"
   },
   {
    "duration": 5,
    "start_time": "2025-01-06T00:29:31.366Z"
   },
   {
    "duration": 3,
    "start_time": "2025-01-06T00:31:00.598Z"
   },
   {
    "duration": 4,
    "start_time": "2025-01-06T00:31:05.123Z"
   },
   {
    "duration": 4,
    "start_time": "2025-01-06T00:41:53.914Z"
   },
   {
    "duration": 790,
    "start_time": "2025-01-06T00:42:24.491Z"
   },
   {
    "duration": 3,
    "start_time": "2025-01-06T00:42:44.261Z"
   },
   {
    "duration": 4,
    "start_time": "2025-01-06T00:42:51.520Z"
   },
   {
    "duration": 748,
    "start_time": "2025-01-06T00:42:53.277Z"
   },
   {
    "duration": 5,
    "start_time": "2025-01-06T00:43:14.080Z"
   },
   {
    "duration": 743,
    "start_time": "2025-01-06T00:43:16.520Z"
   },
   {
    "duration": 5098,
    "start_time": "2025-01-06T00:43:40.976Z"
   },
   {
    "duration": 3,
    "start_time": "2025-01-06T00:43:46.076Z"
   },
   {
    "duration": 1972,
    "start_time": "2025-01-06T00:43:46.081Z"
   },
   {
    "duration": 69,
    "start_time": "2025-01-06T00:43:48.055Z"
   },
   {
    "duration": 4,
    "start_time": "2025-01-06T00:43:48.126Z"
   },
   {
    "duration": 47,
    "start_time": "2025-01-06T00:43:48.132Z"
   },
   {
    "duration": 4,
    "start_time": "2025-01-06T00:43:48.181Z"
   },
   {
    "duration": 37,
    "start_time": "2025-01-06T00:43:48.187Z"
   },
   {
    "duration": 6,
    "start_time": "2025-01-06T00:43:48.225Z"
   },
   {
    "duration": 27,
    "start_time": "2025-01-06T00:43:48.234Z"
   },
   {
    "duration": 1187,
    "start_time": "2025-01-06T00:43:48.263Z"
   },
   {
    "duration": 230,
    "start_time": "2025-01-06T00:43:49.452Z"
   },
   {
    "duration": 238,
    "start_time": "2025-01-06T00:43:49.683Z"
   },
   {
    "duration": 1020,
    "start_time": "2025-01-06T00:43:49.922Z"
   },
   {
    "duration": 174,
    "start_time": "2025-01-06T00:43:50.944Z"
   },
   {
    "duration": 175,
    "start_time": "2025-01-06T00:43:51.120Z"
   },
   {
    "duration": 4,
    "start_time": "2025-01-06T00:43:51.297Z"
   },
   {
    "duration": 84,
    "start_time": "2025-01-06T00:43:51.303Z"
   },
   {
    "duration": 3,
    "start_time": "2025-01-06T00:43:51.389Z"
   },
   {
    "duration": 6,
    "start_time": "2025-01-06T00:43:51.394Z"
   },
   {
    "duration": 6,
    "start_time": "2025-01-06T00:43:51.402Z"
   },
   {
    "duration": 9,
    "start_time": "2025-01-06T00:43:51.410Z"
   },
   {
    "duration": 107,
    "start_time": "2025-01-06T00:43:51.420Z"
   },
   {
    "duration": 881,
    "start_time": "2025-01-06T00:43:51.529Z"
   },
   {
    "duration": 0,
    "start_time": "2025-01-06T00:43:52.412Z"
   },
   {
    "duration": 0,
    "start_time": "2025-01-06T00:43:52.413Z"
   },
   {
    "duration": 0,
    "start_time": "2025-01-06T00:43:52.415Z"
   },
   {
    "duration": 0,
    "start_time": "2025-01-06T00:43:52.416Z"
   },
   {
    "duration": 0,
    "start_time": "2025-01-06T00:43:52.417Z"
   },
   {
    "duration": 0,
    "start_time": "2025-01-06T00:43:52.418Z"
   },
   {
    "duration": 0,
    "start_time": "2025-01-06T00:43:52.420Z"
   },
   {
    "duration": 0,
    "start_time": "2025-01-06T00:43:52.421Z"
   },
   {
    "duration": 0,
    "start_time": "2025-01-06T00:43:52.422Z"
   },
   {
    "duration": 0,
    "start_time": "2025-01-06T00:43:52.423Z"
   },
   {
    "duration": 0,
    "start_time": "2025-01-06T00:43:52.425Z"
   },
   {
    "duration": 0,
    "start_time": "2025-01-06T00:43:52.426Z"
   },
   {
    "duration": 0,
    "start_time": "2025-01-06T00:43:52.427Z"
   },
   {
    "duration": 0,
    "start_time": "2025-01-06T00:43:52.428Z"
   },
   {
    "duration": 0,
    "start_time": "2025-01-06T00:43:52.430Z"
   },
   {
    "duration": 0,
    "start_time": "2025-01-06T00:43:52.471Z"
   },
   {
    "duration": 0,
    "start_time": "2025-01-06T00:43:52.473Z"
   },
   {
    "duration": 4,
    "start_time": "2025-01-06T00:45:14.240Z"
   },
   {
    "duration": 4,
    "start_time": "2025-01-06T00:45:18.950Z"
   },
   {
    "duration": 4,
    "start_time": "2025-01-06T00:45:39.937Z"
   },
   {
    "duration": 756,
    "start_time": "2025-01-06T00:45:42.125Z"
   },
   {
    "duration": 757,
    "start_time": "2025-01-06T00:47:39.066Z"
   },
   {
    "duration": 6,
    "start_time": "2025-01-06T00:48:01.280Z"
   },
   {
    "duration": 3,
    "start_time": "2025-01-06T00:48:03.648Z"
   },
   {
    "duration": 5,
    "start_time": "2025-01-06T00:48:04.238Z"
   },
   {
    "duration": 3,
    "start_time": "2025-01-06T00:48:05.955Z"
   },
   {
    "duration": 2030,
    "start_time": "2025-01-06T00:48:07.622Z"
   },
   {
    "duration": 4,
    "start_time": "2025-01-06T00:48:46.548Z"
   },
   {
    "duration": 2014,
    "start_time": "2025-01-06T00:48:48.094Z"
   },
   {
    "duration": 12,
    "start_time": "2025-01-06T00:52:04.386Z"
   },
   {
    "duration": 12,
    "start_time": "2025-01-06T00:52:27.491Z"
   },
   {
    "duration": 60,
    "start_time": "2025-01-06T00:52:34.898Z"
   },
   {
    "duration": 15,
    "start_time": "2025-01-06T00:52:49.227Z"
   },
   {
    "duration": 58,
    "start_time": "2025-01-06T00:55:41.317Z"
   },
   {
    "duration": 49,
    "start_time": "2025-01-06T00:55:42.699Z"
   },
   {
    "duration": 6,
    "start_time": "2025-01-06T00:55:45.053Z"
   },
   {
    "duration": 127,
    "start_time": "2025-01-06T00:55:49.870Z"
   },
   {
    "duration": 126,
    "start_time": "2025-01-06T00:55:56.287Z"
   },
   {
    "duration": 110,
    "start_time": "2025-01-06T00:58:17.546Z"
   },
   {
    "duration": 108,
    "start_time": "2025-01-06T00:58:45.345Z"
   },
   {
    "duration": 112,
    "start_time": "2025-01-06T00:59:23.885Z"
   },
   {
    "duration": 1254,
    "start_time": "2025-01-06T00:59:41.258Z"
   },
   {
    "duration": 141,
    "start_time": "2025-01-06T00:59:51.354Z"
   },
   {
    "duration": 8,
    "start_time": "2025-01-06T01:00:11.109Z"
   },
   {
    "duration": 166,
    "start_time": "2025-01-06T01:01:49.765Z"
   },
   {
    "duration": 176,
    "start_time": "2025-01-06T01:01:56.640Z"
   },
   {
    "duration": 13,
    "start_time": "2025-01-06T01:06:06.097Z"
   },
   {
    "duration": 12,
    "start_time": "2025-01-06T01:08:34.629Z"
   },
   {
    "duration": 17,
    "start_time": "2025-01-06T01:10:02.274Z"
   },
   {
    "duration": 16,
    "start_time": "2025-01-06T01:10:37.779Z"
   },
   {
    "duration": 18,
    "start_time": "2025-01-06T01:10:41.071Z"
   },
   {
    "duration": 14,
    "start_time": "2025-01-06T01:10:59.279Z"
   },
   {
    "duration": 5667,
    "start_time": "2025-01-06T01:11:35.110Z"
   },
   {
    "duration": 3,
    "start_time": "2025-01-06T01:11:40.779Z"
   },
   {
    "duration": 1889,
    "start_time": "2025-01-06T01:11:40.784Z"
   },
   {
    "duration": 67,
    "start_time": "2025-01-06T01:11:42.674Z"
   },
   {
    "duration": 5,
    "start_time": "2025-01-06T01:11:42.743Z"
   },
   {
    "duration": 66,
    "start_time": "2025-01-06T01:11:42.750Z"
   },
   {
    "duration": 4,
    "start_time": "2025-01-06T01:11:42.818Z"
   },
   {
    "duration": 35,
    "start_time": "2025-01-06T01:11:42.824Z"
   },
   {
    "duration": 5,
    "start_time": "2025-01-06T01:11:42.860Z"
   },
   {
    "duration": 32,
    "start_time": "2025-01-06T01:11:42.867Z"
   },
   {
    "duration": 1185,
    "start_time": "2025-01-06T01:11:42.901Z"
   },
   {
    "duration": 256,
    "start_time": "2025-01-06T01:11:44.088Z"
   },
   {
    "duration": 235,
    "start_time": "2025-01-06T01:11:44.345Z"
   },
   {
    "duration": 998,
    "start_time": "2025-01-06T01:11:44.583Z"
   },
   {
    "duration": 182,
    "start_time": "2025-01-06T01:11:45.582Z"
   },
   {
    "duration": 176,
    "start_time": "2025-01-06T01:11:45.771Z"
   },
   {
    "duration": 4,
    "start_time": "2025-01-06T01:11:45.949Z"
   },
   {
    "duration": 75,
    "start_time": "2025-01-06T01:11:45.954Z"
   },
   {
    "duration": 3,
    "start_time": "2025-01-06T01:11:46.031Z"
   },
   {
    "duration": 33,
    "start_time": "2025-01-06T01:11:46.036Z"
   },
   {
    "duration": 4,
    "start_time": "2025-01-06T01:11:46.070Z"
   },
   {
    "duration": 3,
    "start_time": "2025-01-06T01:11:46.076Z"
   },
   {
    "duration": 6,
    "start_time": "2025-01-06T01:11:46.081Z"
   },
   {
    "duration": 2057,
    "start_time": "2025-01-06T01:11:46.089Z"
   },
   {
    "duration": 27,
    "start_time": "2025-01-06T01:11:48.148Z"
   },
   {
    "duration": 58,
    "start_time": "2025-01-06T01:11:48.177Z"
   },
   {
    "duration": 36,
    "start_time": "2025-01-06T01:11:48.237Z"
   },
   {
    "duration": 6,
    "start_time": "2025-01-06T01:11:48.275Z"
   },
   {
    "duration": 121,
    "start_time": "2025-01-06T01:11:48.282Z"
   },
   {
    "duration": 117,
    "start_time": "2025-01-06T01:11:48.404Z"
   },
   {
    "duration": 12,
    "start_time": "2025-01-06T01:11:48.523Z"
   },
   {
    "duration": 1312,
    "start_time": "2025-01-06T01:11:48.536Z"
   },
   {
    "duration": 150,
    "start_time": "2025-01-06T01:11:49.849Z"
   },
   {
    "duration": 159,
    "start_time": "2025-01-06T01:11:50.001Z"
   },
   {
    "duration": 0,
    "start_time": "2025-01-06T01:11:50.162Z"
   },
   {
    "duration": 0,
    "start_time": "2025-01-06T01:11:50.163Z"
   },
   {
    "duration": 0,
    "start_time": "2025-01-06T01:11:50.164Z"
   },
   {
    "duration": 0,
    "start_time": "2025-01-06T01:11:50.165Z"
   },
   {
    "duration": 0,
    "start_time": "2025-01-06T01:11:50.170Z"
   },
   {
    "duration": 0,
    "start_time": "2025-01-06T01:11:50.171Z"
   },
   {
    "duration": 0,
    "start_time": "2025-01-06T01:11:50.172Z"
   },
   {
    "duration": 0,
    "start_time": "2025-01-06T01:11:50.173Z"
   },
   {
    "duration": 0,
    "start_time": "2025-01-06T01:11:50.174Z"
   },
   {
    "duration": 0,
    "start_time": "2025-01-06T01:11:50.175Z"
   },
   {
    "duration": 16,
    "start_time": "2025-01-06T01:12:20.498Z"
   },
   {
    "duration": 13,
    "start_time": "2025-01-06T01:12:24.857Z"
   },
   {
    "duration": 12,
    "start_time": "2025-01-06T01:12:33.327Z"
   },
   {
    "duration": 14,
    "start_time": "2025-01-06T01:12:53.325Z"
   },
   {
    "duration": 11,
    "start_time": "2025-01-06T01:12:57.734Z"
   },
   {
    "duration": 4960,
    "start_time": "2025-01-06T01:13:08.399Z"
   },
   {
    "duration": 3,
    "start_time": "2025-01-06T01:13:13.361Z"
   },
   {
    "duration": 1993,
    "start_time": "2025-01-06T01:13:13.366Z"
   },
   {
    "duration": 67,
    "start_time": "2025-01-06T01:13:15.361Z"
   },
   {
    "duration": 5,
    "start_time": "2025-01-06T01:13:15.430Z"
   },
   {
    "duration": 46,
    "start_time": "2025-01-06T01:13:15.436Z"
   },
   {
    "duration": 4,
    "start_time": "2025-01-06T01:13:15.484Z"
   },
   {
    "duration": 42,
    "start_time": "2025-01-06T01:13:15.489Z"
   },
   {
    "duration": 7,
    "start_time": "2025-01-06T01:13:15.533Z"
   },
   {
    "duration": 51,
    "start_time": "2025-01-06T01:13:15.541Z"
   },
   {
    "duration": 1243,
    "start_time": "2025-01-06T01:13:15.593Z"
   },
   {
    "duration": 233,
    "start_time": "2025-01-06T01:13:16.838Z"
   },
   {
    "duration": 235,
    "start_time": "2025-01-06T01:13:17.072Z"
   },
   {
    "duration": 995,
    "start_time": "2025-01-06T01:13:17.311Z"
   },
   {
    "duration": 167,
    "start_time": "2025-01-06T01:13:18.307Z"
   },
   {
    "duration": 170,
    "start_time": "2025-01-06T01:13:18.476Z"
   },
   {
    "duration": 3,
    "start_time": "2025-01-06T01:13:18.648Z"
   },
   {
    "duration": 81,
    "start_time": "2025-01-06T01:13:18.652Z"
   },
   {
    "duration": 4,
    "start_time": "2025-01-06T01:13:18.734Z"
   },
   {
    "duration": 85,
    "start_time": "2025-01-06T01:13:18.740Z"
   },
   {
    "duration": 5,
    "start_time": "2025-01-06T01:13:18.826Z"
   },
   {
    "duration": 6,
    "start_time": "2025-01-06T01:13:18.832Z"
   },
   {
    "duration": 5,
    "start_time": "2025-01-06T01:13:18.839Z"
   },
   {
    "duration": 1999,
    "start_time": "2025-01-06T01:13:18.845Z"
   },
   {
    "duration": 13,
    "start_time": "2025-01-06T01:13:20.846Z"
   },
   {
    "duration": 57,
    "start_time": "2025-01-06T01:13:20.860Z"
   },
   {
    "duration": 37,
    "start_time": "2025-01-06T01:13:20.919Z"
   },
   {
    "duration": 6,
    "start_time": "2025-01-06T01:13:20.957Z"
   },
   {
    "duration": 111,
    "start_time": "2025-01-06T01:13:20.964Z"
   },
   {
    "duration": 117,
    "start_time": "2025-01-06T01:13:21.077Z"
   },
   {
    "duration": 12,
    "start_time": "2025-01-06T01:13:21.196Z"
   },
   {
    "duration": 1236,
    "start_time": "2025-01-06T01:13:21.210Z"
   },
   {
    "duration": 148,
    "start_time": "2025-01-06T01:13:22.448Z"
   },
   {
    "duration": 12,
    "start_time": "2025-01-06T01:13:22.597Z"
   },
   {
    "duration": 10,
    "start_time": "2025-01-06T01:13:22.611Z"
   },
   {
    "duration": 185,
    "start_time": "2025-01-06T01:13:22.623Z"
   },
   {
    "duration": 26,
    "start_time": "2025-01-06T01:13:22.813Z"
   },
   {
    "duration": 35,
    "start_time": "2025-01-06T01:13:22.841Z"
   },
   {
    "duration": 8,
    "start_time": "2025-01-06T01:13:22.878Z"
   },
   {
    "duration": 60,
    "start_time": "2025-01-06T01:13:22.887Z"
   },
   {
    "duration": 2,
    "start_time": "2025-01-06T01:13:22.951Z"
   },
   {
    "duration": 6,
    "start_time": "2025-01-06T01:13:22.970Z"
   },
   {
    "duration": 6,
    "start_time": "2025-01-06T01:13:22.977Z"
   },
   {
    "duration": 7026,
    "start_time": "2025-01-06T01:13:22.985Z"
   },
   {
    "duration": 11,
    "start_time": "2025-01-06T01:13:53.831Z"
   },
   {
    "duration": 179,
    "start_time": "2025-01-06T01:14:02.394Z"
   },
   {
    "duration": 8,
    "start_time": "2025-01-06T01:14:30.395Z"
   },
   {
    "duration": 11,
    "start_time": "2025-01-06T01:14:47.547Z"
   },
   {
    "duration": 28,
    "start_time": "2025-01-06T01:15:42.944Z"
   },
   {
    "duration": 20,
    "start_time": "2025-01-06T01:16:02.707Z"
   },
   {
    "duration": 138,
    "start_time": "2025-01-06T01:20:38.735Z"
   },
   {
    "duration": 5,
    "start_time": "2025-01-06T01:20:52.020Z"
   },
   {
    "duration": 158,
    "start_time": "2025-01-06T01:21:30.350Z"
   },
   {
    "duration": 10,
    "start_time": "2025-01-06T01:21:47.456Z"
   },
   {
    "duration": 131,
    "start_time": "2025-01-06T01:22:00.761Z"
   },
   {
    "duration": 6,
    "start_time": "2025-01-06T01:22:57.118Z"
   },
   {
    "duration": 5,
    "start_time": "2025-01-06T01:23:16.929Z"
   },
   {
    "duration": 25,
    "start_time": "2025-01-06T01:23:29.264Z"
   },
   {
    "duration": 10,
    "start_time": "2025-01-06T01:23:50.460Z"
   },
   {
    "duration": 25,
    "start_time": "2025-01-06T01:25:39.612Z"
   },
   {
    "duration": 126,
    "start_time": "2025-01-06T01:25:57.785Z"
   },
   {
    "duration": 14,
    "start_time": "2025-01-06T01:26:53.510Z"
   },
   {
    "duration": 8,
    "start_time": "2025-01-06T01:26:59.303Z"
   },
   {
    "duration": 13,
    "start_time": "2025-01-06T01:27:08.498Z"
   },
   {
    "duration": 14,
    "start_time": "2025-01-06T01:28:24.779Z"
   },
   {
    "duration": 10,
    "start_time": "2025-01-06T01:28:39.701Z"
   },
   {
    "duration": 124,
    "start_time": "2025-01-06T01:28:52.008Z"
   },
   {
    "duration": 4,
    "start_time": "2025-01-06T01:30:04.009Z"
   },
   {
    "duration": 129,
    "start_time": "2025-01-06T01:30:06.236Z"
   },
   {
    "duration": 11,
    "start_time": "2025-01-06T01:30:26.843Z"
   },
   {
    "duration": 80,
    "start_time": "2025-01-06T01:31:52.723Z"
   },
   {
    "duration": 11,
    "start_time": "2025-01-06T01:31:55.910Z"
   },
   {
    "duration": 116,
    "start_time": "2025-01-06T01:32:12.190Z"
   },
   {
    "duration": 139,
    "start_time": "2025-01-06T01:32:23.717Z"
   },
   {
    "duration": 17,
    "start_time": "2025-01-06T01:33:29.928Z"
   },
   {
    "duration": 266,
    "start_time": "2025-01-06T01:33:32.406Z"
   },
   {
    "duration": 124,
    "start_time": "2025-01-06T01:33:40.952Z"
   },
   {
    "duration": 25,
    "start_time": "2025-01-06T01:33:55.308Z"
   },
   {
    "duration": 170,
    "start_time": "2025-01-06T01:33:57.459Z"
   },
   {
    "duration": 11,
    "start_time": "2025-01-06T01:34:16.886Z"
   },
   {
    "duration": 125,
    "start_time": "2025-01-06T01:34:19.147Z"
   },
   {
    "duration": 11,
    "start_time": "2025-01-06T01:35:47.343Z"
   },
   {
    "duration": 4,
    "start_time": "2025-01-06T01:35:52.934Z"
   },
   {
    "duration": 11,
    "start_time": "2025-01-06T01:35:53.521Z"
   },
   {
    "duration": 121,
    "start_time": "2025-01-06T01:36:01.222Z"
   },
   {
    "duration": 142,
    "start_time": "2025-01-06T01:40:32.752Z"
   },
   {
    "duration": 125,
    "start_time": "2025-01-06T01:41:13.692Z"
   },
   {
    "duration": 6,
    "start_time": "2025-01-06T01:41:25.776Z"
   },
   {
    "duration": 6,
    "start_time": "2025-01-06T01:41:38.191Z"
   },
   {
    "duration": 13,
    "start_time": "2025-01-06T01:42:51.067Z"
   },
   {
    "duration": 9,
    "start_time": "2025-01-06T01:43:01.724Z"
   },
   {
    "duration": 7,
    "start_time": "2025-01-06T01:43:03.346Z"
   },
   {
    "duration": 6,
    "start_time": "2025-01-06T01:43:27.689Z"
   },
   {
    "duration": 7,
    "start_time": "2025-01-06T01:43:38.073Z"
   },
   {
    "duration": 6,
    "start_time": "2025-01-06T01:43:39.280Z"
   },
   {
    "duration": 11,
    "start_time": "2025-01-06T01:43:50.721Z"
   },
   {
    "duration": 7,
    "start_time": "2025-01-06T01:44:04.084Z"
   },
   {
    "duration": 6,
    "start_time": "2025-01-06T01:44:04.625Z"
   },
   {
    "duration": 112,
    "start_time": "2025-01-06T01:44:54.577Z"
   },
   {
    "duration": 115,
    "start_time": "2025-01-06T01:45:54.659Z"
   },
   {
    "duration": 25,
    "start_time": "2025-01-06T01:46:07.494Z"
   },
   {
    "duration": 4,
    "start_time": "2025-01-06T01:46:07.875Z"
   },
   {
    "duration": 125,
    "start_time": "2025-01-06T01:46:08.279Z"
   },
   {
    "duration": 3,
    "start_time": "2025-01-06T01:46:10.946Z"
   },
   {
    "duration": 144,
    "start_time": "2025-01-06T01:46:27.439Z"
   },
   {
    "duration": 275,
    "start_time": "2025-01-06T01:46:55.808Z"
   },
   {
    "duration": 277,
    "start_time": "2025-01-06T01:47:06.744Z"
   },
   {
    "duration": 270,
    "start_time": "2025-01-06T01:49:22.400Z"
   },
   {
    "duration": 270,
    "start_time": "2025-01-06T01:49:41.961Z"
   },
   {
    "duration": 391,
    "start_time": "2025-01-06T01:49:57.244Z"
   },
   {
    "duration": 143,
    "start_time": "2025-01-06T01:50:15.661Z"
   },
   {
    "duration": 264,
    "start_time": "2025-01-06T01:50:22.919Z"
   },
   {
    "duration": 284,
    "start_time": "2025-01-06T01:50:29.444Z"
   },
   {
    "duration": 299,
    "start_time": "2025-01-06T01:51:29.373Z"
   },
   {
    "duration": 82,
    "start_time": "2025-01-06T01:52:00.468Z"
   },
   {
    "duration": 278,
    "start_time": "2025-01-06T01:52:32.341Z"
   },
   {
    "duration": 17,
    "start_time": "2025-01-06T01:54:05.668Z"
   },
   {
    "duration": 288,
    "start_time": "2025-01-06T01:54:19.512Z"
   },
   {
    "duration": 25,
    "start_time": "2025-01-06T01:55:53.687Z"
   },
   {
    "duration": 30,
    "start_time": "2025-01-06T01:55:56.000Z"
   },
   {
    "duration": 1291,
    "start_time": "2025-01-06T01:57:08.406Z"
   },
   {
    "duration": 1157,
    "start_time": "2025-01-06T01:57:53.696Z"
   },
   {
    "duration": 1168,
    "start_time": "2025-01-06T01:58:15.763Z"
   },
   {
    "duration": 1315,
    "start_time": "2025-01-06T01:58:23.458Z"
   },
   {
    "duration": 2,
    "start_time": "2025-01-06T01:58:59.624Z"
   },
   {
    "duration": 57,
    "start_time": "2025-01-06T01:59:01.149Z"
   },
   {
    "duration": 3,
    "start_time": "2025-01-06T01:59:06.115Z"
   },
   {
    "duration": 6,
    "start_time": "2025-01-06T01:59:09.348Z"
   },
   {
    "duration": 80,
    "start_time": "2025-01-06T01:59:27.330Z"
   },
   {
    "duration": 15,
    "start_time": "2025-01-06T01:59:47.595Z"
   },
   {
    "duration": 5,
    "start_time": "2025-01-06T02:00:46.761Z"
   },
   {
    "duration": 4532,
    "start_time": "2025-01-06T02:01:04.482Z"
   },
   {
    "duration": 57907,
    "start_time": "2025-01-08T18:27:31.873Z"
   },
   {
    "duration": 2770,
    "start_time": "2025-01-08T18:28:29.783Z"
   },
   {
    "duration": 1922,
    "start_time": "2025-01-08T18:28:32.556Z"
   },
   {
    "duration": 0,
    "start_time": "2025-01-08T18:28:34.481Z"
   },
   {
    "duration": 0,
    "start_time": "2025-01-08T18:28:34.482Z"
   },
   {
    "duration": 0,
    "start_time": "2025-01-08T18:28:34.484Z"
   },
   {
    "duration": 0,
    "start_time": "2025-01-08T18:28:34.485Z"
   },
   {
    "duration": 0,
    "start_time": "2025-01-08T18:28:34.486Z"
   },
   {
    "duration": 0,
    "start_time": "2025-01-08T18:28:34.487Z"
   },
   {
    "duration": 0,
    "start_time": "2025-01-08T18:28:34.488Z"
   },
   {
    "duration": 0,
    "start_time": "2025-01-08T18:28:34.489Z"
   },
   {
    "duration": 0,
    "start_time": "2025-01-08T18:28:34.490Z"
   },
   {
    "duration": 0,
    "start_time": "2025-01-08T18:28:34.491Z"
   },
   {
    "duration": 0,
    "start_time": "2025-01-08T18:28:34.492Z"
   },
   {
    "duration": 0,
    "start_time": "2025-01-08T18:28:34.493Z"
   },
   {
    "duration": 0,
    "start_time": "2025-01-08T18:28:34.494Z"
   },
   {
    "duration": 0,
    "start_time": "2025-01-08T18:28:34.495Z"
   },
   {
    "duration": 0,
    "start_time": "2025-01-08T18:28:34.496Z"
   },
   {
    "duration": 0,
    "start_time": "2025-01-08T18:28:34.497Z"
   },
   {
    "duration": 0,
    "start_time": "2025-01-08T18:28:34.498Z"
   },
   {
    "duration": 0,
    "start_time": "2025-01-08T18:28:34.499Z"
   },
   {
    "duration": 0,
    "start_time": "2025-01-08T18:28:34.562Z"
   },
   {
    "duration": 0,
    "start_time": "2025-01-08T18:28:34.562Z"
   },
   {
    "duration": 0,
    "start_time": "2025-01-08T18:28:34.563Z"
   },
   {
    "duration": 0,
    "start_time": "2025-01-08T18:28:34.564Z"
   },
   {
    "duration": 0,
    "start_time": "2025-01-08T18:28:34.565Z"
   },
   {
    "duration": 0,
    "start_time": "2025-01-08T18:28:34.565Z"
   },
   {
    "duration": 0,
    "start_time": "2025-01-08T18:28:34.566Z"
   },
   {
    "duration": 0,
    "start_time": "2025-01-08T18:28:34.567Z"
   },
   {
    "duration": 0,
    "start_time": "2025-01-08T18:28:34.568Z"
   },
   {
    "duration": 0,
    "start_time": "2025-01-08T18:28:34.568Z"
   },
   {
    "duration": 0,
    "start_time": "2025-01-08T18:28:34.569Z"
   },
   {
    "duration": 0,
    "start_time": "2025-01-08T18:28:34.570Z"
   },
   {
    "duration": 0,
    "start_time": "2025-01-08T18:28:34.571Z"
   },
   {
    "duration": 0,
    "start_time": "2025-01-08T18:28:34.573Z"
   },
   {
    "duration": 0,
    "start_time": "2025-01-08T18:28:34.574Z"
   },
   {
    "duration": 0,
    "start_time": "2025-01-08T18:28:34.575Z"
   },
   {
    "duration": 0,
    "start_time": "2025-01-08T18:28:34.576Z"
   },
   {
    "duration": 0,
    "start_time": "2025-01-08T18:28:34.577Z"
   },
   {
    "duration": 0,
    "start_time": "2025-01-08T18:28:34.579Z"
   },
   {
    "duration": 0,
    "start_time": "2025-01-08T18:28:34.580Z"
   },
   {
    "duration": 0,
    "start_time": "2025-01-08T18:28:34.581Z"
   },
   {
    "duration": 0,
    "start_time": "2025-01-08T18:28:34.583Z"
   },
   {
    "duration": 0,
    "start_time": "2025-01-08T18:28:34.584Z"
   },
   {
    "duration": 14897,
    "start_time": "2025-01-08T18:29:35.254Z"
   },
   {
    "duration": 3127,
    "start_time": "2025-01-08T18:29:50.153Z"
   },
   {
    "duration": 1807,
    "start_time": "2025-01-08T18:29:53.284Z"
   },
   {
    "duration": 0,
    "start_time": "2025-01-08T18:29:55.095Z"
   },
   {
    "duration": 0,
    "start_time": "2025-01-08T18:29:55.097Z"
   },
   {
    "duration": 0,
    "start_time": "2025-01-08T18:29:55.099Z"
   },
   {
    "duration": 0,
    "start_time": "2025-01-08T18:29:55.100Z"
   },
   {
    "duration": 0,
    "start_time": "2025-01-08T18:29:55.101Z"
   },
   {
    "duration": 0,
    "start_time": "2025-01-08T18:29:55.102Z"
   },
   {
    "duration": 0,
    "start_time": "2025-01-08T18:29:55.103Z"
   },
   {
    "duration": 0,
    "start_time": "2025-01-08T18:29:55.104Z"
   },
   {
    "duration": 0,
    "start_time": "2025-01-08T18:29:55.105Z"
   },
   {
    "duration": 0,
    "start_time": "2025-01-08T18:29:55.106Z"
   },
   {
    "duration": 0,
    "start_time": "2025-01-08T18:29:55.108Z"
   },
   {
    "duration": 0,
    "start_time": "2025-01-08T18:29:55.109Z"
   },
   {
    "duration": 0,
    "start_time": "2025-01-08T18:29:55.110Z"
   },
   {
    "duration": 0,
    "start_time": "2025-01-08T18:29:55.111Z"
   },
   {
    "duration": 0,
    "start_time": "2025-01-08T18:29:55.112Z"
   },
   {
    "duration": 0,
    "start_time": "2025-01-08T18:29:55.113Z"
   },
   {
    "duration": 0,
    "start_time": "2025-01-08T18:29:55.114Z"
   },
   {
    "duration": 0,
    "start_time": "2025-01-08T18:29:55.115Z"
   },
   {
    "duration": 0,
    "start_time": "2025-01-08T18:29:55.116Z"
   },
   {
    "duration": 0,
    "start_time": "2025-01-08T18:29:55.117Z"
   },
   {
    "duration": 0,
    "start_time": "2025-01-08T18:29:55.119Z"
   },
   {
    "duration": 0,
    "start_time": "2025-01-08T18:29:55.165Z"
   },
   {
    "duration": 0,
    "start_time": "2025-01-08T18:29:55.167Z"
   },
   {
    "duration": 0,
    "start_time": "2025-01-08T18:29:55.168Z"
   },
   {
    "duration": 0,
    "start_time": "2025-01-08T18:29:55.169Z"
   },
   {
    "duration": 0,
    "start_time": "2025-01-08T18:29:55.170Z"
   },
   {
    "duration": 0,
    "start_time": "2025-01-08T18:29:55.171Z"
   },
   {
    "duration": 0,
    "start_time": "2025-01-08T18:29:55.171Z"
   },
   {
    "duration": 0,
    "start_time": "2025-01-08T18:29:55.172Z"
   },
   {
    "duration": 0,
    "start_time": "2025-01-08T18:29:55.173Z"
   },
   {
    "duration": 0,
    "start_time": "2025-01-08T18:29:55.174Z"
   },
   {
    "duration": 0,
    "start_time": "2025-01-08T18:29:55.175Z"
   },
   {
    "duration": 0,
    "start_time": "2025-01-08T18:29:55.176Z"
   },
   {
    "duration": 0,
    "start_time": "2025-01-08T18:29:55.177Z"
   },
   {
    "duration": 0,
    "start_time": "2025-01-08T18:29:55.178Z"
   },
   {
    "duration": 0,
    "start_time": "2025-01-08T18:29:55.179Z"
   },
   {
    "duration": 0,
    "start_time": "2025-01-08T18:29:55.180Z"
   },
   {
    "duration": 0,
    "start_time": "2025-01-08T18:29:55.181Z"
   },
   {
    "duration": 0,
    "start_time": "2025-01-08T18:29:55.182Z"
   },
   {
    "duration": 0,
    "start_time": "2025-01-08T18:29:55.183Z"
   },
   {
    "duration": 0,
    "start_time": "2025-01-08T18:29:55.184Z"
   },
   {
    "duration": 14959,
    "start_time": "2025-01-08T18:30:26.212Z"
   },
   {
    "duration": 2826,
    "start_time": "2025-01-08T18:30:41.173Z"
   },
   {
    "duration": 7426,
    "start_time": "2025-01-08T23:58:44.459Z"
   },
   {
    "duration": 781,
    "start_time": "2025-01-08T23:58:54.196Z"
   },
   {
    "duration": 2147,
    "start_time": "2025-01-09T00:03:04.832Z"
   },
   {
    "duration": 4732,
    "start_time": "2025-01-09T00:03:16.962Z"
   },
   {
    "duration": 3,
    "start_time": "2025-01-09T00:03:21.698Z"
   },
   {
    "duration": 1973,
    "start_time": "2025-01-09T00:03:21.704Z"
   },
   {
    "duration": 115,
    "start_time": "2025-01-09T00:03:23.678Z"
   },
   {
    "duration": 4,
    "start_time": "2025-01-09T00:03:23.795Z"
   },
   {
    "duration": 91,
    "start_time": "2025-01-09T00:03:23.800Z"
   },
   {
    "duration": 4,
    "start_time": "2025-01-09T00:03:23.893Z"
   },
   {
    "duration": 106,
    "start_time": "2025-01-09T00:03:23.899Z"
   },
   {
    "duration": 6,
    "start_time": "2025-01-09T00:03:24.007Z"
   },
   {
    "duration": 26,
    "start_time": "2025-01-09T00:03:24.014Z"
   },
   {
    "duration": 1148,
    "start_time": "2025-01-09T00:03:24.042Z"
   },
   {
    "duration": 227,
    "start_time": "2025-01-09T00:03:25.192Z"
   },
   {
    "duration": 229,
    "start_time": "2025-01-09T00:03:25.421Z"
   },
   {
    "duration": 974,
    "start_time": "2025-01-09T00:03:25.654Z"
   },
   {
    "duration": 171,
    "start_time": "2025-01-09T00:03:26.630Z"
   },
   {
    "duration": 170,
    "start_time": "2025-01-09T00:03:26.802Z"
   },
   {
    "duration": 4,
    "start_time": "2025-01-09T00:03:26.974Z"
   },
   {
    "duration": 148,
    "start_time": "2025-01-09T00:03:26.979Z"
   },
   {
    "duration": 0,
    "start_time": "2025-01-09T00:03:27.129Z"
   },
   {
    "duration": 0,
    "start_time": "2025-01-09T00:03:27.131Z"
   },
   {
    "duration": 0,
    "start_time": "2025-01-09T00:03:27.132Z"
   },
   {
    "duration": 0,
    "start_time": "2025-01-09T00:03:27.133Z"
   },
   {
    "duration": 0,
    "start_time": "2025-01-09T00:03:27.134Z"
   },
   {
    "duration": 0,
    "start_time": "2025-01-09T00:03:27.136Z"
   },
   {
    "duration": 0,
    "start_time": "2025-01-09T00:03:27.137Z"
   },
   {
    "duration": 0,
    "start_time": "2025-01-09T00:03:27.138Z"
   },
   {
    "duration": 0,
    "start_time": "2025-01-09T00:03:27.140Z"
   },
   {
    "duration": 0,
    "start_time": "2025-01-09T00:03:27.141Z"
   },
   {
    "duration": 0,
    "start_time": "2025-01-09T00:03:27.142Z"
   },
   {
    "duration": 0,
    "start_time": "2025-01-09T00:03:27.144Z"
   },
   {
    "duration": 0,
    "start_time": "2025-01-09T00:03:27.146Z"
   },
   {
    "duration": 0,
    "start_time": "2025-01-09T00:03:27.147Z"
   },
   {
    "duration": 0,
    "start_time": "2025-01-09T00:03:27.149Z"
   },
   {
    "duration": 0,
    "start_time": "2025-01-09T00:03:27.150Z"
   },
   {
    "duration": 0,
    "start_time": "2025-01-09T00:03:27.152Z"
   },
   {
    "duration": 0,
    "start_time": "2025-01-09T00:03:27.153Z"
   },
   {
    "duration": 0,
    "start_time": "2025-01-09T00:03:27.155Z"
   },
   {
    "duration": 0,
    "start_time": "2025-01-09T00:03:27.157Z"
   },
   {
    "duration": 0,
    "start_time": "2025-01-09T00:03:27.158Z"
   },
   {
    "duration": 0,
    "start_time": "2025-01-09T00:03:27.159Z"
   },
   {
    "duration": 0,
    "start_time": "2025-01-09T00:03:27.160Z"
   },
   {
    "duration": 0,
    "start_time": "2025-01-09T00:03:27.161Z"
   },
   {
    "duration": 0,
    "start_time": "2025-01-09T00:03:27.162Z"
   },
   {
    "duration": 0,
    "start_time": "2025-01-09T00:03:27.215Z"
   },
   {
    "duration": 6,
    "start_time": "2025-01-09T00:04:42.264Z"
   },
   {
    "duration": 5009,
    "start_time": "2025-01-09T00:06:24.635Z"
   },
   {
    "duration": 3,
    "start_time": "2025-01-09T00:06:29.646Z"
   },
   {
    "duration": 2206,
    "start_time": "2025-01-09T00:06:29.650Z"
   },
   {
    "duration": 96,
    "start_time": "2025-01-09T00:06:31.858Z"
   },
   {
    "duration": 61,
    "start_time": "2025-01-09T00:06:31.955Z"
   },
   {
    "duration": 43,
    "start_time": "2025-01-09T00:06:32.017Z"
   },
   {
    "duration": 4,
    "start_time": "2025-01-09T00:06:32.062Z"
   },
   {
    "duration": 38,
    "start_time": "2025-01-09T00:06:32.115Z"
   },
   {
    "duration": 6,
    "start_time": "2025-01-09T00:06:32.154Z"
   },
   {
    "duration": 65,
    "start_time": "2025-01-09T00:06:32.163Z"
   },
   {
    "duration": 1354,
    "start_time": "2025-01-09T00:06:32.230Z"
   },
   {
    "duration": 219,
    "start_time": "2025-01-09T00:06:33.585Z"
   },
   {
    "duration": 224,
    "start_time": "2025-01-09T00:06:33.814Z"
   },
   {
    "duration": 966,
    "start_time": "2025-01-09T00:06:34.040Z"
   },
   {
    "duration": 171,
    "start_time": "2025-01-09T00:06:35.009Z"
   },
   {
    "duration": 162,
    "start_time": "2025-01-09T00:06:35.181Z"
   },
   {
    "duration": 5,
    "start_time": "2025-01-09T00:06:35.345Z"
   },
   {
    "duration": 76,
    "start_time": "2025-01-09T00:06:35.352Z"
   },
   {
    "duration": 4,
    "start_time": "2025-01-09T00:06:35.429Z"
   },
   {
    "duration": 40,
    "start_time": "2025-01-09T00:06:35.435Z"
   },
   {
    "duration": 31,
    "start_time": "2025-01-09T00:06:35.477Z"
   },
   {
    "duration": 28,
    "start_time": "2025-01-09T00:06:35.510Z"
   },
   {
    "duration": 26,
    "start_time": "2025-01-09T00:06:35.540Z"
   },
   {
    "duration": 2087,
    "start_time": "2025-01-09T00:06:35.567Z"
   },
   {
    "duration": 15,
    "start_time": "2025-01-09T00:06:37.656Z"
   },
   {
    "duration": 123,
    "start_time": "2025-01-09T00:06:37.673Z"
   },
   {
    "duration": 86,
    "start_time": "2025-01-09T00:06:37.798Z"
   },
   {
    "duration": 8,
    "start_time": "2025-01-09T00:06:37.887Z"
   },
   {
    "duration": 113,
    "start_time": "2025-01-09T00:06:37.896Z"
   },
   {
    "duration": 115,
    "start_time": "2025-01-09T00:06:38.014Z"
   },
   {
    "duration": 13,
    "start_time": "2025-01-09T00:06:38.131Z"
   },
   {
    "duration": 1241,
    "start_time": "2025-01-09T00:06:38.145Z"
   },
   {
    "duration": 276,
    "start_time": "2025-01-09T00:06:39.387Z"
   },
   {
    "duration": 24,
    "start_time": "2025-01-09T00:06:39.664Z"
   },
   {
    "duration": 6,
    "start_time": "2025-01-09T00:06:39.689Z"
   },
   {
    "duration": 277,
    "start_time": "2025-01-09T00:06:39.696Z"
   },
   {
    "duration": 23,
    "start_time": "2025-01-09T00:06:39.975Z"
   },
   {
    "duration": 38,
    "start_time": "2025-01-09T00:06:39.999Z"
   },
   {
    "duration": 2,
    "start_time": "2025-01-09T00:06:40.039Z"
   },
   {
    "duration": 77,
    "start_time": "2025-01-09T00:06:40.042Z"
   },
   {
    "duration": 3,
    "start_time": "2025-01-09T00:06:40.120Z"
   },
   {
    "duration": 16,
    "start_time": "2025-01-09T00:06:40.124Z"
   },
   {
    "duration": 87,
    "start_time": "2025-01-09T00:06:40.142Z"
   },
   {
    "duration": 0,
    "start_time": "2025-01-09T00:06:40.231Z"
   },
   {
    "duration": 4,
    "start_time": "2025-01-09T00:07:07.014Z"
   },
   {
    "duration": 147,
    "start_time": "2025-01-09T00:12:53.350Z"
   },
   {
    "duration": 22,
    "start_time": "2025-01-09T00:13:19.433Z"
   },
   {
    "duration": 19,
    "start_time": "2025-01-09T00:13:26.265Z"
   },
   {
    "duration": 14,
    "start_time": "2025-01-09T00:13:42.143Z"
   },
   {
    "duration": 15,
    "start_time": "2025-01-09T00:14:09.546Z"
   },
   {
    "duration": 14,
    "start_time": "2025-01-09T00:14:14.873Z"
   },
   {
    "duration": 1984,
    "start_time": "2025-01-09T00:14:19.235Z"
   },
   {
    "duration": 14,
    "start_time": "2025-01-09T00:14:32.598Z"
   },
   {
    "duration": 1841,
    "start_time": "2025-01-09T00:14:52.579Z"
   },
   {
    "duration": 1961,
    "start_time": "2025-01-09T00:14:59.012Z"
   },
   {
    "duration": 27,
    "start_time": "2025-01-09T00:15:38.074Z"
   },
   {
    "duration": 22,
    "start_time": "2025-01-09T00:15:47.138Z"
   },
   {
    "duration": 21,
    "start_time": "2025-01-09T00:16:27.604Z"
   },
   {
    "duration": 21,
    "start_time": "2025-01-09T00:16:40.997Z"
   },
   {
    "duration": 24,
    "start_time": "2025-01-09T00:17:01.724Z"
   },
   {
    "duration": 27,
    "start_time": "2025-01-09T00:18:24.997Z"
   },
   {
    "duration": 16,
    "start_time": "2025-01-09T00:18:32.350Z"
   },
   {
    "duration": 17,
    "start_time": "2025-01-09T00:18:42.443Z"
   },
   {
    "duration": 15,
    "start_time": "2025-01-09T00:18:55.880Z"
   },
   {
    "duration": 16,
    "start_time": "2025-01-09T00:19:32.797Z"
   },
   {
    "duration": 55,
    "start_time": "2025-01-09T00:26:18.463Z"
   },
   {
    "duration": 49,
    "start_time": "2025-01-09T00:26:42.715Z"
   },
   {
    "duration": 84,
    "start_time": "2025-01-09T00:31:12.451Z"
   },
   {
    "duration": 13,
    "start_time": "2025-01-09T00:31:27.396Z"
   },
   {
    "duration": 46,
    "start_time": "2025-01-09T00:31:45.808Z"
   },
   {
    "duration": 4769,
    "start_time": "2025-01-09T00:33:37.519Z"
   },
   {
    "duration": 3,
    "start_time": "2025-01-09T00:33:42.290Z"
   },
   {
    "duration": 1893,
    "start_time": "2025-01-09T00:33:42.295Z"
   },
   {
    "duration": 67,
    "start_time": "2025-01-09T00:33:44.190Z"
   },
   {
    "duration": 4,
    "start_time": "2025-01-09T00:33:44.259Z"
   },
   {
    "duration": 48,
    "start_time": "2025-01-09T00:33:44.265Z"
   },
   {
    "duration": 4,
    "start_time": "2025-01-09T00:33:44.315Z"
   },
   {
    "duration": 38,
    "start_time": "2025-01-09T00:33:44.321Z"
   },
   {
    "duration": 6,
    "start_time": "2025-01-09T00:33:44.361Z"
   },
   {
    "duration": 47,
    "start_time": "2025-01-09T00:33:44.368Z"
   },
   {
    "duration": 1147,
    "start_time": "2025-01-09T00:33:44.417Z"
   },
   {
    "duration": 225,
    "start_time": "2025-01-09T00:33:45.565Z"
   },
   {
    "duration": 229,
    "start_time": "2025-01-09T00:33:45.792Z"
   },
   {
    "duration": 956,
    "start_time": "2025-01-09T00:33:46.024Z"
   },
   {
    "duration": 164,
    "start_time": "2025-01-09T00:33:46.982Z"
   },
   {
    "duration": 158,
    "start_time": "2025-01-09T00:33:47.148Z"
   },
   {
    "duration": 7,
    "start_time": "2025-01-09T00:33:47.308Z"
   },
   {
    "duration": 60,
    "start_time": "2025-01-09T00:33:47.317Z"
   },
   {
    "duration": 4,
    "start_time": "2025-01-09T00:33:47.378Z"
   },
   {
    "duration": 11,
    "start_time": "2025-01-09T00:33:47.383Z"
   },
   {
    "duration": 3,
    "start_time": "2025-01-09T00:33:47.395Z"
   },
   {
    "duration": 4,
    "start_time": "2025-01-09T00:33:47.399Z"
   },
   {
    "duration": 4,
    "start_time": "2025-01-09T00:33:47.404Z"
   },
   {
    "duration": 858,
    "start_time": "2025-01-09T00:33:47.415Z"
   },
   {
    "duration": 0,
    "start_time": "2025-01-09T00:33:48.275Z"
   },
   {
    "duration": 0,
    "start_time": "2025-01-09T00:33:48.276Z"
   },
   {
    "duration": 0,
    "start_time": "2025-01-09T00:33:48.277Z"
   },
   {
    "duration": 0,
    "start_time": "2025-01-09T00:33:48.278Z"
   },
   {
    "duration": 0,
    "start_time": "2025-01-09T00:33:48.279Z"
   },
   {
    "duration": 0,
    "start_time": "2025-01-09T00:33:48.280Z"
   },
   {
    "duration": 0,
    "start_time": "2025-01-09T00:33:48.280Z"
   },
   {
    "duration": 0,
    "start_time": "2025-01-09T00:33:48.281Z"
   },
   {
    "duration": 0,
    "start_time": "2025-01-09T00:33:48.283Z"
   },
   {
    "duration": 0,
    "start_time": "2025-01-09T00:33:48.284Z"
   },
   {
    "duration": 0,
    "start_time": "2025-01-09T00:33:48.285Z"
   },
   {
    "duration": 0,
    "start_time": "2025-01-09T00:33:48.286Z"
   },
   {
    "duration": 0,
    "start_time": "2025-01-09T00:33:48.287Z"
   },
   {
    "duration": 0,
    "start_time": "2025-01-09T00:33:48.288Z"
   },
   {
    "duration": 0,
    "start_time": "2025-01-09T00:33:48.289Z"
   },
   {
    "duration": 0,
    "start_time": "2025-01-09T00:33:48.314Z"
   },
   {
    "duration": 0,
    "start_time": "2025-01-09T00:33:48.315Z"
   },
   {
    "duration": 0,
    "start_time": "2025-01-09T00:33:48.316Z"
   },
   {
    "duration": 0,
    "start_time": "2025-01-09T00:33:48.317Z"
   },
   {
    "duration": 0,
    "start_time": "2025-01-09T00:33:48.318Z"
   },
   {
    "duration": 50,
    "start_time": "2025-01-09T00:35:02.245Z"
   },
   {
    "duration": 4,
    "start_time": "2025-01-09T00:35:08.444Z"
   },
   {
    "duration": 4,
    "start_time": "2025-01-09T00:35:09.125Z"
   },
   {
    "duration": 3,
    "start_time": "2025-01-09T00:35:10.934Z"
   },
   {
    "duration": 3,
    "start_time": "2025-01-09T00:35:11.795Z"
   },
   {
    "duration": 4,
    "start_time": "2025-01-09T00:35:13.836Z"
   },
   {
    "duration": 737,
    "start_time": "2025-01-09T00:35:15.715Z"
   },
   {
    "duration": 11,
    "start_time": "2025-01-09T00:35:21.814Z"
   },
   {
    "duration": 12,
    "start_time": "2025-01-09T00:36:10.186Z"
   },
   {
    "duration": 6,
    "start_time": "2025-01-09T00:36:17.630Z"
   },
   {
    "duration": 3,
    "start_time": "2025-01-09T00:36:25.138Z"
   },
   {
    "duration": 4,
    "start_time": "2025-01-09T00:36:25.723Z"
   },
   {
    "duration": 4,
    "start_time": "2025-01-09T00:36:27.927Z"
   },
   {
    "duration": 728,
    "start_time": "2025-01-09T00:36:29.873Z"
   },
   {
    "duration": 49,
    "start_time": "2025-01-09T00:37:13.791Z"
   },
   {
    "duration": 5,
    "start_time": "2025-01-09T00:37:24.243Z"
   },
   {
    "duration": 4758,
    "start_time": "2025-01-09T00:37:28.513Z"
   },
   {
    "duration": 3,
    "start_time": "2025-01-09T00:37:33.274Z"
   },
   {
    "duration": 1941,
    "start_time": "2025-01-09T00:37:33.278Z"
   },
   {
    "duration": 70,
    "start_time": "2025-01-09T00:37:35.220Z"
   },
   {
    "duration": 4,
    "start_time": "2025-01-09T00:37:35.292Z"
   },
   {
    "duration": 62,
    "start_time": "2025-01-09T00:37:35.297Z"
   },
   {
    "duration": 23,
    "start_time": "2025-01-09T00:37:35.361Z"
   },
   {
    "duration": 76,
    "start_time": "2025-01-09T00:37:35.385Z"
   },
   {
    "duration": 6,
    "start_time": "2025-01-09T00:37:35.462Z"
   },
   {
    "duration": 160,
    "start_time": "2025-01-09T00:37:35.469Z"
   },
   {
    "duration": 1330,
    "start_time": "2025-01-09T00:37:35.631Z"
   },
   {
    "duration": 230,
    "start_time": "2025-01-09T00:37:36.963Z"
   },
   {
    "duration": 234,
    "start_time": "2025-01-09T00:37:37.195Z"
   },
   {
    "duration": 954,
    "start_time": "2025-01-09T00:37:37.432Z"
   },
   {
    "duration": 168,
    "start_time": "2025-01-09T00:37:38.387Z"
   },
   {
    "duration": 167,
    "start_time": "2025-01-09T00:37:38.557Z"
   },
   {
    "duration": 4,
    "start_time": "2025-01-09T00:37:38.726Z"
   },
   {
    "duration": 50,
    "start_time": "2025-01-09T00:37:38.731Z"
   },
   {
    "duration": 4,
    "start_time": "2025-01-09T00:37:38.782Z"
   },
   {
    "duration": 28,
    "start_time": "2025-01-09T00:37:38.787Z"
   },
   {
    "duration": 3,
    "start_time": "2025-01-09T00:37:38.816Z"
   },
   {
    "duration": 6,
    "start_time": "2025-01-09T00:37:38.821Z"
   },
   {
    "duration": 5,
    "start_time": "2025-01-09T00:37:38.828Z"
   },
   {
    "duration": 826,
    "start_time": "2025-01-09T00:37:38.835Z"
   },
   {
    "duration": 0,
    "start_time": "2025-01-09T00:37:39.664Z"
   },
   {
    "duration": 0,
    "start_time": "2025-01-09T00:37:39.665Z"
   },
   {
    "duration": 0,
    "start_time": "2025-01-09T00:37:39.666Z"
   },
   {
    "duration": 0,
    "start_time": "2025-01-09T00:37:39.667Z"
   },
   {
    "duration": 0,
    "start_time": "2025-01-09T00:37:39.668Z"
   },
   {
    "duration": 0,
    "start_time": "2025-01-09T00:37:39.669Z"
   },
   {
    "duration": 0,
    "start_time": "2025-01-09T00:37:39.670Z"
   },
   {
    "duration": 0,
    "start_time": "2025-01-09T00:37:39.671Z"
   },
   {
    "duration": 0,
    "start_time": "2025-01-09T00:37:39.673Z"
   },
   {
    "duration": 0,
    "start_time": "2025-01-09T00:37:39.674Z"
   },
   {
    "duration": 0,
    "start_time": "2025-01-09T00:37:39.675Z"
   },
   {
    "duration": 0,
    "start_time": "2025-01-09T00:37:39.676Z"
   },
   {
    "duration": 0,
    "start_time": "2025-01-09T00:37:39.677Z"
   },
   {
    "duration": 0,
    "start_time": "2025-01-09T00:37:39.678Z"
   },
   {
    "duration": 0,
    "start_time": "2025-01-09T00:37:39.679Z"
   },
   {
    "duration": 0,
    "start_time": "2025-01-09T00:37:39.715Z"
   },
   {
    "duration": 0,
    "start_time": "2025-01-09T00:37:39.716Z"
   },
   {
    "duration": 0,
    "start_time": "2025-01-09T00:37:39.717Z"
   },
   {
    "duration": 0,
    "start_time": "2025-01-09T00:37:39.718Z"
   },
   {
    "duration": 0,
    "start_time": "2025-01-09T00:37:39.718Z"
   },
   {
    "duration": 4820,
    "start_time": "2025-01-09T00:38:11.651Z"
   },
   {
    "duration": 3,
    "start_time": "2025-01-09T00:38:16.473Z"
   },
   {
    "duration": 1924,
    "start_time": "2025-01-09T00:38:16.477Z"
   },
   {
    "duration": 66,
    "start_time": "2025-01-09T00:38:18.404Z"
   },
   {
    "duration": 4,
    "start_time": "2025-01-09T00:38:18.471Z"
   },
   {
    "duration": 50,
    "start_time": "2025-01-09T00:38:18.476Z"
   },
   {
    "duration": 5,
    "start_time": "2025-01-09T00:38:18.527Z"
   },
   {
    "duration": 40,
    "start_time": "2025-01-09T00:38:18.534Z"
   },
   {
    "duration": 6,
    "start_time": "2025-01-09T00:38:18.576Z"
   },
   {
    "duration": 35,
    "start_time": "2025-01-09T00:38:18.584Z"
   },
   {
    "duration": 1171,
    "start_time": "2025-01-09T00:38:18.621Z"
   },
   {
    "duration": 229,
    "start_time": "2025-01-09T00:38:19.794Z"
   },
   {
    "duration": 228,
    "start_time": "2025-01-09T00:38:20.024Z"
   },
   {
    "duration": 937,
    "start_time": "2025-01-09T00:38:20.254Z"
   },
   {
    "duration": 166,
    "start_time": "2025-01-09T00:38:21.192Z"
   },
   {
    "duration": 162,
    "start_time": "2025-01-09T00:38:21.359Z"
   },
   {
    "duration": 4,
    "start_time": "2025-01-09T00:38:21.522Z"
   },
   {
    "duration": 98,
    "start_time": "2025-01-09T00:38:21.527Z"
   },
   {
    "duration": 4,
    "start_time": "2025-01-09T00:38:21.627Z"
   },
   {
    "duration": 123,
    "start_time": "2025-01-09T00:38:21.633Z"
   },
   {
    "duration": 15,
    "start_time": "2025-01-09T00:38:21.757Z"
   },
   {
    "duration": 18,
    "start_time": "2025-01-09T00:38:21.774Z"
   },
   {
    "duration": 3,
    "start_time": "2025-01-09T00:38:21.794Z"
   },
   {
    "duration": 1321,
    "start_time": "2025-01-09T00:38:21.799Z"
   },
   {
    "duration": 0,
    "start_time": "2025-01-09T00:38:23.122Z"
   },
   {
    "duration": 0,
    "start_time": "2025-01-09T00:38:23.123Z"
   },
   {
    "duration": 0,
    "start_time": "2025-01-09T00:38:23.124Z"
   },
   {
    "duration": 0,
    "start_time": "2025-01-09T00:38:23.125Z"
   },
   {
    "duration": 0,
    "start_time": "2025-01-09T00:38:23.126Z"
   },
   {
    "duration": 0,
    "start_time": "2025-01-09T00:38:23.128Z"
   },
   {
    "duration": 0,
    "start_time": "2025-01-09T00:38:23.129Z"
   },
   {
    "duration": 0,
    "start_time": "2025-01-09T00:38:23.130Z"
   },
   {
    "duration": 0,
    "start_time": "2025-01-09T00:38:23.131Z"
   },
   {
    "duration": 0,
    "start_time": "2025-01-09T00:38:23.132Z"
   },
   {
    "duration": 0,
    "start_time": "2025-01-09T00:38:23.133Z"
   },
   {
    "duration": 0,
    "start_time": "2025-01-09T00:38:23.134Z"
   },
   {
    "duration": 0,
    "start_time": "2025-01-09T00:38:23.135Z"
   },
   {
    "duration": 0,
    "start_time": "2025-01-09T00:38:23.136Z"
   },
   {
    "duration": 0,
    "start_time": "2025-01-09T00:38:23.137Z"
   },
   {
    "duration": 0,
    "start_time": "2025-01-09T00:38:23.138Z"
   },
   {
    "duration": 0,
    "start_time": "2025-01-09T00:38:23.139Z"
   },
   {
    "duration": 0,
    "start_time": "2025-01-09T00:38:23.140Z"
   },
   {
    "duration": 0,
    "start_time": "2025-01-09T00:38:23.141Z"
   },
   {
    "duration": 0,
    "start_time": "2025-01-09T00:38:23.142Z"
   },
   {
    "duration": 6,
    "start_time": "2025-01-09T00:38:57.171Z"
   },
   {
    "duration": 3,
    "start_time": "2025-01-09T00:38:58.787Z"
   },
   {
    "duration": 3,
    "start_time": "2025-01-09T00:38:59.152Z"
   },
   {
    "duration": 3,
    "start_time": "2025-01-09T00:39:01.155Z"
   },
   {
    "duration": 713,
    "start_time": "2025-01-09T00:39:02.914Z"
   },
   {
    "duration": 4,
    "start_time": "2025-01-09T00:39:38.888Z"
   },
   {
    "duration": 3,
    "start_time": "2025-01-09T00:39:42.734Z"
   },
   {
    "duration": 693,
    "start_time": "2025-01-09T00:39:44.804Z"
   },
   {
    "duration": 3,
    "start_time": "2025-01-09T00:39:58.521Z"
   },
   {
    "duration": 3,
    "start_time": "2025-01-09T00:40:00.868Z"
   },
   {
    "duration": 4,
    "start_time": "2025-01-09T00:40:03.388Z"
   },
   {
    "duration": 713,
    "start_time": "2025-01-09T00:40:05.645Z"
   },
   {
    "duration": 4,
    "start_time": "2025-01-09T00:40:22.928Z"
   },
   {
    "duration": 4777,
    "start_time": "2025-01-09T00:40:26.857Z"
   },
   {
    "duration": 3,
    "start_time": "2025-01-09T00:40:31.637Z"
   },
   {
    "duration": 1966,
    "start_time": "2025-01-09T00:40:31.642Z"
   },
   {
    "duration": 72,
    "start_time": "2025-01-09T00:40:33.610Z"
   },
   {
    "duration": 4,
    "start_time": "2025-01-09T00:40:33.684Z"
   },
   {
    "duration": 63,
    "start_time": "2025-01-09T00:40:33.690Z"
   },
   {
    "duration": 4,
    "start_time": "2025-01-09T00:40:33.755Z"
   },
   {
    "duration": 46,
    "start_time": "2025-01-09T00:40:33.760Z"
   },
   {
    "duration": 5,
    "start_time": "2025-01-09T00:40:33.807Z"
   },
   {
    "duration": 31,
    "start_time": "2025-01-09T00:40:33.814Z"
   },
   {
    "duration": 1187,
    "start_time": "2025-01-09T00:40:33.846Z"
   },
   {
    "duration": 235,
    "start_time": "2025-01-09T00:40:35.035Z"
   },
   {
    "duration": 232,
    "start_time": "2025-01-09T00:40:35.271Z"
   },
   {
    "duration": 978,
    "start_time": "2025-01-09T00:40:35.505Z"
   },
   {
    "duration": 196,
    "start_time": "2025-01-09T00:40:36.485Z"
   },
   {
    "duration": 169,
    "start_time": "2025-01-09T00:40:36.683Z"
   },
   {
    "duration": 4,
    "start_time": "2025-01-09T00:40:36.853Z"
   },
   {
    "duration": 68,
    "start_time": "2025-01-09T00:40:36.859Z"
   },
   {
    "duration": 4,
    "start_time": "2025-01-09T00:40:36.928Z"
   },
   {
    "duration": 9,
    "start_time": "2025-01-09T00:40:36.934Z"
   },
   {
    "duration": 19,
    "start_time": "2025-01-09T00:40:36.945Z"
   },
   {
    "duration": 6,
    "start_time": "2025-01-09T00:40:36.966Z"
   },
   {
    "duration": 104,
    "start_time": "2025-01-09T00:40:36.973Z"
   },
   {
    "duration": 844,
    "start_time": "2025-01-09T00:40:37.079Z"
   },
   {
    "duration": 0,
    "start_time": "2025-01-09T00:40:37.925Z"
   },
   {
    "duration": 0,
    "start_time": "2025-01-09T00:40:37.926Z"
   },
   {
    "duration": 0,
    "start_time": "2025-01-09T00:40:37.928Z"
   },
   {
    "duration": 0,
    "start_time": "2025-01-09T00:40:37.929Z"
   },
   {
    "duration": 0,
    "start_time": "2025-01-09T00:40:37.930Z"
   },
   {
    "duration": 0,
    "start_time": "2025-01-09T00:40:37.931Z"
   },
   {
    "duration": 0,
    "start_time": "2025-01-09T00:40:37.933Z"
   },
   {
    "duration": 0,
    "start_time": "2025-01-09T00:40:37.934Z"
   },
   {
    "duration": 0,
    "start_time": "2025-01-09T00:40:37.935Z"
   },
   {
    "duration": 0,
    "start_time": "2025-01-09T00:40:37.936Z"
   },
   {
    "duration": 0,
    "start_time": "2025-01-09T00:40:37.937Z"
   },
   {
    "duration": 0,
    "start_time": "2025-01-09T00:40:37.939Z"
   },
   {
    "duration": 0,
    "start_time": "2025-01-09T00:40:37.940Z"
   },
   {
    "duration": 0,
    "start_time": "2025-01-09T00:40:37.941Z"
   },
   {
    "duration": 0,
    "start_time": "2025-01-09T00:40:37.942Z"
   },
   {
    "duration": 0,
    "start_time": "2025-01-09T00:40:37.943Z"
   },
   {
    "duration": 0,
    "start_time": "2025-01-09T00:40:37.944Z"
   },
   {
    "duration": 0,
    "start_time": "2025-01-09T00:40:37.945Z"
   },
   {
    "duration": 0,
    "start_time": "2025-01-09T00:40:37.946Z"
   },
   {
    "duration": 0,
    "start_time": "2025-01-09T00:40:37.947Z"
   },
   {
    "duration": 66,
    "start_time": "2025-01-09T00:41:43.311Z"
   },
   {
    "duration": 68,
    "start_time": "2025-01-09T00:41:46.611Z"
   },
   {
    "duration": 64,
    "start_time": "2025-01-09T00:41:48.364Z"
   },
   {
    "duration": 4778,
    "start_time": "2025-01-09T00:41:52.014Z"
   },
   {
    "duration": 3,
    "start_time": "2025-01-09T00:41:56.795Z"
   },
   {
    "duration": 1912,
    "start_time": "2025-01-09T00:41:56.799Z"
   },
   {
    "duration": 69,
    "start_time": "2025-01-09T00:41:58.713Z"
   },
   {
    "duration": 5,
    "start_time": "2025-01-09T00:41:58.783Z"
   },
   {
    "duration": 45,
    "start_time": "2025-01-09T00:41:58.790Z"
   },
   {
    "duration": 5,
    "start_time": "2025-01-09T00:41:58.837Z"
   },
   {
    "duration": 54,
    "start_time": "2025-01-09T00:41:58.844Z"
   },
   {
    "duration": 6,
    "start_time": "2025-01-09T00:41:58.900Z"
   },
   {
    "duration": 33,
    "start_time": "2025-01-09T00:41:58.909Z"
   },
   {
    "duration": 1131,
    "start_time": "2025-01-09T00:41:58.943Z"
   },
   {
    "duration": 229,
    "start_time": "2025-01-09T00:42:00.075Z"
   },
   {
    "duration": 239,
    "start_time": "2025-01-09T00:42:00.306Z"
   },
   {
    "duration": 943,
    "start_time": "2025-01-09T00:42:00.547Z"
   },
   {
    "duration": 169,
    "start_time": "2025-01-09T00:42:01.491Z"
   },
   {
    "duration": 170,
    "start_time": "2025-01-09T00:42:01.662Z"
   },
   {
    "duration": 4,
    "start_time": "2025-01-09T00:42:01.833Z"
   },
   {
    "duration": 89,
    "start_time": "2025-01-09T00:42:01.838Z"
   },
   {
    "duration": 4,
    "start_time": "2025-01-09T00:42:01.928Z"
   },
   {
    "duration": 43,
    "start_time": "2025-01-09T00:42:01.933Z"
   },
   {
    "duration": 6,
    "start_time": "2025-01-09T00:42:01.977Z"
   },
   {
    "duration": 8,
    "start_time": "2025-01-09T00:42:01.985Z"
   },
   {
    "duration": 25,
    "start_time": "2025-01-09T00:42:01.994Z"
   },
   {
    "duration": 887,
    "start_time": "2025-01-09T00:42:02.021Z"
   },
   {
    "duration": 0,
    "start_time": "2025-01-09T00:42:02.914Z"
   },
   {
    "duration": 0,
    "start_time": "2025-01-09T00:42:02.916Z"
   },
   {
    "duration": 0,
    "start_time": "2025-01-09T00:42:02.917Z"
   },
   {
    "duration": 0,
    "start_time": "2025-01-09T00:42:02.918Z"
   },
   {
    "duration": 0,
    "start_time": "2025-01-09T00:42:02.919Z"
   },
   {
    "duration": 0,
    "start_time": "2025-01-09T00:42:02.920Z"
   },
   {
    "duration": 0,
    "start_time": "2025-01-09T00:42:02.921Z"
   },
   {
    "duration": 0,
    "start_time": "2025-01-09T00:42:02.922Z"
   },
   {
    "duration": 0,
    "start_time": "2025-01-09T00:42:02.923Z"
   },
   {
    "duration": 0,
    "start_time": "2025-01-09T00:42:02.924Z"
   },
   {
    "duration": 0,
    "start_time": "2025-01-09T00:42:02.925Z"
   },
   {
    "duration": 0,
    "start_time": "2025-01-09T00:42:02.926Z"
   },
   {
    "duration": 0,
    "start_time": "2025-01-09T00:42:02.927Z"
   },
   {
    "duration": 0,
    "start_time": "2025-01-09T00:42:02.928Z"
   },
   {
    "duration": 0,
    "start_time": "2025-01-09T00:42:02.929Z"
   },
   {
    "duration": 0,
    "start_time": "2025-01-09T00:42:02.930Z"
   },
   {
    "duration": 0,
    "start_time": "2025-01-09T00:42:02.931Z"
   },
   {
    "duration": 0,
    "start_time": "2025-01-09T00:42:02.932Z"
   },
   {
    "duration": 0,
    "start_time": "2025-01-09T00:42:02.933Z"
   },
   {
    "duration": 0,
    "start_time": "2025-01-09T00:42:02.934Z"
   },
   {
    "duration": 4,
    "start_time": "2025-01-09T00:42:43.825Z"
   },
   {
    "duration": 3,
    "start_time": "2025-01-09T00:42:46.480Z"
   },
   {
    "duration": 702,
    "start_time": "2025-01-09T00:42:48.256Z"
   },
   {
    "duration": 6,
    "start_time": "2025-01-09T00:43:29.282Z"
   },
   {
    "duration": 3,
    "start_time": "2025-01-09T00:43:31.572Z"
   },
   {
    "duration": 4,
    "start_time": "2025-01-09T00:43:31.929Z"
   },
   {
    "duration": 3,
    "start_time": "2025-01-09T00:43:34.563Z"
   },
   {
    "duration": 734,
    "start_time": "2025-01-09T00:43:36.526Z"
   },
   {
    "duration": 4798,
    "start_time": "2025-01-09T00:43:55.207Z"
   },
   {
    "duration": 3,
    "start_time": "2025-01-09T00:44:00.007Z"
   },
   {
    "duration": 1899,
    "start_time": "2025-01-09T00:44:00.011Z"
   },
   {
    "duration": 72,
    "start_time": "2025-01-09T00:44:01.912Z"
   },
   {
    "duration": 4,
    "start_time": "2025-01-09T00:44:01.986Z"
   },
   {
    "duration": 91,
    "start_time": "2025-01-09T00:44:01.992Z"
   },
   {
    "duration": 4,
    "start_time": "2025-01-09T00:44:02.085Z"
   },
   {
    "duration": 45,
    "start_time": "2025-01-09T00:44:02.091Z"
   },
   {
    "duration": 6,
    "start_time": "2025-01-09T00:44:02.138Z"
   },
   {
    "duration": 42,
    "start_time": "2025-01-09T00:44:02.145Z"
   },
   {
    "duration": 1139,
    "start_time": "2025-01-09T00:44:02.189Z"
   },
   {
    "duration": 232,
    "start_time": "2025-01-09T00:44:03.329Z"
   },
   {
    "duration": 237,
    "start_time": "2025-01-09T00:44:03.562Z"
   },
   {
    "duration": 969,
    "start_time": "2025-01-09T00:44:03.803Z"
   },
   {
    "duration": 206,
    "start_time": "2025-01-09T00:44:04.773Z"
   },
   {
    "duration": 187,
    "start_time": "2025-01-09T00:44:04.980Z"
   },
   {
    "duration": 4,
    "start_time": "2025-01-09T00:44:05.169Z"
   },
   {
    "duration": 78,
    "start_time": "2025-01-09T00:44:05.174Z"
   },
   {
    "duration": 41,
    "start_time": "2025-01-09T00:44:05.253Z"
   },
   {
    "duration": 14,
    "start_time": "2025-01-09T00:44:05.295Z"
   },
   {
    "duration": 9,
    "start_time": "2025-01-09T00:44:05.311Z"
   },
   {
    "duration": 21,
    "start_time": "2025-01-09T00:44:05.322Z"
   },
   {
    "duration": 38,
    "start_time": "2025-01-09T00:44:05.344Z"
   },
   {
    "duration": 1032,
    "start_time": "2025-01-09T00:44:05.384Z"
   },
   {
    "duration": 0,
    "start_time": "2025-01-09T00:44:06.418Z"
   },
   {
    "duration": 0,
    "start_time": "2025-01-09T00:44:06.420Z"
   },
   {
    "duration": 0,
    "start_time": "2025-01-09T00:44:06.421Z"
   },
   {
    "duration": 0,
    "start_time": "2025-01-09T00:44:06.423Z"
   },
   {
    "duration": 0,
    "start_time": "2025-01-09T00:44:06.424Z"
   },
   {
    "duration": 0,
    "start_time": "2025-01-09T00:44:06.425Z"
   },
   {
    "duration": 0,
    "start_time": "2025-01-09T00:44:06.426Z"
   },
   {
    "duration": 0,
    "start_time": "2025-01-09T00:44:06.427Z"
   },
   {
    "duration": 0,
    "start_time": "2025-01-09T00:44:06.428Z"
   },
   {
    "duration": 0,
    "start_time": "2025-01-09T00:44:06.429Z"
   },
   {
    "duration": 0,
    "start_time": "2025-01-09T00:44:06.430Z"
   },
   {
    "duration": 0,
    "start_time": "2025-01-09T00:44:06.431Z"
   },
   {
    "duration": 0,
    "start_time": "2025-01-09T00:44:06.432Z"
   },
   {
    "duration": 0,
    "start_time": "2025-01-09T00:44:06.433Z"
   },
   {
    "duration": 1,
    "start_time": "2025-01-09T00:44:06.434Z"
   },
   {
    "duration": 0,
    "start_time": "2025-01-09T00:44:06.435Z"
   },
   {
    "duration": 0,
    "start_time": "2025-01-09T00:44:06.437Z"
   },
   {
    "duration": 0,
    "start_time": "2025-01-09T00:44:06.438Z"
   },
   {
    "duration": 0,
    "start_time": "2025-01-09T00:44:06.439Z"
   },
   {
    "duration": 0,
    "start_time": "2025-01-09T00:44:06.440Z"
   },
   {
    "duration": 4787,
    "start_time": "2025-01-09T00:44:38.625Z"
   },
   {
    "duration": 3,
    "start_time": "2025-01-09T00:44:43.414Z"
   },
   {
    "duration": 1945,
    "start_time": "2025-01-09T00:44:43.419Z"
   },
   {
    "duration": 68,
    "start_time": "2025-01-09T00:44:45.366Z"
   },
   {
    "duration": 4,
    "start_time": "2025-01-09T00:44:45.436Z"
   },
   {
    "duration": 61,
    "start_time": "2025-01-09T00:44:45.441Z"
   },
   {
    "duration": 4,
    "start_time": "2025-01-09T00:44:45.503Z"
   },
   {
    "duration": 54,
    "start_time": "2025-01-09T00:44:45.509Z"
   },
   {
    "duration": 6,
    "start_time": "2025-01-09T00:44:45.565Z"
   },
   {
    "duration": 25,
    "start_time": "2025-01-09T00:44:45.572Z"
   },
   {
    "duration": 1174,
    "start_time": "2025-01-09T00:44:45.598Z"
   },
   {
    "duration": 223,
    "start_time": "2025-01-09T00:44:46.774Z"
   },
   {
    "duration": 228,
    "start_time": "2025-01-09T00:44:46.999Z"
   },
   {
    "duration": 955,
    "start_time": "2025-01-09T00:44:47.230Z"
   },
   {
    "duration": 167,
    "start_time": "2025-01-09T00:44:48.187Z"
   },
   {
    "duration": 359,
    "start_time": "2025-01-09T00:44:48.356Z"
   },
   {
    "duration": 4,
    "start_time": "2025-01-09T00:44:48.717Z"
   },
   {
    "duration": 207,
    "start_time": "2025-01-09T00:44:48.723Z"
   },
   {
    "duration": 3,
    "start_time": "2025-01-09T00:44:48.932Z"
   },
   {
    "duration": 9,
    "start_time": "2025-01-09T00:44:48.937Z"
   },
   {
    "duration": 7,
    "start_time": "2025-01-09T00:44:48.948Z"
   },
   {
    "duration": 10,
    "start_time": "2025-01-09T00:44:48.956Z"
   },
   {
    "duration": 3,
    "start_time": "2025-01-09T00:44:49.016Z"
   },
   {
    "duration": 1261,
    "start_time": "2025-01-09T00:44:49.020Z"
   },
   {
    "duration": 0,
    "start_time": "2025-01-09T00:44:50.282Z"
   },
   {
    "duration": 0,
    "start_time": "2025-01-09T00:44:50.284Z"
   },
   {
    "duration": 0,
    "start_time": "2025-01-09T00:44:50.284Z"
   },
   {
    "duration": 0,
    "start_time": "2025-01-09T00:44:50.286Z"
   },
   {
    "duration": 0,
    "start_time": "2025-01-09T00:44:50.287Z"
   },
   {
    "duration": 0,
    "start_time": "2025-01-09T00:44:50.288Z"
   },
   {
    "duration": 0,
    "start_time": "2025-01-09T00:44:50.289Z"
   },
   {
    "duration": 0,
    "start_time": "2025-01-09T00:44:50.290Z"
   },
   {
    "duration": 0,
    "start_time": "2025-01-09T00:44:50.291Z"
   },
   {
    "duration": 0,
    "start_time": "2025-01-09T00:44:50.292Z"
   },
   {
    "duration": 0,
    "start_time": "2025-01-09T00:44:50.315Z"
   },
   {
    "duration": 0,
    "start_time": "2025-01-09T00:44:50.316Z"
   },
   {
    "duration": 0,
    "start_time": "2025-01-09T00:44:50.317Z"
   },
   {
    "duration": 0,
    "start_time": "2025-01-09T00:44:50.318Z"
   },
   {
    "duration": 0,
    "start_time": "2025-01-09T00:44:50.319Z"
   },
   {
    "duration": 0,
    "start_time": "2025-01-09T00:44:50.320Z"
   },
   {
    "duration": 0,
    "start_time": "2025-01-09T00:44:50.321Z"
   },
   {
    "duration": 0,
    "start_time": "2025-01-09T00:44:50.322Z"
   },
   {
    "duration": 0,
    "start_time": "2025-01-09T00:44:50.324Z"
   },
   {
    "duration": 1,
    "start_time": "2025-01-09T00:44:50.324Z"
   },
   {
    "duration": 3,
    "start_time": "2025-01-09T00:45:03.551Z"
   },
   {
    "duration": 743,
    "start_time": "2025-01-09T00:45:05.964Z"
   },
   {
    "duration": 4779,
    "start_time": "2025-01-09T00:45:26.428Z"
   },
   {
    "duration": 2,
    "start_time": "2025-01-09T00:45:31.210Z"
   },
   {
    "duration": 1972,
    "start_time": "2025-01-09T00:45:31.214Z"
   },
   {
    "duration": 68,
    "start_time": "2025-01-09T00:45:33.187Z"
   },
   {
    "duration": 4,
    "start_time": "2025-01-09T00:45:33.257Z"
   },
   {
    "duration": 63,
    "start_time": "2025-01-09T00:45:33.262Z"
   },
   {
    "duration": 4,
    "start_time": "2025-01-09T00:45:33.327Z"
   },
   {
    "duration": 82,
    "start_time": "2025-01-09T00:45:33.332Z"
   },
   {
    "duration": 6,
    "start_time": "2025-01-09T00:45:33.415Z"
   },
   {
    "duration": 55,
    "start_time": "2025-01-09T00:45:33.423Z"
   },
   {
    "duration": 1151,
    "start_time": "2025-01-09T00:45:33.479Z"
   },
   {
    "duration": 247,
    "start_time": "2025-01-09T00:45:34.632Z"
   },
   {
    "duration": 283,
    "start_time": "2025-01-09T00:45:34.880Z"
   },
   {
    "duration": 1227,
    "start_time": "2025-01-09T00:45:35.164Z"
   },
   {
    "duration": 188,
    "start_time": "2025-01-09T00:45:36.393Z"
   },
   {
    "duration": 181,
    "start_time": "2025-01-09T00:45:36.583Z"
   },
   {
    "duration": 3,
    "start_time": "2025-01-09T00:45:36.766Z"
   },
   {
    "duration": 99,
    "start_time": "2025-01-09T00:45:36.771Z"
   },
   {
    "duration": 4,
    "start_time": "2025-01-09T00:45:36.872Z"
   },
   {
    "duration": 9,
    "start_time": "2025-01-09T00:45:36.878Z"
   },
   {
    "duration": 5,
    "start_time": "2025-01-09T00:45:36.889Z"
   },
   {
    "duration": 11,
    "start_time": "2025-01-09T00:45:36.896Z"
   },
   {
    "duration": 16,
    "start_time": "2025-01-09T00:45:36.914Z"
   },
   {
    "duration": 859,
    "start_time": "2025-01-09T00:45:36.932Z"
   },
   {
    "duration": 0,
    "start_time": "2025-01-09T00:45:37.794Z"
   },
   {
    "duration": 0,
    "start_time": "2025-01-09T00:45:37.795Z"
   },
   {
    "duration": 0,
    "start_time": "2025-01-09T00:45:37.796Z"
   },
   {
    "duration": 0,
    "start_time": "2025-01-09T00:45:37.797Z"
   },
   {
    "duration": 0,
    "start_time": "2025-01-09T00:45:37.814Z"
   },
   {
    "duration": 0,
    "start_time": "2025-01-09T00:45:37.815Z"
   },
   {
    "duration": 0,
    "start_time": "2025-01-09T00:45:37.816Z"
   },
   {
    "duration": 0,
    "start_time": "2025-01-09T00:45:37.818Z"
   },
   {
    "duration": 0,
    "start_time": "2025-01-09T00:45:37.819Z"
   },
   {
    "duration": 0,
    "start_time": "2025-01-09T00:45:37.820Z"
   },
   {
    "duration": 0,
    "start_time": "2025-01-09T00:45:37.821Z"
   },
   {
    "duration": 0,
    "start_time": "2025-01-09T00:45:37.823Z"
   },
   {
    "duration": 0,
    "start_time": "2025-01-09T00:45:37.824Z"
   },
   {
    "duration": 0,
    "start_time": "2025-01-09T00:45:37.825Z"
   },
   {
    "duration": 0,
    "start_time": "2025-01-09T00:45:37.826Z"
   },
   {
    "duration": 0,
    "start_time": "2025-01-09T00:45:37.827Z"
   },
   {
    "duration": 0,
    "start_time": "2025-01-09T00:45:37.828Z"
   },
   {
    "duration": 0,
    "start_time": "2025-01-09T00:45:37.831Z"
   },
   {
    "duration": 0,
    "start_time": "2025-01-09T00:45:37.832Z"
   },
   {
    "duration": 0,
    "start_time": "2025-01-09T00:45:37.833Z"
   },
   {
    "duration": 4799,
    "start_time": "2025-01-09T00:46:48.535Z"
   },
   {
    "duration": 3,
    "start_time": "2025-01-09T00:46:53.336Z"
   },
   {
    "duration": 1894,
    "start_time": "2025-01-09T00:46:53.340Z"
   },
   {
    "duration": 69,
    "start_time": "2025-01-09T00:46:55.236Z"
   },
   {
    "duration": 4,
    "start_time": "2025-01-09T00:46:55.308Z"
   },
   {
    "duration": 45,
    "start_time": "2025-01-09T00:46:55.314Z"
   },
   {
    "duration": 5,
    "start_time": "2025-01-09T00:46:55.361Z"
   },
   {
    "duration": 40,
    "start_time": "2025-01-09T00:46:55.368Z"
   },
   {
    "duration": 7,
    "start_time": "2025-01-09T00:46:55.410Z"
   },
   {
    "duration": 28,
    "start_time": "2025-01-09T00:46:55.418Z"
   },
   {
    "duration": 1176,
    "start_time": "2025-01-09T00:46:55.448Z"
   },
   {
    "duration": 228,
    "start_time": "2025-01-09T00:46:56.627Z"
   },
   {
    "duration": 234,
    "start_time": "2025-01-09T00:46:56.856Z"
   },
   {
    "duration": 928,
    "start_time": "2025-01-09T00:46:57.093Z"
   },
   {
    "duration": 160,
    "start_time": "2025-01-09T00:46:58.022Z"
   },
   {
    "duration": 165,
    "start_time": "2025-01-09T00:46:58.184Z"
   },
   {
    "duration": 4,
    "start_time": "2025-01-09T00:46:58.350Z"
   },
   {
    "duration": 76,
    "start_time": "2025-01-09T00:46:58.356Z"
   },
   {
    "duration": 4,
    "start_time": "2025-01-09T00:46:58.433Z"
   },
   {
    "duration": 6,
    "start_time": "2025-01-09T00:46:58.438Z"
   },
   {
    "duration": 35,
    "start_time": "2025-01-09T00:46:58.446Z"
   },
   {
    "duration": 51,
    "start_time": "2025-01-09T00:46:58.483Z"
   },
   {
    "duration": 32,
    "start_time": "2025-01-09T00:46:58.536Z"
   },
   {
    "duration": 853,
    "start_time": "2025-01-09T00:46:58.570Z"
   },
   {
    "duration": 0,
    "start_time": "2025-01-09T00:46:59.425Z"
   },
   {
    "duration": 0,
    "start_time": "2025-01-09T00:46:59.426Z"
   },
   {
    "duration": 0,
    "start_time": "2025-01-09T00:46:59.427Z"
   },
   {
    "duration": 0,
    "start_time": "2025-01-09T00:46:59.428Z"
   },
   {
    "duration": 0,
    "start_time": "2025-01-09T00:46:59.429Z"
   },
   {
    "duration": 0,
    "start_time": "2025-01-09T00:46:59.430Z"
   },
   {
    "duration": 0,
    "start_time": "2025-01-09T00:46:59.431Z"
   },
   {
    "duration": 0,
    "start_time": "2025-01-09T00:46:59.432Z"
   },
   {
    "duration": 0,
    "start_time": "2025-01-09T00:46:59.433Z"
   },
   {
    "duration": 0,
    "start_time": "2025-01-09T00:46:59.434Z"
   },
   {
    "duration": 0,
    "start_time": "2025-01-09T00:46:59.435Z"
   },
   {
    "duration": 0,
    "start_time": "2025-01-09T00:46:59.436Z"
   },
   {
    "duration": 0,
    "start_time": "2025-01-09T00:46:59.437Z"
   },
   {
    "duration": 0,
    "start_time": "2025-01-09T00:46:59.438Z"
   },
   {
    "duration": 0,
    "start_time": "2025-01-09T00:46:59.439Z"
   },
   {
    "duration": 0,
    "start_time": "2025-01-09T00:46:59.440Z"
   },
   {
    "duration": 0,
    "start_time": "2025-01-09T00:46:59.440Z"
   },
   {
    "duration": 0,
    "start_time": "2025-01-09T00:46:59.441Z"
   },
   {
    "duration": 0,
    "start_time": "2025-01-09T00:46:59.442Z"
   },
   {
    "duration": 0,
    "start_time": "2025-01-09T00:46:59.443Z"
   },
   {
    "duration": 4,
    "start_time": "2025-01-09T00:47:55.911Z"
   },
   {
    "duration": 3,
    "start_time": "2025-01-09T00:47:58.008Z"
   },
   {
    "duration": 716,
    "start_time": "2025-01-09T00:47:59.954Z"
   },
   {
    "duration": 71,
    "start_time": "2025-01-09T00:48:28.667Z"
   },
   {
    "duration": 4,
    "start_time": "2025-01-09T00:48:44.652Z"
   },
   {
    "duration": 4,
    "start_time": "2025-01-09T00:48:45.054Z"
   },
   {
    "duration": 3,
    "start_time": "2025-01-09T00:48:48.507Z"
   },
   {
    "duration": 4,
    "start_time": "2025-01-09T00:48:49.407Z"
   },
   {
    "duration": 4,
    "start_time": "2025-01-09T00:48:57.087Z"
   },
   {
    "duration": 714,
    "start_time": "2025-01-09T00:48:59.405Z"
   },
   {
    "duration": 7,
    "start_time": "2025-01-09T00:50:36.607Z"
   },
   {
    "duration": 3,
    "start_time": "2025-01-09T00:50:38.869Z"
   },
   {
    "duration": 3,
    "start_time": "2025-01-09T00:50:39.269Z"
   },
   {
    "duration": 3,
    "start_time": "2025-01-09T00:50:41.545Z"
   },
   {
    "duration": 720,
    "start_time": "2025-01-09T00:50:43.164Z"
   },
   {
    "duration": 61,
    "start_time": "2025-01-09T00:51:58.988Z"
   },
   {
    "duration": 57,
    "start_time": "2025-01-09T00:52:04.043Z"
   },
   {
    "duration": 11,
    "start_time": "2025-01-09T00:53:44.433Z"
   },
   {
    "duration": 2,
    "start_time": "2025-01-09T00:53:48.515Z"
   },
   {
    "duration": 12,
    "start_time": "2025-01-09T00:53:49.005Z"
   },
   {
    "duration": 60,
    "start_time": "2025-01-09T00:53:55.574Z"
   },
   {
    "duration": 47,
    "start_time": "2025-01-09T00:53:56.197Z"
   },
   {
    "duration": 10,
    "start_time": "2025-01-09T00:53:56.598Z"
   },
   {
    "duration": 109,
    "start_time": "2025-01-09T00:54:00.230Z"
   },
   {
    "duration": 113,
    "start_time": "2025-01-09T00:54:01.542Z"
   },
   {
    "duration": 13,
    "start_time": "2025-01-09T00:54:02.830Z"
   },
   {
    "duration": 1254,
    "start_time": "2025-01-09T00:54:03.310Z"
   },
   {
    "duration": 285,
    "start_time": "2025-01-09T00:54:04.566Z"
   },
   {
    "duration": 15,
    "start_time": "2025-01-09T00:54:08.922Z"
   },
   {
    "duration": 56,
    "start_time": "2025-01-09T00:55:01.792Z"
   },
   {
    "duration": 17,
    "start_time": "2025-01-09T00:55:25.840Z"
   },
   {
    "duration": 60,
    "start_time": "2025-01-09T00:56:31.720Z"
   },
   {
    "duration": 4,
    "start_time": "2025-01-09T00:56:38.180Z"
   },
   {
    "duration": 6,
    "start_time": "2025-01-09T00:56:38.620Z"
   },
   {
    "duration": 3,
    "start_time": "2025-01-09T00:56:40.329Z"
   },
   {
    "duration": 4,
    "start_time": "2025-01-09T00:56:40.851Z"
   },
   {
    "duration": 3,
    "start_time": "2025-01-09T00:56:43.271Z"
   },
   {
    "duration": 1959,
    "start_time": "2025-01-09T00:56:45.331Z"
   },
   {
    "duration": 4,
    "start_time": "2025-01-09T00:56:56.479Z"
   },
   {
    "duration": 3,
    "start_time": "2025-01-09T00:56:59.111Z"
   },
   {
    "duration": 1894,
    "start_time": "2025-01-09T00:57:00.869Z"
   },
   {
    "duration": 4,
    "start_time": "2025-01-09T00:57:16.217Z"
   },
   {
    "duration": 3,
    "start_time": "2025-01-09T00:57:18.230Z"
   },
   {
    "duration": 3,
    "start_time": "2025-01-09T00:57:18.616Z"
   },
   {
    "duration": 4,
    "start_time": "2025-01-09T00:57:20.732Z"
   },
   {
    "duration": 1879,
    "start_time": "2025-01-09T00:57:22.523Z"
   },
   {
    "duration": 13,
    "start_time": "2025-01-09T00:57:39.324Z"
   },
   {
    "duration": 4873,
    "start_time": "2025-01-09T00:58:08.474Z"
   },
   {
    "duration": 2,
    "start_time": "2025-01-09T00:58:13.350Z"
   },
   {
    "duration": 1881,
    "start_time": "2025-01-09T00:58:13.354Z"
   },
   {
    "duration": 68,
    "start_time": "2025-01-09T00:58:15.236Z"
   },
   {
    "duration": 27,
    "start_time": "2025-01-09T00:58:15.307Z"
   },
   {
    "duration": 65,
    "start_time": "2025-01-09T00:58:15.336Z"
   },
   {
    "duration": 5,
    "start_time": "2025-01-09T00:58:15.403Z"
   },
   {
    "duration": 88,
    "start_time": "2025-01-09T00:58:15.410Z"
   },
   {
    "duration": 6,
    "start_time": "2025-01-09T00:58:15.500Z"
   },
   {
    "duration": 26,
    "start_time": "2025-01-09T00:58:15.508Z"
   },
   {
    "duration": 1173,
    "start_time": "2025-01-09T00:58:15.535Z"
   },
   {
    "duration": 231,
    "start_time": "2025-01-09T00:58:16.714Z"
   },
   {
    "duration": 234,
    "start_time": "2025-01-09T00:58:16.947Z"
   },
   {
    "duration": 984,
    "start_time": "2025-01-09T00:58:17.183Z"
   },
   {
    "duration": 168,
    "start_time": "2025-01-09T00:58:18.168Z"
   },
   {
    "duration": 173,
    "start_time": "2025-01-09T00:58:18.338Z"
   },
   {
    "duration": 3,
    "start_time": "2025-01-09T00:58:18.516Z"
   },
   {
    "duration": 23,
    "start_time": "2025-01-09T00:58:18.521Z"
   },
   {
    "duration": 73,
    "start_time": "2025-01-09T00:58:18.545Z"
   },
   {
    "duration": 5,
    "start_time": "2025-01-09T00:58:18.619Z"
   },
   {
    "duration": 5,
    "start_time": "2025-01-09T00:58:18.625Z"
   },
   {
    "duration": 10,
    "start_time": "2025-01-09T00:58:18.632Z"
   },
   {
    "duration": 12,
    "start_time": "2025-01-09T00:58:18.644Z"
   },
   {
    "duration": 4,
    "start_time": "2025-01-09T00:58:18.658Z"
   },
   {
    "duration": 1999,
    "start_time": "2025-01-09T00:58:18.663Z"
   },
   {
    "duration": 12,
    "start_time": "2025-01-09T00:58:20.664Z"
   },
   {
    "duration": 86,
    "start_time": "2025-01-09T00:58:20.678Z"
   },
   {
    "duration": 39,
    "start_time": "2025-01-09T00:58:20.766Z"
   },
   {
    "duration": 6,
    "start_time": "2025-01-09T00:58:20.807Z"
   },
   {
    "duration": 105,
    "start_time": "2025-01-09T00:58:20.814Z"
   },
   {
    "duration": 112,
    "start_time": "2025-01-09T00:58:20.921Z"
   },
   {
    "duration": 12,
    "start_time": "2025-01-09T00:58:21.035Z"
   },
   {
    "duration": 1257,
    "start_time": "2025-01-09T00:58:21.048Z"
   },
   {
    "duration": 280,
    "start_time": "2025-01-09T00:58:22.306Z"
   },
   {
    "duration": 19,
    "start_time": "2025-01-09T00:58:22.587Z"
   },
   {
    "duration": 9,
    "start_time": "2025-01-09T00:58:22.607Z"
   },
   {
    "duration": 290,
    "start_time": "2025-01-09T00:58:22.617Z"
   },
   {
    "duration": 27,
    "start_time": "2025-01-09T00:58:22.908Z"
   },
   {
    "duration": 26,
    "start_time": "2025-01-09T00:58:22.937Z"
   },
   {
    "duration": 2,
    "start_time": "2025-01-09T00:58:22.965Z"
   },
   {
    "duration": 78,
    "start_time": "2025-01-09T00:58:22.972Z"
   },
   {
    "duration": 4,
    "start_time": "2025-01-09T00:58:23.052Z"
   },
   {
    "duration": 7,
    "start_time": "2025-01-09T00:58:23.058Z"
   },
   {
    "duration": 132,
    "start_time": "2025-01-09T00:58:23.066Z"
   },
   {
    "duration": 0,
    "start_time": "2025-01-09T00:58:23.200Z"
   },
   {
    "duration": 5,
    "start_time": "2025-01-09T00:58:47.476Z"
   },
   {
    "duration": 4088,
    "start_time": "2025-01-09T00:58:50.443Z"
   },
   {
    "duration": 137,
    "start_time": "2025-01-09T01:00:34.448Z"
   },
   {
    "duration": 5,
    "start_time": "2025-01-09T01:00:44.601Z"
   },
   {
    "duration": 5,
    "start_time": "2025-01-09T01:00:45.125Z"
   },
   {
    "duration": 3,
    "start_time": "2025-01-09T01:00:46.760Z"
   },
   {
    "duration": 4,
    "start_time": "2025-01-09T01:00:47.246Z"
   },
   {
    "duration": 4,
    "start_time": "2025-01-09T01:00:49.257Z"
   },
   {
    "duration": 1967,
    "start_time": "2025-01-09T01:00:51.178Z"
   },
   {
    "duration": 15,
    "start_time": "2025-01-09T01:01:07.965Z"
   },
   {
    "duration": 58,
    "start_time": "2025-01-09T01:02:21.963Z"
   },
   {
    "duration": 4865,
    "start_time": "2025-01-09T01:02:45.723Z"
   },
   {
    "duration": 3,
    "start_time": "2025-01-09T01:02:50.591Z"
   },
   {
    "duration": 1951,
    "start_time": "2025-01-09T01:02:50.595Z"
   },
   {
    "duration": 70,
    "start_time": "2025-01-09T01:02:52.548Z"
   },
   {
    "duration": 4,
    "start_time": "2025-01-09T01:02:52.620Z"
   },
   {
    "duration": 50,
    "start_time": "2025-01-09T01:02:52.626Z"
   },
   {
    "duration": 4,
    "start_time": "2025-01-09T01:02:52.678Z"
   },
   {
    "duration": 42,
    "start_time": "2025-01-09T01:02:52.683Z"
   },
   {
    "duration": 5,
    "start_time": "2025-01-09T01:02:52.727Z"
   },
   {
    "duration": 35,
    "start_time": "2025-01-09T01:02:52.735Z"
   },
   {
    "duration": 1163,
    "start_time": "2025-01-09T01:02:52.771Z"
   },
   {
    "duration": 229,
    "start_time": "2025-01-09T01:02:53.936Z"
   },
   {
    "duration": 231,
    "start_time": "2025-01-09T01:02:54.167Z"
   },
   {
    "duration": 982,
    "start_time": "2025-01-09T01:02:54.400Z"
   },
   {
    "duration": 159,
    "start_time": "2025-01-09T01:02:55.384Z"
   },
   {
    "duration": 174,
    "start_time": "2025-01-09T01:02:55.545Z"
   },
   {
    "duration": 4,
    "start_time": "2025-01-09T01:02:55.721Z"
   },
   {
    "duration": 42,
    "start_time": "2025-01-09T01:02:55.727Z"
   },
   {
    "duration": 61,
    "start_time": "2025-01-09T01:02:55.771Z"
   },
   {
    "duration": 5,
    "start_time": "2025-01-09T01:02:55.834Z"
   },
   {
    "duration": 13,
    "start_time": "2025-01-09T01:02:55.840Z"
   },
   {
    "duration": 6,
    "start_time": "2025-01-09T01:02:55.854Z"
   },
   {
    "duration": 4,
    "start_time": "2025-01-09T01:02:55.861Z"
   },
   {
    "duration": 5,
    "start_time": "2025-01-09T01:02:55.867Z"
   },
   {
    "duration": 2002,
    "start_time": "2025-01-09T01:02:55.874Z"
   },
   {
    "duration": 15,
    "start_time": "2025-01-09T01:02:57.879Z"
   },
   {
    "duration": 66,
    "start_time": "2025-01-09T01:02:57.916Z"
   },
   {
    "duration": 39,
    "start_time": "2025-01-09T01:02:57.985Z"
   },
   {
    "duration": 6,
    "start_time": "2025-01-09T01:02:58.026Z"
   },
   {
    "duration": 120,
    "start_time": "2025-01-09T01:02:58.033Z"
   },
   {
    "duration": 116,
    "start_time": "2025-01-09T01:02:58.155Z"
   },
   {
    "duration": 13,
    "start_time": "2025-01-09T01:02:58.272Z"
   },
   {
    "duration": 1218,
    "start_time": "2025-01-09T01:02:58.287Z"
   },
   {
    "duration": 275,
    "start_time": "2025-01-09T01:02:59.506Z"
   },
   {
    "duration": 17,
    "start_time": "2025-01-09T01:02:59.783Z"
   },
   {
    "duration": 26,
    "start_time": "2025-01-09T01:02:59.801Z"
   },
   {
    "duration": 287,
    "start_time": "2025-01-09T01:02:59.828Z"
   },
   {
    "duration": 23,
    "start_time": "2025-01-09T01:03:00.116Z"
   },
   {
    "duration": 36,
    "start_time": "2025-01-09T01:03:00.141Z"
   },
   {
    "duration": 3,
    "start_time": "2025-01-09T01:03:00.178Z"
   },
   {
    "duration": 61,
    "start_time": "2025-01-09T01:03:00.183Z"
   },
   {
    "duration": 15,
    "start_time": "2025-01-09T01:03:00.246Z"
   },
   {
    "duration": 23,
    "start_time": "2025-01-09T01:03:00.263Z"
   },
   {
    "duration": 48,
    "start_time": "2025-01-09T01:03:00.288Z"
   },
   {
    "duration": 4194,
    "start_time": "2025-01-09T01:03:00.338Z"
   },
   {
    "duration": 801,
    "start_time": "2025-01-09T01:03:11.582Z"
   },
   {
    "duration": 1102,
    "start_time": "2025-01-09T01:03:24.074Z"
   },
   {
    "duration": 1106,
    "start_time": "2025-01-09T01:03:33.710Z"
   },
   {
    "duration": 2429,
    "start_time": "2025-01-09T01:04:14.416Z"
   },
   {
    "duration": 146,
    "start_time": "2025-01-09T01:04:57.526Z"
   },
   {
    "duration": 40,
    "start_time": "2025-01-09T01:06:26.144Z"
   },
   {
    "duration": 59,
    "start_time": "2025-01-09T01:06:36.059Z"
   },
   {
    "duration": 14045,
    "start_time": "2025-01-09T22:01:56.616Z"
   },
   {
    "duration": 3833,
    "start_time": "2025-01-09T22:02:10.663Z"
   },
   {
    "duration": 2395,
    "start_time": "2025-01-09T22:02:14.499Z"
   },
   {
    "duration": 77,
    "start_time": "2025-01-09T22:02:16.896Z"
   },
   {
    "duration": 5,
    "start_time": "2025-01-09T22:02:16.975Z"
   },
   {
    "duration": 43,
    "start_time": "2025-01-09T22:02:16.982Z"
   },
   {
    "duration": 4,
    "start_time": "2025-01-09T22:02:17.027Z"
   },
   {
    "duration": 53,
    "start_time": "2025-01-09T22:02:17.032Z"
   },
   {
    "duration": 8,
    "start_time": "2025-01-09T22:02:17.086Z"
   },
   {
    "duration": 178,
    "start_time": "2025-01-09T22:02:17.096Z"
   },
   {
    "duration": 0,
    "start_time": "2025-01-09T22:02:17.277Z"
   },
   {
    "duration": 0,
    "start_time": "2025-01-09T22:02:17.278Z"
   },
   {
    "duration": 0,
    "start_time": "2025-01-09T22:02:17.279Z"
   },
   {
    "duration": 0,
    "start_time": "2025-01-09T22:02:17.280Z"
   },
   {
    "duration": 0,
    "start_time": "2025-01-09T22:02:17.281Z"
   },
   {
    "duration": 0,
    "start_time": "2025-01-09T22:02:17.282Z"
   },
   {
    "duration": 0,
    "start_time": "2025-01-09T22:02:17.283Z"
   },
   {
    "duration": 0,
    "start_time": "2025-01-09T22:02:17.284Z"
   },
   {
    "duration": 0,
    "start_time": "2025-01-09T22:02:17.285Z"
   },
   {
    "duration": 0,
    "start_time": "2025-01-09T22:02:17.286Z"
   },
   {
    "duration": 0,
    "start_time": "2025-01-09T22:02:17.287Z"
   },
   {
    "duration": 0,
    "start_time": "2025-01-09T22:02:17.289Z"
   },
   {
    "duration": 0,
    "start_time": "2025-01-09T22:02:17.290Z"
   },
   {
    "duration": 0,
    "start_time": "2025-01-09T22:02:17.290Z"
   },
   {
    "duration": 0,
    "start_time": "2025-01-09T22:02:17.291Z"
   },
   {
    "duration": 0,
    "start_time": "2025-01-09T22:02:17.292Z"
   },
   {
    "duration": 0,
    "start_time": "2025-01-09T22:02:17.293Z"
   },
   {
    "duration": 0,
    "start_time": "2025-01-09T22:02:17.294Z"
   },
   {
    "duration": 0,
    "start_time": "2025-01-09T22:02:17.295Z"
   },
   {
    "duration": 0,
    "start_time": "2025-01-09T22:02:17.297Z"
   },
   {
    "duration": 0,
    "start_time": "2025-01-09T22:02:17.298Z"
   },
   {
    "duration": 0,
    "start_time": "2025-01-09T22:02:17.299Z"
   },
   {
    "duration": 0,
    "start_time": "2025-01-09T22:02:17.300Z"
   },
   {
    "duration": 0,
    "start_time": "2025-01-09T22:02:17.301Z"
   },
   {
    "duration": 0,
    "start_time": "2025-01-09T22:02:17.302Z"
   },
   {
    "duration": 0,
    "start_time": "2025-01-09T22:02:17.303Z"
   },
   {
    "duration": 0,
    "start_time": "2025-01-09T22:02:17.304Z"
   },
   {
    "duration": 0,
    "start_time": "2025-01-09T22:02:17.305Z"
   },
   {
    "duration": 0,
    "start_time": "2025-01-09T22:02:17.306Z"
   },
   {
    "duration": 0,
    "start_time": "2025-01-09T22:02:17.307Z"
   },
   {
    "duration": 0,
    "start_time": "2025-01-09T22:02:17.308Z"
   },
   {
    "duration": 0,
    "start_time": "2025-01-09T22:02:17.309Z"
   },
   {
    "duration": 0,
    "start_time": "2025-01-09T22:02:17.310Z"
   },
   {
    "duration": 0,
    "start_time": "2025-01-09T22:02:17.311Z"
   },
   {
    "duration": 0,
    "start_time": "2025-01-09T22:02:17.360Z"
   },
   {
    "duration": 7759,
    "start_time": "2025-01-10T00:21:24.854Z"
   },
   {
    "duration": 2373,
    "start_time": "2025-01-10T00:21:36.940Z"
   },
   {
    "duration": 4784,
    "start_time": "2025-01-10T00:21:56.417Z"
   },
   {
    "duration": 2363,
    "start_time": "2025-01-10T00:22:01.203Z"
   },
   {
    "duration": 2057,
    "start_time": "2025-01-10T00:22:03.568Z"
   },
   {
    "duration": 118,
    "start_time": "2025-01-10T00:22:05.626Z"
   },
   {
    "duration": 5,
    "start_time": "2025-01-10T00:22:05.747Z"
   },
   {
    "duration": 126,
    "start_time": "2025-01-10T00:22:05.754Z"
   },
   {
    "duration": 6,
    "start_time": "2025-01-10T00:22:05.881Z"
   },
   {
    "duration": 116,
    "start_time": "2025-01-10T00:22:05.888Z"
   },
   {
    "duration": 7,
    "start_time": "2025-01-10T00:22:06.005Z"
   },
   {
    "duration": 31,
    "start_time": "2025-01-10T00:22:06.013Z"
   },
   {
    "duration": 1445,
    "start_time": "2025-01-10T00:22:06.046Z"
   },
   {
    "duration": 124,
    "start_time": "2025-01-10T00:22:07.493Z"
   },
   {
    "duration": 229,
    "start_time": "2025-01-10T00:22:07.618Z"
   },
   {
    "duration": 957,
    "start_time": "2025-01-10T00:22:07.850Z"
   },
   {
    "duration": 168,
    "start_time": "2025-01-10T00:22:08.808Z"
   },
   {
    "duration": 171,
    "start_time": "2025-01-10T00:22:08.978Z"
   },
   {
    "duration": 3,
    "start_time": "2025-01-10T00:22:09.151Z"
   },
   {
    "duration": 18,
    "start_time": "2025-01-10T00:22:09.156Z"
   },
   {
    "duration": 174,
    "start_time": "2025-01-10T00:22:09.175Z"
   },
   {
    "duration": 0,
    "start_time": "2025-01-10T00:22:09.351Z"
   },
   {
    "duration": 0,
    "start_time": "2025-01-10T00:22:09.352Z"
   },
   {
    "duration": 0,
    "start_time": "2025-01-10T00:22:09.354Z"
   },
   {
    "duration": 0,
    "start_time": "2025-01-10T00:22:09.355Z"
   },
   {
    "duration": 0,
    "start_time": "2025-01-10T00:22:09.355Z"
   },
   {
    "duration": 0,
    "start_time": "2025-01-10T00:22:09.356Z"
   },
   {
    "duration": 0,
    "start_time": "2025-01-10T00:22:09.358Z"
   },
   {
    "duration": 0,
    "start_time": "2025-01-10T00:22:09.358Z"
   },
   {
    "duration": 0,
    "start_time": "2025-01-10T00:22:09.360Z"
   },
   {
    "duration": 0,
    "start_time": "2025-01-10T00:22:09.361Z"
   },
   {
    "duration": 0,
    "start_time": "2025-01-10T00:22:09.362Z"
   },
   {
    "duration": 0,
    "start_time": "2025-01-10T00:22:09.363Z"
   },
   {
    "duration": 0,
    "start_time": "2025-01-10T00:22:09.364Z"
   },
   {
    "duration": 0,
    "start_time": "2025-01-10T00:22:09.366Z"
   },
   {
    "duration": 0,
    "start_time": "2025-01-10T00:22:09.367Z"
   },
   {
    "duration": 0,
    "start_time": "2025-01-10T00:22:09.367Z"
   },
   {
    "duration": 0,
    "start_time": "2025-01-10T00:22:09.369Z"
   },
   {
    "duration": 0,
    "start_time": "2025-01-10T00:22:09.369Z"
   },
   {
    "duration": 0,
    "start_time": "2025-01-10T00:22:09.371Z"
   },
   {
    "duration": 1,
    "start_time": "2025-01-10T00:22:09.371Z"
   },
   {
    "duration": 0,
    "start_time": "2025-01-10T00:22:09.373Z"
   },
   {
    "duration": 0,
    "start_time": "2025-01-10T00:22:09.374Z"
   },
   {
    "duration": 0,
    "start_time": "2025-01-10T00:22:09.375Z"
   },
   {
    "duration": 0,
    "start_time": "2025-01-10T00:22:09.416Z"
   },
   {
    "duration": 0,
    "start_time": "2025-01-10T00:22:09.416Z"
   },
   {
    "duration": 0,
    "start_time": "2025-01-10T00:22:09.418Z"
   },
   {
    "duration": 12,
    "start_time": "2025-01-10T00:23:10.809Z"
   },
   {
    "duration": 4792,
    "start_time": "2025-01-10T00:23:40.012Z"
   },
   {
    "duration": 2387,
    "start_time": "2025-01-10T00:23:44.806Z"
   },
   {
    "duration": 1900,
    "start_time": "2025-01-10T00:23:47.195Z"
   },
   {
    "duration": 70,
    "start_time": "2025-01-10T00:23:49.097Z"
   },
   {
    "duration": 4,
    "start_time": "2025-01-10T00:23:49.169Z"
   },
   {
    "duration": 45,
    "start_time": "2025-01-10T00:23:49.175Z"
   },
   {
    "duration": 4,
    "start_time": "2025-01-10T00:23:49.221Z"
   },
   {
    "duration": 58,
    "start_time": "2025-01-10T00:23:49.227Z"
   },
   {
    "duration": 6,
    "start_time": "2025-01-10T00:23:49.286Z"
   },
   {
    "duration": 36,
    "start_time": "2025-01-10T00:23:49.295Z"
   },
   {
    "duration": 1128,
    "start_time": "2025-01-10T00:23:49.333Z"
   },
   {
    "duration": 229,
    "start_time": "2025-01-10T00:23:50.463Z"
   },
   {
    "duration": 224,
    "start_time": "2025-01-10T00:23:50.694Z"
   },
   {
    "duration": 960,
    "start_time": "2025-01-10T00:23:50.920Z"
   },
   {
    "duration": 166,
    "start_time": "2025-01-10T00:23:51.882Z"
   },
   {
    "duration": 171,
    "start_time": "2025-01-10T00:23:52.049Z"
   },
   {
    "duration": 4,
    "start_time": "2025-01-10T00:23:52.222Z"
   },
   {
    "duration": 29,
    "start_time": "2025-01-10T00:23:52.227Z"
   },
   {
    "duration": 53,
    "start_time": "2025-01-10T00:23:52.258Z"
   },
   {
    "duration": 3,
    "start_time": "2025-01-10T00:23:52.314Z"
   },
   {
    "duration": 10,
    "start_time": "2025-01-10T00:23:52.319Z"
   },
   {
    "duration": 31,
    "start_time": "2025-01-10T00:23:52.331Z"
   },
   {
    "duration": 12,
    "start_time": "2025-01-10T00:23:52.364Z"
   },
   {
    "duration": 10,
    "start_time": "2025-01-10T00:23:52.378Z"
   },
   {
    "duration": 2016,
    "start_time": "2025-01-10T00:23:52.390Z"
   },
   {
    "duration": 20,
    "start_time": "2025-01-10T00:23:54.407Z"
   },
   {
    "duration": 122,
    "start_time": "2025-01-10T00:23:54.428Z"
   },
   {
    "duration": 87,
    "start_time": "2025-01-10T00:23:54.553Z"
   },
   {
    "duration": 7,
    "start_time": "2025-01-10T00:23:54.642Z"
   },
   {
    "duration": 128,
    "start_time": "2025-01-10T00:23:54.650Z"
   },
   {
    "duration": 113,
    "start_time": "2025-01-10T00:23:54.780Z"
   },
   {
    "duration": 71,
    "start_time": "2025-01-10T00:23:54.895Z"
   },
   {
    "duration": 1255,
    "start_time": "2025-01-10T00:23:54.968Z"
   },
   {
    "duration": 280,
    "start_time": "2025-01-10T00:23:56.225Z"
   },
   {
    "duration": 27,
    "start_time": "2025-01-10T00:23:56.506Z"
   },
   {
    "duration": 5,
    "start_time": "2025-01-10T00:23:56.536Z"
   },
   {
    "duration": 277,
    "start_time": "2025-01-10T00:23:56.543Z"
   },
   {
    "duration": 24,
    "start_time": "2025-01-10T00:23:56.822Z"
   },
   {
    "duration": 131,
    "start_time": "2025-01-10T00:23:56.848Z"
   },
   {
    "duration": 2,
    "start_time": "2025-01-10T00:23:56.981Z"
   },
   {
    "duration": 31,
    "start_time": "2025-01-10T00:23:56.985Z"
   },
   {
    "duration": 2,
    "start_time": "2025-01-10T00:23:57.018Z"
   },
   {
    "duration": 33,
    "start_time": "2025-01-10T00:23:57.021Z"
   },
   {
    "duration": 13,
    "start_time": "2025-01-10T00:23:57.055Z"
   },
   {
    "duration": 1445,
    "start_time": "2025-01-10T00:23:57.069Z"
   },
   {
    "duration": 16,
    "start_time": "2025-01-10T00:24:18.968Z"
   },
   {
    "duration": 16,
    "start_time": "2025-01-10T00:24:20.984Z"
   },
   {
    "duration": 4,
    "start_time": "2025-01-10T00:24:54.849Z"
   },
   {
    "duration": 30,
    "start_time": "2025-01-10T00:28:57.699Z"
   },
   {
    "duration": 4,
    "start_time": "2025-01-10T00:31:19.965Z"
   },
   {
    "duration": 4,
    "start_time": "2025-01-10T00:31:23.302Z"
   },
   {
    "duration": 2119,
    "start_time": "2025-01-10T00:31:24.763Z"
   },
   {
    "duration": 4,
    "start_time": "2025-01-10T00:31:34.197Z"
   },
   {
    "duration": 4,
    "start_time": "2025-01-10T00:31:36.311Z"
   },
   {
    "duration": 1995,
    "start_time": "2025-01-10T00:31:37.897Z"
   },
   {
    "duration": 15,
    "start_time": "2025-01-10T00:31:43.154Z"
   },
   {
    "duration": 15,
    "start_time": "2025-01-10T00:33:46.978Z"
   },
   {
    "duration": 16,
    "start_time": "2025-01-10T00:33:49.385Z"
   },
   {
    "duration": 2131,
    "start_time": "2025-01-10T00:33:51.399Z"
   },
   {
    "duration": 29,
    "start_time": "2025-01-10T00:33:54.327Z"
   },
   {
    "duration": 16,
    "start_time": "2025-01-10T00:34:00.282Z"
   },
   {
    "duration": 2252,
    "start_time": "2025-01-10T00:34:03.182Z"
   },
   {
    "duration": 5,
    "start_time": "2025-01-10T00:36:03.925Z"
   },
   {
    "duration": 2473,
    "start_time": "2025-01-10T00:36:05.991Z"
   },
   {
    "duration": 12,
    "start_time": "2025-01-10T00:36:34.034Z"
   },
   {
    "duration": 15,
    "start_time": "2025-01-10T00:36:43.865Z"
   },
   {
    "duration": 4820,
    "start_time": "2025-01-10T00:38:37.102Z"
   },
   {
    "duration": 2411,
    "start_time": "2025-01-10T00:38:41.924Z"
   },
   {
    "duration": 1981,
    "start_time": "2025-01-10T00:38:44.338Z"
   },
   {
    "duration": 70,
    "start_time": "2025-01-10T00:38:46.321Z"
   },
   {
    "duration": 9,
    "start_time": "2025-01-10T00:38:46.392Z"
   },
   {
    "duration": 45,
    "start_time": "2025-01-10T00:38:46.403Z"
   },
   {
    "duration": 5,
    "start_time": "2025-01-10T00:38:46.450Z"
   },
   {
    "duration": 49,
    "start_time": "2025-01-10T00:38:46.457Z"
   },
   {
    "duration": 31,
    "start_time": "2025-01-10T00:38:46.508Z"
   },
   {
    "duration": 1162,
    "start_time": "2025-01-10T00:38:46.543Z"
   },
   {
    "duration": 234,
    "start_time": "2025-01-10T00:38:47.706Z"
   },
   {
    "duration": 224,
    "start_time": "2025-01-10T00:38:47.941Z"
   },
   {
    "duration": 953,
    "start_time": "2025-01-10T00:38:48.167Z"
   },
   {
    "duration": 172,
    "start_time": "2025-01-10T00:38:49.121Z"
   },
   {
    "duration": 160,
    "start_time": "2025-01-10T00:38:49.295Z"
   },
   {
    "duration": 4,
    "start_time": "2025-01-10T00:38:49.456Z"
   },
   {
    "duration": 30,
    "start_time": "2025-01-10T00:38:49.461Z"
   },
   {
    "duration": 55,
    "start_time": "2025-01-10T00:38:49.492Z"
   },
   {
    "duration": 4,
    "start_time": "2025-01-10T00:38:49.549Z"
   },
   {
    "duration": 18,
    "start_time": "2025-01-10T00:38:49.554Z"
   },
   {
    "duration": 5,
    "start_time": "2025-01-10T00:38:49.574Z"
   },
   {
    "duration": 5,
    "start_time": "2025-01-10T00:38:49.580Z"
   },
   {
    "duration": 4,
    "start_time": "2025-01-10T00:38:49.587Z"
   },
   {
    "duration": 2016,
    "start_time": "2025-01-10T00:38:49.592Z"
   },
   {
    "duration": 19,
    "start_time": "2025-01-10T00:38:51.609Z"
   },
   {
    "duration": 70,
    "start_time": "2025-01-10T00:38:51.629Z"
   },
   {
    "duration": 39,
    "start_time": "2025-01-10T00:38:51.700Z"
   },
   {
    "duration": 5,
    "start_time": "2025-01-10T00:38:51.744Z"
   },
   {
    "duration": 127,
    "start_time": "2025-01-10T00:38:51.751Z"
   },
   {
    "duration": 108,
    "start_time": "2025-01-10T00:38:51.880Z"
   },
   {
    "duration": 13,
    "start_time": "2025-01-10T00:38:51.989Z"
   },
   {
    "duration": 1212,
    "start_time": "2025-01-10T00:38:52.014Z"
   },
   {
    "duration": 274,
    "start_time": "2025-01-10T00:38:53.228Z"
   },
   {
    "duration": 25,
    "start_time": "2025-01-10T00:38:53.504Z"
   },
   {
    "duration": 3,
    "start_time": "2025-01-10T00:38:53.531Z"
   },
   {
    "duration": 257,
    "start_time": "2025-01-10T00:38:53.536Z"
   },
   {
    "duration": 33,
    "start_time": "2025-01-10T00:38:53.794Z"
   },
   {
    "duration": 24,
    "start_time": "2025-01-10T00:38:53.829Z"
   },
   {
    "duration": 3,
    "start_time": "2025-01-10T00:38:53.855Z"
   },
   {
    "duration": 38,
    "start_time": "2025-01-10T00:38:53.859Z"
   },
   {
    "duration": 17,
    "start_time": "2025-01-10T00:38:53.898Z"
   },
   {
    "duration": 23,
    "start_time": "2025-01-10T00:38:53.916Z"
   },
   {
    "duration": 35,
    "start_time": "2025-01-10T00:38:53.941Z"
   },
   {
    "duration": 755,
    "start_time": "2025-01-10T00:38:53.977Z"
   },
   {
    "duration": 7643,
    "start_time": "2025-01-10T13:27:46.109Z"
   },
   {
    "duration": 2594,
    "start_time": "2025-01-10T13:27:53.755Z"
   },
   {
    "duration": 1980,
    "start_time": "2025-01-10T13:27:56.351Z"
   },
   {
    "duration": 159,
    "start_time": "2025-01-10T13:27:58.333Z"
   },
   {
    "duration": 4,
    "start_time": "2025-01-10T13:27:58.494Z"
   },
   {
    "duration": 94,
    "start_time": "2025-01-10T13:27:58.500Z"
   },
   {
    "duration": 4,
    "start_time": "2025-01-10T13:27:58.595Z"
   },
   {
    "duration": 72,
    "start_time": "2025-01-10T13:27:58.601Z"
   },
   {
    "duration": 29,
    "start_time": "2025-01-10T13:27:58.675Z"
   },
   {
    "duration": 1059,
    "start_time": "2025-01-10T13:27:58.706Z"
   },
   {
    "duration": 202,
    "start_time": "2025-01-10T13:27:59.767Z"
   },
   {
    "duration": 216,
    "start_time": "2025-01-10T13:27:59.970Z"
   },
   {
    "duration": 875,
    "start_time": "2025-01-10T13:28:00.188Z"
   },
   {
    "duration": 156,
    "start_time": "2025-01-10T13:28:01.065Z"
   },
   {
    "duration": 140,
    "start_time": "2025-01-10T13:28:01.223Z"
   },
   {
    "duration": 4,
    "start_time": "2025-01-10T13:28:01.365Z"
   },
   {
    "duration": 23,
    "start_time": "2025-01-10T13:28:01.371Z"
   },
   {
    "duration": 53,
    "start_time": "2025-01-10T13:28:01.396Z"
   },
   {
    "duration": 4,
    "start_time": "2025-01-10T13:28:01.451Z"
   },
   {
    "duration": 7,
    "start_time": "2025-01-10T13:28:01.457Z"
   },
   {
    "duration": 8,
    "start_time": "2025-01-10T13:28:01.465Z"
   },
   {
    "duration": 10,
    "start_time": "2025-01-10T13:28:01.475Z"
   },
   {
    "duration": 25,
    "start_time": "2025-01-10T13:28:01.486Z"
   },
   {
    "duration": 1862,
    "start_time": "2025-01-10T13:28:01.512Z"
   },
   {
    "duration": 14,
    "start_time": "2025-01-10T13:28:03.376Z"
   },
   {
    "duration": 165,
    "start_time": "2025-01-10T13:28:03.392Z"
   },
   {
    "duration": 81,
    "start_time": "2025-01-10T13:28:03.558Z"
   },
   {
    "duration": 6,
    "start_time": "2025-01-10T13:28:03.642Z"
   },
   {
    "duration": 103,
    "start_time": "2025-01-10T13:28:03.649Z"
   },
   {
    "duration": 103,
    "start_time": "2025-01-10T13:28:03.754Z"
   },
   {
    "duration": 11,
    "start_time": "2025-01-10T13:28:03.859Z"
   },
   {
    "duration": 1147,
    "start_time": "2025-01-10T13:28:03.872Z"
   },
   {
    "duration": 264,
    "start_time": "2025-01-10T13:28:05.021Z"
   },
   {
    "duration": 20,
    "start_time": "2025-01-10T13:28:05.287Z"
   },
   {
    "duration": 3,
    "start_time": "2025-01-10T13:28:05.309Z"
   },
   {
    "duration": 249,
    "start_time": "2025-01-10T13:28:05.314Z"
   },
   {
    "duration": 23,
    "start_time": "2025-01-10T13:28:05.564Z"
   },
   {
    "duration": 44,
    "start_time": "2025-01-10T13:28:05.588Z"
   },
   {
    "duration": 3,
    "start_time": "2025-01-10T13:28:05.633Z"
   },
   {
    "duration": 54,
    "start_time": "2025-01-10T13:28:05.637Z"
   },
   {
    "duration": 11,
    "start_time": "2025-01-10T13:28:05.693Z"
   },
   {
    "duration": 6,
    "start_time": "2025-01-10T13:28:05.705Z"
   },
   {
    "duration": 42,
    "start_time": "2025-01-10T13:28:05.712Z"
   },
   {
    "duration": 785,
    "start_time": "2025-01-10T13:28:05.755Z"
   },
   {
    "duration": 11,
    "start_time": "2025-01-10T13:28:39.310Z"
   },
   {
    "duration": 16,
    "start_time": "2025-01-10T13:29:10.976Z"
   },
   {
    "duration": 16,
    "start_time": "2025-01-10T13:29:33.258Z"
   },
   {
    "duration": 11,
    "start_time": "2025-01-10T13:30:14.277Z"
   },
   {
    "duration": 12,
    "start_time": "2025-01-10T13:30:24.774Z"
   },
   {
    "duration": 4,
    "start_time": "2025-01-10T13:30:27.659Z"
   },
   {
    "duration": 4,
    "start_time": "2025-01-10T13:30:30.352Z"
   },
   {
    "duration": 1912,
    "start_time": "2025-01-10T13:30:32.243Z"
   },
   {
    "duration": 14,
    "start_time": "2025-01-10T13:30:38.288Z"
   },
   {
    "duration": 5323,
    "start_time": "2025-01-10T13:30:56.017Z"
   },
   {
    "duration": 2612,
    "start_time": "2025-01-10T13:31:01.342Z"
   },
   {
    "duration": 1790,
    "start_time": "2025-01-10T13:31:03.956Z"
   },
   {
    "duration": 65,
    "start_time": "2025-01-10T13:31:05.748Z"
   },
   {
    "duration": 4,
    "start_time": "2025-01-10T13:31:05.814Z"
   },
   {
    "duration": 93,
    "start_time": "2025-01-10T13:31:05.820Z"
   },
   {
    "duration": 4,
    "start_time": "2025-01-10T13:31:05.915Z"
   },
   {
    "duration": 81,
    "start_time": "2025-01-10T13:31:05.920Z"
   },
   {
    "duration": 27,
    "start_time": "2025-01-10T13:31:06.002Z"
   },
   {
    "duration": 1047,
    "start_time": "2025-01-10T13:31:06.031Z"
   },
   {
    "duration": 198,
    "start_time": "2025-01-10T13:31:07.080Z"
   },
   {
    "duration": 243,
    "start_time": "2025-01-10T13:31:07.280Z"
   },
   {
    "duration": 854,
    "start_time": "2025-01-10T13:31:07.524Z"
   },
   {
    "duration": 148,
    "start_time": "2025-01-10T13:31:08.380Z"
   },
   {
    "duration": 147,
    "start_time": "2025-01-10T13:31:08.530Z"
   },
   {
    "duration": 3,
    "start_time": "2025-01-10T13:31:08.679Z"
   },
   {
    "duration": 18,
    "start_time": "2025-01-10T13:31:08.684Z"
   },
   {
    "duration": 55,
    "start_time": "2025-01-10T13:31:08.703Z"
   },
   {
    "duration": 4,
    "start_time": "2025-01-10T13:31:08.759Z"
   },
   {
    "duration": 32,
    "start_time": "2025-01-10T13:31:08.765Z"
   },
   {
    "duration": 9,
    "start_time": "2025-01-10T13:31:08.799Z"
   },
   {
    "duration": 5,
    "start_time": "2025-01-10T13:31:08.809Z"
   },
   {
    "duration": 4,
    "start_time": "2025-01-10T13:31:08.816Z"
   },
   {
    "duration": 7,
    "start_time": "2025-01-10T13:31:08.822Z"
   },
   {
    "duration": 7,
    "start_time": "2025-01-10T13:31:08.830Z"
   },
   {
    "duration": 1804,
    "start_time": "2025-01-10T13:31:08.846Z"
   },
   {
    "duration": 15,
    "start_time": "2025-01-10T13:31:10.652Z"
   },
   {
    "duration": 53,
    "start_time": "2025-01-10T13:31:10.671Z"
   },
   {
    "duration": 37,
    "start_time": "2025-01-10T13:31:10.725Z"
   },
   {
    "duration": 6,
    "start_time": "2025-01-10T13:31:10.763Z"
   },
   {
    "duration": 106,
    "start_time": "2025-01-10T13:31:10.770Z"
   },
   {
    "duration": 113,
    "start_time": "2025-01-10T13:31:10.878Z"
   },
   {
    "duration": 14,
    "start_time": "2025-01-10T13:31:10.993Z"
   },
   {
    "duration": 1109,
    "start_time": "2025-01-10T13:31:11.009Z"
   },
   {
    "duration": 253,
    "start_time": "2025-01-10T13:31:12.119Z"
   },
   {
    "duration": 21,
    "start_time": "2025-01-10T13:31:12.374Z"
   },
   {
    "duration": 3,
    "start_time": "2025-01-10T13:31:12.397Z"
   },
   {
    "duration": 247,
    "start_time": "2025-01-10T13:31:12.402Z"
   },
   {
    "duration": 27,
    "start_time": "2025-01-10T13:31:12.652Z"
   },
   {
    "duration": 36,
    "start_time": "2025-01-10T13:31:12.686Z"
   },
   {
    "duration": 2,
    "start_time": "2025-01-10T13:31:12.746Z"
   },
   {
    "duration": 33,
    "start_time": "2025-01-10T13:31:12.750Z"
   },
   {
    "duration": 3,
    "start_time": "2025-01-10T13:31:12.784Z"
   },
   {
    "duration": 9,
    "start_time": "2025-01-10T13:31:12.789Z"
   },
   {
    "duration": 6,
    "start_time": "2025-01-10T13:31:12.799Z"
   },
   {
    "duration": 740,
    "start_time": "2025-01-10T13:31:12.807Z"
   },
   {
    "duration": 15,
    "start_time": "2025-01-10T13:31:31.302Z"
   },
   {
    "duration": 4,
    "start_time": "2025-01-10T13:32:24.853Z"
   },
   {
    "duration": 3,
    "start_time": "2025-01-10T13:32:27.455Z"
   },
   {
    "duration": 1942,
    "start_time": "2025-01-10T13:32:29.490Z"
   },
   {
    "duration": 13,
    "start_time": "2025-01-10T13:32:34.583Z"
   },
   {
    "duration": 3,
    "start_time": "2025-01-10T13:32:44.216Z"
   },
   {
    "duration": 4,
    "start_time": "2025-01-10T13:32:47.480Z"
   },
   {
    "duration": 2015,
    "start_time": "2025-01-10T13:32:49.231Z"
   },
   {
    "duration": 4,
    "start_time": "2025-01-10T13:33:03.998Z"
   },
   {
    "duration": 4,
    "start_time": "2025-01-10T13:33:07.003Z"
   },
   {
    "duration": 2094,
    "start_time": "2025-01-10T13:33:08.610Z"
   },
   {
    "duration": 14,
    "start_time": "2025-01-10T13:33:13.825Z"
   },
   {
    "duration": 4,
    "start_time": "2025-01-10T13:33:26.948Z"
   },
   {
    "duration": 3,
    "start_time": "2025-01-10T13:33:30.075Z"
   },
   {
    "duration": 3914,
    "start_time": "2025-01-10T13:33:32.751Z"
   },
   {
    "duration": 12,
    "start_time": "2025-01-10T13:33:40.825Z"
   },
   {
    "duration": 4,
    "start_time": "2025-01-10T13:33:47.090Z"
   },
   {
    "duration": 3,
    "start_time": "2025-01-10T13:33:49.710Z"
   },
   {
    "duration": 4116,
    "start_time": "2025-01-10T13:33:51.580Z"
   },
   {
    "duration": 4206,
    "start_time": "2025-01-10T13:34:01.000Z"
   },
   {
    "duration": 12,
    "start_time": "2025-01-10T13:34:05.208Z"
   },
   {
    "duration": 4,
    "start_time": "2025-01-10T13:34:15.670Z"
   },
   {
    "duration": 4,
    "start_time": "2025-01-10T13:34:22.015Z"
   },
   {
    "duration": 3,
    "start_time": "2025-01-10T13:34:24.687Z"
   },
   {
    "duration": 5425,
    "start_time": "2025-01-10T13:34:26.481Z"
   },
   {
    "duration": 5,
    "start_time": "2025-01-10T13:34:49.380Z"
   },
   {
    "duration": 3,
    "start_time": "2025-01-10T13:34:52.032Z"
   },
   {
    "duration": 7537,
    "start_time": "2025-01-10T13:34:53.628Z"
   },
   {
    "duration": 97,
    "start_time": "2025-01-10T13:35:04.750Z"
   },
   {
    "duration": 3,
    "start_time": "2025-01-10T13:35:17.925Z"
   },
   {
    "duration": 4,
    "start_time": "2025-01-10T13:35:20.746Z"
   },
   {
    "duration": 5616,
    "start_time": "2025-01-10T13:35:22.441Z"
   },
   {
    "duration": 13,
    "start_time": "2025-01-10T13:35:38.915Z"
   },
   {
    "duration": 4,
    "start_time": "2025-01-10T13:36:48.662Z"
   },
   {
    "duration": 4,
    "start_time": "2025-01-10T13:36:51.330Z"
   },
   {
    "duration": 15,
    "start_time": "2025-01-10T13:36:53.110Z"
   },
   {
    "duration": 4,
    "start_time": "2025-01-10T13:39:43.411Z"
   },
   {
    "duration": 5297,
    "start_time": "2025-01-10T13:40:06.495Z"
   },
   {
    "duration": 2587,
    "start_time": "2025-01-10T13:40:11.795Z"
   },
   {
    "duration": 1878,
    "start_time": "2025-01-10T13:40:14.384Z"
   },
   {
    "duration": 64,
    "start_time": "2025-01-10T13:40:16.263Z"
   },
   {
    "duration": 5,
    "start_time": "2025-01-10T13:40:16.329Z"
   },
   {
    "duration": 146,
    "start_time": "2025-01-10T13:40:16.335Z"
   },
   {
    "duration": 4,
    "start_time": "2025-01-10T13:40:16.483Z"
   },
   {
    "duration": 38,
    "start_time": "2025-01-10T13:40:16.489Z"
   },
   {
    "duration": 26,
    "start_time": "2025-01-10T13:40:16.529Z"
   },
   {
    "duration": 1037,
    "start_time": "2025-01-10T13:40:16.556Z"
   },
   {
    "duration": 205,
    "start_time": "2025-01-10T13:40:17.595Z"
   },
   {
    "duration": 207,
    "start_time": "2025-01-10T13:40:17.802Z"
   },
   {
    "duration": 870,
    "start_time": "2025-01-10T13:40:18.011Z"
   },
   {
    "duration": 147,
    "start_time": "2025-01-10T13:40:18.885Z"
   },
   {
    "duration": 146,
    "start_time": "2025-01-10T13:40:19.034Z"
   },
   {
    "duration": 4,
    "start_time": "2025-01-10T13:40:19.181Z"
   },
   {
    "duration": 45,
    "start_time": "2025-01-10T13:40:19.187Z"
   },
   {
    "duration": 39,
    "start_time": "2025-01-10T13:40:19.233Z"
   },
   {
    "duration": 77,
    "start_time": "2025-01-10T13:40:19.274Z"
   },
   {
    "duration": 4,
    "start_time": "2025-01-10T13:40:19.353Z"
   },
   {
    "duration": 6,
    "start_time": "2025-01-10T13:40:19.358Z"
   },
   {
    "duration": 3,
    "start_time": "2025-01-10T13:40:19.365Z"
   },
   {
    "duration": 4,
    "start_time": "2025-01-10T13:40:19.369Z"
   },
   {
    "duration": 4,
    "start_time": "2025-01-10T13:40:19.375Z"
   },
   {
    "duration": 161,
    "start_time": "2025-01-10T13:40:19.380Z"
   },
   {
    "duration": 0,
    "start_time": "2025-01-10T13:40:19.543Z"
   },
   {
    "duration": 0,
    "start_time": "2025-01-10T13:40:19.546Z"
   },
   {
    "duration": 0,
    "start_time": "2025-01-10T13:40:19.547Z"
   },
   {
    "duration": 0,
    "start_time": "2025-01-10T13:40:19.548Z"
   },
   {
    "duration": 0,
    "start_time": "2025-01-10T13:40:19.549Z"
   },
   {
    "duration": 0,
    "start_time": "2025-01-10T13:40:19.550Z"
   },
   {
    "duration": 0,
    "start_time": "2025-01-10T13:40:19.551Z"
   },
   {
    "duration": 0,
    "start_time": "2025-01-10T13:40:19.552Z"
   },
   {
    "duration": 0,
    "start_time": "2025-01-10T13:40:19.553Z"
   },
   {
    "duration": 0,
    "start_time": "2025-01-10T13:40:19.554Z"
   },
   {
    "duration": 0,
    "start_time": "2025-01-10T13:40:19.556Z"
   },
   {
    "duration": 0,
    "start_time": "2025-01-10T13:40:19.556Z"
   },
   {
    "duration": 0,
    "start_time": "2025-01-10T13:40:19.558Z"
   },
   {
    "duration": 0,
    "start_time": "2025-01-10T13:40:19.559Z"
   },
   {
    "duration": 0,
    "start_time": "2025-01-10T13:40:19.560Z"
   },
   {
    "duration": 0,
    "start_time": "2025-01-10T13:40:19.562Z"
   },
   {
    "duration": 0,
    "start_time": "2025-01-10T13:40:19.563Z"
   },
   {
    "duration": 0,
    "start_time": "2025-01-10T13:40:19.564Z"
   },
   {
    "duration": 0,
    "start_time": "2025-01-10T13:40:19.566Z"
   },
   {
    "duration": 0,
    "start_time": "2025-01-10T13:40:19.567Z"
   },
   {
    "duration": 4,
    "start_time": "2025-01-10T13:40:30.123Z"
   },
   {
    "duration": 4,
    "start_time": "2025-01-10T13:40:32.322Z"
   },
   {
    "duration": 4015,
    "start_time": "2025-01-10T13:40:33.870Z"
   },
   {
    "duration": 15,
    "start_time": "2025-01-10T13:40:40.623Z"
   },
   {
    "duration": 3,
    "start_time": "2025-01-10T13:41:43.838Z"
   },
   {
    "duration": 4,
    "start_time": "2025-01-10T13:41:46.524Z"
   },
   {
    "duration": 1877,
    "start_time": "2025-01-10T13:41:48.153Z"
   },
   {
    "duration": 13,
    "start_time": "2025-01-10T13:41:53.067Z"
   },
   {
    "duration": 4,
    "start_time": "2025-01-10T13:43:40.435Z"
   },
   {
    "duration": 22,
    "start_time": "2025-01-10T13:43:53.824Z"
   },
   {
    "duration": 5273,
    "start_time": "2025-01-10T13:44:21.629Z"
   },
   {
    "duration": 2626,
    "start_time": "2025-01-10T13:44:26.904Z"
   },
   {
    "duration": 1806,
    "start_time": "2025-01-10T13:44:29.533Z"
   },
   {
    "duration": 66,
    "start_time": "2025-01-10T13:44:31.340Z"
   },
   {
    "duration": 5,
    "start_time": "2025-01-10T13:44:31.407Z"
   },
   {
    "duration": 56,
    "start_time": "2025-01-10T13:44:31.413Z"
   },
   {
    "duration": 4,
    "start_time": "2025-01-10T13:44:31.471Z"
   },
   {
    "duration": 41,
    "start_time": "2025-01-10T13:44:31.476Z"
   },
   {
    "duration": 26,
    "start_time": "2025-01-10T13:44:31.519Z"
   },
   {
    "duration": 1063,
    "start_time": "2025-01-10T13:44:31.546Z"
   },
   {
    "duration": 211,
    "start_time": "2025-01-10T13:44:32.610Z"
   },
   {
    "duration": 224,
    "start_time": "2025-01-10T13:44:32.823Z"
   },
   {
    "duration": 909,
    "start_time": "2025-01-10T13:44:33.049Z"
   },
   {
    "duration": 158,
    "start_time": "2025-01-10T13:44:33.960Z"
   },
   {
    "duration": 151,
    "start_time": "2025-01-10T13:44:34.120Z"
   },
   {
    "duration": 3,
    "start_time": "2025-01-10T13:44:34.273Z"
   },
   {
    "duration": 28,
    "start_time": "2025-01-10T13:44:34.278Z"
   },
   {
    "duration": 54,
    "start_time": "2025-01-10T13:44:34.307Z"
   },
   {
    "duration": 3,
    "start_time": "2025-01-10T13:44:34.363Z"
   },
   {
    "duration": 82,
    "start_time": "2025-01-10T13:44:34.368Z"
   },
   {
    "duration": 7,
    "start_time": "2025-01-10T13:44:34.451Z"
   },
   {
    "duration": 9,
    "start_time": "2025-01-10T13:44:34.460Z"
   },
   {
    "duration": 10,
    "start_time": "2025-01-10T13:44:34.470Z"
   },
   {
    "duration": 42,
    "start_time": "2025-01-10T13:44:34.482Z"
   },
   {
    "duration": 1896,
    "start_time": "2025-01-10T13:44:34.525Z"
   },
   {
    "duration": 25,
    "start_time": "2025-01-10T13:44:36.422Z"
   },
   {
    "duration": 59,
    "start_time": "2025-01-10T13:44:36.448Z"
   },
   {
    "duration": 37,
    "start_time": "2025-01-10T13:44:36.508Z"
   },
   {
    "duration": 6,
    "start_time": "2025-01-10T13:44:36.546Z"
   },
   {
    "duration": 110,
    "start_time": "2025-01-10T13:44:36.553Z"
   },
   {
    "duration": 113,
    "start_time": "2025-01-10T13:44:36.665Z"
   },
   {
    "duration": 12,
    "start_time": "2025-01-10T13:44:36.779Z"
   },
   {
    "duration": 1121,
    "start_time": "2025-01-10T13:44:36.792Z"
   },
   {
    "duration": 268,
    "start_time": "2025-01-10T13:44:37.915Z"
   },
   {
    "duration": 21,
    "start_time": "2025-01-10T13:44:38.185Z"
   },
   {
    "duration": 4,
    "start_time": "2025-01-10T13:44:38.207Z"
   },
   {
    "duration": 265,
    "start_time": "2025-01-10T13:44:38.212Z"
   },
   {
    "duration": 24,
    "start_time": "2025-01-10T13:44:38.478Z"
   },
   {
    "duration": 46,
    "start_time": "2025-01-10T13:44:38.503Z"
   },
   {
    "duration": 3,
    "start_time": "2025-01-10T13:44:38.550Z"
   },
   {
    "duration": 41,
    "start_time": "2025-01-10T13:44:38.557Z"
   },
   {
    "duration": 3,
    "start_time": "2025-01-10T13:44:38.600Z"
   },
   {
    "duration": 6,
    "start_time": "2025-01-10T13:44:38.604Z"
   },
   {
    "duration": 6,
    "start_time": "2025-01-10T13:44:38.611Z"
   },
   {
    "duration": 754,
    "start_time": "2025-01-10T13:44:38.646Z"
   },
   {
    "duration": 5126,
    "start_time": "2025-01-10T17:53:56.701Z"
   },
   {
    "duration": 2523,
    "start_time": "2025-01-10T17:54:01.829Z"
   },
   {
    "duration": 1766,
    "start_time": "2025-01-10T17:54:04.354Z"
   },
   {
    "duration": 69,
    "start_time": "2025-01-10T17:54:06.123Z"
   },
   {
    "duration": 5,
    "start_time": "2025-01-10T17:54:06.194Z"
   },
   {
    "duration": 63,
    "start_time": "2025-01-10T17:54:06.200Z"
   },
   {
    "duration": 5,
    "start_time": "2025-01-10T17:54:06.265Z"
   },
   {
    "duration": 54,
    "start_time": "2025-01-10T17:54:06.271Z"
   },
   {
    "duration": 68,
    "start_time": "2025-01-10T17:54:06.326Z"
   },
   {
    "duration": 1036,
    "start_time": "2025-01-10T17:54:06.397Z"
   },
   {
    "duration": 190,
    "start_time": "2025-01-10T17:54:07.434Z"
   },
   {
    "duration": 199,
    "start_time": "2025-01-10T17:54:07.626Z"
   },
   {
    "duration": 837,
    "start_time": "2025-01-10T17:54:07.827Z"
   },
   {
    "duration": 140,
    "start_time": "2025-01-10T17:54:08.665Z"
   },
   {
    "duration": 148,
    "start_time": "2025-01-10T17:54:08.806Z"
   },
   {
    "duration": 3,
    "start_time": "2025-01-10T17:54:08.955Z"
   },
   {
    "duration": 17,
    "start_time": "2025-01-10T17:54:08.959Z"
   },
   {
    "duration": 37,
    "start_time": "2025-01-10T17:54:08.978Z"
   },
   {
    "duration": 4,
    "start_time": "2025-01-10T17:54:09.016Z"
   },
   {
    "duration": 4,
    "start_time": "2025-01-10T17:54:09.021Z"
   },
   {
    "duration": 4,
    "start_time": "2025-01-10T17:54:09.045Z"
   },
   {
    "duration": 4,
    "start_time": "2025-01-10T17:54:09.050Z"
   },
   {
    "duration": 5,
    "start_time": "2025-01-10T17:54:09.055Z"
   },
   {
    "duration": 4,
    "start_time": "2025-01-10T17:54:09.062Z"
   },
   {
    "duration": 1714,
    "start_time": "2025-01-10T17:54:09.067Z"
   },
   {
    "duration": 14,
    "start_time": "2025-01-10T17:54:10.783Z"
   },
   {
    "duration": 53,
    "start_time": "2025-01-10T17:54:10.798Z"
   },
   {
    "duration": 36,
    "start_time": "2025-01-10T17:54:10.854Z"
   },
   {
    "duration": 6,
    "start_time": "2025-01-10T17:54:10.891Z"
   },
   {
    "duration": 90,
    "start_time": "2025-01-10T17:54:10.898Z"
   },
   {
    "duration": 103,
    "start_time": "2025-01-10T17:54:10.989Z"
   },
   {
    "duration": 12,
    "start_time": "2025-01-10T17:54:11.093Z"
   },
   {
    "duration": 1057,
    "start_time": "2025-01-10T17:54:11.106Z"
   },
   {
    "duration": 247,
    "start_time": "2025-01-10T17:54:12.164Z"
   },
   {
    "duration": 19,
    "start_time": "2025-01-10T17:54:12.412Z"
   },
   {
    "duration": 14,
    "start_time": "2025-01-10T17:54:12.432Z"
   },
   {
    "duration": 215,
    "start_time": "2025-01-10T17:54:12.447Z"
   },
   {
    "duration": 29,
    "start_time": "2025-01-10T17:54:12.663Z"
   },
   {
    "duration": 24,
    "start_time": "2025-01-10T17:54:12.694Z"
   },
   {
    "duration": 2,
    "start_time": "2025-01-10T17:54:12.719Z"
   },
   {
    "duration": 50,
    "start_time": "2025-01-10T17:54:12.722Z"
   },
   {
    "duration": 3,
    "start_time": "2025-01-10T17:54:12.774Z"
   },
   {
    "duration": 6,
    "start_time": "2025-01-10T17:54:12.778Z"
   },
   {
    "duration": 5,
    "start_time": "2025-01-10T17:54:12.786Z"
   },
   {
    "duration": 1356,
    "start_time": "2025-01-10T17:54:12.793Z"
   },
   {
    "duration": 4,
    "start_time": "2025-01-10T17:54:29.704Z"
   },
   {
    "duration": 3,
    "start_time": "2025-01-10T17:54:32.056Z"
   },
   {
    "duration": 4196,
    "start_time": "2025-01-10T17:54:33.804Z"
   },
   {
    "duration": 14,
    "start_time": "2025-01-10T17:54:41.240Z"
   },
   {
    "duration": 4,
    "start_time": "2025-01-10T17:54:51.381Z"
   },
   {
    "duration": 4,
    "start_time": "2025-01-10T17:54:54.270Z"
   },
   {
    "duration": 3887,
    "start_time": "2025-01-10T17:54:55.988Z"
   },
   {
    "duration": 13,
    "start_time": "2025-01-10T17:55:03.326Z"
   },
   {
    "duration": 4,
    "start_time": "2025-01-10T17:55:33.259Z"
   },
   {
    "duration": 3,
    "start_time": "2025-01-10T17:55:35.463Z"
   },
   {
    "duration": 1744,
    "start_time": "2025-01-10T17:55:37.158Z"
   },
   {
    "duration": 15,
    "start_time": "2025-01-10T17:55:43.157Z"
   },
   {
    "duration": 3,
    "start_time": "2025-01-10T17:57:30.491Z"
   },
   {
    "duration": 3,
    "start_time": "2025-01-10T17:57:30.915Z"
   },
   {
    "duration": 4,
    "start_time": "2025-01-10T17:57:33.003Z"
   },
   {
    "duration": 1760,
    "start_time": "2025-01-10T17:57:34.328Z"
   },
   {
    "duration": 12,
    "start_time": "2025-01-10T17:57:39.035Z"
   },
   {
    "duration": 14,
    "start_time": "2025-01-10T17:58:00.621Z"
   },
   {
    "duration": 3,
    "start_time": "2025-01-10T17:59:02.828Z"
   },
   {
    "duration": 1762,
    "start_time": "2025-01-10T17:59:04.417Z"
   },
   {
    "duration": 14,
    "start_time": "2025-01-10T17:59:09.539Z"
   },
   {
    "duration": 55,
    "start_time": "2025-01-10T17:59:13.171Z"
   },
   {
    "duration": 48,
    "start_time": "2025-01-10T17:59:14.184Z"
   },
   {
    "duration": 6,
    "start_time": "2025-01-10T17:59:14.585Z"
   },
   {
    "duration": 97,
    "start_time": "2025-01-10T17:59:16.618Z"
   },
   {
    "duration": 94,
    "start_time": "2025-01-10T17:59:17.713Z"
   },
   {
    "duration": 13,
    "start_time": "2025-01-10T17:59:18.737Z"
   },
   {
    "duration": 1147,
    "start_time": "2025-01-10T17:59:19.211Z"
   },
   {
    "duration": 337,
    "start_time": "2025-01-10T17:59:20.360Z"
   },
   {
    "duration": 19,
    "start_time": "2025-01-10T17:59:21.525Z"
   },
   {
    "duration": 5156,
    "start_time": "2025-01-10T17:59:25.031Z"
   },
   {
    "duration": 2564,
    "start_time": "2025-01-10T17:59:30.189Z"
   },
   {
    "duration": 1810,
    "start_time": "2025-01-10T17:59:32.755Z"
   },
   {
    "duration": 62,
    "start_time": "2025-01-10T17:59:34.567Z"
   },
   {
    "duration": 4,
    "start_time": "2025-01-10T17:59:34.630Z"
   },
   {
    "duration": 75,
    "start_time": "2025-01-10T17:59:34.636Z"
   },
   {
    "duration": 4,
    "start_time": "2025-01-10T17:59:34.712Z"
   },
   {
    "duration": 36,
    "start_time": "2025-01-10T17:59:34.717Z"
   },
   {
    "duration": 26,
    "start_time": "2025-01-10T17:59:34.754Z"
   },
   {
    "duration": 1020,
    "start_time": "2025-01-10T17:59:34.783Z"
   },
   {
    "duration": 197,
    "start_time": "2025-01-10T17:59:35.805Z"
   },
   {
    "duration": 218,
    "start_time": "2025-01-10T17:59:36.004Z"
   },
   {
    "duration": 839,
    "start_time": "2025-01-10T17:59:36.224Z"
   },
   {
    "duration": 148,
    "start_time": "2025-01-10T17:59:37.065Z"
   },
   {
    "duration": 147,
    "start_time": "2025-01-10T17:59:37.214Z"
   },
   {
    "duration": 3,
    "start_time": "2025-01-10T17:59:37.363Z"
   },
   {
    "duration": 65,
    "start_time": "2025-01-10T17:59:37.367Z"
   },
   {
    "duration": 36,
    "start_time": "2025-01-10T17:59:37.433Z"
   },
   {
    "duration": 4,
    "start_time": "2025-01-10T17:59:37.471Z"
   },
   {
    "duration": 3,
    "start_time": "2025-01-10T17:59:37.476Z"
   },
   {
    "duration": 4,
    "start_time": "2025-01-10T17:59:37.481Z"
   },
   {
    "duration": 3,
    "start_time": "2025-01-10T17:59:37.486Z"
   },
   {
    "duration": 3,
    "start_time": "2025-01-10T17:59:37.491Z"
   },
   {
    "duration": 11,
    "start_time": "2025-01-10T17:59:37.495Z"
   },
   {
    "duration": 1792,
    "start_time": "2025-01-10T17:59:37.508Z"
   },
   {
    "duration": 13,
    "start_time": "2025-01-10T17:59:39.302Z"
   },
   {
    "duration": 52,
    "start_time": "2025-01-10T17:59:39.316Z"
   },
   {
    "duration": 37,
    "start_time": "2025-01-10T17:59:39.371Z"
   },
   {
    "duration": 6,
    "start_time": "2025-01-10T17:59:39.409Z"
   },
   {
    "duration": 94,
    "start_time": "2025-01-10T17:59:39.416Z"
   },
   {
    "duration": 104,
    "start_time": "2025-01-10T17:59:39.512Z"
   },
   {
    "duration": 11,
    "start_time": "2025-01-10T17:59:39.618Z"
   },
   {
    "duration": 1092,
    "start_time": "2025-01-10T17:59:39.630Z"
   },
   {
    "duration": 242,
    "start_time": "2025-01-10T17:59:40.724Z"
   },
   {
    "duration": 19,
    "start_time": "2025-01-10T17:59:40.968Z"
   },
   {
    "duration": 2,
    "start_time": "2025-01-10T17:59:40.989Z"
   },
   {
    "duration": 231,
    "start_time": "2025-01-10T17:59:40.992Z"
   },
   {
    "duration": 29,
    "start_time": "2025-01-10T17:59:41.225Z"
   },
   {
    "duration": 22,
    "start_time": "2025-01-10T17:59:41.255Z"
   },
   {
    "duration": 2,
    "start_time": "2025-01-10T17:59:41.279Z"
   },
   {
    "duration": 30,
    "start_time": "2025-01-10T17:59:41.282Z"
   },
   {
    "duration": 3,
    "start_time": "2025-01-10T17:59:41.314Z"
   },
   {
    "duration": 28,
    "start_time": "2025-01-10T17:59:41.318Z"
   },
   {
    "duration": 10,
    "start_time": "2025-01-10T17:59:41.348Z"
   },
   {
    "duration": 672,
    "start_time": "2025-01-10T17:59:41.359Z"
   },
   {
    "duration": 12,
    "start_time": "2025-01-10T19:57:15.945Z"
   },
   {
    "duration": 6779,
    "start_time": "2025-01-12T08:04:40.507Z"
   },
   {
    "duration": 274,
    "start_time": "2025-01-12T08:04:47.289Z"
   },
   {
    "duration": 0,
    "start_time": "2025-01-12T08:04:47.567Z"
   },
   {
    "duration": 0,
    "start_time": "2025-01-12T08:04:47.568Z"
   },
   {
    "duration": 0,
    "start_time": "2025-01-12T08:04:47.569Z"
   },
   {
    "duration": 1,
    "start_time": "2025-01-12T08:04:47.570Z"
   },
   {
    "duration": 0,
    "start_time": "2025-01-12T08:04:47.572Z"
   },
   {
    "duration": 0,
    "start_time": "2025-01-12T08:04:47.573Z"
   },
   {
    "duration": 0,
    "start_time": "2025-01-12T08:04:47.631Z"
   },
   {
    "duration": 0,
    "start_time": "2025-01-12T08:04:47.632Z"
   },
   {
    "duration": 0,
    "start_time": "2025-01-12T08:04:47.633Z"
   },
   {
    "duration": 0,
    "start_time": "2025-01-12T08:04:47.634Z"
   },
   {
    "duration": 0,
    "start_time": "2025-01-12T08:04:47.635Z"
   },
   {
    "duration": 0,
    "start_time": "2025-01-12T08:04:47.637Z"
   },
   {
    "duration": 0,
    "start_time": "2025-01-12T08:04:47.638Z"
   },
   {
    "duration": 0,
    "start_time": "2025-01-12T08:04:47.639Z"
   },
   {
    "duration": 0,
    "start_time": "2025-01-12T08:04:47.640Z"
   },
   {
    "duration": 0,
    "start_time": "2025-01-12T08:04:47.641Z"
   },
   {
    "duration": 0,
    "start_time": "2025-01-12T08:04:47.642Z"
   },
   {
    "duration": 0,
    "start_time": "2025-01-12T08:04:47.643Z"
   },
   {
    "duration": 0,
    "start_time": "2025-01-12T08:04:47.644Z"
   },
   {
    "duration": 0,
    "start_time": "2025-01-12T08:04:47.645Z"
   },
   {
    "duration": 0,
    "start_time": "2025-01-12T08:04:47.646Z"
   },
   {
    "duration": 0,
    "start_time": "2025-01-12T08:04:47.647Z"
   },
   {
    "duration": 0,
    "start_time": "2025-01-12T08:04:47.648Z"
   },
   {
    "duration": 0,
    "start_time": "2025-01-12T08:04:47.649Z"
   },
   {
    "duration": 0,
    "start_time": "2025-01-12T08:04:47.650Z"
   },
   {
    "duration": 0,
    "start_time": "2025-01-12T08:04:47.652Z"
   },
   {
    "duration": 0,
    "start_time": "2025-01-12T08:04:47.653Z"
   },
   {
    "duration": 0,
    "start_time": "2025-01-12T08:04:47.654Z"
   },
   {
    "duration": 0,
    "start_time": "2025-01-12T08:04:47.655Z"
   },
   {
    "duration": 0,
    "start_time": "2025-01-12T08:04:47.656Z"
   },
   {
    "duration": 0,
    "start_time": "2025-01-12T08:04:47.730Z"
   },
   {
    "duration": 0,
    "start_time": "2025-01-12T08:04:47.731Z"
   },
   {
    "duration": 0,
    "start_time": "2025-01-12T08:04:47.733Z"
   },
   {
    "duration": 0,
    "start_time": "2025-01-12T08:04:47.734Z"
   },
   {
    "duration": 0,
    "start_time": "2025-01-12T08:04:47.735Z"
   },
   {
    "duration": 0,
    "start_time": "2025-01-12T08:04:47.736Z"
   },
   {
    "duration": 0,
    "start_time": "2025-01-12T08:04:47.737Z"
   },
   {
    "duration": 0,
    "start_time": "2025-01-12T08:04:47.738Z"
   },
   {
    "duration": 0,
    "start_time": "2025-01-12T08:04:47.739Z"
   },
   {
    "duration": 0,
    "start_time": "2025-01-12T08:04:47.741Z"
   },
   {
    "duration": 0,
    "start_time": "2025-01-12T08:04:47.742Z"
   },
   {
    "duration": 0,
    "start_time": "2025-01-12T08:04:47.743Z"
   },
   {
    "duration": 0,
    "start_time": "2025-01-12T08:04:47.744Z"
   },
   {
    "duration": 6,
    "start_time": "2025-01-12T08:05:10.110Z"
   },
   {
    "duration": 5867,
    "start_time": "2025-01-12T08:05:14.948Z"
   },
   {
    "duration": 2428,
    "start_time": "2025-01-12T08:05:20.818Z"
   },
   {
    "duration": 2055,
    "start_time": "2025-01-12T08:05:23.248Z"
   },
   {
    "duration": 116,
    "start_time": "2025-01-12T08:05:25.305Z"
   },
   {
    "duration": 4,
    "start_time": "2025-01-12T08:05:25.423Z"
   },
   {
    "duration": 91,
    "start_time": "2025-01-12T08:05:25.428Z"
   },
   {
    "duration": 4,
    "start_time": "2025-01-12T08:05:25.521Z"
   },
   {
    "duration": 95,
    "start_time": "2025-01-12T08:05:25.527Z"
   },
   {
    "duration": 30,
    "start_time": "2025-01-12T08:05:25.623Z"
   },
   {
    "duration": 1176,
    "start_time": "2025-01-12T08:05:25.655Z"
   },
   {
    "duration": 219,
    "start_time": "2025-01-12T08:05:26.832Z"
   },
   {
    "duration": 241,
    "start_time": "2025-01-12T08:05:27.053Z"
   },
   {
    "duration": 958,
    "start_time": "2025-01-12T08:05:27.296Z"
   },
   {
    "duration": 169,
    "start_time": "2025-01-12T08:05:28.256Z"
   },
   {
    "duration": 167,
    "start_time": "2025-01-12T08:05:28.429Z"
   },
   {
    "duration": 4,
    "start_time": "2025-01-12T08:05:28.598Z"
   },
   {
    "duration": 28,
    "start_time": "2025-01-12T08:05:28.603Z"
   },
   {
    "duration": 45,
    "start_time": "2025-01-12T08:05:28.633Z"
   },
   {
    "duration": 4,
    "start_time": "2025-01-12T08:05:28.679Z"
   },
   {
    "duration": 6,
    "start_time": "2025-01-12T08:05:28.685Z"
   },
   {
    "duration": 5,
    "start_time": "2025-01-12T08:05:28.692Z"
   },
   {
    "duration": 7,
    "start_time": "2025-01-12T08:05:28.699Z"
   },
   {
    "duration": 4,
    "start_time": "2025-01-12T08:05:28.730Z"
   },
   {
    "duration": 11,
    "start_time": "2025-01-12T08:05:28.736Z"
   },
   {
    "duration": 1991,
    "start_time": "2025-01-12T08:05:28.748Z"
   },
   {
    "duration": 15,
    "start_time": "2025-01-12T08:05:30.740Z"
   },
   {
    "duration": 110,
    "start_time": "2025-01-12T08:05:30.756Z"
   },
   {
    "duration": 91,
    "start_time": "2025-01-12T08:05:30.870Z"
   },
   {
    "duration": 6,
    "start_time": "2025-01-12T08:05:30.963Z"
   },
   {
    "duration": 108,
    "start_time": "2025-01-12T08:05:30.971Z"
   },
   {
    "duration": 111,
    "start_time": "2025-01-12T08:05:31.081Z"
   },
   {
    "duration": 13,
    "start_time": "2025-01-12T08:05:31.193Z"
   },
   {
    "duration": 1285,
    "start_time": "2025-01-12T08:05:31.207Z"
   },
   {
    "duration": 279,
    "start_time": "2025-01-12T08:05:32.494Z"
   },
   {
    "duration": 22,
    "start_time": "2025-01-12T08:05:32.775Z"
   },
   {
    "duration": 3,
    "start_time": "2025-01-12T08:05:32.798Z"
   },
   {
    "duration": 264,
    "start_time": "2025-01-12T08:05:32.803Z"
   },
   {
    "duration": 24,
    "start_time": "2025-01-12T08:05:33.069Z"
   },
   {
    "duration": 40,
    "start_time": "2025-01-12T08:05:33.095Z"
   },
   {
    "duration": 3,
    "start_time": "2025-01-12T08:05:33.136Z"
   },
   {
    "duration": 43,
    "start_time": "2025-01-12T08:05:33.140Z"
   },
   {
    "duration": 3,
    "start_time": "2025-01-12T08:05:33.184Z"
   },
   {
    "duration": 11,
    "start_time": "2025-01-12T08:05:33.189Z"
   },
   {
    "duration": 7,
    "start_time": "2025-01-12T08:05:33.201Z"
   },
   {
    "duration": 773,
    "start_time": "2025-01-12T08:05:33.210Z"
   },
   {
    "duration": 38,
    "start_time": "2025-01-12T08:08:46.180Z"
   },
   {
    "duration": 3,
    "start_time": "2025-01-12T08:08:48.766Z"
   },
   {
    "duration": 6,
    "start_time": "2025-01-12T08:08:49.295Z"
   },
   {
    "duration": 6,
    "start_time": "2025-01-12T08:08:50.203Z"
   },
   {
    "duration": 2558,
    "start_time": "2025-01-12T08:08:53.509Z"
   },
   {
    "duration": 4774,
    "start_time": "2025-01-12T08:19:15.069Z"
   },
   {
    "duration": 2370,
    "start_time": "2025-01-12T08:19:19.845Z"
   },
   {
    "duration": 1904,
    "start_time": "2025-01-12T08:19:22.217Z"
   },
   {
    "duration": 66,
    "start_time": "2025-01-12T08:19:24.123Z"
   },
   {
    "duration": 4,
    "start_time": "2025-01-12T08:19:24.191Z"
   },
   {
    "duration": 43,
    "start_time": "2025-01-12T08:19:24.197Z"
   },
   {
    "duration": 4,
    "start_time": "2025-01-12T08:19:24.242Z"
   },
   {
    "duration": 37,
    "start_time": "2025-01-12T08:19:24.248Z"
   },
   {
    "duration": 26,
    "start_time": "2025-01-12T08:19:24.287Z"
   },
   {
    "duration": 1177,
    "start_time": "2025-01-12T08:19:24.315Z"
   },
   {
    "duration": 217,
    "start_time": "2025-01-12T08:19:25.494Z"
   },
   {
    "duration": 231,
    "start_time": "2025-01-12T08:19:25.713Z"
   },
   {
    "duration": 946,
    "start_time": "2025-01-12T08:19:25.946Z"
   },
   {
    "duration": 162,
    "start_time": "2025-01-12T08:19:26.893Z"
   },
   {
    "duration": 171,
    "start_time": "2025-01-12T08:19:27.056Z"
   },
   {
    "duration": 5,
    "start_time": "2025-01-12T08:19:27.228Z"
   },
   {
    "duration": 17,
    "start_time": "2025-01-12T08:19:27.235Z"
   },
   {
    "duration": 45,
    "start_time": "2025-01-12T08:19:27.254Z"
   },
   {
    "duration": 33,
    "start_time": "2025-01-12T08:19:27.301Z"
   },
   {
    "duration": 4,
    "start_time": "2025-01-12T08:19:27.335Z"
   },
   {
    "duration": 4,
    "start_time": "2025-01-12T08:19:27.341Z"
   },
   {
    "duration": 3,
    "start_time": "2025-01-12T08:19:27.347Z"
   },
   {
    "duration": 4,
    "start_time": "2025-01-12T08:19:27.351Z"
   },
   {
    "duration": 4,
    "start_time": "2025-01-12T08:19:27.357Z"
   },
   {
    "duration": 2011,
    "start_time": "2025-01-12T08:19:27.363Z"
   },
   {
    "duration": 14,
    "start_time": "2025-01-12T08:19:29.376Z"
   },
   {
    "duration": 57,
    "start_time": "2025-01-12T08:19:29.391Z"
   },
   {
    "duration": 40,
    "start_time": "2025-01-12T08:19:29.452Z"
   },
   {
    "duration": 6,
    "start_time": "2025-01-12T08:19:29.493Z"
   },
   {
    "duration": 103,
    "start_time": "2025-01-12T08:19:29.500Z"
   },
   {
    "duration": 108,
    "start_time": "2025-01-12T08:19:29.605Z"
   },
   {
    "duration": 22,
    "start_time": "2025-01-12T08:19:29.715Z"
   },
   {
    "duration": 1236,
    "start_time": "2025-01-12T08:19:29.739Z"
   },
   {
    "duration": 282,
    "start_time": "2025-01-12T08:19:30.976Z"
   },
   {
    "duration": 22,
    "start_time": "2025-01-12T08:19:31.260Z"
   },
   {
    "duration": 4,
    "start_time": "2025-01-12T08:19:31.284Z"
   },
   {
    "duration": 282,
    "start_time": "2025-01-12T08:19:31.290Z"
   },
   {
    "duration": 25,
    "start_time": "2025-01-12T08:19:31.574Z"
   },
   {
    "duration": 42,
    "start_time": "2025-01-12T08:19:31.601Z"
   },
   {
    "duration": 3,
    "start_time": "2025-01-12T08:19:31.645Z"
   },
   {
    "duration": 36,
    "start_time": "2025-01-12T08:19:31.650Z"
   },
   {
    "duration": 2,
    "start_time": "2025-01-12T08:19:31.688Z"
   },
   {
    "duration": 18,
    "start_time": "2025-01-12T08:19:31.692Z"
   },
   {
    "duration": 32,
    "start_time": "2025-01-12T08:19:31.711Z"
   },
   {
    "duration": 2494,
    "start_time": "2025-01-12T08:19:31.744Z"
   },
   {
    "duration": 16,
    "start_time": "2025-01-12T08:23:23.830Z"
   },
   {
    "duration": 16,
    "start_time": "2025-01-12T08:23:38.031Z"
   },
   {
    "duration": 8047,
    "start_time": "2025-01-13T07:11:36.767Z"
   },
   {
    "duration": 2704,
    "start_time": "2025-01-13T07:11:44.817Z"
   },
   {
    "duration": 3123,
    "start_time": "2025-01-13T07:11:47.523Z"
   },
   {
    "duration": 174,
    "start_time": "2025-01-13T07:11:50.648Z"
   },
   {
    "duration": 5,
    "start_time": "2025-01-13T07:11:50.824Z"
   },
   {
    "duration": 111,
    "start_time": "2025-01-13T07:11:50.831Z"
   },
   {
    "duration": 5,
    "start_time": "2025-01-13T07:11:50.944Z"
   },
   {
    "duration": 95,
    "start_time": "2025-01-13T07:11:50.951Z"
   },
   {
    "duration": 34,
    "start_time": "2025-01-13T07:11:51.048Z"
   },
   {
    "duration": 1351,
    "start_time": "2025-01-13T07:11:51.085Z"
   },
   {
    "duration": 256,
    "start_time": "2025-01-13T07:11:52.438Z"
   },
   {
    "duration": 281,
    "start_time": "2025-01-13T07:11:52.696Z"
   },
   {
    "duration": 1106,
    "start_time": "2025-01-13T07:11:52.979Z"
   },
   {
    "duration": 194,
    "start_time": "2025-01-13T07:11:54.087Z"
   },
   {
    "duration": 193,
    "start_time": "2025-01-13T07:11:54.283Z"
   },
   {
    "duration": 4,
    "start_time": "2025-01-13T07:11:54.478Z"
   },
   {
    "duration": 32,
    "start_time": "2025-01-13T07:11:54.484Z"
   },
   {
    "duration": 193,
    "start_time": "2025-01-13T07:11:54.518Z"
   },
   {
    "duration": 0,
    "start_time": "2025-01-13T07:11:54.714Z"
   },
   {
    "duration": 0,
    "start_time": "2025-01-13T07:11:54.715Z"
   },
   {
    "duration": 0,
    "start_time": "2025-01-13T07:11:54.716Z"
   },
   {
    "duration": 0,
    "start_time": "2025-01-13T07:11:54.717Z"
   },
   {
    "duration": 0,
    "start_time": "2025-01-13T07:11:54.718Z"
   },
   {
    "duration": 0,
    "start_time": "2025-01-13T07:11:54.719Z"
   },
   {
    "duration": 1,
    "start_time": "2025-01-13T07:11:54.720Z"
   },
   {
    "duration": 0,
    "start_time": "2025-01-13T07:11:54.722Z"
   },
   {
    "duration": 0,
    "start_time": "2025-01-13T07:11:54.723Z"
   },
   {
    "duration": 0,
    "start_time": "2025-01-13T07:11:54.724Z"
   },
   {
    "duration": 0,
    "start_time": "2025-01-13T07:11:54.726Z"
   },
   {
    "duration": 0,
    "start_time": "2025-01-13T07:11:54.727Z"
   },
   {
    "duration": 0,
    "start_time": "2025-01-13T07:11:54.728Z"
   },
   {
    "duration": 0,
    "start_time": "2025-01-13T07:11:54.760Z"
   },
   {
    "duration": 0,
    "start_time": "2025-01-13T07:11:54.761Z"
   },
   {
    "duration": 0,
    "start_time": "2025-01-13T07:11:54.762Z"
   },
   {
    "duration": 0,
    "start_time": "2025-01-13T07:11:54.763Z"
   },
   {
    "duration": 0,
    "start_time": "2025-01-13T07:11:54.765Z"
   },
   {
    "duration": 0,
    "start_time": "2025-01-13T07:11:54.766Z"
   },
   {
    "duration": 0,
    "start_time": "2025-01-13T07:11:54.767Z"
   },
   {
    "duration": 0,
    "start_time": "2025-01-13T07:11:54.768Z"
   },
   {
    "duration": 0,
    "start_time": "2025-01-13T07:11:54.770Z"
   },
   {
    "duration": 0,
    "start_time": "2025-01-13T07:11:54.771Z"
   },
   {
    "duration": 0,
    "start_time": "2025-01-13T07:11:54.772Z"
   },
   {
    "duration": 0,
    "start_time": "2025-01-13T07:11:54.773Z"
   },
   {
    "duration": 0,
    "start_time": "2025-01-13T07:11:54.774Z"
   },
   {
    "duration": 0,
    "start_time": "2025-01-13T07:11:54.776Z"
   },
   {
    "duration": 6057,
    "start_time": "2025-01-13T07:14:16.478Z"
   },
   {
    "duration": 2987,
    "start_time": "2025-01-13T07:14:22.538Z"
   },
   {
    "duration": 2728,
    "start_time": "2025-01-13T07:14:25.527Z"
   },
   {
    "duration": 82,
    "start_time": "2025-01-13T07:14:28.257Z"
   },
   {
    "duration": 6,
    "start_time": "2025-01-13T07:14:28.341Z"
   },
   {
    "duration": 75,
    "start_time": "2025-01-13T07:14:28.349Z"
   },
   {
    "duration": 5,
    "start_time": "2025-01-13T07:14:28.427Z"
   },
   {
    "duration": 46,
    "start_time": "2025-01-13T07:14:28.434Z"
   },
   {
    "duration": 39,
    "start_time": "2025-01-13T07:14:28.483Z"
   },
   {
    "duration": 1573,
    "start_time": "2025-01-13T07:14:28.526Z"
   },
   {
    "duration": 335,
    "start_time": "2025-01-13T07:14:30.102Z"
   },
   {
    "duration": 385,
    "start_time": "2025-01-13T07:14:30.440Z"
   },
   {
    "duration": 1357,
    "start_time": "2025-01-13T07:14:30.828Z"
   },
   {
    "duration": 242,
    "start_time": "2025-01-13T07:14:32.188Z"
   },
   {
    "duration": 233,
    "start_time": "2025-01-13T07:14:32.432Z"
   },
   {
    "duration": 5,
    "start_time": "2025-01-13T07:14:32.667Z"
   },
   {
    "duration": 51,
    "start_time": "2025-01-13T07:14:32.674Z"
   },
   {
    "duration": 202,
    "start_time": "2025-01-13T07:14:32.727Z"
   },
   {
    "duration": 0,
    "start_time": "2025-01-13T07:14:32.932Z"
   },
   {
    "duration": 0,
    "start_time": "2025-01-13T07:14:32.933Z"
   },
   {
    "duration": 0,
    "start_time": "2025-01-13T07:14:32.935Z"
   },
   {
    "duration": 0,
    "start_time": "2025-01-13T07:14:32.936Z"
   },
   {
    "duration": 0,
    "start_time": "2025-01-13T07:14:32.937Z"
   },
   {
    "duration": 0,
    "start_time": "2025-01-13T07:14:32.938Z"
   },
   {
    "duration": 0,
    "start_time": "2025-01-13T07:14:32.939Z"
   },
   {
    "duration": 0,
    "start_time": "2025-01-13T07:14:32.959Z"
   },
   {
    "duration": 0,
    "start_time": "2025-01-13T07:14:32.961Z"
   },
   {
    "duration": 0,
    "start_time": "2025-01-13T07:14:32.962Z"
   },
   {
    "duration": 0,
    "start_time": "2025-01-13T07:14:32.964Z"
   },
   {
    "duration": 0,
    "start_time": "2025-01-13T07:14:32.965Z"
   },
   {
    "duration": 0,
    "start_time": "2025-01-13T07:14:32.967Z"
   },
   {
    "duration": 0,
    "start_time": "2025-01-13T07:14:32.968Z"
   },
   {
    "duration": 0,
    "start_time": "2025-01-13T07:14:32.969Z"
   },
   {
    "duration": 0,
    "start_time": "2025-01-13T07:14:32.971Z"
   },
   {
    "duration": 0,
    "start_time": "2025-01-13T07:14:32.974Z"
   },
   {
    "duration": 0,
    "start_time": "2025-01-13T07:14:32.975Z"
   },
   {
    "duration": 0,
    "start_time": "2025-01-13T07:14:32.977Z"
   },
   {
    "duration": 0,
    "start_time": "2025-01-13T07:14:32.978Z"
   },
   {
    "duration": 0,
    "start_time": "2025-01-13T07:14:32.979Z"
   },
   {
    "duration": 0,
    "start_time": "2025-01-13T07:14:32.980Z"
   },
   {
    "duration": 0,
    "start_time": "2025-01-13T07:14:32.981Z"
   },
   {
    "duration": 0,
    "start_time": "2025-01-13T07:14:32.983Z"
   },
   {
    "duration": 0,
    "start_time": "2025-01-13T07:14:32.984Z"
   },
   {
    "duration": 0,
    "start_time": "2025-01-13T07:14:32.986Z"
   },
   {
    "duration": 0,
    "start_time": "2025-01-13T07:14:32.987Z"
   },
   {
    "duration": 5766,
    "start_time": "2025-01-13T07:19:41.820Z"
   },
   {
    "duration": 2799,
    "start_time": "2025-01-13T07:19:47.589Z"
   },
   {
    "duration": 2627,
    "start_time": "2025-01-13T07:19:50.391Z"
   },
   {
    "duration": 77,
    "start_time": "2025-01-13T07:19:53.020Z"
   },
   {
    "duration": 5,
    "start_time": "2025-01-13T07:19:53.100Z"
   },
   {
    "duration": 70,
    "start_time": "2025-01-13T07:19:53.107Z"
   },
   {
    "duration": 20,
    "start_time": "2025-01-13T07:19:53.179Z"
   },
   {
    "duration": 49,
    "start_time": "2025-01-13T07:19:53.201Z"
   },
   {
    "duration": 35,
    "start_time": "2025-01-13T07:19:53.252Z"
   },
   {
    "duration": 1371,
    "start_time": "2025-01-13T07:19:53.289Z"
   },
   {
    "duration": 269,
    "start_time": "2025-01-13T07:19:54.662Z"
   },
   {
    "duration": 293,
    "start_time": "2025-01-13T07:19:54.933Z"
   },
   {
    "duration": 1125,
    "start_time": "2025-01-13T07:19:55.228Z"
   },
   {
    "duration": 209,
    "start_time": "2025-01-13T07:19:56.360Z"
   },
   {
    "duration": 199,
    "start_time": "2025-01-13T07:19:56.571Z"
   },
   {
    "duration": 5,
    "start_time": "2025-01-13T07:19:56.773Z"
   },
   {
    "duration": 43,
    "start_time": "2025-01-13T07:19:56.780Z"
   },
   {
    "duration": 186,
    "start_time": "2025-01-13T07:19:56.825Z"
   },
   {
    "duration": 0,
    "start_time": "2025-01-13T07:19:57.013Z"
   },
   {
    "duration": 0,
    "start_time": "2025-01-13T07:19:57.014Z"
   },
   {
    "duration": 0,
    "start_time": "2025-01-13T07:19:57.016Z"
   },
   {
    "duration": 0,
    "start_time": "2025-01-13T07:19:57.017Z"
   },
   {
    "duration": 0,
    "start_time": "2025-01-13T07:19:57.018Z"
   },
   {
    "duration": 0,
    "start_time": "2025-01-13T07:19:57.019Z"
   },
   {
    "duration": 0,
    "start_time": "2025-01-13T07:19:57.020Z"
   },
   {
    "duration": 0,
    "start_time": "2025-01-13T07:19:57.022Z"
   },
   {
    "duration": 0,
    "start_time": "2025-01-13T07:19:57.023Z"
   },
   {
    "duration": 0,
    "start_time": "2025-01-13T07:19:57.024Z"
   },
   {
    "duration": 0,
    "start_time": "2025-01-13T07:19:57.025Z"
   },
   {
    "duration": 0,
    "start_time": "2025-01-13T07:19:57.026Z"
   },
   {
    "duration": 0,
    "start_time": "2025-01-13T07:19:57.028Z"
   },
   {
    "duration": 0,
    "start_time": "2025-01-13T07:19:57.029Z"
   },
   {
    "duration": 0,
    "start_time": "2025-01-13T07:19:57.030Z"
   },
   {
    "duration": 0,
    "start_time": "2025-01-13T07:19:57.032Z"
   },
   {
    "duration": 0,
    "start_time": "2025-01-13T07:19:57.060Z"
   },
   {
    "duration": 0,
    "start_time": "2025-01-13T07:19:57.061Z"
   },
   {
    "duration": 0,
    "start_time": "2025-01-13T07:19:57.062Z"
   },
   {
    "duration": 0,
    "start_time": "2025-01-13T07:19:57.064Z"
   },
   {
    "duration": 0,
    "start_time": "2025-01-13T07:19:57.065Z"
   },
   {
    "duration": 0,
    "start_time": "2025-01-13T07:19:57.067Z"
   },
   {
    "duration": 0,
    "start_time": "2025-01-13T07:19:57.068Z"
   },
   {
    "duration": 0,
    "start_time": "2025-01-13T07:19:57.069Z"
   },
   {
    "duration": 0,
    "start_time": "2025-01-13T07:19:57.071Z"
   },
   {
    "duration": 0,
    "start_time": "2025-01-13T07:19:57.072Z"
   },
   {
    "duration": 0,
    "start_time": "2025-01-13T07:19:57.073Z"
   },
   {
    "duration": 8188,
    "start_time": "2025-01-13T13:12:53.761Z"
   },
   {
    "duration": 2698,
    "start_time": "2025-01-13T13:13:01.952Z"
   },
   {
    "duration": 2051,
    "start_time": "2025-01-13T13:13:04.652Z"
   },
   {
    "duration": 163,
    "start_time": "2025-01-13T13:13:06.706Z"
   },
   {
    "duration": 4,
    "start_time": "2025-01-13T13:13:06.871Z"
   },
   {
    "duration": 135,
    "start_time": "2025-01-13T13:13:06.876Z"
   },
   {
    "duration": 3,
    "start_time": "2025-01-13T13:13:07.013Z"
   },
   {
    "duration": 93,
    "start_time": "2025-01-13T13:13:07.017Z"
   },
   {
    "duration": 25,
    "start_time": "2025-01-13T13:13:07.111Z"
   },
   {
    "duration": 1106,
    "start_time": "2025-01-13T13:13:07.138Z"
   },
   {
    "duration": 113,
    "start_time": "2025-01-13T13:13:08.245Z"
   },
   {
    "duration": 198,
    "start_time": "2025-01-13T13:13:08.360Z"
   },
   {
    "duration": 848,
    "start_time": "2025-01-13T13:13:08.560Z"
   },
   {
    "duration": 150,
    "start_time": "2025-01-13T13:13:09.410Z"
   },
   {
    "duration": 149,
    "start_time": "2025-01-13T13:13:09.562Z"
   },
   {
    "duration": 3,
    "start_time": "2025-01-13T13:13:09.713Z"
   },
   {
    "duration": 35,
    "start_time": "2025-01-13T13:13:09.718Z"
   },
   {
    "duration": 168,
    "start_time": "2025-01-13T13:13:09.755Z"
   },
   {
    "duration": 0,
    "start_time": "2025-01-13T13:13:09.926Z"
   },
   {
    "duration": 0,
    "start_time": "2025-01-13T13:13:09.927Z"
   },
   {
    "duration": 0,
    "start_time": "2025-01-13T13:13:09.929Z"
   },
   {
    "duration": 0,
    "start_time": "2025-01-13T13:13:09.930Z"
   },
   {
    "duration": 0,
    "start_time": "2025-01-13T13:13:09.931Z"
   },
   {
    "duration": 0,
    "start_time": "2025-01-13T13:13:09.932Z"
   },
   {
    "duration": 0,
    "start_time": "2025-01-13T13:13:09.934Z"
   },
   {
    "duration": 0,
    "start_time": "2025-01-13T13:13:09.935Z"
   },
   {
    "duration": 0,
    "start_time": "2025-01-13T13:13:09.952Z"
   },
   {
    "duration": 0,
    "start_time": "2025-01-13T13:13:09.953Z"
   },
   {
    "duration": 0,
    "start_time": "2025-01-13T13:13:09.955Z"
   },
   {
    "duration": 0,
    "start_time": "2025-01-13T13:13:09.957Z"
   },
   {
    "duration": 0,
    "start_time": "2025-01-13T13:13:09.958Z"
   },
   {
    "duration": 0,
    "start_time": "2025-01-13T13:13:09.959Z"
   },
   {
    "duration": 0,
    "start_time": "2025-01-13T13:13:09.961Z"
   },
   {
    "duration": 0,
    "start_time": "2025-01-13T13:13:09.962Z"
   },
   {
    "duration": 0,
    "start_time": "2025-01-13T13:13:09.963Z"
   },
   {
    "duration": 0,
    "start_time": "2025-01-13T13:13:09.965Z"
   },
   {
    "duration": 0,
    "start_time": "2025-01-13T13:13:09.966Z"
   },
   {
    "duration": 0,
    "start_time": "2025-01-13T13:13:09.967Z"
   },
   {
    "duration": 0,
    "start_time": "2025-01-13T13:13:09.969Z"
   },
   {
    "duration": 0,
    "start_time": "2025-01-13T13:13:09.970Z"
   },
   {
    "duration": 0,
    "start_time": "2025-01-13T13:13:09.972Z"
   },
   {
    "duration": 0,
    "start_time": "2025-01-13T13:13:09.973Z"
   },
   {
    "duration": 0,
    "start_time": "2025-01-13T13:13:09.974Z"
   },
   {
    "duration": 0,
    "start_time": "2025-01-13T13:13:09.976Z"
   },
   {
    "duration": 0,
    "start_time": "2025-01-13T13:13:09.977Z"
   },
   {
    "duration": 6975,
    "start_time": "2025-01-13T13:15:26.196Z"
   },
   {
    "duration": 3298,
    "start_time": "2025-01-13T13:15:41.983Z"
   },
   {
    "duration": 5257,
    "start_time": "2025-01-13T13:15:47.421Z"
   },
   {
    "duration": 2698,
    "start_time": "2025-01-13T13:15:52.680Z"
   },
   {
    "duration": 3241,
    "start_time": "2025-01-13T13:15:55.380Z"
   },
   {
    "duration": 1752,
    "start_time": "2025-01-13T13:15:58.623Z"
   },
   {
    "duration": 64,
    "start_time": "2025-01-13T13:16:00.377Z"
   },
   {
    "duration": 4,
    "start_time": "2025-01-13T13:16:00.443Z"
   },
   {
    "duration": 97,
    "start_time": "2025-01-13T13:16:00.448Z"
   },
   {
    "duration": 7,
    "start_time": "2025-01-13T13:16:00.547Z"
   },
   {
    "duration": 109,
    "start_time": "2025-01-13T13:16:00.555Z"
   },
   {
    "duration": 100,
    "start_time": "2025-01-13T13:16:00.667Z"
   },
   {
    "duration": 1050,
    "start_time": "2025-01-13T13:16:00.768Z"
   },
   {
    "duration": 189,
    "start_time": "2025-01-13T13:16:01.819Z"
   },
   {
    "duration": 203,
    "start_time": "2025-01-13T13:16:02.009Z"
   },
   {
    "duration": 860,
    "start_time": "2025-01-13T13:16:02.213Z"
   },
   {
    "duration": 146,
    "start_time": "2025-01-13T13:16:03.074Z"
   },
   {
    "duration": 143,
    "start_time": "2025-01-13T13:16:03.222Z"
   },
   {
    "duration": 3,
    "start_time": "2025-01-13T13:16:03.367Z"
   },
   {
    "duration": 81,
    "start_time": "2025-01-13T13:16:03.371Z"
   },
   {
    "duration": 154,
    "start_time": "2025-01-13T13:16:03.454Z"
   },
   {
    "duration": 0,
    "start_time": "2025-01-13T13:16:03.610Z"
   },
   {
    "duration": 0,
    "start_time": "2025-01-13T13:16:03.611Z"
   },
   {
    "duration": 0,
    "start_time": "2025-01-13T13:16:03.612Z"
   },
   {
    "duration": 0,
    "start_time": "2025-01-13T13:16:03.613Z"
   },
   {
    "duration": 0,
    "start_time": "2025-01-13T13:16:03.614Z"
   },
   {
    "duration": 0,
    "start_time": "2025-01-13T13:16:03.615Z"
   },
   {
    "duration": 0,
    "start_time": "2025-01-13T13:16:03.617Z"
   },
   {
    "duration": 0,
    "start_time": "2025-01-13T13:16:03.618Z"
   },
   {
    "duration": 0,
    "start_time": "2025-01-13T13:16:03.618Z"
   },
   {
    "duration": 0,
    "start_time": "2025-01-13T13:16:03.619Z"
   },
   {
    "duration": 0,
    "start_time": "2025-01-13T13:16:03.620Z"
   },
   {
    "duration": 0,
    "start_time": "2025-01-13T13:16:03.622Z"
   },
   {
    "duration": 0,
    "start_time": "2025-01-13T13:16:03.623Z"
   },
   {
    "duration": 0,
    "start_time": "2025-01-13T13:16:03.624Z"
   },
   {
    "duration": 0,
    "start_time": "2025-01-13T13:16:03.625Z"
   },
   {
    "duration": 0,
    "start_time": "2025-01-13T13:16:03.653Z"
   },
   {
    "duration": 1,
    "start_time": "2025-01-13T13:16:03.653Z"
   },
   {
    "duration": 0,
    "start_time": "2025-01-13T13:16:03.655Z"
   },
   {
    "duration": 0,
    "start_time": "2025-01-13T13:16:03.656Z"
   },
   {
    "duration": 0,
    "start_time": "2025-01-13T13:16:03.657Z"
   },
   {
    "duration": 0,
    "start_time": "2025-01-13T13:16:03.658Z"
   },
   {
    "duration": 0,
    "start_time": "2025-01-13T13:16:03.659Z"
   },
   {
    "duration": 0,
    "start_time": "2025-01-13T13:16:03.660Z"
   },
   {
    "duration": 0,
    "start_time": "2025-01-13T13:16:03.661Z"
   },
   {
    "duration": 0,
    "start_time": "2025-01-13T13:16:03.662Z"
   },
   {
    "duration": 0,
    "start_time": "2025-01-13T13:16:03.663Z"
   },
   {
    "duration": 0,
    "start_time": "2025-01-13T13:16:03.664Z"
   },
   {
    "duration": 5358,
    "start_time": "2025-01-13T13:16:38.269Z"
   },
   {
    "duration": 3317,
    "start_time": "2025-01-13T13:16:43.629Z"
   },
   {
    "duration": 3262,
    "start_time": "2025-01-13T13:16:46.948Z"
   },
   {
    "duration": 1621,
    "start_time": "2025-01-13T13:16:50.213Z"
   },
   {
    "duration": 63,
    "start_time": "2025-01-13T13:16:51.836Z"
   },
   {
    "duration": 4,
    "start_time": "2025-01-13T13:16:51.900Z"
   },
   {
    "duration": 60,
    "start_time": "2025-01-13T13:16:51.906Z"
   },
   {
    "duration": 4,
    "start_time": "2025-01-13T13:16:51.967Z"
   },
   {
    "duration": 67,
    "start_time": "2025-01-13T13:16:51.972Z"
   },
   {
    "duration": 29,
    "start_time": "2025-01-13T13:16:52.042Z"
   },
   {
    "duration": 1005,
    "start_time": "2025-01-13T13:16:52.073Z"
   },
   {
    "duration": 192,
    "start_time": "2025-01-13T13:16:53.079Z"
   },
   {
    "duration": 197,
    "start_time": "2025-01-13T13:16:53.272Z"
   },
   {
    "duration": 890,
    "start_time": "2025-01-13T13:16:53.471Z"
   },
   {
    "duration": 156,
    "start_time": "2025-01-13T13:16:54.363Z"
   },
   {
    "duration": 141,
    "start_time": "2025-01-13T13:16:54.521Z"
   },
   {
    "duration": 4,
    "start_time": "2025-01-13T13:16:54.663Z"
   },
   {
    "duration": 16,
    "start_time": "2025-01-13T13:16:54.668Z"
   },
   {
    "duration": 158,
    "start_time": "2025-01-13T13:16:54.685Z"
   },
   {
    "duration": 0,
    "start_time": "2025-01-13T13:16:54.844Z"
   },
   {
    "duration": 0,
    "start_time": "2025-01-13T13:16:54.845Z"
   },
   {
    "duration": 0,
    "start_time": "2025-01-13T13:16:54.846Z"
   },
   {
    "duration": 0,
    "start_time": "2025-01-13T13:16:54.847Z"
   },
   {
    "duration": 0,
    "start_time": "2025-01-13T13:16:54.848Z"
   },
   {
    "duration": 0,
    "start_time": "2025-01-13T13:16:54.853Z"
   },
   {
    "duration": 0,
    "start_time": "2025-01-13T13:16:54.854Z"
   },
   {
    "duration": 0,
    "start_time": "2025-01-13T13:16:54.855Z"
   },
   {
    "duration": 0,
    "start_time": "2025-01-13T13:16:54.855Z"
   },
   {
    "duration": 0,
    "start_time": "2025-01-13T13:16:54.856Z"
   },
   {
    "duration": 0,
    "start_time": "2025-01-13T13:16:54.857Z"
   },
   {
    "duration": 0,
    "start_time": "2025-01-13T13:16:54.858Z"
   },
   {
    "duration": 0,
    "start_time": "2025-01-13T13:16:54.859Z"
   },
   {
    "duration": 0,
    "start_time": "2025-01-13T13:16:54.860Z"
   },
   {
    "duration": 0,
    "start_time": "2025-01-13T13:16:54.861Z"
   },
   {
    "duration": 0,
    "start_time": "2025-01-13T13:16:54.862Z"
   },
   {
    "duration": 0,
    "start_time": "2025-01-13T13:16:54.863Z"
   },
   {
    "duration": 0,
    "start_time": "2025-01-13T13:16:54.864Z"
   },
   {
    "duration": 0,
    "start_time": "2025-01-13T13:16:54.865Z"
   },
   {
    "duration": 0,
    "start_time": "2025-01-13T13:16:54.866Z"
   },
   {
    "duration": 0,
    "start_time": "2025-01-13T13:16:54.866Z"
   },
   {
    "duration": 0,
    "start_time": "2025-01-13T13:16:54.867Z"
   },
   {
    "duration": 0,
    "start_time": "2025-01-13T13:16:54.868Z"
   },
   {
    "duration": 0,
    "start_time": "2025-01-13T13:16:54.869Z"
   },
   {
    "duration": 0,
    "start_time": "2025-01-13T13:16:54.870Z"
   },
   {
    "duration": 0,
    "start_time": "2025-01-13T13:16:54.871Z"
   },
   {
    "duration": 0,
    "start_time": "2025-01-13T13:16:54.872Z"
   },
   {
    "duration": 42,
    "start_time": "2025-01-13T13:18:03.824Z"
   },
   {
    "duration": 46,
    "start_time": "2025-01-13T13:18:07.722Z"
   },
   {
    "duration": 5461,
    "start_time": "2025-01-13T13:18:11.520Z"
   },
   {
    "duration": 2654,
    "start_time": "2025-01-13T13:18:16.983Z"
   },
   {
    "duration": 3324,
    "start_time": "2025-01-13T13:18:19.639Z"
   },
   {
    "duration": 1664,
    "start_time": "2025-01-13T13:18:22.965Z"
   },
   {
    "duration": 62,
    "start_time": "2025-01-13T13:18:24.630Z"
   },
   {
    "duration": 4,
    "start_time": "2025-01-13T13:18:24.693Z"
   },
   {
    "duration": 40,
    "start_time": "2025-01-13T13:18:24.699Z"
   },
   {
    "duration": 4,
    "start_time": "2025-01-13T13:18:24.752Z"
   },
   {
    "duration": 36,
    "start_time": "2025-01-13T13:18:24.758Z"
   },
   {
    "duration": 29,
    "start_time": "2025-01-13T13:18:24.798Z"
   },
   {
    "duration": 1008,
    "start_time": "2025-01-13T13:18:24.829Z"
   },
   {
    "duration": 186,
    "start_time": "2025-01-13T13:18:25.838Z"
   },
   {
    "duration": 203,
    "start_time": "2025-01-13T13:18:26.025Z"
   },
   {
    "duration": 867,
    "start_time": "2025-01-13T13:18:26.230Z"
   },
   {
    "duration": 145,
    "start_time": "2025-01-13T13:18:27.099Z"
   },
   {
    "duration": 148,
    "start_time": "2025-01-13T13:18:27.245Z"
   },
   {
    "duration": 4,
    "start_time": "2025-01-13T13:18:27.394Z"
   },
   {
    "duration": 17,
    "start_time": "2025-01-13T13:18:27.399Z"
   },
   {
    "duration": 59,
    "start_time": "2025-01-13T13:18:27.417Z"
   },
   {
    "duration": 3,
    "start_time": "2025-01-13T13:18:27.477Z"
   },
   {
    "duration": 4,
    "start_time": "2025-01-13T13:18:27.481Z"
   },
   {
    "duration": 7,
    "start_time": "2025-01-13T13:18:27.486Z"
   },
   {
    "duration": 8,
    "start_time": "2025-01-13T13:18:27.494Z"
   },
   {
    "duration": 15,
    "start_time": "2025-01-13T13:18:27.503Z"
   },
   {
    "duration": 11,
    "start_time": "2025-01-13T13:18:27.519Z"
   },
   {
    "duration": 2226,
    "start_time": "2025-01-13T13:18:27.531Z"
   },
   {
    "duration": 13,
    "start_time": "2025-01-13T13:18:29.759Z"
   },
   {
    "duration": 160,
    "start_time": "2025-01-13T13:18:29.775Z"
   },
   {
    "duration": 82,
    "start_time": "2025-01-13T13:18:29.937Z"
   },
   {
    "duration": 5,
    "start_time": "2025-01-13T13:18:30.021Z"
   },
   {
    "duration": 156,
    "start_time": "2025-01-13T13:18:30.027Z"
   },
   {
    "duration": 106,
    "start_time": "2025-01-13T13:18:30.184Z"
   },
   {
    "duration": 12,
    "start_time": "2025-01-13T13:18:30.291Z"
   },
   {
    "duration": 1083,
    "start_time": "2025-01-13T13:18:30.304Z"
   },
   {
    "duration": 264,
    "start_time": "2025-01-13T13:18:31.389Z"
   },
   {
    "duration": 24,
    "start_time": "2025-01-13T13:18:31.654Z"
   },
   {
    "duration": 25,
    "start_time": "2025-01-13T13:18:31.680Z"
   },
   {
    "duration": 231,
    "start_time": "2025-01-13T13:18:31.706Z"
   },
   {
    "duration": 25,
    "start_time": "2025-01-13T13:18:31.939Z"
   },
   {
    "duration": 26,
    "start_time": "2025-01-13T13:18:31.966Z"
   },
   {
    "duration": 10,
    "start_time": "2025-01-13T13:18:31.994Z"
   },
   {
    "duration": 73,
    "start_time": "2025-01-13T13:18:32.005Z"
   },
   {
    "duration": 3,
    "start_time": "2025-01-13T13:18:32.079Z"
   },
   {
    "duration": 31,
    "start_time": "2025-01-13T13:18:32.083Z"
   },
   {
    "duration": 7,
    "start_time": "2025-01-13T13:18:32.116Z"
   },
   {
    "duration": 3329,
    "start_time": "2025-01-13T13:18:32.125Z"
   },
   {
    "duration": 5303,
    "start_time": "2025-01-13T13:23:28.106Z"
   },
   {
    "duration": 2674,
    "start_time": "2025-01-13T13:23:33.412Z"
   },
   {
    "duration": 3243,
    "start_time": "2025-01-13T13:23:36.088Z"
   },
   {
    "duration": 1705,
    "start_time": "2025-01-13T13:23:39.333Z"
   },
   {
    "duration": 66,
    "start_time": "2025-01-13T13:23:41.040Z"
   },
   {
    "duration": 4,
    "start_time": "2025-01-13T13:23:41.108Z"
   },
   {
    "duration": 46,
    "start_time": "2025-01-13T13:23:41.113Z"
   },
   {
    "duration": 4,
    "start_time": "2025-01-13T13:23:41.160Z"
   },
   {
    "duration": 57,
    "start_time": "2025-01-13T13:23:41.165Z"
   },
   {
    "duration": 29,
    "start_time": "2025-01-13T13:23:41.224Z"
   },
   {
    "duration": 1019,
    "start_time": "2025-01-13T13:23:41.255Z"
   },
   {
    "duration": 189,
    "start_time": "2025-01-13T13:23:42.275Z"
   },
   {
    "duration": 206,
    "start_time": "2025-01-13T13:23:42.465Z"
   },
   {
    "duration": 861,
    "start_time": "2025-01-13T13:23:42.672Z"
   },
   {
    "duration": 143,
    "start_time": "2025-01-13T13:23:43.535Z"
   },
   {
    "duration": 144,
    "start_time": "2025-01-13T13:23:43.679Z"
   },
   {
    "duration": 3,
    "start_time": "2025-01-13T13:23:43.825Z"
   },
   {
    "duration": 24,
    "start_time": "2025-01-13T13:23:43.829Z"
   },
   {
    "duration": 55,
    "start_time": "2025-01-13T13:23:43.855Z"
   },
   {
    "duration": 5,
    "start_time": "2025-01-13T13:23:43.912Z"
   },
   {
    "duration": 12,
    "start_time": "2025-01-13T13:23:43.919Z"
   },
   {
    "duration": 20,
    "start_time": "2025-01-13T13:23:43.933Z"
   },
   {
    "duration": 8,
    "start_time": "2025-01-13T13:23:43.954Z"
   },
   {
    "duration": 5,
    "start_time": "2025-01-13T13:23:43.964Z"
   },
   {
    "duration": 6,
    "start_time": "2025-01-13T13:23:43.971Z"
   },
   {
    "duration": 2240,
    "start_time": "2025-01-13T13:23:43.978Z"
   },
   {
    "duration": 14,
    "start_time": "2025-01-13T13:23:46.220Z"
   },
   {
    "duration": 43,
    "start_time": "2025-01-13T13:23:46.253Z"
   },
   {
    "duration": 69,
    "start_time": "2025-01-13T13:23:46.298Z"
   },
   {
    "duration": 37,
    "start_time": "2025-01-13T13:23:46.369Z"
   },
   {
    "duration": 6,
    "start_time": "2025-01-13T13:23:46.408Z"
   },
   {
    "duration": 125,
    "start_time": "2025-01-13T13:23:46.415Z"
   },
   {
    "duration": 104,
    "start_time": "2025-01-13T13:23:46.542Z"
   },
   {
    "duration": 12,
    "start_time": "2025-01-13T13:23:46.652Z"
   },
   {
    "duration": 1113,
    "start_time": "2025-01-13T13:23:46.665Z"
   },
   {
    "duration": 251,
    "start_time": "2025-01-13T13:23:47.779Z"
   },
   {
    "duration": 28,
    "start_time": "2025-01-13T13:23:48.031Z"
   },
   {
    "duration": 3,
    "start_time": "2025-01-13T13:23:48.061Z"
   },
   {
    "duration": 230,
    "start_time": "2025-01-13T13:23:48.065Z"
   },
   {
    "duration": 23,
    "start_time": "2025-01-13T13:23:48.296Z"
   },
   {
    "duration": 40,
    "start_time": "2025-01-13T13:23:48.321Z"
   },
   {
    "duration": 2,
    "start_time": "2025-01-13T13:23:48.362Z"
   },
   {
    "duration": 50,
    "start_time": "2025-01-13T13:23:48.365Z"
   },
   {
    "duration": 3,
    "start_time": "2025-01-13T13:23:48.416Z"
   },
   {
    "duration": 7,
    "start_time": "2025-01-13T13:23:48.420Z"
   },
   {
    "duration": 5,
    "start_time": "2025-01-13T13:23:48.428Z"
   },
   {
    "duration": 3172,
    "start_time": "2025-01-13T13:23:48.434Z"
   },
   {
    "duration": 17,
    "start_time": "2025-01-13T13:24:52.767Z"
   },
   {
    "duration": 3,
    "start_time": "2025-01-13T13:25:29.176Z"
   },
   {
    "duration": 2366,
    "start_time": "2025-01-13T13:25:32.830Z"
   },
   {
    "duration": 17,
    "start_time": "2025-01-13T13:25:39.610Z"
   },
   {
    "duration": 4,
    "start_time": "2025-01-13T13:25:49.236Z"
   },
   {
    "duration": 2292,
    "start_time": "2025-01-13T13:25:52.462Z"
   },
   {
    "duration": 18,
    "start_time": "2025-01-13T13:25:59.076Z"
   },
   {
    "duration": 18,
    "start_time": "2025-01-13T13:26:05.090Z"
   },
   {
    "duration": 175,
    "start_time": "2025-01-13T13:27:20.188Z"
   },
   {
    "duration": 22,
    "start_time": "2025-01-13T13:27:33.241Z"
   },
   {
    "duration": 23,
    "start_time": "2025-01-13T13:27:40.974Z"
   },
   {
    "duration": 4,
    "start_time": "2025-01-13T13:28:20.793Z"
   },
   {
    "duration": 4,
    "start_time": "2025-01-13T13:28:23.836Z"
   },
   {
    "duration": 2791,
    "start_time": "2025-01-13T13:28:26.386Z"
   },
   {
    "duration": 44,
    "start_time": "2025-01-13T13:28:45.306Z"
   },
   {
    "duration": 17,
    "start_time": "2025-01-13T13:29:06.923Z"
   },
   {
    "duration": 4,
    "start_time": "2025-01-13T13:29:26.798Z"
   },
   {
    "duration": 3,
    "start_time": "2025-01-13T13:29:30.530Z"
   },
   {
    "duration": 3105,
    "start_time": "2025-01-13T13:29:33.240Z"
   },
   {
    "duration": 14,
    "start_time": "2025-01-13T13:29:39.422Z"
   },
   {
    "duration": 4,
    "start_time": "2025-01-13T13:30:01.075Z"
   },
   {
    "duration": 3,
    "start_time": "2025-01-13T13:30:03.511Z"
   },
   {
    "duration": 3059,
    "start_time": "2025-01-13T13:30:05.064Z"
   },
   {
    "duration": 16,
    "start_time": "2025-01-13T13:30:11.985Z"
   },
   {
    "duration": 4,
    "start_time": "2025-01-13T13:30:26.256Z"
   },
   {
    "duration": 4,
    "start_time": "2025-01-13T13:30:35.605Z"
   },
   {
    "duration": 3,
    "start_time": "2025-01-13T13:30:37.819Z"
   },
   {
    "duration": 2952,
    "start_time": "2025-01-13T13:30:39.043Z"
   },
   {
    "duration": 16,
    "start_time": "2025-01-13T13:30:47.021Z"
   },
   {
    "duration": 4,
    "start_time": "2025-01-13T13:31:23.356Z"
   },
   {
    "duration": 3,
    "start_time": "2025-01-13T13:31:26.020Z"
   },
   {
    "duration": 3042,
    "start_time": "2025-01-13T13:31:31.238Z"
   },
   {
    "duration": 15,
    "start_time": "2025-01-13T13:31:37.246Z"
   },
   {
    "duration": 5311,
    "start_time": "2025-01-13T13:33:52.688Z"
   },
   {
    "duration": 2657,
    "start_time": "2025-01-13T13:33:58.001Z"
   },
   {
    "duration": 3320,
    "start_time": "2025-01-13T13:34:00.660Z"
   },
   {
    "duration": 1697,
    "start_time": "2025-01-13T13:34:03.982Z"
   },
   {
    "duration": 66,
    "start_time": "2025-01-13T13:34:05.681Z"
   },
   {
    "duration": 4,
    "start_time": "2025-01-13T13:34:05.748Z"
   },
   {
    "duration": 69,
    "start_time": "2025-01-13T13:34:05.754Z"
   },
   {
    "duration": 3,
    "start_time": "2025-01-13T13:34:05.825Z"
   },
   {
    "duration": 58,
    "start_time": "2025-01-13T13:34:05.830Z"
   },
   {
    "duration": 31,
    "start_time": "2025-01-13T13:34:05.891Z"
   },
   {
    "duration": 1062,
    "start_time": "2025-01-13T13:34:05.923Z"
   },
   {
    "duration": 209,
    "start_time": "2025-01-13T13:34:06.987Z"
   },
   {
    "duration": 204,
    "start_time": "2025-01-13T13:34:07.197Z"
   },
   {
    "duration": 881,
    "start_time": "2025-01-13T13:34:07.403Z"
   },
   {
    "duration": 156,
    "start_time": "2025-01-13T13:34:08.286Z"
   },
   {
    "duration": 151,
    "start_time": "2025-01-13T13:34:08.443Z"
   },
   {
    "duration": 3,
    "start_time": "2025-01-13T13:34:08.596Z"
   },
   {
    "duration": 32,
    "start_time": "2025-01-13T13:34:08.600Z"
   },
   {
    "duration": 42,
    "start_time": "2025-01-13T13:34:08.633Z"
   },
   {
    "duration": 3,
    "start_time": "2025-01-13T13:34:08.676Z"
   },
   {
    "duration": 25,
    "start_time": "2025-01-13T13:34:08.681Z"
   },
   {
    "duration": 14,
    "start_time": "2025-01-13T13:34:08.707Z"
   },
   {
    "duration": 13,
    "start_time": "2025-01-13T13:34:08.722Z"
   },
   {
    "duration": 20,
    "start_time": "2025-01-13T13:34:08.736Z"
   },
   {
    "duration": 17,
    "start_time": "2025-01-13T13:34:08.757Z"
   },
   {
    "duration": 3049,
    "start_time": "2025-01-13T13:34:08.775Z"
   },
   {
    "duration": 16,
    "start_time": "2025-01-13T13:34:11.825Z"
   },
   {
    "duration": 53,
    "start_time": "2025-01-13T13:34:11.855Z"
   },
   {
    "duration": 34,
    "start_time": "2025-01-13T13:34:11.910Z"
   },
   {
    "duration": 4,
    "start_time": "2025-01-13T13:34:11.946Z"
   },
   {
    "duration": 113,
    "start_time": "2025-01-13T13:34:11.951Z"
   },
   {
    "duration": 101,
    "start_time": "2025-01-13T13:34:12.066Z"
   },
   {
    "duration": 11,
    "start_time": "2025-01-13T13:34:12.169Z"
   },
   {
    "duration": 1083,
    "start_time": "2025-01-13T13:34:12.181Z"
   },
   {
    "duration": 251,
    "start_time": "2025-01-13T13:34:13.266Z"
   },
   {
    "duration": 34,
    "start_time": "2025-01-13T13:34:13.519Z"
   },
   {
    "duration": 8,
    "start_time": "2025-01-13T13:34:13.554Z"
   },
   {
    "duration": 290,
    "start_time": "2025-01-13T13:34:13.563Z"
   },
   {
    "duration": 30,
    "start_time": "2025-01-13T13:34:13.854Z"
   },
   {
    "duration": 44,
    "start_time": "2025-01-13T13:34:13.887Z"
   },
   {
    "duration": 6,
    "start_time": "2025-01-13T13:34:13.954Z"
   },
   {
    "duration": 67,
    "start_time": "2025-01-13T13:34:13.962Z"
   },
   {
    "duration": 4,
    "start_time": "2025-01-13T13:34:14.031Z"
   },
   {
    "duration": 36,
    "start_time": "2025-01-13T13:34:14.036Z"
   },
   {
    "duration": 34,
    "start_time": "2025-01-13T13:34:14.074Z"
   },
   {
    "duration": 3437,
    "start_time": "2025-01-13T13:34:14.110Z"
   },
   {
    "duration": 170,
    "start_time": "2025-01-13T13:44:57.236Z"
   },
   {
    "duration": 42,
    "start_time": "2025-01-13T13:45:42.520Z"
   },
   {
    "duration": 5356,
    "start_time": "2025-01-13T13:45:48.814Z"
   },
   {
    "duration": 2624,
    "start_time": "2025-01-13T13:45:54.172Z"
   },
   {
    "duration": 3258,
    "start_time": "2025-01-13T13:45:56.797Z"
   },
   {
    "duration": 1680,
    "start_time": "2025-01-13T13:46:00.057Z"
   },
   {
    "duration": 66,
    "start_time": "2025-01-13T13:46:01.739Z"
   },
   {
    "duration": 5,
    "start_time": "2025-01-13T13:46:01.806Z"
   },
   {
    "duration": 85,
    "start_time": "2025-01-13T13:46:01.812Z"
   },
   {
    "duration": 4,
    "start_time": "2025-01-13T13:46:01.898Z"
   },
   {
    "duration": 76,
    "start_time": "2025-01-13T13:46:01.904Z"
   },
   {
    "duration": 66,
    "start_time": "2025-01-13T13:46:01.981Z"
   },
   {
    "duration": 1070,
    "start_time": "2025-01-13T13:46:02.048Z"
   },
   {
    "duration": 202,
    "start_time": "2025-01-13T13:46:03.120Z"
   },
   {
    "duration": 201,
    "start_time": "2025-01-13T13:46:03.323Z"
   },
   {
    "duration": 919,
    "start_time": "2025-01-13T13:46:03.527Z"
   },
   {
    "duration": 151,
    "start_time": "2025-01-13T13:46:04.447Z"
   },
   {
    "duration": 149,
    "start_time": "2025-01-13T13:46:04.599Z"
   },
   {
    "duration": 3,
    "start_time": "2025-01-13T13:46:04.752Z"
   },
   {
    "duration": 42,
    "start_time": "2025-01-13T13:46:04.756Z"
   },
   {
    "duration": 56,
    "start_time": "2025-01-13T13:46:04.799Z"
   },
   {
    "duration": 22,
    "start_time": "2025-01-13T13:46:04.857Z"
   },
   {
    "duration": 24,
    "start_time": "2025-01-13T13:46:04.880Z"
   },
   {
    "duration": 19,
    "start_time": "2025-01-13T13:46:04.905Z"
   },
   {
    "duration": 4,
    "start_time": "2025-01-13T13:46:04.926Z"
   },
   {
    "duration": 7,
    "start_time": "2025-01-13T13:46:04.931Z"
   },
   {
    "duration": 13,
    "start_time": "2025-01-13T13:46:04.939Z"
   },
   {
    "duration": 3025,
    "start_time": "2025-01-13T13:46:04.953Z"
   },
   {
    "duration": 17,
    "start_time": "2025-01-13T13:46:07.979Z"
   },
   {
    "duration": 96,
    "start_time": "2025-01-13T13:46:07.997Z"
   },
   {
    "duration": 37,
    "start_time": "2025-01-13T13:46:08.094Z"
   },
   {
    "duration": 6,
    "start_time": "2025-01-13T13:46:08.132Z"
   },
   {
    "duration": 113,
    "start_time": "2025-01-13T13:46:08.139Z"
   },
   {
    "duration": 107,
    "start_time": "2025-01-13T13:46:08.254Z"
   },
   {
    "duration": 12,
    "start_time": "2025-01-13T13:46:08.362Z"
   },
   {
    "duration": 1107,
    "start_time": "2025-01-13T13:46:08.375Z"
   },
   {
    "duration": 258,
    "start_time": "2025-01-13T13:46:09.484Z"
   },
   {
    "duration": 28,
    "start_time": "2025-01-13T13:46:09.744Z"
   },
   {
    "duration": 10,
    "start_time": "2025-01-13T13:46:09.774Z"
   },
   {
    "duration": 271,
    "start_time": "2025-01-13T13:46:09.785Z"
   },
   {
    "duration": 23,
    "start_time": "2025-01-13T13:46:10.058Z"
   },
   {
    "duration": 57,
    "start_time": "2025-01-13T13:46:10.082Z"
   },
   {
    "duration": 3,
    "start_time": "2025-01-13T13:46:10.142Z"
   },
   {
    "duration": 57,
    "start_time": "2025-01-13T13:46:10.146Z"
   },
   {
    "duration": 3,
    "start_time": "2025-01-13T13:46:10.205Z"
   },
   {
    "duration": 39,
    "start_time": "2025-01-13T13:46:10.209Z"
   },
   {
    "duration": 20,
    "start_time": "2025-01-13T13:46:10.250Z"
   },
   {
    "duration": 3382,
    "start_time": "2025-01-13T13:46:10.271Z"
   },
   {
    "duration": 5424,
    "start_time": "2025-01-13T13:50:37.187Z"
   },
   {
    "duration": 2700,
    "start_time": "2025-01-13T13:50:42.614Z"
   },
   {
    "duration": 3370,
    "start_time": "2025-01-13T13:50:45.316Z"
   },
   {
    "duration": 1636,
    "start_time": "2025-01-13T13:50:48.689Z"
   },
   {
    "duration": 62,
    "start_time": "2025-01-13T13:50:50.327Z"
   },
   {
    "duration": 5,
    "start_time": "2025-01-13T13:50:50.390Z"
   },
   {
    "duration": 54,
    "start_time": "2025-01-13T13:50:50.396Z"
   },
   {
    "duration": 4,
    "start_time": "2025-01-13T13:50:50.452Z"
   },
   {
    "duration": 68,
    "start_time": "2025-01-13T13:50:50.457Z"
   },
   {
    "duration": 30,
    "start_time": "2025-01-13T13:50:50.527Z"
   },
   {
    "duration": 1032,
    "start_time": "2025-01-13T13:50:50.559Z"
   },
   {
    "duration": 187,
    "start_time": "2025-01-13T13:50:51.593Z"
   },
   {
    "duration": 212,
    "start_time": "2025-01-13T13:50:51.781Z"
   },
   {
    "duration": 864,
    "start_time": "2025-01-13T13:50:51.994Z"
   },
   {
    "duration": 148,
    "start_time": "2025-01-13T13:50:52.860Z"
   },
   {
    "duration": 148,
    "start_time": "2025-01-13T13:50:53.010Z"
   },
   {
    "duration": 3,
    "start_time": "2025-01-13T13:50:53.159Z"
   },
   {
    "duration": 31,
    "start_time": "2025-01-13T13:50:53.163Z"
   },
   {
    "duration": 49,
    "start_time": "2025-01-13T13:50:53.196Z"
   },
   {
    "duration": 4,
    "start_time": "2025-01-13T13:50:53.246Z"
   },
   {
    "duration": 5,
    "start_time": "2025-01-13T13:50:53.251Z"
   },
   {
    "duration": 10,
    "start_time": "2025-01-13T13:50:53.257Z"
   },
   {
    "duration": 6,
    "start_time": "2025-01-13T13:50:53.268Z"
   },
   {
    "duration": 31,
    "start_time": "2025-01-13T13:50:53.275Z"
   },
   {
    "duration": 31,
    "start_time": "2025-01-13T13:50:53.307Z"
   },
   {
    "duration": 2995,
    "start_time": "2025-01-13T13:50:53.339Z"
   },
   {
    "duration": 25,
    "start_time": "2025-01-13T13:50:56.335Z"
   },
   {
    "duration": 64,
    "start_time": "2025-01-13T13:50:56.363Z"
   },
   {
    "duration": 36,
    "start_time": "2025-01-13T13:50:56.429Z"
   },
   {
    "duration": 5,
    "start_time": "2025-01-13T13:50:56.466Z"
   },
   {
    "duration": 105,
    "start_time": "2025-01-13T13:50:56.473Z"
   },
   {
    "duration": 98,
    "start_time": "2025-01-13T13:50:56.580Z"
   },
   {
    "duration": 11,
    "start_time": "2025-01-13T13:50:56.680Z"
   },
   {
    "duration": 1089,
    "start_time": "2025-01-13T13:50:56.692Z"
   },
   {
    "duration": 251,
    "start_time": "2025-01-13T13:50:57.782Z"
   },
   {
    "duration": 33,
    "start_time": "2025-01-13T13:50:58.034Z"
   },
   {
    "duration": 17,
    "start_time": "2025-01-13T13:50:58.069Z"
   },
   {
    "duration": 293,
    "start_time": "2025-01-13T13:50:58.087Z"
   },
   {
    "duration": 25,
    "start_time": "2025-01-13T13:50:58.381Z"
   },
   {
    "duration": 25,
    "start_time": "2025-01-13T13:50:58.408Z"
   },
   {
    "duration": 18,
    "start_time": "2025-01-13T13:50:58.435Z"
   },
   {
    "duration": 54,
    "start_time": "2025-01-13T13:50:58.454Z"
   },
   {
    "duration": 3,
    "start_time": "2025-01-13T13:50:58.509Z"
   },
   {
    "duration": 6,
    "start_time": "2025-01-13T13:50:58.513Z"
   },
   {
    "duration": 5,
    "start_time": "2025-01-13T13:50:58.520Z"
   },
   {
    "duration": 3303,
    "start_time": "2025-01-13T13:50:58.526Z"
   },
   {
    "duration": 46,
    "start_time": "2025-01-14T09:10:26.557Z"
   },
   {
    "duration": 7171,
    "start_time": "2025-01-14T09:10:31.806Z"
   },
   {
    "duration": 2255,
    "start_time": "2025-01-14T09:10:38.979Z"
   },
   {
    "duration": 6112,
    "start_time": "2025-01-14T09:10:41.236Z"
   },
   {
    "duration": 1948,
    "start_time": "2025-01-14T09:10:47.351Z"
   },
   {
    "duration": 114,
    "start_time": "2025-01-14T09:10:49.301Z"
   },
   {
    "duration": 4,
    "start_time": "2025-01-14T09:10:49.416Z"
   },
   {
    "duration": 91,
    "start_time": "2025-01-14T09:10:49.422Z"
   },
   {
    "duration": 4,
    "start_time": "2025-01-14T09:10:49.514Z"
   },
   {
    "duration": 94,
    "start_time": "2025-01-14T09:10:49.519Z"
   },
   {
    "duration": 31,
    "start_time": "2025-01-14T09:10:49.615Z"
   },
   {
    "duration": 1146,
    "start_time": "2025-01-14T09:10:49.647Z"
   },
   {
    "duration": 110,
    "start_time": "2025-01-14T09:10:50.794Z"
   },
   {
    "duration": 225,
    "start_time": "2025-01-14T09:10:50.906Z"
   },
   {
    "duration": 887,
    "start_time": "2025-01-14T09:10:51.133Z"
   },
   {
    "duration": 155,
    "start_time": "2025-01-14T09:10:52.022Z"
   },
   {
    "duration": 157,
    "start_time": "2025-01-14T09:10:52.179Z"
   },
   {
    "duration": 4,
    "start_time": "2025-01-14T09:10:52.338Z"
   },
   {
    "duration": 25,
    "start_time": "2025-01-14T09:10:52.344Z"
   },
   {
    "duration": 47,
    "start_time": "2025-01-14T09:10:52.371Z"
   },
   {
    "duration": 4,
    "start_time": "2025-01-14T09:10:52.420Z"
   },
   {
    "duration": 33,
    "start_time": "2025-01-14T09:10:52.425Z"
   },
   {
    "duration": 10,
    "start_time": "2025-01-14T09:10:52.459Z"
   },
   {
    "duration": 8,
    "start_time": "2025-01-14T09:10:52.470Z"
   },
   {
    "duration": 11,
    "start_time": "2025-01-14T09:10:52.479Z"
   },
   {
    "duration": 14,
    "start_time": "2025-01-14T09:10:52.491Z"
   },
   {
    "duration": 2949,
    "start_time": "2025-01-14T09:10:52.506Z"
   },
   {
    "duration": 18,
    "start_time": "2025-01-14T09:10:55.457Z"
   },
   {
    "duration": 105,
    "start_time": "2025-01-14T09:10:55.479Z"
   },
   {
    "duration": 85,
    "start_time": "2025-01-14T09:10:55.587Z"
   },
   {
    "duration": 6,
    "start_time": "2025-01-14T09:10:55.674Z"
   },
   {
    "duration": 117,
    "start_time": "2025-01-14T09:10:55.681Z"
   },
   {
    "duration": 120,
    "start_time": "2025-01-14T09:10:55.800Z"
   },
   {
    "duration": 12,
    "start_time": "2025-01-14T09:10:55.921Z"
   },
   {
    "duration": 1197,
    "start_time": "2025-01-14T09:10:55.934Z"
   },
   {
    "duration": 276,
    "start_time": "2025-01-14T09:10:57.133Z"
   },
   {
    "duration": 27,
    "start_time": "2025-01-14T09:10:57.411Z"
   },
   {
    "duration": 16,
    "start_time": "2025-01-14T09:10:57.440Z"
   },
   {
    "duration": 276,
    "start_time": "2025-01-14T09:10:57.457Z"
   },
   {
    "duration": 35,
    "start_time": "2025-01-14T09:10:57.735Z"
   },
   {
    "duration": 28,
    "start_time": "2025-01-14T09:10:57.771Z"
   },
   {
    "duration": 3,
    "start_time": "2025-01-14T09:10:57.800Z"
   },
   {
    "duration": 62,
    "start_time": "2025-01-14T09:10:57.804Z"
   },
   {
    "duration": 3,
    "start_time": "2025-01-14T09:10:57.868Z"
   },
   {
    "duration": 14,
    "start_time": "2025-01-14T09:10:57.872Z"
   },
   {
    "duration": 19,
    "start_time": "2025-01-14T09:10:57.888Z"
   },
   {
    "duration": 3352,
    "start_time": "2025-01-14T09:10:57.909Z"
   },
   {
    "duration": 3489,
    "start_time": "2025-01-14T09:15:43.828Z"
   }
  ],
  "kernelspec": {
   "display_name": "Python 3 (ipykernel)",
   "language": "python",
   "name": "python3"
  },
  "language_info": {
   "codemirror_mode": {
    "name": "ipython",
    "version": 3
   },
   "file_extension": ".py",
   "mimetype": "text/x-python",
   "name": "python",
   "nbconvert_exporter": "python",
   "pygments_lexer": "ipython3",
   "version": "3.12.7"
  },
  "toc": {
   "base_numbering": 1,
   "nav_menu": {},
   "number_sections": true,
   "sideBar": true,
   "skip_h1_title": true,
   "title_cell": "Table of Contents",
   "title_sidebar": "Разработка решения, которое позволит уменьшить отток сотрудников из компании.",
   "toc_cell": false,
   "toc_position": {
    "height": "calc(100% - 180px)",
    "left": "10px",
    "top": "150px",
    "width": "261.391px"
   },
   "toc_section_display": true,
   "toc_window_display": true
  }
 },
 "nbformat": 4,
 "nbformat_minor": 5
}
